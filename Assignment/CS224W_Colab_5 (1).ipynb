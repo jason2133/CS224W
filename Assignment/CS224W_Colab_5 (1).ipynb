{
  "nbformat": 4,
  "nbformat_minor": 0,
  "metadata": {
    "accelerator": "GPU",
    "colab": {
      "name": "CS224W_Colab_5.ipynb",
      "provenance": [],
      "collapsed_sections": [],
      "machine_shape": "hm"
    },
    "kernelspec": {
      "display_name": "Python 3",
      "language": "python",
      "name": "python3"
    },
    "language_info": {
      "codemirror_mode": {
        "name": "ipython",
        "version": 3
      },
      "file_extension": ".py",
      "mimetype": "text/x-python",
      "name": "python",
      "nbconvert_exporter": "python",
      "pygments_lexer": "ipython3",
      "version": "3.7.3"
    }
  },
  "cells": [
    {
      "cell_type": "markdown",
      "metadata": {
        "id": "XuXWJLEm2UWS"
      },
      "source": [
        "# **CS224W - Colab 5**"
      ]
    },
    {
      "cell_type": "markdown",
      "metadata": {
        "id": "8gzsP50bF6Gb"
      },
      "source": [
        "In this Colab we will experiment on scaling up GNNs using PyTorch Geometric, DeepSNAP and NetworkX. As we have **canceled** the Colab 5 assignment, this notebook will be a tutorial and you do not need to submit it on Gradescope.\n",
        "\n",
        "At first, we will use PyTorch Geometric `NeighborSampler` to scale up the training and testing on OGB `arxiv` dataset.\n",
        "\n",
        "Then, using the DeepSNAP and NetworkX, we will implement a simplified version of `NeighborSampler` and run experiments with different smapling ratios on the Cora graph.\n",
        "\n",
        "At last, we will partition the Cora graph into clusters by using different partition algorithms and then train the models in the way of vanilla Cluster-GCN.\n",
        "\n",
        "**Note**: Make sure to **sequentially run all the cells in each section**, so that the intermediate variables / packages will carry over to the next cell"
      ]
    },
    {
      "cell_type": "markdown",
      "metadata": {
        "id": "MSaetj53YnT6"
      },
      "source": [
        "# Device\n",
        "You might need to use GPU for this Colab.\n",
        "\n",
        "Please click `Runtime` and then `Change runtime type`. Then set the `hardware accelerator` to **GPU**."
      ]
    },
    {
      "cell_type": "markdown",
      "metadata": {
        "id": "67gOQITlCNQi"
      },
      "source": [
        "# Installation"
      ]
    },
    {
      "cell_type": "code",
      "source": [
        "!nvidia-smi"
      ],
      "metadata": {
        "colab": {
          "base_uri": "https://localhost:8080/"
        },
        "id": "mbz9B-erPgZC",
        "outputId": "bade58f8-3052-4c2f-f242-f0109b1108d0"
      },
      "execution_count": 1,
      "outputs": [
        {
          "output_type": "stream",
          "name": "stdout",
          "text": [
            "Sun Jul 24 08:06:23 2022       \n",
            "+-----------------------------------------------------------------------------+\n",
            "| NVIDIA-SMI 460.32.03    Driver Version: 460.32.03    CUDA Version: 11.2     |\n",
            "|-------------------------------+----------------------+----------------------+\n",
            "| GPU  Name        Persistence-M| Bus-Id        Disp.A | Volatile Uncorr. ECC |\n",
            "| Fan  Temp  Perf  Pwr:Usage/Cap|         Memory-Usage | GPU-Util  Compute M. |\n",
            "|                               |                      |               MIG M. |\n",
            "|===============================+======================+======================|\n",
            "|   0  Tesla T4            Off  | 00000000:00:04.0 Off |                    0 |\n",
            "| N/A   68C    P8    11W /  70W |      0MiB / 15109MiB |      0%      Default |\n",
            "|                               |                      |                  N/A |\n",
            "+-------------------------------+----------------------+----------------------+\n",
            "                                                                               \n",
            "+-----------------------------------------------------------------------------+\n",
            "| Processes:                                                                  |\n",
            "|  GPU   GI   CI        PID   Type   Process name                  GPU Memory |\n",
            "|        ID   ID                                                   Usage      |\n",
            "|=============================================================================|\n",
            "|  No running processes found                                                 |\n",
            "+-----------------------------------------------------------------------------+\n"
          ]
        }
      ]
    },
    {
      "cell_type": "code",
      "metadata": {
        "id": "J_m9l6OYCQZP"
      },
      "source": [
        "# !pip install -q torch-scatter -f https://pytorch-geometric.com/whl/torch-1.8.0+cu101.html\n",
        "# !pip install -q torch-sparse -f https://pytorch-geometric.com/whl/torch-1.8.0+cu101.html\n",
        "# !pip install -q torch-geometric\n",
        "# !pip install -q ogb\n",
        "# !pip install -q git+https://github.com/snap-stanford/deepsnap.git"
      ],
      "execution_count": null,
      "outputs": []
    },
    {
      "cell_type": "code",
      "source": [
        "!pip install -q torch-scatter -f https://pytorch-geometric.com/whl/torch-1.12.0+cu113.html\n",
        "!pip install -q torch-sparse -f https://pytorch-geometric.com/whl/torch-1.12.0+cu113.html\n",
        "!pip install -q torch-geometric"
      ],
      "metadata": {
        "colab": {
          "base_uri": "https://localhost:8080/"
        },
        "id": "Op8lTRfQPjz7",
        "outputId": "7aaeacc6-10d8-4b54-dc5f-ce12fa924134"
      },
      "execution_count": 2,
      "outputs": [
        {
          "output_type": "stream",
          "name": "stdout",
          "text": [
            "\u001b[K     |████████████████████████████████| 7.9 MB 51.9 MB/s \n",
            "\u001b[K     |████████████████████████████████| 3.5 MB 33.5 MB/s \n",
            "\u001b[K     |████████████████████████████████| 407 kB 23.3 MB/s \n",
            "\u001b[?25h  Building wheel for torch-geometric (setup.py) ... \u001b[?25l\u001b[?25hdone\n"
          ]
        }
      ]
    },
    {
      "cell_type": "code",
      "source": [
        "# Stanford DeepSNAP 설치\n",
        "\n",
        "!pip install -q git+https://github.com/snap-stanford/deepsnap.git\n",
        "!pip install -U -q PyDrive"
      ],
      "metadata": {
        "colab": {
          "base_uri": "https://localhost:8080/"
        },
        "id": "KAL9WTX2Pj2S",
        "outputId": "05eb00f7-77f2-452e-e3d7-4640dccc5965"
      },
      "execution_count": 3,
      "outputs": [
        {
          "output_type": "stream",
          "name": "stdout",
          "text": [
            "  Building wheel for deepsnap (setup.py) ... \u001b[?25l\u001b[?25hdone\n"
          ]
        }
      ]
    },
    {
      "cell_type": "code",
      "source": [
        "!pip install -q ogb"
      ],
      "metadata": {
        "colab": {
          "base_uri": "https://localhost:8080/"
        },
        "id": "8UP-gAMqPtWi",
        "outputId": "4d94c4a3-5003-4ff5-b91f-deed29f6ce95"
      },
      "execution_count": 4,
      "outputs": [
        {
          "output_type": "stream",
          "name": "stdout",
          "text": [
            "\u001b[?25l\r\u001b[K     |████▏                           | 10 kB 24.4 MB/s eta 0:00:01\r\u001b[K     |████████▍                       | 20 kB 12.0 MB/s eta 0:00:01\r\u001b[K     |████████████▋                   | 30 kB 10.2 MB/s eta 0:00:01\r\u001b[K     |████████████████▊               | 40 kB 10.2 MB/s eta 0:00:01\r\u001b[K     |█████████████████████           | 51 kB 9.3 MB/s eta 0:00:01\r\u001b[K     |█████████████████████████▏      | 61 kB 10.8 MB/s eta 0:00:01\r\u001b[K     |█████████████████████████████▎  | 71 kB 11.4 MB/s eta 0:00:01\r\u001b[K     |████████████████████████████████| 78 kB 5.1 MB/s \n",
            "\u001b[?25h  Building wheel for littleutils (setup.py) ... \u001b[?25l\u001b[?25hdone\n"
          ]
        }
      ]
    },
    {
      "cell_type": "code",
      "metadata": {
        "id": "PRfgbfTjCRD_",
        "colab": {
          "base_uri": "https://localhost:8080/",
          "height": 35
        },
        "outputId": "f57e285b-25ed-4786-9a2d-60c4cd122524"
      },
      "source": [
        "import torch_geometric\n",
        "torch_geometric.__version__"
      ],
      "execution_count": 5,
      "outputs": [
        {
          "output_type": "execute_result",
          "data": {
            "text/plain": [
              "'2.0.4'"
            ],
            "application/vnd.google.colaboratory.intrinsic+json": {
              "type": "string"
            }
          },
          "metadata": {},
          "execution_count": 5
        }
      ]
    },
    {
      "cell_type": "markdown",
      "metadata": {
        "id": "SxkYLgxAOxz7"
      },
      "source": [
        "# 1 PyTorch Geometric Neighbor Sampling\n",
        "\n",
        "Neighbor Sampling, originally proposed in **GraphSAGE** ([Hamilton et al. (2017)](https://arxiv.org/abs/1706.02216)), is a representative method to scale up GNNs. As what we have learned in lecture, only a K-hop neighborhood nodes will be loaded into GPU for each time training. To further reduce the cost, we can sample a subset of neighborhood nodes for GNNs to aggregate."
      ]
    },
    {
      "cell_type": "markdown",
      "metadata": {
        "id": "Kho6SHUVO1ny"
      },
      "source": [
        "## Setup"
      ]
    },
    {
      "cell_type": "code",
      "metadata": {
        "id": "X1WJLGKsOx_k"
      },
      "source": [
        "# import copy\n",
        "# import torch\n",
        "# import torch.nn.functional as F\n",
        "# import torch_geometric.transforms as T\n",
        "\n",
        "# from torch_geometric.nn import SAGEConv\n",
        "# from torch_geometric.data import NeighborSampler\n",
        "# from ogb.nodeproppred import PygNodePropPredDataset, Evaluator"
      ],
      "execution_count": null,
      "outputs": []
    },
    {
      "cell_type": "code",
      "source": [
        "import copy\n",
        "import torch\n",
        "import torch.nn.functional as F\n",
        "import torch_geometric.transforms as T\n",
        "\n",
        "from torch_geometric.nn import SAGEConv\n",
        "from torch_geometric.data import NeighborSampler\n",
        "from ogb.nodeproppred import PygNodePropPredDataset, Evaluator"
      ],
      "metadata": {
        "id": "GuzQBPGSQG57"
      },
      "execution_count": 6,
      "outputs": []
    },
    {
      "cell_type": "markdown",
      "metadata": {
        "id": "UKqZWqRbO7km"
      },
      "source": [
        "## Neighbor Sampler\n",
        "\n",
        "PyTorch Geometric has implemented the Neighbor Sampling method as the [NeighborSampler](https://pytorch-geometric.readthedocs.io/en/latest/modules/data.html#torch_geometric.data.NeighborSampler) in `torch_geometric.data`. Following is an example that uses the Neighbor Sampling method on training the OGB `arxiv` dataset.\n",
        "\n",
        "If you are interested in memory-efficient aggregations, please refer to PyG's [Memory-Efficient Aggregations](https://pytorch-geometric.readthedocs.io/en/latest/notes/sparse_tensor.html)."
      ]
    },
    {
      "cell_type": "code",
      "metadata": {
        "id": "nWlyStlRO6_u"
      },
      "source": [
        "# dataset_name = 'ogbn-arxiv'\n",
        "# dataset = PygNodePropPredDataset(name=dataset_name,\n",
        "#                                  transform=T.ToSparseTensor())\n",
        "# data = dataset[0]\n",
        "# data.adj_t = data.adj_t.to_symmetric()\n",
        "# device = 'cuda' if torch.cuda.is_available() else 'cpu'\n",
        "\n",
        "# print('Device: {}'.format(device))\n",
        "\n",
        "# data = data.to(device)\n",
        "# split_idx = dataset.get_idx_split()\n",
        "# train_idx = split_idx['train'].to(device)\n",
        "\n",
        "# # Construct the training dataloader for training data\n",
        "# # Sample 10 neighbors for each node in the first layer and 5 for the second layer\n",
        "# train_loader = NeighborSampler(data.adj_t, node_idx=train_idx,\n",
        "#                                sizes=[10, 5], batch_size=4096,\n",
        "#                                shuffle=True, num_workers=2)\n",
        "\n",
        "# # Specify size as -1 to include all neighbors\n",
        "# all_loader = NeighborSampler(data.adj_t, node_idx=None, sizes=[-1],\n",
        "#                                   batch_size=4096, shuffle=False,\n",
        "#                                   num_workers=2)\n",
        "# evaluator = Evaluator(name='ogbn-arxiv')"
      ],
      "execution_count": null,
      "outputs": []
    },
    {
      "cell_type": "code",
      "source": [
        "dataset_name = 'ogbn-arxiv'\n",
        "\n",
        "dataset = PygNodePropPredDataset(name = dataset_name,\n",
        "                                 transform = T.ToSparseTensor())\n",
        "\n",
        "data = dataset[0]\n",
        "data.adj_t = data.adj_t.to_symmetric()\n",
        "device = 'cuda' if torch.cuda.is_available() else 'cpu'\n",
        "\n",
        "print(f'Device : {format(device)}')"
      ],
      "metadata": {
        "colab": {
          "base_uri": "https://localhost:8080/"
        },
        "id": "RNugIU-1QWxq",
        "outputId": "3afa2a86-72bb-43b4-c670-8d30a6a3412b"
      },
      "execution_count": 7,
      "outputs": [
        {
          "output_type": "stream",
          "name": "stdout",
          "text": [
            "Downloading http://snap.stanford.edu/ogb/data/nodeproppred/arxiv.zip\n"
          ]
        },
        {
          "output_type": "stream",
          "name": "stderr",
          "text": [
            "Downloaded 0.08 GB: 100%|██████████| 81/81 [00:03<00:00, 22.33it/s]\n"
          ]
        },
        {
          "output_type": "stream",
          "name": "stdout",
          "text": [
            "Extracting dataset/arxiv.zip\n"
          ]
        },
        {
          "output_type": "stream",
          "name": "stderr",
          "text": [
            "Processing...\n"
          ]
        },
        {
          "output_type": "stream",
          "name": "stdout",
          "text": [
            "Loading necessary files...\n",
            "This might take a while.\n",
            "Processing graphs...\n"
          ]
        },
        {
          "output_type": "stream",
          "name": "stderr",
          "text": [
            "100%|██████████| 1/1 [00:00<00:00, 10034.22it/s]\n"
          ]
        },
        {
          "output_type": "stream",
          "name": "stdout",
          "text": [
            "Converting graphs into PyG objects...\n"
          ]
        },
        {
          "output_type": "stream",
          "name": "stderr",
          "text": [
            "100%|██████████| 1/1 [00:00<00:00, 5857.97it/s]"
          ]
        },
        {
          "output_type": "stream",
          "name": "stdout",
          "text": [
            "Saving...\n"
          ]
        },
        {
          "output_type": "stream",
          "name": "stderr",
          "text": [
            "\n",
            "Done!\n"
          ]
        },
        {
          "output_type": "stream",
          "name": "stdout",
          "text": [
            "Device : cuda\n"
          ]
        }
      ]
    },
    {
      "cell_type": "code",
      "source": [
        "print(f'Device : {format(device)}')"
      ],
      "metadata": {
        "colab": {
          "base_uri": "https://localhost:8080/"
        },
        "id": "PYD-jvuGRKTw",
        "outputId": "d8de016c-386b-4285-a053-3b8d7aef9fa3"
      },
      "execution_count": 8,
      "outputs": [
        {
          "output_type": "stream",
          "name": "stdout",
          "text": [
            "Device : cuda\n"
          ]
        }
      ]
    },
    {
      "cell_type": "code",
      "source": [
        "data = data.to(device)\n",
        "split_idx = dataset.get_idx_split()\n",
        "train_idx = split_idx['train'].to(device)"
      ],
      "metadata": {
        "id": "i-XFH54ORqzh"
      },
      "execution_count": 10,
      "outputs": []
    },
    {
      "cell_type": "code",
      "source": [
        "print(data)"
      ],
      "metadata": {
        "colab": {
          "base_uri": "https://localhost:8080/"
        },
        "id": "JgM5yTD6RyQv",
        "outputId": "1349d857-9c59-49a1-c907-7617e3cfd64a"
      },
      "execution_count": 11,
      "outputs": [
        {
          "output_type": "stream",
          "name": "stdout",
          "text": [
            "Data(num_nodes=169343, x=[169343, 128], node_year=[169343, 1], y=[169343, 1], adj_t=[169343, 169343, nnz=2315598])\n"
          ]
        }
      ]
    },
    {
      "cell_type": "code",
      "source": [
        "print(split_idx)"
      ],
      "metadata": {
        "colab": {
          "base_uri": "https://localhost:8080/"
        },
        "id": "cdwyBNegRzXq",
        "outputId": "17b08702-57bf-4f3a-c8a9-17ef4c05b715"
      },
      "execution_count": 12,
      "outputs": [
        {
          "output_type": "stream",
          "name": "stdout",
          "text": [
            "{'train': tensor([     0,      1,      2,  ..., 169145, 169148, 169251]), 'valid': tensor([   349,    357,    366,  ..., 169185, 169261, 169296]), 'test': tensor([   346,    398,    451,  ..., 169340, 169341, 169342])}\n"
          ]
        }
      ]
    },
    {
      "cell_type": "code",
      "source": [
        "print(train_idx)"
      ],
      "metadata": {
        "colab": {
          "base_uri": "https://localhost:8080/"
        },
        "id": "5x9cxNeER1-p",
        "outputId": "e6a9c6a3-9e8c-42a9-ea16-e61cd18edba1"
      },
      "execution_count": 13,
      "outputs": [
        {
          "output_type": "stream",
          "name": "stdout",
          "text": [
            "tensor([     0,      1,      2,  ..., 169145, 169148, 169251], device='cuda:0')\n"
          ]
        }
      ]
    },
    {
      "cell_type": "code",
      "source": [
        "import warnings\n",
        "warnings.filterwarnings(action='ignore')"
      ],
      "metadata": {
        "id": "ZZ1RFkW8R-xX"
      },
      "execution_count": 16,
      "outputs": []
    },
    {
      "cell_type": "code",
      "source": [
        "# Construct the training dataloader for training data\n",
        "# Sample 10 neighbors for each node in the first layer and 5 for the second layer\n",
        "\n",
        "train_loader = NeighborSampler(data.adj_t,\n",
        "                               node_idx = train_idx,\n",
        "                               sizes = [10, 5],\n",
        "                               batch_size = 4096,\n",
        "                               shuffle=True,\n",
        "                               num_workers=2)\n",
        "\n",
        "# Specify size as -1 to include all neighbors\n",
        "all_loader = NeighborSampler(data.adj_t,\n",
        "                             node_idx = None,\n",
        "                             sizes = [-1],\n",
        "                             batch_size = 4096,\n",
        "                             shuffle=False,\n",
        "                             num_workers=2)\n",
        "\n",
        "evaluator = Evaluator(name='ogbn-arxiv')"
      ],
      "metadata": {
        "id": "5A2w4gg7RMRh"
      },
      "execution_count": 17,
      "outputs": []
    },
    {
      "cell_type": "code",
      "source": [
        ""
      ],
      "metadata": {
        "id": "3AFUp4nPRMUD"
      },
      "execution_count": null,
      "outputs": []
    },
    {
      "cell_type": "markdown",
      "metadata": {
        "id": "VjdkIcFpRYyl"
      },
      "source": [
        "## GNN Model\n",
        "\n",
        "After creating the `NeighborSampler`, we also need to modify the model to let it support the mini-batch training.\n",
        "\n",
        "The `forward` function will take the node feature `x` and a list of three-element tuples `adjs`. Each element in `adjs` contains following elements:\n",
        "* `edge_index`: The edge index tensor between source and destination nodes, which forms a bipartite grpah.\n",
        "* `e_id`: The indices of the edges in the original graph.\n",
        "* `size`: The shape of the bipartite graph, in (*number of source nodes*, *number of destination nodes*) format."
      ]
    },
    {
      "cell_type": "code",
      "metadata": {
        "id": "gRBJS_5qRWbu"
      },
      "source": [
        "# class SAGE(torch.nn.Module):\n",
        "#     def __init__(self, input_dim, hidden_dim, output_dim, num_layers,\n",
        "#                  dropout):\n",
        "#         super(SAGE, self).__init__()\n",
        "\n",
        "#         self.convs = torch.nn.ModuleList()\n",
        "#         self.bns = torch.nn.ModuleList()\n",
        "\n",
        "#         self.convs.append(SAGEConv(input_dim, hidden_dim))\n",
        "#         self.bns.append(torch.nn.BatchNorm1d(hidden_dim))\n",
        "\n",
        "#         for i in range(num_layers - 2):\n",
        "#             self.convs.append(\n",
        "#                 SAGEConv(hidden_dim, hidden_dim))\n",
        "#             self.bns.append(torch.nn.BatchNorm1d(hidden_dim))\n",
        "#         self.convs.append(SAGEConv(hidden_dim, output_dim))\n",
        "\n",
        "#         self.softmax = torch.nn.LogSoftmax(dim=1)\n",
        "\n",
        "#         self.dropout = dropout\n",
        "\n",
        "#         self.num_layers = num_layers\n",
        "\n",
        "#     def reset_parameters(self):\n",
        "#         for conv in self.convs:\n",
        "#             conv.reset_parameters()\n",
        "#         for bn in self.bns:\n",
        "#             bn.reset_parameters()\n",
        "\n",
        "#     def forward(self, x, adjs, mode=\"batch\"):\n",
        "#         if mode == \"batch\":\n",
        "#             for i, (edge_index, _, size) in enumerate(adjs):\n",
        "#                 # Extract target node features\n",
        "#                 x_target = x[:size[1]]\n",
        "\n",
        "#                 # Update x for next layer reuse\n",
        "#                 x = self.convs[i]((x, x_target), edge_index)\n",
        "#                 if i != self.num_layers - 1:\n",
        "#                     x = self.bns[i](x)\n",
        "#                     x = F.relu(x)\n",
        "#                     x = F.dropout(x, p=self.dropout, training=self.training)\n",
        "#         else:\n",
        "#             for i, conv in enumerate(self.convs):\n",
        "#                 x = conv(x, adjs)\n",
        "#                 if i != self.num_layers - 1:\n",
        "#                     x = self.bns[i](x)\n",
        "#                     x = F.relu(x)\n",
        "#                     x = F.dropout(x, p=self.dropout, training=self.training)\n",
        "#         return self.softmax(x)\n",
        "    \n",
        "#     def inference(self, x_all, all_loader):\n",
        "#         # This function will be called in test\n",
        "#         for i in range(self.num_layers):\n",
        "#             xs = []\n",
        "#             for batch_size, n_id, adj in all_loader:\n",
        "#                 edge_index, _, size = adj.to(device)\n",
        "#                 x = x_all[n_id].to(device)\n",
        "#                 x_target = x[:size[1]]\n",
        "#                 x = self.convs[i]((x, x_target), edge_index)\n",
        "#                 if i != self.num_layers - 1:\n",
        "#                     x = self.bns[i](x)\n",
        "#                     x = F.relu(x)\n",
        "#                     x = F.dropout(x, p=self.dropout, training=self.training)\n",
        "                \n",
        "#                 # Append the node embeddings to xs\n",
        "#                 xs.append(x.cpu())\n",
        "            \n",
        "#             # Concat all embeddings into one tensor\n",
        "#             x_all = torch.cat(xs, dim=0)\n",
        "\n",
        "#         return x_all"
      ],
      "execution_count": null,
      "outputs": []
    },
    {
      "cell_type": "code",
      "source": [
        "class SAGE(torch.nn.Module):\n",
        "  def __init__(self, input_dim, hidden_dim, output_dim, num_layers, dropout):\n",
        "    super(SAGE, self).__init__()\n",
        "\n",
        "    self.convs = torch.nn.ModuleList()\n",
        "    self.bns = torch.nn.ModuleList()\n",
        "\n",
        "    self.convs.append(SAGEConv(input_dim, hidden_dim))\n",
        "    self.bns.append(torch.nn.BatchNorm1d(hidden_dim))\n",
        "\n",
        "    for i in range(num_layers - 2):\n",
        "      self.convs.append(\n",
        "          SAGEConv(hidden_dim, hidden_dim)\n",
        "      )\n",
        "\n",
        "      self.bns.append(\n",
        "          torch.nn.BatchNorm1d(hidden_dim)\n",
        "      )\n",
        "\n",
        "    self.convs.append(SAGEConv(hidden_dim, output_dim))\n",
        "    self.softmax = torch.nn.LogSoftmax(dim=1)\n",
        "    self.dropout = dropout\n",
        "    self.num_layers = num_layers\n",
        "\n",
        "  def reset_parameters(self):\n",
        "    for conv in self.convs:\n",
        "      conv.reset_parameters()\n",
        "    for bn in self.bns:\n",
        "      bn.reset_parameters()\n",
        "\n",
        "  def forward(self, x, adjs, mode='batch'):\n",
        "    if mode == 'batch':\n",
        "      ##### adjs에서의 형태를 파악할 필요가 있다.\n",
        "      for i, (edge_index, _, size) in enumerate(adjs):\n",
        "        # Extract target node features\n",
        "        x_target = x[:size[1]]\n",
        "\n",
        "        # Update x for next layer reuse\n",
        "        x = self.convs[i]((x, x_target), edge_index)\n",
        "\n",
        "        if i != self.num_layers - 1:\n",
        "          x = self.bns[i](x)\n",
        "          x = F.relu(x)\n",
        "          x = F.dropout(x,\n",
        "                        p = self.dropout,\n",
        "                        training = self.training)\n",
        "          \n",
        "      else:\n",
        "        for i, conv in enumerate(self.convs):\n",
        "          x = conv(x, adjs)\n",
        "          if i != self.num_layers - 1:\n",
        "            x = self.bns[i](x)\n",
        "            x = F.relu(x)\n",
        "            x = F.dropout(x,\n",
        "                          p = self.dropout,\n",
        "                          training = self.training)\n",
        "      \n",
        "      return self.softmax(x)\n",
        "\n",
        "  def inference(self, x_all, all_loader):\n",
        "    # This function will be called in test\n",
        "    for i in range(self.num_layers):\n",
        "      xs = []\n",
        "      for batch_size, n_id, adj in all_loader:\n",
        "        edge_index, _, size = adj.to(device)\n",
        "        x = x_all[n_id].to(device)\n",
        "        x_target = x[:size[1]]\n",
        "        x = self.convs[i]((x, x_target), edge_index)\n",
        "\n",
        "        if i != self.num_layers - 1:\n",
        "          x = self.bns[i](x)\n",
        "          x = F.relu(x)\n",
        "          x = F.dropout(x,\n",
        "                        p=self.dropout,\n",
        "                        training=self.training)\n",
        "          \n",
        "        # Append the node embeddings to xs\n",
        "        xs.append(x.cpu())\n",
        "      \n",
        "      # Concat all embeddings into one tensor\n",
        "      x_all = torch.cat(xs, dim=0)\n",
        "\n",
        "    return x_all\n"
      ],
      "metadata": {
        "id": "NuUl64fMSrex"
      },
      "execution_count": 18,
      "outputs": []
    },
    {
      "cell_type": "code",
      "source": [
        "class SAGE(torch.nn.Module):\n",
        "    def __init__(self, input_dim, hidden_dim, output_dim, num_layers,\n",
        "                 dropout):\n",
        "        super(SAGE, self).__init__()\n",
        "\n",
        "        self.convs = torch.nn.ModuleList()\n",
        "        self.bns = torch.nn.ModuleList()\n",
        "\n",
        "        self.convs.append(SAGEConv(input_dim, hidden_dim))\n",
        "        self.bns.append(torch.nn.BatchNorm1d(hidden_dim))\n",
        "\n",
        "        for i in range(num_layers - 2):\n",
        "            self.convs.append(\n",
        "                SAGEConv(hidden_dim, hidden_dim))\n",
        "            self.bns.append(torch.nn.BatchNorm1d(hidden_dim))\n",
        "        self.convs.append(SAGEConv(hidden_dim, output_dim))\n",
        "\n",
        "        self.softmax = torch.nn.LogSoftmax(dim=1)\n",
        "\n",
        "        self.dropout = dropout\n",
        "\n",
        "        self.num_layers = num_layers\n",
        "\n",
        "    def reset_parameters(self):\n",
        "        for conv in self.convs:\n",
        "            conv.reset_parameters()\n",
        "        for bn in self.bns:\n",
        "            bn.reset_parameters()\n",
        "\n",
        "    def forward(self, x, adjs, mode=\"batch\"):\n",
        "        if mode == \"batch\":\n",
        "            for i, (edge_index, _, size) in enumerate(adjs):\n",
        "                # Extract target node features\n",
        "                x_target = x[:size[1]]\n",
        "\n",
        "                # Update x for next layer reuse\n",
        "                x = self.convs[i]((x, x_target), edge_index)\n",
        "                if i != self.num_layers - 1:\n",
        "                    x = self.bns[i](x)\n",
        "                    x = F.relu(x)\n",
        "                    x = F.dropout(x, p=self.dropout, training=self.training)\n",
        "        else:\n",
        "            for i, conv in enumerate(self.convs):\n",
        "                x = conv(x, adjs)\n",
        "                if i != self.num_layers - 1:\n",
        "                    x = self.bns[i](x)\n",
        "                    x = F.relu(x)\n",
        "                    x = F.dropout(x, p=self.dropout, training=self.training)\n",
        "        return self.softmax(x)\n",
        "    \n",
        "    def inference(self, x_all, all_loader):\n",
        "        # This function will be called in test\n",
        "        for i in range(self.num_layers):\n",
        "            xs = []\n",
        "            for batch_size, n_id, adj in all_loader:\n",
        "                edge_index, _, size = adj.to(device)\n",
        "                x = x_all[n_id].to(device)\n",
        "                x_target = x[:size[1]]\n",
        "                x = self.convs[i]((x, x_target), edge_index)\n",
        "                if i != self.num_layers - 1:\n",
        "                    x = self.bns[i](x)\n",
        "                    x = F.relu(x)\n",
        "                    x = F.dropout(x, p=self.dropout, training=self.training)\n",
        "                \n",
        "                # Append the node embeddings to xs\n",
        "                xs.append(x.cpu())\n",
        "            \n",
        "            # Concat all embeddings into one tensor\n",
        "            x_all = torch.cat(xs, dim=0)\n",
        "\n",
        "        return x_all"
      ],
      "metadata": {
        "id": "erb_Vea7SrhW"
      },
      "execution_count": 19,
      "outputs": []
    },
    {
      "cell_type": "markdown",
      "metadata": {
        "id": "7cfm7K3wRqqY"
      },
      "source": [
        "## Training and Testing\n",
        "\n",
        "Now lets implement the training and testing functions.\n",
        "\n",
        "In both training and testing, we need to sample batch from the dataloader.\n",
        "\n",
        "Each batch in the `NeighborSampler` dataloader holds three elements:\n",
        "* `batch_size`: The batch size specified in the dataloader.\n",
        "* `n_id`: All nodes (in index format) used in the adjacency matrices.\n",
        "* `adjs`: The three-element tuples."
      ]
    },
    {
      "cell_type": "code",
      "metadata": {
        "id": "-JN0-_QCRn8N"
      },
      "source": [
        "# def train(model, data, train_loader, train_idx, optimizer, loss_fn, mode=\"batch\"):\n",
        "#     model.train()\n",
        "\n",
        "#     total_loss = 0\n",
        "#     if mode == \"batch\":\n",
        "#         for batch_size, n_id, adjs in train_loader:\n",
        "#             # Move all adj sparse tensors to GPU\n",
        "#             adjs = [adj.to(device) for adj in adjs]\n",
        "#             optimizer.zero_grad()\n",
        "\n",
        "#             # Index on the node features\n",
        "#             out = model(data.x[n_id], adjs)\n",
        "#             train_label = data.y[n_id[:batch_size]].squeeze(-1)\n",
        "#             loss = loss_fn(out, train_label)\n",
        "#             loss.backward()\n",
        "#             optimizer.step()\n",
        "#             total_loss += loss.item()\n",
        "#     else:\n",
        "#         optimizer.zero_grad()\n",
        "#         out = model(data.x, data.adj_t, mode=mode)[train_idx]\n",
        "#         train_label = data.y.squeeze(1)[train_idx]\n",
        "#         loss = loss_fn(out, train_label)\n",
        "#         loss.backward()\n",
        "#         optimizer.step()\n",
        "#         total_loss = loss.item()\n",
        "\n",
        "#     return total_loss\n",
        "\n",
        "# @torch.no_grad()\n",
        "# def test(model, data, all_loader, split_idx, evaluator, mode=\"batch\"):\n",
        "#     model.eval()\n",
        "\n",
        "#     if mode == \"batch\":\n",
        "#         out = model.inference(data.x, all_loader)\n",
        "#     else:\n",
        "#         out = model(data.x, data.adj_t, mode=\"all\")\n",
        "\n",
        "#     y_true = data.y.cpu()\n",
        "#     y_pred = out.argmax(dim=-1, keepdim=True)\n",
        "\n",
        "#     train_acc = evaluator.eval({\n",
        "#         'y_true': y_true[split_idx['train']],\n",
        "#         'y_pred': y_pred[split_idx['train']],\n",
        "#     })['acc']\n",
        "#     valid_acc = evaluator.eval({\n",
        "#         'y_true': y_true[split_idx['valid']],\n",
        "#         'y_pred': y_pred[split_idx['valid']],\n",
        "#     })['acc']\n",
        "#     test_acc = evaluator.eval({\n",
        "#         'y_true': y_true[split_idx['test']],\n",
        "#         'y_pred': y_pred[split_idx['test']],\n",
        "#     })['acc']\n",
        "\n",
        "#     return train_acc, valid_acc, test_acc"
      ],
      "execution_count": null,
      "outputs": []
    },
    {
      "cell_type": "code",
      "source": [
        "def train(model, data, train_loader, train_idx, optimizer, loss_fn, mode='batch'):\n",
        "  model.train()\n",
        "  total_loss = 0\n",
        "\n",
        "  if mode == 'batch':\n",
        "    for batch_size, n_id, adjs in train_loader:\n",
        "      # Move all adj sparse tensors to GPU\n",
        "      adjs = [adj.to(device) for adj in adjs]\n",
        "      optimizer.zero_grad()\n",
        "\n",
        "      # Index on the node features\n",
        "      out = model(data.x[n_id], adjs)\n",
        "      train_label = data.y[n_id[:batch_size]].squeeze(-1)\n",
        "      loss = loss_fn(out, train_label)\n",
        "      loss.backward()\n",
        "      optimizer.step()\n",
        "      total_loss += loss.item()\n",
        "\n",
        "  else:\n",
        "    optimizer.zero_grad()\n",
        "    out = model(data.x, data.adj_t, mode=mode)[train_idx]\n",
        "    train_label = data.y.squeeze(1)[train_idx]\n",
        "    loss = loss_fn(out, train_label)\n",
        "    loss.backward()\n",
        "    optimizer.step()\n",
        "    total_loss = loss.item()\n",
        "\n",
        "  return total_loss  "
      ],
      "metadata": {
        "id": "DVckhVs8V2XO"
      },
      "execution_count": 20,
      "outputs": []
    },
    {
      "cell_type": "code",
      "source": [
        "@torch.no_grad()\n",
        "def test(model, data, all_loader, split_idx, evaluator, mode='batch'):\n",
        "  model.eval()\n",
        "\n",
        "  if mode == 'batch':\n",
        "    out = model.inference(data.x, all_loader)\n",
        "  else:\n",
        "    out = model(data.x, data.adj_t, mode='all')\n",
        "  \n",
        "  y_true = data.y.cpu()\n",
        "  y_pred = out.argmax(dim=-1, keepdim=True)\n",
        "\n",
        "  train_acc = evaluator.eval({\n",
        "      'y_true': y_true[split_idx['train']],\n",
        "      'y_pred': y_pred[split_idx['train']]\n",
        "  })['acc']\n",
        "\n",
        "  valid_acc = evaluator.eval({\n",
        "      'y_true': y_true[split_idx['valid']],\n",
        "      'y_pred': y_pred[split_idx['valid']]\n",
        "  })['acc']\n",
        "\n",
        "  test_acc = evaluator.eval({\n",
        "      'y_true': y_true[split_idx['test']],\n",
        "      'y_pred': y_pred[split_idx['test']]\n",
        "  })['acc']\n",
        "\n",
        "  return train_acc, valid_acc, test_acc"
      ],
      "metadata": {
        "id": "8dtrPpwwXV3Z"
      },
      "execution_count": 21,
      "outputs": []
    },
    {
      "cell_type": "code",
      "source": [
        ""
      ],
      "metadata": {
        "id": "Z0_nx2lnXV5l"
      },
      "execution_count": null,
      "outputs": []
    },
    {
      "cell_type": "markdown",
      "metadata": {
        "id": "AiehZ8OiR2q9"
      },
      "source": [
        "## Mini-batch Training"
      ]
    },
    {
      "cell_type": "code",
      "metadata": {
        "id": "zFaI2eCARy0v"
      },
      "source": [
        "# args = {\n",
        "#     'device': device,\n",
        "#     'num_layers': 2,\n",
        "#     'hidden_dim': 128,\n",
        "#     'dropout': 0.5,\n",
        "#     'lr': 0.01,\n",
        "#     'epochs': 100,\n",
        "# }\n",
        "\n",
        "# batch_model = SAGE(data.num_features, args['hidden_dim'],\n",
        "#             dataset.num_classes, args['num_layers'],\n",
        "#             args['dropout']).to(device)\n",
        "# batch_model.reset_parameters()\n",
        "\n",
        "# optimizer = torch.optim.Adam(batch_model.parameters(), lr=args['lr'])\n",
        "# loss_fn = F.nll_loss\n",
        "\n",
        "# best_batch_model = None\n",
        "# best_valid_acc = 0\n",
        "\n",
        "# batch_results = []\n",
        "\n",
        "# for epoch in range(1, 1 + args[\"epochs\"]):\n",
        "#     loss = train(batch_model, data, train_loader, train_idx, optimizer, loss_fn, mode=\"batch\")\n",
        "#     result = test(batch_model, data, all_loader, split_idx, evaluator, mode=\"batch\")\n",
        "#     batch_results.append(result)\n",
        "#     train_acc, valid_acc, test_acc = result\n",
        "#     if valid_acc > best_valid_acc:\n",
        "#         best_valid_acc = valid_acc\n",
        "#         best_batch_model = copy.deepcopy(batch_model)\n",
        "#     print(f'Epoch: {epoch:02d}, '\n",
        "#           f'Loss: {loss:.4f}, '\n",
        "#           f'Train: {100 * train_acc:.2f}%, '\n",
        "#           f'Valid: {100 * valid_acc:.2f}% '\n",
        "#           f'Test: {100 * test_acc:.2f}%')\n",
        "# best_result = test(best_batch_model, data, all_loader, split_idx, evaluator, mode=\"batch\")\n",
        "# train_acc, valid_acc, test_acc = best_result\n",
        "# print(f'Best model: '\n",
        "#       f'Train: {100 * train_acc:.2f}%, '\n",
        "#       f'Valid: {100 * valid_acc:.2f}% '\n",
        "#       f'Test: {100 * test_acc:.2f}%')"
      ],
      "execution_count": null,
      "outputs": []
    },
    {
      "cell_type": "code",
      "source": [
        "args = {\n",
        "    'device': device,\n",
        "    'num_layers': 2,\n",
        "    'hidden_dim': 128,\n",
        "    'dropout': 0.5,\n",
        "    'lr': 0.01,\n",
        "    'epochs': 100,\n",
        "}"
      ],
      "metadata": {
        "id": "rtUQ_8UGX-P5"
      },
      "execution_count": 22,
      "outputs": []
    },
    {
      "cell_type": "code",
      "source": [
        "batch_model = SAGE(data.num_features,\n",
        "                   args['hidden_dim'],\n",
        "                   dataset.num_classes,\n",
        "                   args['num_layers'],\n",
        "                   args['dropout']).to(device)\n",
        "\n",
        "batch_model.reset_parameters()\n",
        "\n",
        "optimizer = torch.optim.Adam(batch_model.parameters(), lr=args['lr'])\n",
        "loss_fn = F.nll_loss\n",
        "\n",
        "best_batch_model = None\n",
        "best_valid_acc = 0\n",
        "\n",
        "batch_results = []"
      ],
      "metadata": {
        "id": "So0cpWZOYmiX"
      },
      "execution_count": 23,
      "outputs": []
    },
    {
      "cell_type": "code",
      "source": [
        "for epoch in range(1, 1+args['epochs']):\n",
        "  loss = train(batch_model,\n",
        "               data,\n",
        "               train_loader,\n",
        "               train_idx,\n",
        "               optimizer,\n",
        "               loss_fn,\n",
        "               mode='batch')\n",
        "\n",
        "  result = test(batch_model,\n",
        "                data,\n",
        "                all_loader,\n",
        "                split_idx,\n",
        "                evaluator,\n",
        "                mode='batch')\n",
        "  \n",
        "  batch_results.append(result)\n",
        "\n",
        "  train_acc, valid_acc, test_acc = result\n",
        "\n",
        "  if valid_acc > best_valid_acc:\n",
        "    best_valid_acc = valid_acc\n",
        "    best_batch_model = copy.deepcopy(batch_model)\n",
        "  \n",
        "  print(f'Epoch : {epoch:02d}, '\n",
        "        f'Loss : {loss:.4f}, '\n",
        "        f'Train : {100 * train_acc:.2f}%, '\n",
        "        f'Valid : {100 * valid_acc:.2f}%, '\n",
        "        f'Test : {100 * test_acc:.2f}%')"
      ],
      "metadata": {
        "colab": {
          "base_uri": "https://localhost:8080/"
        },
        "id": "kgQi1Nx2Ymkn",
        "outputId": "3bd01913-36d0-4038-e256-85a652e7d676"
      },
      "execution_count": 24,
      "outputs": [
        {
          "output_type": "stream",
          "name": "stdout",
          "text": [
            "Epoch : 01, Loss : 39.7689, Train : 62.01%, Valid : 63.23%, Test : 62.15%\n",
            "Epoch : 02, Loss : 28.4164, Train : 67.13%, Valid : 66.75%, Test : 65.54%\n",
            "Epoch : 03, Loss : 26.5013, Train : 69.08%, Valid : 68.33%, Test : 66.98%\n",
            "Epoch : 04, Loss : 25.6248, Train : 69.71%, Valid : 67.80%, Test : 65.77%\n",
            "Epoch : 05, Loss : 25.0764, Train : 70.29%, Valid : 69.31%, Test : 68.35%\n",
            "Epoch : 06, Loss : 24.5563, Train : 71.02%, Valid : 69.31%, Test : 68.41%\n",
            "Epoch : 07, Loss : 24.2164, Train : 71.55%, Valid : 69.71%, Test : 68.84%\n",
            "Epoch : 08, Loss : 23.9690, Train : 71.81%, Valid : 69.71%, Test : 68.84%\n",
            "Epoch : 09, Loss : 23.7970, Train : 72.33%, Valid : 69.67%, Test : 67.89%\n",
            "Epoch : 10, Loss : 23.5282, Train : 72.34%, Valid : 70.18%, Test : 69.53%\n",
            "Epoch : 11, Loss : 23.2783, Train : 72.64%, Valid : 70.37%, Test : 69.48%\n",
            "Epoch : 12, Loss : 23.2010, Train : 73.04%, Valid : 69.72%, Test : 68.45%\n",
            "Epoch : 13, Loss : 23.0373, Train : 73.18%, Valid : 69.49%, Test : 67.80%\n",
            "Epoch : 14, Loss : 22.9350, Train : 73.06%, Valid : 70.38%, Test : 69.54%\n",
            "Epoch : 15, Loss : 22.8930, Train : 73.47%, Valid : 69.78%, Test : 68.45%\n",
            "Epoch : 16, Loss : 22.7270, Train : 73.51%, Valid : 70.65%, Test : 69.65%\n",
            "Epoch : 17, Loss : 22.6045, Train : 73.64%, Valid : 69.71%, Test : 68.28%\n",
            "Epoch : 18, Loss : 22.4473, Train : 73.82%, Valid : 70.30%, Test : 69.12%\n",
            "Epoch : 19, Loss : 22.3650, Train : 73.72%, Valid : 70.55%, Test : 69.99%\n",
            "Epoch : 20, Loss : 22.2267, Train : 74.05%, Valid : 70.12%, Test : 69.00%\n",
            "Epoch : 21, Loss : 22.2231, Train : 74.03%, Valid : 70.20%, Test : 68.69%\n",
            "Epoch : 22, Loss : 22.0896, Train : 74.21%, Valid : 69.68%, Test : 67.78%\n",
            "Epoch : 23, Loss : 22.0585, Train : 74.35%, Valid : 70.83%, Test : 70.08%\n",
            "Epoch : 24, Loss : 22.0075, Train : 74.52%, Valid : 70.74%, Test : 69.95%\n",
            "Epoch : 25, Loss : 22.0099, Train : 74.24%, Valid : 70.34%, Test : 69.49%\n",
            "Epoch : 26, Loss : 21.9705, Train : 74.69%, Valid : 70.64%, Test : 69.00%\n",
            "Epoch : 27, Loss : 21.9496, Train : 74.52%, Valid : 70.80%, Test : 70.01%\n",
            "Epoch : 28, Loss : 21.8533, Train : 74.80%, Valid : 70.37%, Test : 69.17%\n",
            "Epoch : 29, Loss : 21.6587, Train : 74.95%, Valid : 70.82%, Test : 69.83%\n",
            "Epoch : 30, Loss : 21.5551, Train : 75.01%, Valid : 70.79%, Test : 69.89%\n",
            "Epoch : 31, Loss : 21.5631, Train : 74.96%, Valid : 70.10%, Test : 68.48%\n",
            "Epoch : 32, Loss : 21.5295, Train : 74.82%, Valid : 70.39%, Test : 69.29%\n",
            "Epoch : 33, Loss : 21.4656, Train : 75.30%, Valid : 70.68%, Test : 69.64%\n",
            "Epoch : 34, Loss : 21.5043, Train : 75.40%, Valid : 70.54%, Test : 68.69%\n",
            "Epoch : 35, Loss : 21.4132, Train : 75.12%, Valid : 70.70%, Test : 69.87%\n",
            "Epoch : 36, Loss : 21.4541, Train : 75.51%, Valid : 70.60%, Test : 69.66%\n",
            "Epoch : 37, Loss : 21.3865, Train : 75.30%, Valid : 70.88%, Test : 70.21%\n",
            "Epoch : 38, Loss : 21.3577, Train : 75.58%, Valid : 71.18%, Test : 70.36%\n",
            "Epoch : 39, Loss : 21.3113, Train : 75.27%, Valid : 70.39%, Test : 69.03%\n",
            "Epoch : 40, Loss : 21.2117, Train : 75.44%, Valid : 70.51%, Test : 69.24%\n",
            "Epoch : 41, Loss : 21.1912, Train : 75.65%, Valid : 70.26%, Test : 68.86%\n",
            "Epoch : 42, Loss : 21.2244, Train : 75.60%, Valid : 70.60%, Test : 69.48%\n",
            "Epoch : 43, Loss : 21.2535, Train : 75.72%, Valid : 70.39%, Test : 69.06%\n",
            "Epoch : 44, Loss : 21.1187, Train : 75.84%, Valid : 70.13%, Test : 68.08%\n",
            "Epoch : 45, Loss : 21.0628, Train : 75.82%, Valid : 70.44%, Test : 69.25%\n",
            "Epoch : 46, Loss : 21.0792, Train : 75.74%, Valid : 70.70%, Test : 69.66%\n",
            "Epoch : 47, Loss : 21.0585, Train : 75.45%, Valid : 70.53%, Test : 69.27%\n",
            "Epoch : 48, Loss : 20.9773, Train : 76.08%, Valid : 70.98%, Test : 69.85%\n",
            "Epoch : 49, Loss : 20.9929, Train : 75.75%, Valid : 70.43%, Test : 69.55%\n",
            "Epoch : 50, Loss : 21.0219, Train : 76.24%, Valid : 70.89%, Test : 69.86%\n",
            "Epoch : 51, Loss : 20.9270, Train : 75.87%, Valid : 69.99%, Test : 68.28%\n",
            "Epoch : 52, Loss : 20.8406, Train : 76.08%, Valid : 70.28%, Test : 68.86%\n",
            "Epoch : 53, Loss : 20.8897, Train : 76.04%, Valid : 71.06%, Test : 70.53%\n",
            "Epoch : 54, Loss : 20.8368, Train : 76.04%, Valid : 70.62%, Test : 69.46%\n",
            "Epoch : 55, Loss : 20.7937, Train : 76.17%, Valid : 70.61%, Test : 69.21%\n",
            "Epoch : 56, Loss : 20.8453, Train : 76.36%, Valid : 70.84%, Test : 69.57%\n",
            "Epoch : 57, Loss : 20.7966, Train : 76.45%, Valid : 71.07%, Test : 69.86%\n",
            "Epoch : 58, Loss : 20.7125, Train : 76.27%, Valid : 71.01%, Test : 70.06%\n",
            "Epoch : 59, Loss : 20.6418, Train : 76.50%, Valid : 70.33%, Test : 68.92%\n",
            "Epoch : 60, Loss : 20.7759, Train : 76.39%, Valid : 70.86%, Test : 69.63%\n",
            "Epoch : 61, Loss : 20.7703, Train : 76.41%, Valid : 71.00%, Test : 70.34%\n",
            "Epoch : 62, Loss : 20.7668, Train : 76.42%, Valid : 70.45%, Test : 69.29%\n",
            "Epoch : 63, Loss : 20.6725, Train : 76.56%, Valid : 70.49%, Test : 69.14%\n",
            "Epoch : 64, Loss : 20.6352, Train : 76.61%, Valid : 70.84%, Test : 69.56%\n",
            "Epoch : 65, Loss : 20.5757, Train : 76.51%, Valid : 70.60%, Test : 69.26%\n",
            "Epoch : 66, Loss : 20.7058, Train : 76.70%, Valid : 70.84%, Test : 69.96%\n",
            "Epoch : 67, Loss : 20.6950, Train : 76.82%, Valid : 70.87%, Test : 70.13%\n",
            "Epoch : 68, Loss : 20.6091, Train : 76.41%, Valid : 70.33%, Test : 68.96%\n",
            "Epoch : 69, Loss : 20.4449, Train : 76.36%, Valid : 70.67%, Test : 69.46%\n",
            "Epoch : 70, Loss : 20.5886, Train : 76.76%, Valid : 70.50%, Test : 68.68%\n",
            "Epoch : 71, Loss : 20.5364, Train : 76.66%, Valid : 70.99%, Test : 69.97%\n",
            "Epoch : 72, Loss : 20.5208, Train : 76.69%, Valid : 70.57%, Test : 69.39%\n",
            "Epoch : 73, Loss : 20.3830, Train : 76.77%, Valid : 70.96%, Test : 70.00%\n",
            "Epoch : 74, Loss : 20.5043, Train : 76.42%, Valid : 70.55%, Test : 68.94%\n",
            "Epoch : 75, Loss : 20.4759, Train : 76.94%, Valid : 70.52%, Test : 69.00%\n",
            "Epoch : 76, Loss : 20.4884, Train : 76.74%, Valid : 70.43%, Test : 69.09%\n",
            "Epoch : 77, Loss : 20.5289, Train : 76.97%, Valid : 70.41%, Test : 68.65%\n",
            "Epoch : 78, Loss : 20.3871, Train : 76.87%, Valid : 70.79%, Test : 69.71%\n",
            "Epoch : 79, Loss : 20.4244, Train : 76.86%, Valid : 70.56%, Test : 69.35%\n",
            "Epoch : 80, Loss : 20.4728, Train : 77.08%, Valid : 71.01%, Test : 69.99%\n",
            "Epoch : 81, Loss : 20.4668, Train : 76.92%, Valid : 70.95%, Test : 70.03%\n",
            "Epoch : 82, Loss : 20.4858, Train : 77.00%, Valid : 70.99%, Test : 70.24%\n",
            "Epoch : 83, Loss : 20.4057, Train : 76.90%, Valid : 70.87%, Test : 70.01%\n",
            "Epoch : 84, Loss : 20.3335, Train : 77.13%, Valid : 70.79%, Test : 69.76%\n",
            "Epoch : 85, Loss : 20.3144, Train : 76.97%, Valid : 70.39%, Test : 68.66%\n",
            "Epoch : 86, Loss : 20.4724, Train : 76.83%, Valid : 70.84%, Test : 70.03%\n",
            "Epoch : 87, Loss : 20.3401, Train : 77.19%, Valid : 70.69%, Test : 69.25%\n",
            "Epoch : 88, Loss : 20.2918, Train : 77.16%, Valid : 70.90%, Test : 70.28%\n",
            "Epoch : 89, Loss : 20.2880, Train : 77.17%, Valid : 70.54%, Test : 68.95%\n",
            "Epoch : 90, Loss : 20.3513, Train : 76.98%, Valid : 70.80%, Test : 69.72%\n",
            "Epoch : 91, Loss : 20.2283, Train : 77.03%, Valid : 70.45%, Test : 69.29%\n",
            "Epoch : 92, Loss : 20.1769, Train : 77.10%, Valid : 70.65%, Test : 69.48%\n",
            "Epoch : 93, Loss : 20.2782, Train : 76.99%, Valid : 70.85%, Test : 69.68%\n",
            "Epoch : 94, Loss : 20.2594, Train : 77.23%, Valid : 71.09%, Test : 70.60%\n",
            "Epoch : 95, Loss : 20.2371, Train : 77.33%, Valid : 70.81%, Test : 69.53%\n",
            "Epoch : 96, Loss : 20.1946, Train : 77.26%, Valid : 70.76%, Test : 69.60%\n",
            "Epoch : 97, Loss : 20.1690, Train : 77.33%, Valid : 70.68%, Test : 69.10%\n",
            "Epoch : 98, Loss : 20.2104, Train : 77.28%, Valid : 70.28%, Test : 68.68%\n",
            "Epoch : 99, Loss : 20.2639, Train : 77.43%, Valid : 70.75%, Test : 69.57%\n",
            "Epoch : 100, Loss : 20.1841, Train : 77.19%, Valid : 70.64%, Test : 69.78%\n"
          ]
        }
      ]
    },
    {
      "cell_type": "code",
      "source": [
        "best_result = test(best_batch_model,\n",
        "                   data,\n",
        "                   all_loader,\n",
        "                   split_idx,\n",
        "                   evaluator,\n",
        "                   mode='batch')\n",
        "\n",
        "train_acc, valid_acc, test_acc = best_result\n",
        "\n",
        "print(f'Best model: '\n",
        "      f'Train: {100 * train_acc:.2f}%, '\n",
        "      f'Valid: {100 * valid_acc:.2f}% '\n",
        "      f'Test: {100 * test_acc:.2f}%')"
      ],
      "metadata": {
        "colab": {
          "base_uri": "https://localhost:8080/"
        },
        "id": "u8TZLXMRY8tR",
        "outputId": "cec1a45c-81a3-422e-9ae8-34847416b97a"
      },
      "execution_count": 25,
      "outputs": [
        {
          "output_type": "stream",
          "name": "stdout",
          "text": [
            "Best model: Train: 75.58%, Valid: 71.18% Test: 70.36%\n"
          ]
        }
      ]
    },
    {
      "cell_type": "code",
      "source": [
        ""
      ],
      "metadata": {
        "id": "pQlgtRwTZpIh"
      },
      "execution_count": null,
      "outputs": []
    },
    {
      "cell_type": "markdown",
      "metadata": {
        "id": "-OyqW-1pSMLW"
      },
      "source": [
        "## Full-batch Training"
      ]
    },
    {
      "cell_type": "code",
      "metadata": {
        "id": "mU5eAviTSFMO"
      },
      "source": [
        "# # Use the same parameters for a full-batch training\n",
        "# args = {\n",
        "#     'device': device,\n",
        "#     'num_layers': 2,\n",
        "#     'hidden_dim': 128,\n",
        "#     'dropout': 0.5,\n",
        "#     'lr': 0.01,\n",
        "#     'epochs': 100,\n",
        "# }\n",
        "\n",
        "# all_model = SAGE(data.num_features, args['hidden_dim'],\n",
        "#             dataset.num_classes, args['num_layers'],\n",
        "#             args['dropout']).to(device)\n",
        "# all_model.reset_parameters()\n",
        "\n",
        "# optimizer = torch.optim.Adam(all_model.parameters(), lr=args['lr'])\n",
        "# loss_fn = F.nll_loss\n",
        "\n",
        "# best_all_model = None\n",
        "# best_valid_acc = 0\n",
        "\n",
        "# all_results = []\n",
        "\n",
        "# for epoch in range(1, 1 + args[\"epochs\"]):\n",
        "#     loss = train(all_model, data, train_loader, train_idx, optimizer, loss_fn, mode=\"all\")\n",
        "#     result = test(all_model, data, all_loader, split_idx, evaluator, mode=\"all\")\n",
        "#     all_results.append(result)\n",
        "#     train_acc, valid_acc, test_acc = result\n",
        "#     if valid_acc > best_valid_acc:\n",
        "#         best_valid_acc = valid_acc\n",
        "#         best_all_model = copy.deepcopy(all_model)\n",
        "#     print(f'Epoch: {epoch:02d}, '\n",
        "#           f'Loss: {loss:.4f}, '\n",
        "#           f'Train: {100 * train_acc:.2f}%, '\n",
        "#           f'Valid: {100 * valid_acc:.2f}% '\n",
        "#           f'Test: {100 * test_acc:.2f}%')\n",
        "# best_result = test(best_all_model, data, all_loader, split_idx, evaluator, mode=\"all\")\n",
        "# train_acc, valid_acc, test_acc = best_result\n",
        "# print(f'Best model: '\n",
        "#       f'Train: {100 * train_acc:.2f}%, '\n",
        "#       f'Valid: {100 * valid_acc:.2f}% '\n",
        "#       f'Test: {100 * test_acc:.2f}%')"
      ],
      "execution_count": null,
      "outputs": []
    },
    {
      "cell_type": "code",
      "source": [
        "# Full-batch Training\n",
        "\n",
        "args = {\n",
        "    'device': device,\n",
        "    'num_layers': 2,\n",
        "    'hidden_dim': 128,\n",
        "    'dropout': 0.5,\n",
        "    'lr': 0.01,\n",
        "    'epochs': 100\n",
        "}"
      ],
      "metadata": {
        "id": "m8CMidbFcPFc"
      },
      "execution_count": 26,
      "outputs": []
    },
    {
      "cell_type": "code",
      "source": [
        "all_model = SAGE(data.num_features,\n",
        "                 args['hidden_dim'],\n",
        "                 dataset.num_classes,\n",
        "                 args['num_layers'],\n",
        "                 args['dropout']).to(device)\n",
        "\n",
        "all_model.reset_parameters()"
      ],
      "metadata": {
        "id": "k8xwKEvOcYE2"
      },
      "execution_count": 27,
      "outputs": []
    },
    {
      "cell_type": "code",
      "source": [
        "optimizer = torch.optim.Adam(all_model.parameters(), lr=args['lr'])\n",
        "loss_fn = F.nll_loss"
      ],
      "metadata": {
        "id": "8WcoY8NlcYHF"
      },
      "execution_count": 28,
      "outputs": []
    },
    {
      "cell_type": "code",
      "source": [
        "best_all_model = None\n",
        "best_valid_acc = 0\n",
        "all_results = []\n",
        "\n",
        "for epoch in range(1, 1+args['epochs']):\n",
        "  loss = train(all_model, data, train_loader, train_idx, optimizer, loss_fn, mode='all')\n",
        "  result = test(all_model, data, all_loader, split_idx, evaluator, mode='all')\n",
        "  all_results.append(result)\n",
        "  train_acc, valid_acc, test_acc = result\n",
        "  if valid_acc > best_valid_acc:\n",
        "    best_valid_acc = valid_acc\n",
        "    best_all_model = copy.deepcopy(all_model)\n",
        "\n",
        "  print(f'Epoch : {epoch:02d}, '\n",
        "        f'Loss : {loss:.4f}, '\n",
        "        f'Train : {100 * train_acc:.2f}%, '\n",
        "        f'Valid : {100 * valid_acc:.2f}%, '\n",
        "        f'Test : {100 * test_acc:.2f}%')"
      ],
      "metadata": {
        "colab": {
          "base_uri": "https://localhost:8080/"
        },
        "id": "xj5j3Oj6ck0u",
        "outputId": "1f902b73-53df-41ed-cc26-ee7f7f3d579d"
      },
      "execution_count": 29,
      "outputs": [
        {
          "output_type": "stream",
          "name": "stdout",
          "text": [
            "Epoch : 01, Loss : 3.9672, Train : 31.43%, Valid : 32.89%, Test : 29.10%\n",
            "Epoch : 02, Loss : 2.5818, Train : 34.42%, Valid : 36.10%, Test : 33.89%\n",
            "Epoch : 03, Loss : 2.2303, Train : 36.53%, Valid : 42.94%, Test : 44.17%\n",
            "Epoch : 04, Loss : 2.0504, Train : 38.57%, Valid : 46.86%, Test : 49.70%\n",
            "Epoch : 05, Loss : 1.9124, Train : 43.01%, Valid : 50.18%, Test : 53.09%\n",
            "Epoch : 06, Loss : 1.8004, Train : 48.24%, Valid : 54.11%, Test : 56.32%\n",
            "Epoch : 07, Loss : 1.7105, Train : 51.56%, Valid : 56.30%, Test : 57.39%\n",
            "Epoch : 08, Loss : 1.6404, Train : 53.20%, Valid : 57.10%, Test : 57.06%\n",
            "Epoch : 09, Loss : 1.5817, Train : 54.38%, Valid : 57.73%, Test : 57.27%\n",
            "Epoch : 10, Loss : 1.5331, Train : 55.59%, Valid : 58.66%, Test : 58.27%\n",
            "Epoch : 11, Loss : 1.4928, Train : 56.27%, Valid : 59.48%, Test : 59.39%\n",
            "Epoch : 12, Loss : 1.4631, Train : 56.71%, Valid : 59.70%, Test : 60.18%\n",
            "Epoch : 13, Loss : 1.4396, Train : 57.23%, Valid : 60.08%, Test : 60.66%\n",
            "Epoch : 14, Loss : 1.4158, Train : 58.00%, Valid : 60.59%, Test : 60.96%\n",
            "Epoch : 15, Loss : 1.3960, Train : 58.93%, Valid : 61.18%, Test : 60.96%\n",
            "Epoch : 16, Loss : 1.3776, Train : 59.89%, Valid : 61.53%, Test : 60.99%\n",
            "Epoch : 17, Loss : 1.3596, Train : 60.77%, Valid : 62.21%, Test : 61.15%\n",
            "Epoch : 18, Loss : 1.3451, Train : 61.51%, Valid : 62.69%, Test : 61.54%\n",
            "Epoch : 19, Loss : 1.3298, Train : 62.11%, Valid : 63.39%, Test : 62.36%\n",
            "Epoch : 20, Loss : 1.3186, Train : 62.61%, Valid : 63.81%, Test : 63.07%\n",
            "Epoch : 21, Loss : 1.2971, Train : 63.04%, Valid : 64.15%, Test : 63.70%\n",
            "Epoch : 22, Loss : 1.2825, Train : 63.42%, Valid : 64.47%, Test : 64.11%\n",
            "Epoch : 23, Loss : 1.2738, Train : 63.84%, Valid : 64.71%, Test : 64.29%\n",
            "Epoch : 24, Loss : 1.2652, Train : 64.23%, Valid : 64.89%, Test : 64.45%\n",
            "Epoch : 25, Loss : 1.2514, Train : 64.63%, Valid : 65.12%, Test : 64.51%\n",
            "Epoch : 26, Loss : 1.2427, Train : 65.03%, Valid : 65.48%, Test : 64.54%\n",
            "Epoch : 27, Loss : 1.2346, Train : 65.28%, Valid : 65.72%, Test : 64.70%\n",
            "Epoch : 28, Loss : 1.2245, Train : 65.56%, Valid : 66.00%, Test : 64.91%\n",
            "Epoch : 29, Loss : 1.2141, Train : 65.88%, Valid : 66.21%, Test : 65.36%\n",
            "Epoch : 30, Loss : 1.2061, Train : 66.19%, Valid : 66.65%, Test : 65.77%\n",
            "Epoch : 31, Loss : 1.1975, Train : 66.47%, Valid : 66.87%, Test : 66.18%\n",
            "Epoch : 32, Loss : 1.1894, Train : 66.71%, Valid : 67.10%, Test : 66.54%\n",
            "Epoch : 33, Loss : 1.1844, Train : 66.99%, Valid : 67.23%, Test : 66.71%\n",
            "Epoch : 34, Loss : 1.1783, Train : 67.19%, Valid : 67.39%, Test : 66.76%\n",
            "Epoch : 35, Loss : 1.1714, Train : 67.37%, Valid : 67.55%, Test : 66.85%\n",
            "Epoch : 36, Loss : 1.1625, Train : 67.44%, Valid : 67.62%, Test : 66.87%\n",
            "Epoch : 37, Loss : 1.1590, Train : 67.56%, Valid : 67.66%, Test : 66.87%\n",
            "Epoch : 38, Loss : 1.1586, Train : 67.70%, Valid : 67.69%, Test : 66.98%\n",
            "Epoch : 39, Loss : 1.1533, Train : 67.80%, Valid : 67.76%, Test : 67.15%\n",
            "Epoch : 40, Loss : 1.1479, Train : 67.90%, Valid : 67.86%, Test : 67.19%\n",
            "Epoch : 41, Loss : 1.1410, Train : 68.07%, Valid : 67.92%, Test : 67.21%\n",
            "Epoch : 42, Loss : 1.1359, Train : 68.25%, Valid : 68.06%, Test : 67.19%\n",
            "Epoch : 43, Loss : 1.1339, Train : 68.36%, Valid : 68.16%, Test : 67.12%\n",
            "Epoch : 44, Loss : 1.1258, Train : 68.44%, Valid : 68.13%, Test : 67.10%\n",
            "Epoch : 45, Loss : 1.1226, Train : 68.54%, Valid : 68.07%, Test : 67.02%\n",
            "Epoch : 46, Loss : 1.1212, Train : 68.61%, Valid : 68.05%, Test : 67.08%\n",
            "Epoch : 47, Loss : 1.1185, Train : 68.77%, Valid : 68.21%, Test : 67.21%\n",
            "Epoch : 48, Loss : 1.1129, Train : 68.87%, Valid : 68.23%, Test : 67.35%\n",
            "Epoch : 49, Loss : 1.1103, Train : 68.97%, Valid : 68.31%, Test : 67.44%\n",
            "Epoch : 50, Loss : 1.1052, Train : 69.07%, Valid : 68.39%, Test : 67.49%\n",
            "Epoch : 51, Loss : 1.1028, Train : 69.13%, Valid : 68.46%, Test : 67.49%\n",
            "Epoch : 52, Loss : 1.0993, Train : 69.17%, Valid : 68.51%, Test : 67.48%\n",
            "Epoch : 53, Loss : 1.0989, Train : 69.23%, Valid : 68.54%, Test : 67.41%\n",
            "Epoch : 54, Loss : 1.0918, Train : 69.37%, Valid : 68.61%, Test : 67.49%\n",
            "Epoch : 55, Loss : 1.0850, Train : 69.42%, Valid : 68.67%, Test : 67.69%\n",
            "Epoch : 56, Loss : 1.0858, Train : 69.54%, Valid : 68.72%, Test : 67.91%\n",
            "Epoch : 57, Loss : 1.0794, Train : 69.63%, Valid : 68.78%, Test : 68.11%\n",
            "Epoch : 58, Loss : 1.0780, Train : 69.71%, Valid : 68.86%, Test : 68.20%\n",
            "Epoch : 59, Loss : 1.0755, Train : 69.82%, Valid : 68.94%, Test : 68.21%\n",
            "Epoch : 60, Loss : 1.0724, Train : 69.97%, Valid : 69.05%, Test : 68.18%\n",
            "Epoch : 61, Loss : 1.0690, Train : 70.06%, Valid : 69.06%, Test : 68.26%\n",
            "Epoch : 62, Loss : 1.0672, Train : 70.17%, Valid : 69.06%, Test : 68.21%\n",
            "Epoch : 63, Loss : 1.0625, Train : 70.23%, Valid : 69.05%, Test : 68.09%\n",
            "Epoch : 64, Loss : 1.0616, Train : 70.27%, Valid : 69.06%, Test : 68.01%\n",
            "Epoch : 65, Loss : 1.0603, Train : 70.31%, Valid : 69.10%, Test : 67.99%\n",
            "Epoch : 66, Loss : 1.0563, Train : 70.39%, Valid : 69.18%, Test : 67.94%\n",
            "Epoch : 67, Loss : 1.0555, Train : 70.43%, Valid : 69.13%, Test : 68.01%\n",
            "Epoch : 68, Loss : 1.0522, Train : 70.54%, Valid : 69.23%, Test : 68.07%\n",
            "Epoch : 69, Loss : 1.0492, Train : 70.67%, Valid : 69.27%, Test : 68.14%\n",
            "Epoch : 70, Loss : 1.0479, Train : 70.74%, Valid : 69.25%, Test : 68.13%\n",
            "Epoch : 71, Loss : 1.0443, Train : 70.78%, Valid : 69.25%, Test : 68.06%\n",
            "Epoch : 72, Loss : 1.0435, Train : 70.80%, Valid : 69.28%, Test : 68.03%\n",
            "Epoch : 73, Loss : 1.0431, Train : 70.83%, Valid : 69.25%, Test : 68.12%\n",
            "Epoch : 74, Loss : 1.0419, Train : 70.92%, Valid : 69.40%, Test : 68.37%\n",
            "Epoch : 75, Loss : 1.0368, Train : 70.96%, Valid : 69.41%, Test : 68.53%\n",
            "Epoch : 76, Loss : 1.0315, Train : 71.00%, Valid : 69.40%, Test : 68.59%\n",
            "Epoch : 77, Loss : 1.0336, Train : 71.04%, Valid : 69.41%, Test : 68.56%\n",
            "Epoch : 78, Loss : 1.0311, Train : 71.07%, Valid : 69.39%, Test : 68.62%\n",
            "Epoch : 79, Loss : 1.0270, Train : 71.15%, Valid : 69.46%, Test : 68.63%\n",
            "Epoch : 80, Loss : 1.0257, Train : 71.18%, Valid : 69.53%, Test : 68.56%\n",
            "Epoch : 81, Loss : 1.0265, Train : 71.23%, Valid : 69.50%, Test : 68.52%\n",
            "Epoch : 82, Loss : 1.0254, Train : 71.36%, Valid : 69.53%, Test : 68.63%\n",
            "Epoch : 83, Loss : 1.0224, Train : 71.39%, Valid : 69.67%, Test : 68.80%\n",
            "Epoch : 84, Loss : 1.0202, Train : 71.45%, Valid : 69.68%, Test : 68.83%\n",
            "Epoch : 85, Loss : 1.0198, Train : 71.48%, Valid : 69.71%, Test : 68.84%\n",
            "Epoch : 86, Loss : 1.0168, Train : 71.55%, Valid : 69.72%, Test : 68.78%\n",
            "Epoch : 87, Loss : 1.0130, Train : 71.60%, Valid : 69.68%, Test : 68.65%\n",
            "Epoch : 88, Loss : 1.0096, Train : 71.63%, Valid : 69.50%, Test : 68.46%\n",
            "Epoch : 89, Loss : 1.0107, Train : 71.68%, Valid : 69.44%, Test : 68.27%\n",
            "Epoch : 90, Loss : 1.0097, Train : 71.72%, Valid : 69.51%, Test : 68.34%\n",
            "Epoch : 91, Loss : 1.0087, Train : 71.78%, Valid : 69.64%, Test : 68.62%\n",
            "Epoch : 92, Loss : 1.0068, Train : 71.80%, Valid : 69.75%, Test : 68.81%\n",
            "Epoch : 93, Loss : 1.0036, Train : 71.86%, Valid : 69.94%, Test : 69.00%\n",
            "Epoch : 94, Loss : 1.0018, Train : 71.86%, Valid : 70.02%, Test : 69.15%\n",
            "Epoch : 95, Loss : 0.9977, Train : 71.86%, Valid : 70.08%, Test : 69.04%\n",
            "Epoch : 96, Loss : 1.0001, Train : 71.93%, Valid : 69.95%, Test : 68.91%\n",
            "Epoch : 97, Loss : 0.9989, Train : 72.01%, Valid : 70.01%, Test : 68.89%\n",
            "Epoch : 98, Loss : 0.9977, Train : 72.06%, Valid : 70.03%, Test : 69.08%\n",
            "Epoch : 99, Loss : 0.9934, Train : 72.06%, Valid : 70.12%, Test : 69.22%\n",
            "Epoch : 100, Loss : 0.9949, Train : 72.07%, Valid : 70.15%, Test : 69.29%\n"
          ]
        }
      ]
    },
    {
      "cell_type": "code",
      "source": [
        "best_result = test(best_all_model, data, all_loader, split_idx, evaluator, mode='all')\n",
        "train_acc, valid_acc, test_acc = best_result\n",
        "print(f'Best Model: '\n",
        "      f'Train: {100 * train_acc:.2f}%, '\n",
        "      f'Valid: {100 * valid_acc:.2f}%, '\n",
        "      f'Test: {100 * test_acc:.2f}%')"
      ],
      "metadata": {
        "colab": {
          "base_uri": "https://localhost:8080/"
        },
        "id": "Q1nwjl0Xck22",
        "outputId": "77859db0-01c6-4699-e2e3-c34e6257dc63"
      },
      "execution_count": 30,
      "outputs": [
        {
          "output_type": "stream",
          "name": "stdout",
          "text": [
            "Best Model: Train: 72.07%, Valid: 70.15%, Test: 69.29%\n"
          ]
        }
      ]
    },
    {
      "cell_type": "code",
      "source": [
        ""
      ],
      "metadata": {
        "id": "8VWFXnI8cPHv"
      },
      "execution_count": null,
      "outputs": []
    },
    {
      "cell_type": "markdown",
      "metadata": {
        "id": "NrECcOQQSZo1"
      },
      "source": [
        "## Visualization"
      ]
    },
    {
      "cell_type": "code",
      "metadata": {
        "id": "sh_qvSG1SV63"
      },
      "source": [
        "# import numpy as np\n",
        "# from matplotlib import pyplot as plt\n",
        "\n",
        "# batch_results = np.array(batch_results)\n",
        "# all_results = np.array(all_results)\n",
        "\n",
        "# x = np.arange(1, 101)\n",
        "\n",
        "# plt.figure(figsize=(9, 7))\n",
        "\n",
        "# plt.plot(x, batch_results[:, 1], label=\"Batch Validation\")\n",
        "# plt.plot(x, batch_results[:, 2], label=\"Batch Test\")\n",
        "# plt.plot(x, all_results[:, 1], label=\"All Validation\")\n",
        "# plt.plot(x, all_results[:, 2], label=\"All Test\")\n",
        "# plt.title('Model Accuracy')\n",
        "# plt.ylabel('Accuracy')\n",
        "# plt.xlabel('Epoch')\n",
        "# plt.legend()\n",
        "# plt.show()"
      ],
      "execution_count": null,
      "outputs": []
    },
    {
      "cell_type": "code",
      "source": [
        "import numpy as np\n",
        "from matplotlib import pyplot as plt\n",
        "\n",
        "batch_results = np.array(batch_results)\n",
        "all_results = np.array(all_results)\n",
        "\n",
        "x = np.arange(1, 101)\n",
        "\n",
        "plt.figure(figsize=(9, 7))\n",
        "\n",
        "plt.plot(x, batch_results[:, 1], label='Batch Validation')\n",
        "plt.plot(x, batch_results[:, 2], label='Batch Test')\n",
        "plt.plot(x, all_results[:, 1], label='All Validation')\n",
        "plt.plot(x, all_results[:, 2], label='All Test')\n",
        "plt.title('Model Accuracy')\n",
        "plt.ylabel('Accuracy')\n",
        "plt.xlabel('Epoch')\n",
        "plt.legend()\n",
        "plt.show()"
      ],
      "metadata": {
        "colab": {
          "base_uri": "https://localhost:8080/",
          "height": 458
        },
        "id": "BDwrqreAdv-h",
        "outputId": "4e02c143-eaeb-491e-bef7-0e0e083df679"
      },
      "execution_count": 31,
      "outputs": [
        {
          "output_type": "display_data",
          "data": {
            "text/plain": [
              "<Figure size 648x504 with 1 Axes>"
            ],
            "image/png": "[encoded data removed]"
          },
          "metadata": {
            "needs_background": "light"
          }
        }
      ]
    },
    {
      "cell_type": "markdown",
      "metadata": {
        "id": "WFb2OAvOSn_O"
      },
      "source": [
        "# 2 Neighbor Sampling with Different Ratios\n",
        "\n",
        "Now we will implement a simplified version of Neighbor Sampling by using DeepSNAP and NetworkX, and train models with different neighborhood sampling ratios.\n",
        "\n",
        "To make the experiments faster, we will use the Cora graph here."
      ]
    },
    {
      "cell_type": "markdown",
      "metadata": {
        "id": "P9U0F7bnSz9u"
      },
      "source": [
        "## Setup"
      ]
    },
    {
      "cell_type": "code",
      "metadata": {
        "id": "PUF4on-fSxcq"
      },
      "source": [
        "# import copy\n",
        "# import torch\n",
        "# import random\n",
        "# import numpy as np\n",
        "# import networkx as nx\n",
        "# import torch.nn as nn\n",
        "# import torch.nn.functional as F\n",
        "\n",
        "# from torch_geometric.nn import SAGEConv\n",
        "# from torch.utils.data import DataLoader\n",
        "# from torch_geometric.datasets import Planetoid\n",
        "# from torch.nn import Sequential, Linear, ReLU\n",
        "# from deepsnap.dataset import GraphDataset\n",
        "# from deepsnap.graph import Graph\n",
        "\n",
        "# pyg_dataset = Planetoid('./tmp', \"Cora\")"
      ],
      "execution_count": null,
      "outputs": []
    },
    {
      "cell_type": "code",
      "source": [
        "import copy\n",
        "import torch\n",
        "import random\n",
        "import numpy as np\n",
        "import networkx as nx\n",
        "import torch.nn as nn\n",
        "import torch.nn.functional as F\n",
        "\n",
        "from torch_geometric.nn import SAGEConv\n",
        "from torch.utils.data import DataLoader\n",
        "from torch_geometric.datasets import Planetoid\n",
        "from torch.nn import Sequential, Linear, ReLU\n",
        "\n",
        "from deepsnap.dataset import GraphDataset\n",
        "from deepsnap.graph import Graph"
      ],
      "metadata": {
        "id": "Uhs3RwXNeTqj"
      },
      "execution_count": 32,
      "outputs": []
    },
    {
      "cell_type": "code",
      "source": [
        "pyg_dataset = Planetoid('./tmp', 'Cora')"
      ],
      "metadata": {
        "colab": {
          "base_uri": "https://localhost:8080/"
        },
        "id": "snfbBKZ2euUa",
        "outputId": "c98c0710-a86a-46ce-b605-79653034910c"
      },
      "execution_count": 33,
      "outputs": [
        {
          "output_type": "stream",
          "name": "stderr",
          "text": [
            "Downloading https://github.com/kimiyoung/planetoid/raw/master/data/ind.cora.x\n",
            "Downloading https://github.com/kimiyoung/planetoid/raw/master/data/ind.cora.tx\n",
            "Downloading https://github.com/kimiyoung/planetoid/raw/master/data/ind.cora.allx\n",
            "Downloading https://github.com/kimiyoung/planetoid/raw/master/data/ind.cora.y\n",
            "Downloading https://github.com/kimiyoung/planetoid/raw/master/data/ind.cora.ty\n",
            "Downloading https://github.com/kimiyoung/planetoid/raw/master/data/ind.cora.ally\n",
            "Downloading https://github.com/kimiyoung/planetoid/raw/master/data/ind.cora.graph\n",
            "Downloading https://github.com/kimiyoung/planetoid/raw/master/data/ind.cora.test.index\n",
            "Processing...\n",
            "Done!\n"
          ]
        }
      ]
    },
    {
      "cell_type": "code",
      "source": [
        "print(pyg_dataset)"
      ],
      "metadata": {
        "colab": {
          "base_uri": "https://localhost:8080/"
        },
        "id": "Qp-dBJE0euWk",
        "outputId": "e71c49d2-db39-40b2-f0f9-9552adec83ee"
      },
      "execution_count": 34,
      "outputs": [
        {
          "output_type": "stream",
          "name": "stdout",
          "text": [
            "Cora()\n"
          ]
        }
      ]
    },
    {
      "cell_type": "markdown",
      "metadata": {
        "id": "qw6k-KdFTEYw"
      },
      "source": [
        "## GNN Model"
      ]
    },
    {
      "cell_type": "code",
      "metadata": {
        "id": "PvUlNi2TS09i"
      },
      "source": [
        "# class GNN(torch.nn.Module):\n",
        "#     def __init__(self, input_dim, hidden_dim, output_dim, args):\n",
        "#         super(GNN, self).__init__()\n",
        "#         self.dropout = args['dropout']\n",
        "#         self.num_layers = args['num_layers']\n",
        "\n",
        "#         self.convs = nn.ModuleList()\n",
        "#         self.bns = nn.ModuleList()\n",
        "\n",
        "#         self.convs.append(SAGEConv(input_dim, hidden_dim))\n",
        "#         self.bns.append(nn.BatchNorm1d(hidden_dim))\n",
        "\n",
        "#         for l in range(self.num_layers - 2):\n",
        "#             self.convs.append(SAGEConv(hidden_dim, hidden_dim))\n",
        "#             self.bns.append(nn.BatchNorm1d(hidden_dim))\n",
        "#         self.convs.append(SAGEConv(hidden_dim, hidden_dim))\n",
        "\n",
        "#         self.post_mp = nn.Linear(hidden_dim, output_dim)\n",
        "\n",
        "#     def forward(self, data, mode=\"batch\"):\n",
        "#         if mode == \"batch\":\n",
        "#             edge_indices, x = data\n",
        "#             for i in range(len(self.convs) - 1):\n",
        "#                 edge_index = edge_indices[i]\n",
        "#                 x = self.convs[i](x, edge_index)\n",
        "#                 x = self.bns[i](x)\n",
        "#                 x = F.relu(x)\n",
        "#                 x = F.dropout(x, p=self.dropout, training=self.training)\n",
        "#             x = self.convs[-1](x, edge_indices[len(self.convs) - 1])\n",
        "#         else:\n",
        "#             x, edge_index = data.node_feature, data.edge_index\n",
        "#             for i in range(len(self.convs) - 1):\n",
        "#                 x = self.convs[i](x, edge_index)\n",
        "#                 x = self.bns[i](x)\n",
        "#                 x = F.relu(x)\n",
        "#                 x = F.dropout(x, p=self.dropout, training=self.training)\n",
        "#             x = self.convs[-1](x, edge_index)\n",
        "#         x = self.post_mp(x)\n",
        "#         x = F.log_softmax(x, dim=1)\n",
        "#         return x"
      ],
      "execution_count": null,
      "outputs": []
    },
    {
      "cell_type": "code",
      "source": [
        "class GNN(torch.nn.Module):\n",
        "  def __init__(self, input_dim, hidden_dim, output_dim, args):\n",
        "    super(GNN, self).__init__()\n",
        "    self.dropout = args['dropout']\n",
        "    self.num_layers = args['num_layers']\n",
        "\n",
        "    self.convs = nn.ModuleList()\n",
        "    self.bns = nn.ModuleList()\n",
        "\n",
        "    self.convs.append(SAGEConv(input_dim, hidden_dim))\n",
        "    self.bns.append(nn.BatchNorm1d(hidden_dim))\n",
        "\n",
        "    for I in range(self.num_layers - 2):\n",
        "      self.convs.append(SAGEConv(hidden_dim, hidden_dim))\n",
        "      self.bns.append(nn.BatchNorm1d(hidden_dim))\n",
        "\n",
        "    self.convs.append(SAGEConv(hidden_dim, hidden_dim))\n",
        "\n",
        "    self.post_mp = nn.Linear(hidden_dim, output_dim)\n",
        "\n",
        "  def forward(self, data, mode='batch'):\n",
        "    if mode == 'batch':\n",
        "      edge_indices, x = data\n",
        "      for i in range(len(self.convs) - 1):\n",
        "        edge_index = edge_indices[i]\n",
        "        x = self.convs[i](x, edge_index)\n",
        "        x = self.bns[i](x)\n",
        "        x = F.relu(x)\n",
        "        x = F.dropout(x, p=self.dropout, training=self.training)\n",
        "      x = self.convs[-1](x, edge_indices[len(self.convs) - 1])\n",
        "\n",
        "    else:\n",
        "      x, edge_index = data.node_feature, data.edge_index\n",
        "      \n",
        "      for i in range(len(self.convs) - 1):\n",
        "        x = self.convs[i](x, edge_index)\n",
        "        x = self.bns[i](x)\n",
        "        x = F.relu(x)\n",
        "        x = F.dropout(x, p=self.dropout, training=self.training)\n",
        "      x = self.convs[-1](x, edge_index)\n",
        "    \n",
        "    x = self.post_mp(x)\n",
        "    x = F.log_softmax(x, dim=1)\n",
        "    \n",
        "    return x"
      ],
      "metadata": {
        "id": "XoHqbpP6e0jH"
      },
      "execution_count": 35,
      "outputs": []
    },
    {
      "cell_type": "code",
      "source": [
        ""
      ],
      "metadata": {
        "id": "wKZ6boZhfiVp"
      },
      "execution_count": null,
      "outputs": []
    },
    {
      "cell_type": "markdown",
      "metadata": {
        "id": "Ulp1A3evcJ-I"
      },
      "source": [
        "## Neighbor Sampling\n",
        "\n",
        "Here we implement functions that will sample neighbors by using DeepSNAP and NetworkX.\n",
        "\n",
        "Notice that node classification task on Cora is a semi-supervised classification task, here we keep all the labeled training nodes (140 nodes) by setting the last ratio to 1."
      ]
    },
    {
      "cell_type": "code",
      "metadata": {
        "id": "LI4qHkE4cQOh"
      },
      "source": [
        "# def sample_neighbors(nodes, G, ratio, all_nodes):\n",
        "#     # This fuction takes a set of nodes, a NetworkX graph G and neighbor sampling ratio.\n",
        "#     # It will return sampled neighbors (unioned with input nodes) and edges between \n",
        "#     neighbors = set()\n",
        "#     edges = []\n",
        "#     for node in nodes:\n",
        "#         neighbors_list = list(nx.neighbors(G, node))\n",
        "\n",
        "#         # We only sample the (ratio * number of neighbors) neighbors\n",
        "#         num = int(len(neighbors_list) * ratio)\n",
        "#         if num > 0:\n",
        "#             # Random shuffle the neighbors\n",
        "#             random.shuffle(neighbors_list)\n",
        "#             neighbors_list = neighbors_list[:num]\n",
        "#             for neighbor in neighbors_list:\n",
        "#                 # Add neighbors\n",
        "#                 neighbors.add(neighbor)\n",
        "#                 edges.append((neighbor, node))\n",
        "#     return neighbors, neighbors.union(all_nodes), edges\n",
        "\n",
        "# def nodes_to_tensor(nodes):\n",
        "#     # This function transform a set of nodes to node index tensor\n",
        "#     node_label_index = torch.tensor(list(nodes), dtype=torch.long)\n",
        "#     return node_label_index\n",
        "\n",
        "# def edges_to_tensor(edges):\n",
        "#     # This function transform a set of edges to edge index tensor\n",
        "#     edge_index = torch.tensor(list(edges), dtype=torch.long)\n",
        "#     edge_index = torch.cat([edge_index, torch.flip(edge_index, [1])], dim=0)\n",
        "#     edge_index = edge_index.permute(1, 0)\n",
        "#     return edge_index\n",
        "\n",
        "# def relable(nodes, labeled_nodes, edges_list):\n",
        "#     # Relable the nodes, labeled_nodes and edges_list\n",
        "#     relabled_edges_list = []\n",
        "#     sorted_nodes = sorted(nodes)\n",
        "#     node_mapping = {node : i for i, node in enumerate(sorted_nodes)}\n",
        "#     for orig_edges in edges_list:\n",
        "#         relabeled_edges = []\n",
        "#         for edge in orig_edges:\n",
        "#             relabeled_edges.append((node_mapping[edge[0]], node_mapping[edge[1]]))\n",
        "#         relabled_edges_list.append(relabeled_edges)\n",
        "#     relabeled_labeled_nodes = [node_mapping[node] for node in labeled_nodes]\n",
        "#     relabeled_nodes = [node_mapping[node] for node in nodes]\n",
        "#     return relabled_edges_list, relabeled_nodes, relabeled_labeled_nodes\n",
        "\n",
        "# def neighbor_sampling(graph, K=2, ratios=(0.1, 0.1, 0.1)):\n",
        "#     # This function takes a DeepSNAP graph, K the number of GNN layers, and neighbor \n",
        "#     # sampling ratios for each layer. This function returns relabeled node feature, \n",
        "#     # edge indices and node_label_index\n",
        "\n",
        "#     assert K + 1 == len(ratios)\n",
        "\n",
        "#     labeled_nodes = graph.node_label_index.tolist()\n",
        "#     random.shuffle(labeled_nodes)\n",
        "#     num = int(len(labeled_nodes) * ratios[-1])\n",
        "#     if num > 0:\n",
        "#         labeled_nodes = labeled_nodes[:num]\n",
        "#     nodes_list = [set(labeled_nodes)]\n",
        "#     edges_list = []\n",
        "#     all_nodes = labeled_nodes\n",
        "#     for k in range(K):\n",
        "#         # Get nodes and edges from the previous layer\n",
        "#         nodes, all_nodes, edges = \\\n",
        "#             sample_neighbors(nodes_list[-1], graph.G, ratios[len(ratios) - k - 2], all_nodes)\n",
        "#         nodes_list.append(nodes)\n",
        "#         edges_list.append(edges)\n",
        "    \n",
        "#     # Reverse the lists\n",
        "#     nodes_list.reverse()\n",
        "#     edges_list.reverse()\n",
        "\n",
        "#     relabled_edges_list, relabeled_all_nodes, relabeled_labeled_nodes = \\\n",
        "#         relable(all_nodes, labeled_nodes, edges_list)\n",
        "\n",
        "#     node_index = nodes_to_tensor(relabeled_all_nodes)\n",
        "#     # All node features that will be used\n",
        "#     node_feature = graph.node_feature[node_index]\n",
        "#     edge_indices = [edges_to_tensor(edges) for edges in relabled_edges_list]\n",
        "#     node_label_index = nodes_to_tensor(relabeled_labeled_nodes)\n",
        "#     log = \"Sampled {} nodes, {} edges, {} labeled nodes\"\n",
        "#     print(log.format(node_feature.shape[0], edge_indices[0].shape[1] // 2, node_label_index.shape[0]))\n",
        "#     return node_feature, edge_indices, node_label_index"
      ],
      "execution_count": null,
      "outputs": []
    },
    {
      "cell_type": "code",
      "source": [
        "def sample_neighbors(nodes, G, ratio, all_nodes):\n",
        "  # This function takes a set of nodes, a NetworkX graph G and neighbor sampling ratio.\n",
        "  # It will return sampled neighbors (unioned with input nodes) and edges between.\n",
        "\n",
        "  neighbors = set()\n",
        "  edges = []\n",
        "\n",
        "  for node in nodes:\n",
        "    neighbors_list = list(nx.neighbors(G, node))\n",
        "\n",
        "    # We only sample the (ratio * number of neighbors) neighbors\n",
        "    num = int(len(neighbors_list) * ratio)\n",
        "\n",
        "    if num > 0:\n",
        "      # Random shuffle the neighbors\n",
        "      random.shuffle(neighbors_list)\n",
        "      neighbors_list = neighbors_list[:num]\n",
        "      for neighbor in neighbors_list:\n",
        "        # Add neighbors\n",
        "        neighbors.add(neighbor)\n",
        "        edges.append((neighbor, node))\n",
        "  return neighbors, neighbors.union(all_nodes), edges"
      ],
      "metadata": {
        "id": "6DqXI5NHiZjT"
      },
      "execution_count": 36,
      "outputs": []
    },
    {
      "cell_type": "code",
      "source": [
        "def nodes_to_tensor(nodes):\n",
        "  # This function transform a set of nodes to node index tensor.\n",
        "  node_label_index = torch.tensor(list(nodes), dtype=torch.long)\n",
        "  return node_label_index"
      ],
      "metadata": {
        "id": "6qSn5J1WjtNh"
      },
      "execution_count": 37,
      "outputs": []
    },
    {
      "cell_type": "code",
      "source": [
        "def edges_to_tensor(edges):\n",
        "  # This function transform a set of edges to edge index tensor\n",
        "  edge_index = torch.tensor(list(edges),dtype=torch.long)\n",
        "  edge_index = torch.cat([edge_index, torch.flip(edge_index, [1])], dim=0)\n",
        "  edge_index = edge_index.permute(1, 0)\n",
        "  return edge_index"
      ],
      "metadata": {
        "id": "HXoYH1UGj5A0"
      },
      "execution_count": 38,
      "outputs": []
    },
    {
      "cell_type": "code",
      "source": [
        "def relable(nodes, labeled_nodes, edges_list):\n",
        "    # Relable the nodes, labeled_nodes and edges_list\n",
        "    relabled_edges_list = []\n",
        "    sorted_nodes = sorted(nodes)\n",
        "    node_mapping = {node : i for i, node in enumerate(sorted_nodes)}\n",
        "    for orig_edges in edges_list:\n",
        "        relabeled_edges = []\n",
        "        for edge in orig_edges:\n",
        "            relabeled_edges.append((node_mapping[edge[0]], node_mapping[edge[1]]))\n",
        "        relabled_edges_list.append(relabeled_edges)\n",
        "    relabeled_labeled_nodes = [node_mapping[node] for node in labeled_nodes]\n",
        "    relabeled_nodes = [node_mapping[node] for node in nodes]\n",
        "    return relabled_edges_list, relabeled_nodes, relabeled_labeled_nodes"
      ],
      "metadata": {
        "id": "_LOBuWqdlbLt"
      },
      "execution_count": 39,
      "outputs": []
    },
    {
      "cell_type": "code",
      "source": [
        "def neighbor_sampling(graph, K=2, ratios=(0.1, 0.1, 0.1)):\n",
        "    # This function takes a DeepSNAP graph, K the number of GNN layers, and neighbor \n",
        "    # sampling ratios for each layer. This function returns relabeled node feature, \n",
        "    # edge indices and node_label_index\n",
        "\n",
        "    assert K + 1 == len(ratios)\n",
        "\n",
        "    labeled_nodes = graph.node_label_index.tolist()\n",
        "    random.shuffle(labeled_nodes)\n",
        "    num = int(len(labeled_nodes) * ratios[-1])\n",
        "    if num > 0:\n",
        "        labeled_nodes = labeled_nodes[:num]\n",
        "    nodes_list = [set(labeled_nodes)]\n",
        "    edges_list = []\n",
        "    all_nodes = labeled_nodes\n",
        "    for k in range(K):\n",
        "        # Get nodes and edges from the previous layer\n",
        "        nodes, all_nodes, edges = \\\n",
        "            sample_neighbors(nodes_list[-1], graph.G, ratios[len(ratios) - k - 2], all_nodes)\n",
        "        nodes_list.append(nodes)\n",
        "        edges_list.append(edges)\n",
        "    \n",
        "    # Reverse the lists\n",
        "    nodes_list.reverse()\n",
        "    edges_list.reverse()\n",
        "\n",
        "    relabled_edges_list, relabeled_all_nodes, relabeled_labeled_nodes = \\\n",
        "        relable(all_nodes, labeled_nodes, edges_list)\n",
        "\n",
        "    node_index = nodes_to_tensor(relabeled_all_nodes)\n",
        "    # All node features that will be used\n",
        "    node_feature = graph.node_feature[node_index]\n",
        "    edge_indices = [edges_to_tensor(edges) for edges in relabled_edges_list]\n",
        "    node_label_index = nodes_to_tensor(relabeled_labeled_nodes)\n",
        "    log = \"Sampled {} nodes, {} edges, {} labeled nodes\"\n",
        "    print(log.format(node_feature.shape[0], edge_indices[0].shape[1] // 2, node_label_index.shape[0]))\n",
        "    return node_feature, edge_indices, node_label_index"
      ],
      "metadata": {
        "id": "AjWxe7wakJxx"
      },
      "execution_count": 40,
      "outputs": []
    },
    {
      "cell_type": "code",
      "source": [
        ""
      ],
      "metadata": {
        "id": "bX1XC1dqiZlf"
      },
      "execution_count": null,
      "outputs": []
    },
    {
      "cell_type": "markdown",
      "metadata": {
        "id": "ooy6Hcf7TIhI"
      },
      "source": [
        "## Training and Testing"
      ]
    },
    {
      "cell_type": "code",
      "metadata": {
        "id": "iSmZhpzPTGPY"
      },
      "source": [
        "def train(train_graphs, val_graphs, args, model, optimizer, mode=\"batch\"):\n",
        "    best_val = 0\n",
        "    best_model = None\n",
        "    accs = []\n",
        "    graph_train = train_graphs[0]\n",
        "    graph_train.to(args['device'])\n",
        "    for epoch in range(1, 1 + args['epochs']):\n",
        "        model.train()\n",
        "        optimizer.zero_grad()\n",
        "        if mode == \"batch\":\n",
        "            node_feature, edge_indices, node_label_index = neighbor_sampling(graph_train, args['num_layers'], args['ratios'])\n",
        "            node_feature = node_feature.to(args['device'])\n",
        "            node_label_index = node_label_index.to(args['device'])\n",
        "            for i in range(len(edge_indices)):\n",
        "                edge_indices[i] = edge_indices[i].to(args['device'])\n",
        "            pred = model([edge_indices, node_feature])\n",
        "            pred = pred[node_label_index]\n",
        "            label = graph_train.node_label[node_label_index]\n",
        "        elif mode == \"community\":\n",
        "            graph = random.choice(train_graphs)\n",
        "            graph = graph.to(args['device'])\n",
        "            pred = model(graph, mode=\"all\")\n",
        "            pred = pred[graph.node_label_index]\n",
        "            label = graph.node_label[graph.node_label_index]\n",
        "        else:\n",
        "            pred = model(graph_train, mode=\"all\")\n",
        "            label = graph_train.node_label\n",
        "            pred = pred[graph_train.node_label_index]\n",
        "        loss = F.nll_loss(pred, label)\n",
        "        loss.backward()\n",
        "        optimizer.step()\n",
        "\n",
        "        train_acc, val_acc, test_acc = test(val_graphs, model)\n",
        "        accs.append((train_acc, val_acc, test_acc))\n",
        "        if val_acc > best_val:\n",
        "            best_val = val_acc\n",
        "            best_model = copy.deepcopy(model)\n",
        "        print(f'Epoch: {epoch:02d}, '\n",
        "              f'Loss: {loss:.4f}, '\n",
        "              f'Train: {100 * train_acc:.2f}%, '\n",
        "              f'Valid: {100 * val_acc:.2f}% '\n",
        "              f'Test: {100 * test_acc:.2f}%')\n",
        "    return best_model, accs\n",
        "\n",
        "def test(graphs, model):\n",
        "    model.eval()\n",
        "    accs = []\n",
        "    for graph in graphs:\n",
        "        graph = graph.to(args['device'])\n",
        "        pred = model(graph, mode=\"all\")\n",
        "        label = graph.node_label\n",
        "        pred = pred[graph.node_label_index].max(1)[1]\n",
        "        acc = pred.eq(label).sum().item()\n",
        "        acc /= len(label)\n",
        "        accs.append(acc)\n",
        "    return accs"
      ],
      "execution_count": 41,
      "outputs": []
    },
    {
      "cell_type": "code",
      "source": [
        ""
      ],
      "metadata": {
        "id": "UfXvt-ballYq"
      },
      "execution_count": null,
      "outputs": []
    },
    {
      "cell_type": "code",
      "source": [
        ""
      ],
      "metadata": {
        "id": "xuuJ0kt0llbU"
      },
      "execution_count": null,
      "outputs": []
    },
    {
      "cell_type": "code",
      "source": [
        ""
      ],
      "metadata": {
        "id": "bUuoW9XOllkR"
      },
      "execution_count": null,
      "outputs": []
    },
    {
      "cell_type": "code",
      "metadata": {
        "id": "HV7i0v0ETKzf"
      },
      "source": [
        "args = {\n",
        "    'device': torch.device('cuda' if torch.cuda.is_available() else 'cpu'),\n",
        "    'dropout': 0.5,\n",
        "    'num_layers': 2,\n",
        "    'hidden_size': 64,\n",
        "    'lr': 0.005,\n",
        "    'epochs': 50,\n",
        "    'ratios': (0.8, 0.8, 1),\n",
        "}"
      ],
      "execution_count": 42,
      "outputs": []
    },
    {
      "cell_type": "markdown",
      "metadata": {
        "id": "rLpRYKbnTQnj"
      },
      "source": [
        "## Full-Batch Training"
      ]
    },
    {
      "cell_type": "code",
      "metadata": {
        "id": "pMGGjbJBTOo1",
        "colab": {
          "base_uri": "https://localhost:8080/"
        },
        "outputId": "f99730d3-2b63-422d-c98c-68dc8282ffe2"
      },
      "source": [
        "graphs_train, graphs_val, graphs_test = \\\n",
        "    GraphDataset.pyg_to_graphs(pyg_dataset, verbose=True, fixed_split=True)\n",
        "\n",
        "graph_train = graphs_train[0]\n",
        "graph_val = graphs_val[0]\n",
        "graph_test = graphs_test[0]\n",
        "\n",
        "model = GNN(graph_train.num_node_features, args['hidden_size'], graph_train.num_node_labels, args).to(args['device'])\n",
        "optimizer = torch.optim.Adam(model.parameters(), lr=args['lr'])\n",
        "graphs = [graph_train, graph_val, graph_test]\n",
        "all_best_model, all_accs = train(graphs, graphs, args, model, optimizer, mode=\"all\")\n",
        "train_acc, val_acc, test_acc = test([graph_train, graph_val, graph_test], all_best_model)\n",
        "print('Best model:',\n",
        "      f'Train: {100 * train_acc:.2f}%, '\n",
        "      f'Valid: {100 * val_acc:.2f}% '\n",
        "      f'Test: {100 * test_acc:.2f}%')"
      ],
      "execution_count": 43,
      "outputs": [
        {
          "output_type": "stream",
          "name": "stdout",
          "text": [
            "Index fields: val_mask ignored.\n",
            "Index fields: test_mask ignored.\n",
            "Index fields: train_mask ignored.\n",
            "Epoch: 01, Loss: 2.0434, Train: 58.57%, Valid: 32.20% Test: 31.40%\n",
            "Epoch: 02, Loss: 1.1647, Train: 93.57%, Valid: 42.00% Test: 42.30%\n",
            "Epoch: 03, Loss: 0.6616, Train: 98.57%, Valid: 50.40% Test: 51.00%\n",
            "Epoch: 04, Loss: 0.3845, Train: 100.00%, Valid: 56.80% Test: 57.50%\n",
            "Epoch: 05, Loss: 0.1747, Train: 100.00%, Valid: 61.00% Test: 62.50%\n",
            "Epoch: 06, Loss: 0.0901, Train: 100.00%, Valid: 63.40% Test: 66.30%\n",
            "Epoch: 07, Loss: 0.0441, Train: 100.00%, Valid: 65.60% Test: 68.30%\n",
            "Epoch: 08, Loss: 0.0305, Train: 100.00%, Valid: 66.40% Test: 71.30%\n",
            "Epoch: 09, Loss: 0.0149, Train: 100.00%, Valid: 67.40% Test: 72.10%\n",
            "Epoch: 10, Loss: 0.0085, Train: 100.00%, Valid: 67.60% Test: 72.40%\n",
            "Epoch: 11, Loss: 0.0058, Train: 100.00%, Valid: 68.80% Test: 72.90%\n",
            "Epoch: 12, Loss: 0.0055, Train: 100.00%, Valid: 70.20% Test: 73.30%\n",
            "Epoch: 13, Loss: 0.0027, Train: 100.00%, Valid: 70.80% Test: 73.50%\n",
            "Epoch: 14, Loss: 0.0010, Train: 100.00%, Valid: 71.20% Test: 74.20%\n",
            "Epoch: 15, Loss: 0.0020, Train: 100.00%, Valid: 71.60% Test: 74.70%\n",
            "Epoch: 16, Loss: 0.0016, Train: 100.00%, Valid: 71.80% Test: 74.80%\n",
            "Epoch: 17, Loss: 0.0076, Train: 100.00%, Valid: 71.80% Test: 75.10%\n",
            "Epoch: 18, Loss: 0.0068, Train: 100.00%, Valid: 71.80% Test: 75.50%\n",
            "Epoch: 19, Loss: 0.0017, Train: 100.00%, Valid: 71.80% Test: 76.10%\n",
            "Epoch: 20, Loss: 0.0042, Train: 100.00%, Valid: 72.00% Test: 75.80%\n",
            "Epoch: 21, Loss: 0.0053, Train: 100.00%, Valid: 72.40% Test: 76.10%\n",
            "Epoch: 22, Loss: 0.0013, Train: 100.00%, Valid: 72.80% Test: 76.20%\n",
            "Epoch: 23, Loss: 0.0001, Train: 100.00%, Valid: 73.00% Test: 76.30%\n",
            "Epoch: 24, Loss: 0.0004, Train: 100.00%, Valid: 73.20% Test: 76.40%\n",
            "Epoch: 25, Loss: 0.0003, Train: 100.00%, Valid: 73.60% Test: 76.40%\n",
            "Epoch: 26, Loss: 0.0003, Train: 100.00%, Valid: 73.40% Test: 76.20%\n",
            "Epoch: 27, Loss: 0.0004, Train: 100.00%, Valid: 73.40% Test: 76.10%\n",
            "Epoch: 28, Loss: 0.0003, Train: 100.00%, Valid: 73.80% Test: 76.20%\n",
            "Epoch: 29, Loss: 0.0002, Train: 100.00%, Valid: 74.00% Test: 76.20%\n",
            "Epoch: 30, Loss: 0.0007, Train: 100.00%, Valid: 74.00% Test: 76.10%\n",
            "Epoch: 31, Loss: 0.0003, Train: 100.00%, Valid: 74.20% Test: 76.10%\n",
            "Epoch: 32, Loss: 0.0001, Train: 100.00%, Valid: 74.20% Test: 76.20%\n",
            "Epoch: 33, Loss: 0.0000, Train: 100.00%, Valid: 74.20% Test: 76.10%\n",
            "Epoch: 34, Loss: 0.0001, Train: 100.00%, Valid: 74.00% Test: 76.10%\n",
            "Epoch: 35, Loss: 0.0001, Train: 100.00%, Valid: 74.00% Test: 76.50%\n",
            "Epoch: 36, Loss: 0.0002, Train: 100.00%, Valid: 74.00% Test: 76.30%\n",
            "Epoch: 37, Loss: 0.0003, Train: 100.00%, Valid: 74.20% Test: 76.20%\n",
            "Epoch: 38, Loss: 0.0000, Train: 100.00%, Valid: 74.40% Test: 76.30%\n",
            "Epoch: 39, Loss: 0.0005, Train: 100.00%, Valid: 74.40% Test: 76.30%\n",
            "Epoch: 40, Loss: 0.0010, Train: 100.00%, Valid: 74.40% Test: 76.30%\n",
            "Epoch: 41, Loss: 0.0003, Train: 100.00%, Valid: 74.20% Test: 76.30%\n",
            "Epoch: 42, Loss: 0.0011, Train: 100.00%, Valid: 74.20% Test: 76.20%\n",
            "Epoch: 43, Loss: 0.0001, Train: 100.00%, Valid: 74.20% Test: 76.20%\n",
            "Epoch: 44, Loss: 0.0000, Train: 100.00%, Valid: 74.20% Test: 76.00%\n",
            "Epoch: 45, Loss: 0.0001, Train: 100.00%, Valid: 74.20% Test: 75.90%\n",
            "Epoch: 46, Loss: 0.0001, Train: 100.00%, Valid: 74.20% Test: 75.90%\n",
            "Epoch: 47, Loss: 0.0000, Train: 100.00%, Valid: 74.20% Test: 75.70%\n",
            "Epoch: 48, Loss: 0.0001, Train: 100.00%, Valid: 74.40% Test: 75.60%\n",
            "Epoch: 49, Loss: 0.0001, Train: 100.00%, Valid: 74.60% Test: 75.50%\n",
            "Epoch: 50, Loss: 0.0001, Train: 100.00%, Valid: 74.40% Test: 75.40%\n",
            "Best model: Train: 100.00%, Valid: 74.60% Test: 75.50%\n"
          ]
        }
      ]
    },
    {
      "cell_type": "markdown",
      "metadata": {
        "id": "JWkGiwB6Thr4"
      },
      "source": [
        "## Sampling with Ratios 0.8"
      ]
    },
    {
      "cell_type": "code",
      "metadata": {
        "id": "yWusJ9u3Tfhv",
        "colab": {
          "base_uri": "https://localhost:8080/"
        },
        "outputId": "8fb3d459-cb26-48f9-f0de-56433ac03a1b"
      },
      "source": [
        "args['ratios'] = (0.8, 0.8, 1)\n",
        "\n",
        "graphs_train, graphs_val, graphs_test = \\\n",
        "    GraphDataset.pyg_to_graphs(pyg_dataset, verbose=True, fixed_split=True)\n",
        "\n",
        "graph_train = graphs_train[0]\n",
        "graph_val = graphs_val[0]\n",
        "graph_test = graphs_test[0]\n",
        "\n",
        "model = GNN(graph_train.num_node_features, args['hidden_size'], graph_train.num_node_labels, args).to(args['device'])\n",
        "optimizer = torch.optim.Adam(model.parameters(), lr=args['lr'])\n",
        "graphs = [graph_train, graph_val, graph_test]\n",
        "batch_best_model, batch_accs = train(graphs, graphs, args, model, optimizer)\n",
        "train_acc, val_acc, test_acc = test([graph_train, graph_val, graph_test], batch_best_model)\n",
        "print('Best model:',\n",
        "      f'Train: {100 * train_acc:.2f}%, '\n",
        "      f'Valid: {100 * val_acc:.2f}% '\n",
        "      f'Test: {100 * test_acc:.2f}%')"
      ],
      "execution_count": 44,
      "outputs": [
        {
          "output_type": "stream",
          "name": "stdout",
          "text": [
            "Index fields: val_mask ignored.\n",
            "Index fields: test_mask ignored.\n",
            "Index fields: train_mask ignored.\n",
            "Sampled 1306 nodes, 1972 edges, 140 labeled nodes\n",
            "Epoch: 01, Loss: 2.0278, Train: 17.86%, Valid: 7.60% Test: 9.50%\n",
            "Sampled 1307 nodes, 1990 edges, 140 labeled nodes\n",
            "Epoch: 02, Loss: 1.6415, Train: 50.71%, Valid: 12.40% Test: 13.20%\n",
            "Sampled 1308 nodes, 2014 edges, 140 labeled nodes\n",
            "Epoch: 03, Loss: 1.3203, Train: 72.86%, Valid: 19.80% Test: 18.80%\n",
            "Sampled 1321 nodes, 2027 edges, 140 labeled nodes\n",
            "Epoch: 04, Loss: 1.1004, Train: 87.14%, Valid: 24.80% Test: 25.70%\n",
            "Sampled 1329 nodes, 2015 edges, 140 labeled nodes\n",
            "Epoch: 05, Loss: 0.8545, Train: 92.14%, Valid: 27.80% Test: 30.50%\n",
            "Sampled 1324 nodes, 1985 edges, 140 labeled nodes\n",
            "Epoch: 06, Loss: 0.6173, Train: 97.14%, Valid: 30.40% Test: 32.60%\n",
            "Sampled 1309 nodes, 1973 edges, 140 labeled nodes\n",
            "Epoch: 07, Loss: 0.4972, Train: 97.14%, Valid: 32.20% Test: 35.70%\n",
            "Sampled 1303 nodes, 1921 edges, 140 labeled nodes\n",
            "Epoch: 08, Loss: 0.3756, Train: 97.86%, Valid: 34.40% Test: 37.30%\n",
            "Sampled 1303 nodes, 1998 edges, 140 labeled nodes\n",
            "Epoch: 09, Loss: 0.2663, Train: 97.86%, Valid: 36.40% Test: 39.30%\n",
            "Sampled 1276 nodes, 1935 edges, 140 labeled nodes\n",
            "Epoch: 10, Loss: 0.2276, Train: 97.86%, Valid: 38.80% Test: 41.40%\n",
            "Sampled 1298 nodes, 1969 edges, 140 labeled nodes\n",
            "Epoch: 11, Loss: 0.1539, Train: 97.86%, Valid: 39.40% Test: 42.90%\n",
            "Sampled 1307 nodes, 2018 edges, 140 labeled nodes\n",
            "Epoch: 12, Loss: 0.1297, Train: 97.86%, Valid: 40.60% Test: 43.90%\n",
            "Sampled 1308 nodes, 2011 edges, 140 labeled nodes\n",
            "Epoch: 13, Loss: 0.1203, Train: 98.57%, Valid: 41.00% Test: 44.40%\n",
            "Sampled 1305 nodes, 1985 edges, 140 labeled nodes\n",
            "Epoch: 14, Loss: 0.1122, Train: 100.00%, Valid: 41.80% Test: 45.70%\n",
            "Sampled 1301 nodes, 1969 edges, 140 labeled nodes\n",
            "Epoch: 15, Loss: 0.0875, Train: 100.00%, Valid: 43.00% Test: 45.90%\n",
            "Sampled 1336 nodes, 1987 edges, 140 labeled nodes\n",
            "Epoch: 16, Loss: 0.0751, Train: 100.00%, Valid: 44.20% Test: 47.10%\n",
            "Sampled 1321 nodes, 2014 edges, 140 labeled nodes\n",
            "Epoch: 17, Loss: 0.0546, Train: 100.00%, Valid: 44.20% Test: 47.40%\n",
            "Sampled 1333 nodes, 2040 edges, 140 labeled nodes\n",
            "Epoch: 18, Loss: 0.0416, Train: 100.00%, Valid: 44.20% Test: 48.40%\n",
            "Sampled 1294 nodes, 1939 edges, 140 labeled nodes\n",
            "Epoch: 19, Loss: 0.0551, Train: 100.00%, Valid: 44.20% Test: 49.60%\n",
            "Sampled 1294 nodes, 1954 edges, 140 labeled nodes\n",
            "Epoch: 20, Loss: 0.0601, Train: 100.00%, Valid: 43.80% Test: 50.20%\n",
            "Sampled 1325 nodes, 1947 edges, 140 labeled nodes\n",
            "Epoch: 21, Loss: 0.0200, Train: 100.00%, Valid: 44.60% Test: 50.70%\n",
            "Sampled 1311 nodes, 1932 edges, 140 labeled nodes\n",
            "Epoch: 22, Loss: 0.0407, Train: 100.00%, Valid: 44.00% Test: 50.90%\n",
            "Sampled 1308 nodes, 1954 edges, 140 labeled nodes\n",
            "Epoch: 23, Loss: 0.0351, Train: 100.00%, Valid: 44.20% Test: 51.20%\n",
            "Sampled 1300 nodes, 1928 edges, 140 labeled nodes\n",
            "Epoch: 24, Loss: 0.0171, Train: 100.00%, Valid: 44.80% Test: 51.50%\n",
            "Sampled 1306 nodes, 1992 edges, 140 labeled nodes\n",
            "Epoch: 25, Loss: 0.0251, Train: 100.00%, Valid: 45.20% Test: 52.00%\n",
            "Sampled 1324 nodes, 2031 edges, 140 labeled nodes\n",
            "Epoch: 26, Loss: 0.0116, Train: 100.00%, Valid: 45.00% Test: 51.90%\n",
            "Sampled 1324 nodes, 1993 edges, 140 labeled nodes\n",
            "Epoch: 27, Loss: 0.0381, Train: 100.00%, Valid: 44.80% Test: 51.90%\n",
            "Sampled 1316 nodes, 1953 edges, 140 labeled nodes\n",
            "Epoch: 28, Loss: 0.0053, Train: 100.00%, Valid: 44.20% Test: 52.10%\n",
            "Sampled 1299 nodes, 2014 edges, 140 labeled nodes\n",
            "Epoch: 29, Loss: 0.0216, Train: 100.00%, Valid: 44.60% Test: 52.20%\n",
            "Sampled 1306 nodes, 1970 edges, 140 labeled nodes\n",
            "Epoch: 30, Loss: 0.0089, Train: 100.00%, Valid: 44.80% Test: 51.90%\n",
            "Sampled 1335 nodes, 1998 edges, 140 labeled nodes\n",
            "Epoch: 31, Loss: 0.0518, Train: 100.00%, Valid: 45.00% Test: 51.80%\n",
            "Sampled 1287 nodes, 1952 edges, 140 labeled nodes\n",
            "Epoch: 32, Loss: 0.0075, Train: 100.00%, Valid: 44.80% Test: 51.70%\n",
            "Sampled 1295 nodes, 1937 edges, 140 labeled nodes\n",
            "Epoch: 33, Loss: 0.0057, Train: 100.00%, Valid: 44.80% Test: 51.50%\n",
            "Sampled 1335 nodes, 2053 edges, 140 labeled nodes\n",
            "Epoch: 34, Loss: 0.0093, Train: 100.00%, Valid: 44.80% Test: 51.40%\n",
            "Sampled 1273 nodes, 1938 edges, 140 labeled nodes\n",
            "Epoch: 35, Loss: 0.0064, Train: 100.00%, Valid: 45.00% Test: 51.30%\n",
            "Sampled 1323 nodes, 2035 edges, 140 labeled nodes\n",
            "Epoch: 36, Loss: 0.0202, Train: 100.00%, Valid: 45.80% Test: 51.30%\n",
            "Sampled 1296 nodes, 1960 edges, 140 labeled nodes\n",
            "Epoch: 37, Loss: 0.0222, Train: 100.00%, Valid: 45.40% Test: 51.00%\n",
            "Sampled 1308 nodes, 1976 edges, 140 labeled nodes\n",
            "Epoch: 38, Loss: 0.0196, Train: 100.00%, Valid: 45.80% Test: 51.00%\n",
            "Sampled 1313 nodes, 2027 edges, 140 labeled nodes\n",
            "Epoch: 39, Loss: 0.0148, Train: 100.00%, Valid: 46.00% Test: 51.30%\n",
            "Sampled 1285 nodes, 1928 edges, 140 labeled nodes\n",
            "Epoch: 40, Loss: 0.0177, Train: 100.00%, Valid: 45.80% Test: 51.30%\n",
            "Sampled 1272 nodes, 1867 edges, 140 labeled nodes\n",
            "Epoch: 41, Loss: 0.0110, Train: 100.00%, Valid: 45.60% Test: 51.40%\n",
            "Sampled 1291 nodes, 1965 edges, 140 labeled nodes\n",
            "Epoch: 42, Loss: 0.0018, Train: 100.00%, Valid: 45.20% Test: 51.60%\n",
            "Sampled 1307 nodes, 1959 edges, 140 labeled nodes\n",
            "Epoch: 43, Loss: 0.0113, Train: 100.00%, Valid: 46.00% Test: 51.60%\n",
            "Sampled 1330 nodes, 1995 edges, 140 labeled nodes\n",
            "Epoch: 44, Loss: 0.0144, Train: 100.00%, Valid: 45.80% Test: 51.70%\n",
            "Sampled 1373 nodes, 2042 edges, 140 labeled nodes\n",
            "Epoch: 45, Loss: 0.0642, Train: 100.00%, Valid: 46.00% Test: 51.80%\n",
            "Sampled 1311 nodes, 2026 edges, 140 labeled nodes\n",
            "Epoch: 46, Loss: 0.0069, Train: 100.00%, Valid: 46.00% Test: 51.90%\n",
            "Sampled 1315 nodes, 1927 edges, 140 labeled nodes\n",
            "Epoch: 47, Loss: 0.0032, Train: 100.00%, Valid: 46.20% Test: 51.80%\n",
            "Sampled 1314 nodes, 1964 edges, 140 labeled nodes\n",
            "Epoch: 48, Loss: 0.0935, Train: 100.00%, Valid: 47.00% Test: 51.60%\n",
            "Sampled 1280 nodes, 1939 edges, 140 labeled nodes\n",
            "Epoch: 49, Loss: 0.0385, Train: 100.00%, Valid: 48.20% Test: 51.90%\n",
            "Sampled 1284 nodes, 1950 edges, 140 labeled nodes\n",
            "Epoch: 50, Loss: 0.0126, Train: 100.00%, Valid: 48.20% Test: 51.80%\n",
            "Best model: Train: 100.00%, Valid: 48.20% Test: 51.90%\n"
          ]
        }
      ]
    },
    {
      "cell_type": "markdown",
      "metadata": {
        "id": "w_FjkNHDT4c6"
      },
      "source": [
        "## Sampling with Ratios 0.3"
      ]
    },
    {
      "cell_type": "code",
      "metadata": {
        "id": "booJ6DASTjO4",
        "colab": {
          "base_uri": "https://localhost:8080/"
        },
        "outputId": "b3861725-af10-457b-921e-d88b97fb139c"
      },
      "source": [
        "# Change the ratio to 0.3\n",
        "args['ratios'] = (0.3, 0.3, 1)\n",
        "\n",
        "graphs_train, graphs_val, graphs_test = \\\n",
        "    GraphDataset.pyg_to_graphs(pyg_dataset, verbose=True, fixed_split=True)\n",
        "\n",
        "graph_train = graphs_train[0]\n",
        "graph_val = graphs_val[0]\n",
        "graph_test = graphs_test[0]\n",
        "\n",
        "model = GNN(graph_train.num_node_features, args['hidden_size'], graph_train.num_node_labels, args).to(args['device'])\n",
        "optimizer = torch.optim.Adam(model.parameters(), lr=args['lr'])\n",
        "graphs = [graph_train, graph_val, graph_test]\n",
        "batch_best_model, batch_accs_1 = train(graphs, graphs, args, model, optimizer)\n",
        "train_acc, val_acc, test_acc = test([graph_train, graph_val, graph_test], batch_best_model)\n",
        "print('Best model:',\n",
        "      f'Train: {100 * train_acc:.2f}%, '\n",
        "      f'Valid: {100 * val_acc:.2f}% '\n",
        "      f'Test: {100 * test_acc:.2f}%')"
      ],
      "execution_count": 45,
      "outputs": [
        {
          "output_type": "stream",
          "name": "stdout",
          "text": [
            "Index fields: val_mask ignored.\n",
            "Index fields: test_mask ignored.\n",
            "Index fields: train_mask ignored.\n",
            "Sampled 408 nodes, 208 edges, 140 labeled nodes\n",
            "Epoch: 01, Loss: 1.9813, Train: 14.29%, Valid: 16.20% Test: 14.90%\n",
            "Sampled 415 nodes, 230 edges, 140 labeled nodes\n",
            "Epoch: 02, Loss: 1.9956, Train: 15.00%, Valid: 16.00% Test: 14.90%\n",
            "Sampled 440 nodes, 249 edges, 140 labeled nodes\n",
            "Epoch: 03, Loss: 1.8779, Train: 16.43%, Valid: 16.20% Test: 15.00%\n",
            "Sampled 417 nodes, 239 edges, 140 labeled nodes\n",
            "Epoch: 04, Loss: 1.8178, Train: 17.86%, Valid: 16.40% Test: 15.10%\n",
            "Sampled 458 nodes, 266 edges, 140 labeled nodes\n",
            "Epoch: 05, Loss: 1.7818, Train: 22.86%, Valid: 16.40% Test: 15.70%\n",
            "Sampled 440 nodes, 258 edges, 140 labeled nodes\n",
            "Epoch: 06, Loss: 1.9198, Train: 30.71%, Valid: 17.00% Test: 16.30%\n",
            "Sampled 449 nodes, 254 edges, 140 labeled nodes\n",
            "Epoch: 07, Loss: 1.8868, Train: 34.29%, Valid: 17.80% Test: 17.00%\n",
            "Sampled 439 nodes, 257 edges, 140 labeled nodes\n",
            "Epoch: 08, Loss: 1.8153, Train: 38.57%, Valid: 19.40% Test: 18.10%\n",
            "Sampled 426 nodes, 238 edges, 140 labeled nodes\n",
            "Epoch: 09, Loss: 1.7954, Train: 45.71%, Valid: 22.40% Test: 20.60%\n",
            "Sampled 444 nodes, 248 edges, 140 labeled nodes\n",
            "Epoch: 10, Loss: 1.7739, Train: 52.14%, Valid: 24.00% Test: 23.60%\n",
            "Sampled 435 nodes, 247 edges, 140 labeled nodes\n",
            "Epoch: 11, Loss: 1.6756, Train: 52.14%, Valid: 29.00% Test: 28.30%\n",
            "Sampled 430 nodes, 249 edges, 140 labeled nodes\n",
            "Epoch: 12, Loss: 1.6684, Train: 58.57%, Valid: 30.40% Test: 30.70%\n",
            "Sampled 360 nodes, 168 edges, 140 labeled nodes\n",
            "Epoch: 13, Loss: 1.7119, Train: 56.43%, Valid: 31.80% Test: 32.70%\n",
            "Sampled 432 nodes, 238 edges, 140 labeled nodes\n",
            "Epoch: 14, Loss: 1.7243, Train: 55.00%, Valid: 31.20% Test: 34.80%\n",
            "Sampled 382 nodes, 185 edges, 140 labeled nodes\n",
            "Epoch: 15, Loss: 1.7389, Train: 57.14%, Valid: 30.80% Test: 35.70%\n",
            "Sampled 456 nodes, 287 edges, 140 labeled nodes\n",
            "Epoch: 16, Loss: 1.7034, Train: 56.43%, Valid: 29.60% Test: 35.70%\n",
            "Sampled 435 nodes, 242 edges, 140 labeled nodes\n",
            "Epoch: 17, Loss: 1.6825, Train: 57.86%, Valid: 28.80% Test: 34.60%\n",
            "Sampled 397 nodes, 214 edges, 140 labeled nodes\n",
            "Epoch: 18, Loss: 1.6553, Train: 57.14%, Valid: 26.80% Test: 33.50%\n",
            "Sampled 391 nodes, 203 edges, 140 labeled nodes\n",
            "Epoch: 19, Loss: 1.6203, Train: 55.71%, Valid: 26.60% Test: 32.60%\n",
            "Sampled 402 nodes, 207 edges, 140 labeled nodes\n",
            "Epoch: 20, Loss: 1.6601, Train: 54.29%, Valid: 27.00% Test: 32.20%\n",
            "Sampled 429 nodes, 241 edges, 140 labeled nodes\n",
            "Epoch: 21, Loss: 1.6196, Train: 54.29%, Valid: 26.20% Test: 32.40%\n",
            "Sampled 428 nodes, 245 edges, 140 labeled nodes\n",
            "Epoch: 22, Loss: 1.5502, Train: 55.00%, Valid: 27.00% Test: 31.60%\n",
            "Sampled 395 nodes, 217 edges, 140 labeled nodes\n",
            "Epoch: 23, Loss: 1.6167, Train: 55.71%, Valid: 26.60% Test: 30.90%\n",
            "Sampled 360 nodes, 154 edges, 140 labeled nodes\n",
            "Epoch: 24, Loss: 1.5538, Train: 53.57%, Valid: 25.80% Test: 30.30%\n",
            "Sampled 415 nodes, 232 edges, 140 labeled nodes\n",
            "Epoch: 25, Loss: 1.5115, Train: 54.29%, Valid: 26.40% Test: 30.60%\n",
            "Sampled 400 nodes, 205 edges, 140 labeled nodes\n",
            "Epoch: 26, Loss: 1.5440, Train: 55.00%, Valid: 26.00% Test: 31.70%\n",
            "Sampled 449 nodes, 262 edges, 140 labeled nodes\n",
            "Epoch: 27, Loss: 1.5077, Train: 56.43%, Valid: 28.20% Test: 32.50%\n",
            "Sampled 421 nodes, 229 edges, 140 labeled nodes\n",
            "Epoch: 28, Loss: 1.5189, Train: 57.14%, Valid: 31.00% Test: 33.20%\n",
            "Sampled 445 nodes, 282 edges, 140 labeled nodes\n",
            "Epoch: 29, Loss: 1.4874, Train: 57.86%, Valid: 32.00% Test: 34.10%\n",
            "Sampled 418 nodes, 238 edges, 140 labeled nodes\n",
            "Epoch: 30, Loss: 1.5051, Train: 59.29%, Valid: 33.00% Test: 34.30%\n",
            "Sampled 396 nodes, 213 edges, 140 labeled nodes\n",
            "Epoch: 31, Loss: 1.5871, Train: 60.71%, Valid: 34.20% Test: 35.30%\n",
            "Sampled 453 nodes, 272 edges, 140 labeled nodes\n",
            "Epoch: 32, Loss: 1.6213, Train: 62.86%, Valid: 35.00% Test: 36.40%\n",
            "Sampled 435 nodes, 267 edges, 140 labeled nodes\n",
            "Epoch: 33, Loss: 1.5380, Train: 63.57%, Valid: 36.60% Test: 37.10%\n",
            "Sampled 394 nodes, 209 edges, 140 labeled nodes\n",
            "Epoch: 34, Loss: 1.5317, Train: 62.14%, Valid: 37.20% Test: 37.30%\n",
            "Sampled 412 nodes, 213 edges, 140 labeled nodes\n",
            "Epoch: 35, Loss: 1.6102, Train: 62.14%, Valid: 37.40% Test: 38.50%\n",
            "Sampled 417 nodes, 244 edges, 140 labeled nodes\n",
            "Epoch: 36, Loss: 1.6359, Train: 63.57%, Valid: 37.80% Test: 39.30%\n",
            "Sampled 394 nodes, 205 edges, 140 labeled nodes\n",
            "Epoch: 37, Loss: 1.5506, Train: 65.00%, Valid: 38.20% Test: 40.00%\n",
            "Sampled 418 nodes, 237 edges, 140 labeled nodes\n",
            "Epoch: 38, Loss: 1.5337, Train: 65.00%, Valid: 37.80% Test: 40.60%\n",
            "Sampled 425 nodes, 242 edges, 140 labeled nodes\n",
            "Epoch: 39, Loss: 1.4269, Train: 65.00%, Valid: 38.20% Test: 41.20%\n",
            "Sampled 443 nodes, 264 edges, 140 labeled nodes\n",
            "Epoch: 40, Loss: 1.6313, Train: 65.71%, Valid: 38.00% Test: 41.20%\n",
            "Sampled 355 nodes, 166 edges, 140 labeled nodes\n",
            "Epoch: 41, Loss: 1.4053, Train: 63.57%, Valid: 36.40% Test: 40.90%\n",
            "Sampled 460 nodes, 277 edges, 140 labeled nodes\n",
            "Epoch: 42, Loss: 1.5056, Train: 63.57%, Valid: 36.40% Test: 41.00%\n",
            "Sampled 424 nodes, 242 edges, 140 labeled nodes\n",
            "Epoch: 43, Loss: 1.6128, Train: 63.57%, Valid: 36.00% Test: 41.60%\n",
            "Sampled 427 nodes, 234 edges, 140 labeled nodes\n",
            "Epoch: 44, Loss: 1.6827, Train: 64.29%, Valid: 35.40% Test: 40.40%\n",
            "Sampled 397 nodes, 209 edges, 140 labeled nodes\n",
            "Epoch: 45, Loss: 1.4653, Train: 65.00%, Valid: 34.60% Test: 40.00%\n",
            "Sampled 397 nodes, 209 edges, 140 labeled nodes\n",
            "Epoch: 46, Loss: 1.5585, Train: 65.00%, Valid: 34.20% Test: 40.10%\n",
            "Sampled 424 nodes, 232 edges, 140 labeled nodes\n",
            "Epoch: 47, Loss: 1.5677, Train: 65.71%, Valid: 34.40% Test: 39.90%\n",
            "Sampled 391 nodes, 197 edges, 140 labeled nodes\n",
            "Epoch: 48, Loss: 1.5513, Train: 66.43%, Valid: 36.00% Test: 39.20%\n",
            "Sampled 446 nodes, 273 edges, 140 labeled nodes\n",
            "Epoch: 49, Loss: 1.6022, Train: 66.43%, Valid: 36.80% Test: 39.70%\n",
            "Sampled 459 nodes, 275 edges, 140 labeled nodes\n",
            "Epoch: 50, Loss: 1.5311, Train: 65.71%, Valid: 37.00% Test: 41.50%\n",
            "Best model: Train: 65.00%, Valid: 38.20% Test: 40.00%\n"
          ]
        }
      ]
    },
    {
      "cell_type": "markdown",
      "metadata": {
        "id": "EePAvNlGUM2K"
      },
      "source": [
        "## Visualization"
      ]
    },
    {
      "cell_type": "code",
      "metadata": {
        "id": "7etNAkXAT55d",
        "colab": {
          "base_uri": "https://localhost:8080/",
          "height": 458
        },
        "outputId": "ef61ff56-ceb9-4774-b26e-83eec4b902e9"
      },
      "source": [
        "import numpy as np\n",
        "from matplotlib import pyplot as plt\n",
        "\n",
        "batch_results = np.array(batch_accs)\n",
        "batch_results_1 = np.array(batch_accs_1)\n",
        "all_results = np.array(all_accs)\n",
        "\n",
        "x = np.arange(1, 51)\n",
        "\n",
        "plt.figure(figsize=(9, 7))\n",
        "\n",
        "plt.plot(x, batch_results[:, 0], label=\"Batch 0.8 Train\")\n",
        "plt.plot(x, batch_results[:, 1], label=\"Batch 0.8 Validation\")\n",
        "plt.plot(x, batch_results[:, 2], label=\"Batch 0.8 Test\")\n",
        "plt.plot(x, batch_results_1[:, 0], label=\"Batch 0.3 Train\")\n",
        "plt.plot(x, batch_results_1[:, 1], label=\"Batch 0.3 Validation\")\n",
        "plt.plot(x, batch_results_1[:, 2], label=\"Batch 0.3 Test\")\n",
        "plt.plot(x, all_results[:, 0], label=\"All Train\")\n",
        "plt.plot(x, all_results[:, 1], label=\"All Validation\")\n",
        "plt.plot(x, all_results[:, 2], label=\"All Test\")\n",
        "plt.title('Model Accuracy')\n",
        "plt.ylabel('Accuracy')\n",
        "plt.xlabel('Epoch')\n",
        "plt.legend()\n",
        "plt.show()"
      ],
      "execution_count": 46,
      "outputs": [
        {
          "output_type": "display_data",
          "data": {
            "text/plain": [
              "<Figure size 648x504 with 1 Axes>"
            ],
            "image/png": "[encoded data removed]"
          },
          "metadata": {
            "needs_background": "light"
          }
        }
      ]
    },
    {
      "cell_type": "markdown",
      "metadata": {
        "id": "bkA7-0groq7q"
      },
      "source": [
        "Here all accuracies are evaluated on the full-batch mode."
      ]
    },
    {
      "cell_type": "markdown",
      "metadata": {
        "id": "Iee0U8KGURc8"
      },
      "source": [
        "# 3 Cluster Sampling\n",
        "\n",
        "Instead of the neighbor sampling, we can use another approach, subgraph (cluster) sampling, to scale up GNN. This approach is proposed in Cluster-GCN ([Chiang et al. (2019)](https://arxiv.org/abs/1905.07953)).\n",
        "\n",
        "In this section, we will implement vanilla Cluster-GCN and experiment with 3 different community partition algorithms.\n",
        "\n",
        "Notice that this section requires you have run the `Setup`, `GNN Model` and `Training and Testing` cells of the last section."
      ]
    },
    {
      "cell_type": "markdown",
      "metadata": {
        "id": "_BXjP79gUYir"
      },
      "source": [
        "## Setup"
      ]
    },
    {
      "cell_type": "code",
      "metadata": {
        "id": "UGQ_VKp8UOEm"
      },
      "source": [
        "import copy\n",
        "import torch\n",
        "import random\n",
        "import numpy as np\n",
        "import networkx as nx\n",
        "import torch.nn as nn\n",
        "import torch.nn.functional as F\n",
        "import community as community_louvain\n",
        "\n",
        "from torch_geometric.nn import SAGEConv\n",
        "from torch.utils.data import DataLoader\n",
        "from torch_geometric.datasets import Planetoid\n",
        "from torch.nn import Sequential, Linear, ReLU\n",
        "from deepsnap.dataset import GraphDataset\n",
        "from deepsnap.graph import Graph\n",
        "\n",
        "pyg_dataset = Planetoid('./tmp', \"Cora\")"
      ],
      "execution_count": 47,
      "outputs": []
    },
    {
      "cell_type": "code",
      "metadata": {
        "id": "bzMatyCSUaB6"
      },
      "source": [
        "args = {\n",
        "    'device': torch.device('cuda' if torch.cuda.is_available() else 'cpu'),\n",
        "    'dropout': 0.5,\n",
        "    'num_layers': 2,\n",
        "    'hidden_size': 64,\n",
        "    'lr': 0.005,\n",
        "    'epochs': 150,\n",
        "}"
      ],
      "execution_count": 48,
      "outputs": []
    },
    {
      "cell_type": "markdown",
      "metadata": {
        "id": "ekV-sokSUeLc"
      },
      "source": [
        "## Partition the Graph into Clusters\n",
        "\n",
        "Here we use following three community detection / partition algorithms to partition the graph into different clusters:\n",
        "* [Kernighan–Lin algorithm (bisection)](https://networkx.org/documentation/stable/reference/algorithms/generated/networkx.algorithms.community.kernighan_lin.kernighan_lin_bisection.html)\n",
        "* [Clauset-Newman-Moore greedy modularity maximization](https://networkx.org/documentation/stable/reference/algorithms/generated/networkx.algorithms.community.modularity_max.greedy_modularity_communities.html#networkx.algorithms.community.modularity_max.greedy_modularity_communities)\n",
        "* [Louvain algorithm](https://python-louvain.readthedocs.io/en/latest/api.html)\n",
        "\n",
        "\n",
        "To make the training more stable, we discard the cluster that has less than 10 nodes.\n",
        "\n",
        "Let's first define these algorithms as DeepSNAP transformation on a graph."
      ]
    },
    {
      "cell_type": "code",
      "metadata": {
        "id": "N8XeT005UcKh"
      },
      "source": [
        "def preprocess(G, node_label_index, method=\"louvain\"):\n",
        "    graphs = []\n",
        "    labeled_nodes = set(node_label_index.tolist())\n",
        "    if method == \"louvain\":\n",
        "        community_mapping = community_louvain.best_partition(G, resolution=10)\n",
        "        communities = {}\n",
        "        for node in community_mapping:\n",
        "            comm = community_mapping[node]\n",
        "            if comm in communities:\n",
        "                communities[comm].add(node)\n",
        "            else:\n",
        "                communities[comm] = set([node])\n",
        "        communities = communities.values()\n",
        "    elif method == \"bisection\":\n",
        "        communities = nx.algorithms.community.kernighan_lin_bisection(G)\n",
        "    elif method == \"greedy\":\n",
        "        communities = nx.algorithms.community.greedy_modularity_communities(G)\n",
        "\n",
        "    for community in communities:\n",
        "        nodes = set(community)\n",
        "        subgraph = G.subgraph(nodes)\n",
        "        # Make sure each subgraph has more than 10 nodes\n",
        "        if subgraph.number_of_nodes() > 10:\n",
        "            node_mapping = {node : i for i, node in enumerate(subgraph.nodes())}\n",
        "            subgraph = nx.relabel_nodes(subgraph, node_mapping)\n",
        "            # Get the id of the training set labeled node in the new graph\n",
        "            train_label_index = []\n",
        "            for node in labeled_nodes:\n",
        "                if node in node_mapping:\n",
        "                    # Append relabeled labeled node index\n",
        "                    train_label_index.append(node_mapping[node])\n",
        "\n",
        "            # Make sure the subgraph contains at least one training set labeled node\n",
        "            if len(train_label_index) > 0:\n",
        "                dg = Graph(subgraph)\n",
        "                # Update node_label_index\n",
        "                dg.node_label_index = torch.tensor(train_label_index, dtype=torch.long)\n",
        "                graphs.append(dg)\n",
        "    return graphs"
      ],
      "execution_count": 49,
      "outputs": []
    },
    {
      "cell_type": "markdown",
      "metadata": {
        "id": "7CYEamCAU-TJ"
      },
      "source": [
        "## Louvain Preprocess"
      ]
    },
    {
      "cell_type": "code",
      "metadata": {
        "id": "-TrC6ybWU7eO",
        "colab": {
          "base_uri": "https://localhost:8080/",
          "height": 431
        },
        "outputId": "0c537f9f-ba1e-4559-dd0d-a2b00e08db74"
      },
      "source": [
        "graphs_train, graphs_val, graphs_test = \\\n",
        "    GraphDataset.pyg_to_graphs(pyg_dataset, verbose=True, fixed_split=True)\n",
        "\n",
        "graph_train = graphs_train[0]\n",
        "graph_val = graphs_val[0]\n",
        "graph_test = graphs_test[0]\n",
        "graphs = preprocess(graph_train.G, graph_train.node_label_index, method=\"louvain\")\n",
        "print(\"Partition the graph in to {} communities\".format(len(graphs)))\n",
        "avg_num_nodes = 0\n",
        "avg_num_edges = 0\n",
        "for graph in graphs:\n",
        "    avg_num_nodes += graph.num_nodes\n",
        "    avg_num_edges += graph.num_edges\n",
        "avg_num_nodes = int(avg_num_nodes / len(graphs))\n",
        "avg_num_edges = int(avg_num_edges / len(graphs))\n",
        "print(\"Each community has {} nodes in average\".format(avg_num_nodes))\n",
        "print(\"Each community has {} edges in average\".format(avg_num_edges))"
      ],
      "execution_count": 50,
      "outputs": [
        {
          "output_type": "stream",
          "name": "stdout",
          "text": [
            "Index fields: val_mask ignored.\n",
            "Index fields: test_mask ignored.\n",
            "Index fields: train_mask ignored.\n"
          ]
        },
        {
          "output_type": "error",
          "ename": "AttributeError",
          "evalue": "ignored",
          "traceback": [
            "\u001b[0;31m---------------------------------------------------------------------------\u001b[0m",
            "\u001b[0;31mAttributeError\u001b[0m                            Traceback (most recent call last)",
            "\u001b[0;32m<ipython-input-50-de32097bfaf8>\u001b[0m in \u001b[0;36m<module>\u001b[0;34m()\u001b[0m\n\u001b[1;32m      4\u001b[0m \u001b[0mgraph_val\u001b[0m \u001b[0;34m=\u001b[0m \u001b[0mgraphs_val\u001b[0m\u001b[0;34m[\u001b[0m\u001b[0;36m0\u001b[0m\u001b[0;34m]\u001b[0m\u001b[0;34m\u001b[0m\u001b[0;34m\u001b[0m\u001b[0m\n\u001b[1;32m      5\u001b[0m \u001b[0mgraph_test\u001b[0m \u001b[0;34m=\u001b[0m \u001b[0mgraphs_test\u001b[0m\u001b[0;34m[\u001b[0m\u001b[0;36m0\u001b[0m\u001b[0;34m]\u001b[0m\u001b[0;34m\u001b[0m\u001b[0;34m\u001b[0m\u001b[0m\n\u001b[0;32m----> 6\u001b[0;31m \u001b[0mgraphs\u001b[0m \u001b[0;34m=\u001b[0m \u001b[0mpreprocess\u001b[0m\u001b[0;34m(\u001b[0m\u001b[0mgraph_train\u001b[0m\u001b[0;34m.\u001b[0m\u001b[0mG\u001b[0m\u001b[0;34m,\u001b[0m \u001b[0mgraph_train\u001b[0m\u001b[0;34m.\u001b[0m\u001b[0mnode_label_index\u001b[0m\u001b[0;34m,\u001b[0m \u001b[0mmethod\u001b[0m\u001b[0;34m=\u001b[0m\u001b[0;34m\"louvain\"\u001b[0m\u001b[0;34m)\u001b[0m\u001b[0;34m\u001b[0m\u001b[0;34m\u001b[0m\u001b[0m\n\u001b[0m\u001b[1;32m      7\u001b[0m \u001b[0mprint\u001b[0m\u001b[0;34m(\u001b[0m\u001b[0;34m\"Partition the graph in to {} communities\"\u001b[0m\u001b[0;34m.\u001b[0m\u001b[0mformat\u001b[0m\u001b[0;34m(\u001b[0m\u001b[0mlen\u001b[0m\u001b[0;34m(\u001b[0m\u001b[0mgraphs\u001b[0m\u001b[0;34m)\u001b[0m\u001b[0;34m)\u001b[0m\u001b[0;34m)\u001b[0m\u001b[0;34m\u001b[0m\u001b[0;34m\u001b[0m\u001b[0m\n\u001b[1;32m      8\u001b[0m \u001b[0mavg_num_nodes\u001b[0m \u001b[0;34m=\u001b[0m \u001b[0;36m0\u001b[0m\u001b[0;34m\u001b[0m\u001b[0;34m\u001b[0m\u001b[0m\n",
            "\u001b[0;32m<ipython-input-49-871ae0854b2a>\u001b[0m in \u001b[0;36mpreprocess\u001b[0;34m(G, node_label_index, method)\u001b[0m\n\u001b[1;32m      3\u001b[0m     \u001b[0mlabeled_nodes\u001b[0m \u001b[0;34m=\u001b[0m \u001b[0mset\u001b[0m\u001b[0;34m(\u001b[0m\u001b[0mnode_label_index\u001b[0m\u001b[0;34m.\u001b[0m\u001b[0mtolist\u001b[0m\u001b[0;34m(\u001b[0m\u001b[0;34m)\u001b[0m\u001b[0;34m)\u001b[0m\u001b[0;34m\u001b[0m\u001b[0;34m\u001b[0m\u001b[0m\n\u001b[1;32m      4\u001b[0m     \u001b[0;32mif\u001b[0m \u001b[0mmethod\u001b[0m \u001b[0;34m==\u001b[0m \u001b[0;34m\"louvain\"\u001b[0m\u001b[0;34m:\u001b[0m\u001b[0;34m\u001b[0m\u001b[0;34m\u001b[0m\u001b[0m\n\u001b[0;32m----> 5\u001b[0;31m         \u001b[0mcommunity_mapping\u001b[0m \u001b[0;34m=\u001b[0m \u001b[0mcommunity_louvain\u001b[0m\u001b[0;34m.\u001b[0m\u001b[0mbest_partition\u001b[0m\u001b[0;34m(\u001b[0m\u001b[0mG\u001b[0m\u001b[0;34m,\u001b[0m \u001b[0mresolution\u001b[0m\u001b[0;34m=\u001b[0m\u001b[0;36m10\u001b[0m\u001b[0;34m)\u001b[0m\u001b[0;34m\u001b[0m\u001b[0;34m\u001b[0m\u001b[0m\n\u001b[0m\u001b[1;32m      6\u001b[0m         \u001b[0mcommunities\u001b[0m \u001b[0;34m=\u001b[0m \u001b[0;34m{\u001b[0m\u001b[0;34m}\u001b[0m\u001b[0;34m\u001b[0m\u001b[0;34m\u001b[0m\u001b[0m\n\u001b[1;32m      7\u001b[0m         \u001b[0;32mfor\u001b[0m \u001b[0mnode\u001b[0m \u001b[0;32min\u001b[0m \u001b[0mcommunity_mapping\u001b[0m\u001b[0;34m:\u001b[0m\u001b[0;34m\u001b[0m\u001b[0;34m\u001b[0m\u001b[0m\n",
            "\u001b[0;31mAttributeError\u001b[0m: module 'community' has no attribute 'best_partition'"
          ]
        }
      ]
    },
    {
      "cell_type": "markdown",
      "metadata": {
        "id": "O03uXIuGVIgJ"
      },
      "source": [
        "## Louvain Training"
      ]
    },
    {
      "cell_type": "code",
      "metadata": {
        "id": "iSbGf5ADVFQq"
      },
      "source": [
        "model = GNN(graph_train.num_node_features, args['hidden_size'], graph_train.num_node_labels, args).to(args['device'])\n",
        "optimizer = torch.optim.Adam(model.parameters(), lr=args['lr'])\n",
        "louvain_best_model, louvain_accs = train(graphs, [graph_train, graph_val, graph_test], args, model, optimizer, mode=\"community\")\n",
        "train_acc, val_acc, test_acc = test([graph_train, graph_val, graph_test], louvain_best_model)\n",
        "print('Best model:',\n",
        "      f'Train: {100 * train_acc:.2f}%, '\n",
        "      f'Valid: {100 * val_acc:.2f}% '\n",
        "      f'Test: {100 * test_acc:.2f}%')"
      ],
      "execution_count": null,
      "outputs": []
    },
    {
      "cell_type": "markdown",
      "metadata": {
        "id": "6CvTf0ANVO9U"
      },
      "source": [
        "## Bisection Preprocess"
      ]
    },
    {
      "cell_type": "code",
      "metadata": {
        "id": "HkV0zlhgVJ7u"
      },
      "source": [
        "graphs_train, graphs_val, graphs_test = \\\n",
        "    GraphDataset.pyg_to_graphs(pyg_dataset, verbose=True, fixed_split=True)\n",
        "\n",
        "graph_train = graphs_train[0]\n",
        "graph_val = graphs_val[0]\n",
        "graph_test = graphs_test[0]\n",
        "graphs = preprocess(graph_train.G, graph_train.node_label_index, method=\"bisection\")\n",
        "print(\"Partition the graph in to {} communities\".format(len(graphs)))\n",
        "avg_num_nodes = 0\n",
        "avg_num_edges = 0\n",
        "for graph in graphs:\n",
        "    avg_num_nodes += graph.num_nodes\n",
        "    avg_num_edges += graph.num_edges\n",
        "avg_num_nodes = int(avg_num_nodes / len(graphs))\n",
        "avg_num_edges = int(avg_num_edges / len(graphs))\n",
        "print(\"Each community has {} nodes in average\".format(avg_num_nodes))\n",
        "print(\"Each community has {} edges in average\".format(avg_num_edges))"
      ],
      "execution_count": null,
      "outputs": []
    },
    {
      "cell_type": "markdown",
      "metadata": {
        "id": "IqMCvP8wVVms"
      },
      "source": [
        "## Bisection Training"
      ]
    },
    {
      "cell_type": "code",
      "metadata": {
        "id": "k1wgFg1bVRGY"
      },
      "source": [
        "model = GNN(graph_train.num_node_features, args['hidden_size'], graph_train.num_node_labels, args).to(args['device'])\n",
        "optimizer = torch.optim.Adam(model.parameters(), lr=args['lr'])\n",
        "bisection_best_model, bisection_accs = train(graphs, [graph_train, graph_val, graph_test], args, model, optimizer, mode=\"community\")\n",
        "train_acc, val_acc, test_acc = test([graph_train, graph_val, graph_test], bisection_best_model)\n",
        "print('Best model:',\n",
        "      f'Train: {100 * train_acc:.2f}%, '\n",
        "      f'Valid: {100 * val_acc:.2f}% '\n",
        "      f'Test: {100 * test_acc:.2f}%')"
      ],
      "execution_count": null,
      "outputs": []
    },
    {
      "cell_type": "markdown",
      "metadata": {
        "id": "5PROPwoOVcJy"
      },
      "source": [
        "## Greedy Preprocess"
      ]
    },
    {
      "cell_type": "code",
      "metadata": {
        "id": "h3DVamWqVT92"
      },
      "source": [
        "graphs_train, graphs_val, graphs_test = \\\n",
        "    GraphDataset.pyg_to_graphs(pyg_dataset, verbose=True, fixed_split=True)\n",
        "\n",
        "graph_train = graphs_train[0]\n",
        "graph_val = graphs_val[0]\n",
        "graph_test = graphs_test[0]\n",
        "graphs = preprocess(graph_train.G, graph_train.node_label_index, method=\"greedy\")\n",
        "print(\"Partition the graph in to {} communities\".format(len(graphs)))\n",
        "avg_num_nodes = 0\n",
        "avg_num_edges = 0\n",
        "for graph in graphs:\n",
        "    avg_num_nodes += graph.num_nodes\n",
        "    avg_num_edges += graph.num_edges\n",
        "avg_num_nodes = int(avg_num_nodes / len(graphs))\n",
        "avg_num_edges = int(avg_num_edges / len(graphs))\n",
        "print(\"Each community has {} nodes in average\".format(avg_num_nodes))\n",
        "print(\"Each community has {} edges in average\".format(avg_num_edges))"
      ],
      "execution_count": null,
      "outputs": []
    },
    {
      "cell_type": "markdown",
      "metadata": {
        "id": "93pR_-kxVgma"
      },
      "source": [
        "## Greedy Training"
      ]
    },
    {
      "cell_type": "code",
      "metadata": {
        "id": "lQgQY-jPVd_U"
      },
      "source": [
        "model = GNN(graph_train.num_node_features, args['hidden_size'], graph_train.num_node_labels, args).to(args['device'])\n",
        "optimizer = torch.optim.Adam(model.parameters(), lr=args['lr'])\n",
        "greedy_best_model, greedy_accs = train(graphs, [graph_train, graph_val, graph_test], args, model, optimizer, mode=\"community\")\n",
        "train_acc, val_acc, test_acc = test([graph_train, graph_val, graph_test], greedy_best_model)\n",
        "print('Best model:',\n",
        "      f'Train: {100 * train_acc:.2f}%, '\n",
        "      f'Valid: {100 * val_acc:.2f}% '\n",
        "      f'Test: {100 * test_acc:.2f}%')"
      ],
      "execution_count": null,
      "outputs": []
    },
    {
      "cell_type": "markdown",
      "metadata": {
        "id": "D5edKKT6Vk1C"
      },
      "source": [
        "## Full-Batch Training"
      ]
    },
    {
      "cell_type": "code",
      "metadata": {
        "id": "N5tIXxC8ViFD"
      },
      "source": [
        "graphs_train, graphs_val, graphs_test = \\\n",
        "    GraphDataset.pyg_to_graphs(pyg_dataset, verbose=True, fixed_split=True)\n",
        "\n",
        "graph_train = graphs_train[0]\n",
        "graph_val = graphs_val[0]\n",
        "graph_test = graphs_test[0]\n",
        "\n",
        "model = GNN(graph_train.num_node_features, args['hidden_size'], graph_train.num_node_labels, args).to(args['device'])\n",
        "optimizer = torch.optim.Adam(model.parameters(), lr=args['lr'])\n",
        "graphs = [graph_train, graph_val, graph_test]\n",
        "all_best_model, all_accs = train(graphs, graphs, args, model, optimizer, mode=\"all\")\n",
        "train_acc, val_acc, test_acc = test([graph_train, graph_val, graph_test], all_best_model)\n",
        "print('Best model:',\n",
        "      f'Train: {100 * train_acc:.2f}%, '\n",
        "      f'Valid: {100 * val_acc:.2f}% '\n",
        "      f'Test: {100 * test_acc:.2f}%')"
      ],
      "execution_count": null,
      "outputs": []
    },
    {
      "cell_type": "markdown",
      "metadata": {
        "id": "6RpuETv7Vpx0"
      },
      "source": [
        "## Visualization"
      ]
    },
    {
      "cell_type": "code",
      "metadata": {
        "id": "PMK33kY5VmF5"
      },
      "source": [
        "import numpy as np\n",
        "from matplotlib import pyplot as plt\n",
        "\n",
        "louvain_results = np.array(louvain_accs)\n",
        "bisection_results = np.array(bisection_accs)\n",
        "greedy_results = np.array(greedy_accs)\n",
        "all_results = np.array(all_accs)\n",
        "\n",
        "x = np.arange(1, 151)\n",
        "\n",
        "plt.figure(figsize=(9, 7))\n",
        "\n",
        "plt.plot(x, louvain_results[:, 1], label=\"Louvain Validation\")\n",
        "plt.plot(x, louvain_results[:, 2], label=\"Louvain Test\")\n",
        "plt.plot(x, bisection_results[:, 1], label=\"Bisection Validation\")\n",
        "plt.plot(x, bisection_results[:, 2], label=\"Bisection Test\")\n",
        "plt.plot(x, greedy_results[:, 1], label=\"Greedy Validation\")\n",
        "plt.plot(x, greedy_results[:, 2], label=\"Greedy Test\")\n",
        "plt.plot(x, all_results[:, 1], label=\"All Validation\")\n",
        "plt.plot(x, all_results[:, 2], label=\"All Test\")\n",
        "plt.title('Model Accuracy')\n",
        "plt.ylabel('Accuracy')\n",
        "plt.xlabel('Epoch')\n",
        "plt.legend()\n",
        "plt.show()"
      ],
      "execution_count": null,
      "outputs": []
    }
  ]
}