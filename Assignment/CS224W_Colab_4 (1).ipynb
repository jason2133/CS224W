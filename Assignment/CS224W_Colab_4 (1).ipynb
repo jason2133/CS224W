{
  "nbformat": 4,
  "nbformat_minor": 0,
  "metadata": {
    "colab": {
      "name": "CS224W_Colab_4.ipynb",
      "provenance": [],
      "collapsed_sections": [],
      "machine_shape": "hm"
    },
    "kernelspec": {
      "display_name": "Python 3",
      "language": "python",
      "name": "python3"
    },
    "language_info": {
      "codemirror_mode": {
        "name": "ipython",
        "version": 3
      },
      "file_extension": ".py",
      "mimetype": "text/x-python",
      "name": "python",
      "nbconvert_exporter": "python",
      "pygments_lexer": "ipython3",
      "version": "3.7.3"
    },
    "accelerator": "GPU"
  },
  "cells": [
    {
      "cell_type": "markdown",
      "metadata": {
        "id": "XuXWJLEm2UWS"
      },
      "source": [
        "# **CS224W - Colab 4**"
      ]
    },
    {
      "cell_type": "markdown",
      "metadata": {
        "id": "8gzsP50bF6Gb"
      },
      "source": [
        "In this Colab, we will shift our focus from homogenous graphs to heterogeneous graphs. Heterogeneous graphs extend the traditional homogenous graphs that we have seen before by specifically incorperating different node and edge types. This additional information allows us to extend the graph neural nework models that we have worked with before. Namely, we can apply heterogenous message passing, where different message types now exist between different node, edge type relationships. \n",
        "\n",
        "At first, we will learn how to transform NetworkX graphs into DeepSNAP representations. Additionally, we will dive deeper into how DeepSNAP stores and represents heterogeneous graphs as PyTorch Tensors.\n",
        "\n",
        "Then, we will build our own heterogenous graph neural netowrk models using PyTorch Geonetric and DeepSNAP on node property prediction task. To evaluate these models, we will use our model on the heterogeneous ACM dataset.\n",
        "\n",
        "**Note**: Make sure to **sequentially run all the cells in each section**, so that the intermediate variables / packages will carry over to the next cell\n",
        "\n",
        "Have fun on Colab 4 :)"
      ]
    },
    {
      "cell_type": "markdown",
      "metadata": {
        "id": "MSaetj53YnT6"
      },
      "source": [
        "# Device\n",
        "You might need to use GPU for this Colab.\n",
        "\n",
        "Please click `Runtime` and then `Change runtime type`. Then set the `hardware accelerator` to **GPU**."
      ]
    },
    {
      "cell_type": "markdown",
      "metadata": {
        "id": "67gOQITlCNQi"
      },
      "source": [
        "# Installation"
      ]
    },
    {
      "cell_type": "code",
      "source": [
        "!nvidia-smi"
      ],
      "metadata": {
        "colab": {
          "base_uri": "https://localhost:8080/"
        },
        "id": "Jk9209iyqUCV",
        "outputId": "0370f2d2-34d9-40eb-da97-dbdf7548d585"
      },
      "execution_count": 1,
      "outputs": [
        {
          "output_type": "stream",
          "name": "stdout",
          "text": [
            "Sun Jul 24 05:23:56 2022       \n",
            "+-----------------------------------------------------------------------------+\n",
            "| NVIDIA-SMI 460.32.03    Driver Version: 460.32.03    CUDA Version: 11.2     |\n",
            "|-------------------------------+----------------------+----------------------+\n",
            "| GPU  Name        Persistence-M| Bus-Id        Disp.A | Volatile Uncorr. ECC |\n",
            "| Fan  Temp  Perf  Pwr:Usage/Cap|         Memory-Usage | GPU-Util  Compute M. |\n",
            "|                               |                      |               MIG M. |\n",
            "|===============================+======================+======================|\n",
            "|   0  Tesla T4            Off  | 00000000:00:04.0 Off |                    0 |\n",
            "| N/A   41C    P8    10W /  70W |      0MiB / 15109MiB |      0%      Default |\n",
            "|                               |                      |                  N/A |\n",
            "+-------------------------------+----------------------+----------------------+\n",
            "                                                                               \n",
            "+-----------------------------------------------------------------------------+\n",
            "| Processes:                                                                  |\n",
            "|  GPU   GI   CI        PID   Type   Process name                  GPU Memory |\n",
            "|        ID   ID                                                   Usage      |\n",
            "|=============================================================================|\n",
            "|  No running processes found                                                 |\n",
            "+-----------------------------------------------------------------------------+\n"
          ]
        }
      ]
    },
    {
      "cell_type": "code",
      "source": [
        "import torch\n",
        "print(\"PyTorch has version {}\".format(torch.__version__))"
      ],
      "metadata": {
        "colab": {
          "base_uri": "https://localhost:8080/"
        },
        "id": "6NU6XxtYqYBI",
        "outputId": "6cc02f96-6856-4201-d703-b167116b94eb"
      },
      "execution_count": 2,
      "outputs": [
        {
          "output_type": "stream",
          "name": "stdout",
          "text": [
            "PyTorch has version 1.12.0+cu113\n"
          ]
        }
      ]
    },
    {
      "cell_type": "code",
      "metadata": {
        "id": "J_m9l6OYCQZP"
      },
      "source": [
        "# !pip install -q torch-scatter -f https://pytorch-geometric.com/whl/torch-1.7.0+cu101.html\n",
        "# !pip install -q torch-sparse -f https://pytorch-geometric.com/whl/torch-1.7.0+cu101.html\n",
        "# !pip install -q torch-geometric\n",
        "# !pip install -q git+https://github.com/snap-stanford/deepsnap.git\n",
        "# !pip install -U -q PyDrive"
      ],
      "execution_count": null,
      "outputs": []
    },
    {
      "cell_type": "code",
      "source": [
        "!pip install -q torch-scatter -f https://pytorch-geometric.com/whl/torch-1.12.0+cu113.html\n",
        "!pip install -q torch-sparse -f https://pytorch-geometric.com/whl/torch-1.12.0+cu113.html\n",
        "!pip install -q torch-geometric"
      ],
      "metadata": {
        "colab": {
          "base_uri": "https://localhost:8080/"
        },
        "id": "yVDu0wLDqayd",
        "outputId": "09672aa3-9f7c-496c-8989-b27bff8665d5"
      },
      "execution_count": 3,
      "outputs": [
        {
          "output_type": "stream",
          "name": "stdout",
          "text": [
            "\u001b[K     |████████████████████████████████| 7.9 MB 35.7 MB/s \n",
            "\u001b[K     |████████████████████████████████| 3.5 MB 36.4 MB/s \n",
            "\u001b[K     |████████████████████████████████| 407 kB 34.2 MB/s \n",
            "\u001b[?25h  Building wheel for torch-geometric (setup.py) ... \u001b[?25l\u001b[?25hdone\n"
          ]
        }
      ]
    },
    {
      "cell_type": "code",
      "source": [
        "# Stanford DeepSNAP 설치\n",
        "\n",
        "!pip install -q git+https://github.com/snap-stanford/deepsnap.git\n",
        "!pip install -U -q PyDrive"
      ],
      "metadata": {
        "colab": {
          "base_uri": "https://localhost:8080/"
        },
        "id": "ghRdRIegqdGz",
        "outputId": "6217f931-7a2e-4b97-f421-f49fd187b67a"
      },
      "execution_count": 4,
      "outputs": [
        {
          "output_type": "stream",
          "name": "stdout",
          "text": [
            "  Building wheel for deepsnap (setup.py) ... \u001b[?25l\u001b[?25hdone\n"
          ]
        }
      ]
    },
    {
      "cell_type": "code",
      "metadata": {
        "id": "PRfgbfTjCRD_",
        "colab": {
          "base_uri": "https://localhost:8080/",
          "height": 35
        },
        "outputId": "c44f0c27-5430-48d0-f0f2-37754a28a2ff"
      },
      "source": [
        "import torch_geometric\n",
        "torch_geometric.__version__"
      ],
      "execution_count": 5,
      "outputs": [
        {
          "output_type": "execute_result",
          "data": {
            "text/plain": [
              "'2.0.4'"
            ],
            "application/vnd.google.colaboratory.intrinsic+json": {
              "type": "string"
            }
          },
          "metadata": {},
          "execution_count": 5
        }
      ]
    },
    {
      "cell_type": "markdown",
      "metadata": {
        "id": "ZoXlf4MtYrbz"
      },
      "source": [
        "# 1 DeepSNAP Heterogeneous Graph\n",
        "\n",
        "First, we will explore how to transform NetworkX graphs into the format supported by DeepSNAP. \n",
        "\n",
        "In order to extend the traditional DeepSNAP representation of graphs to include heterogenous graphs, we include the following graph property features:\n",
        "* `node_feature`: The feature of each node (`torch.tensor`)\n",
        "* `edge_feature`: The feautre of each edge (`torch.tensor`)\n",
        "* `node_label`: The label of each node (`int`)\n",
        "* `node_type`: The node type of each node (`string`)\n",
        "* `edge_type`: The edge type of each edge (`string`)\n",
        "\n",
        "The key new features we add are `node_type` and `edge_type`, which enables us to perform heterogenous message passing.\n",
        "\n",
        "In this first question we will work with the familiar [karate club graph](https://networkx.github.io/documentation/stable/auto_examples/graph/plot_karate_club.html) seen in assignment one. To start, since each node in the graph belongs to one of two clubs (club \"Mr. Hi\" or club \"Officer\"), we will treat the club as the `node_type`. The code below demonstrates how to differentiate the nodes in the NetworkX graph.\n"
      ]
    },
    {
      "cell_type": "code",
      "metadata": {
        "id": "8LQ_z5gcBVA1",
        "colab": {
          "base_uri": "https://localhost:8080/",
          "height": 535
        },
        "outputId": "3e362250-448e-4292-b590-bf51748c5ace"
      },
      "source": [
        "from pylab import *\n",
        "import networkx as nx\n",
        "from networkx.algorithms.community import greedy_modularity_communities\n",
        "import matplotlib.pyplot as plt\n",
        "import copy\n",
        "\n",
        "G = nx.karate_club_graph()\n",
        "community_map = {}\n",
        "for node in G.nodes(data=True):\n",
        "  if node[1][\"club\"] == \"Mr. Hi\":\n",
        "    community_map[node[0]] = 0\n",
        "  else:\n",
        "    community_map[node[0]] = 1\n",
        "node_color = []\n",
        "color_map = {0: 0, 1: 1}\n",
        "node_color = [color_map[community_map[node]] for node in G.nodes()]\n",
        "pos = nx.spring_layout(G)\n",
        "plt.figure(figsize=(7, 7))\n",
        "nx.draw(G, pos=pos, cmap=plt.get_cmap('coolwarm'), node_color=node_color)\n",
        "show()"
      ],
      "execution_count": 6,
      "outputs": [
        {
          "output_type": "display_data",
          "data": {
            "text/plain": [
              "<Figure size 504x504 with 1 Axes>"
            ],
            "image/png": "[encoded data removed]"
          },
          "metadata": {}
        }
      ]
    },
    {
      "cell_type": "code",
      "source": [
        "from pylab import *\n",
        "import networkx as nx\n",
        "from networkx.algorithms.community import greedy_modularity_communities\n",
        "import matplotlib.pyplot as plt\n",
        "import copy"
      ],
      "metadata": {
        "id": "PaPG4l4tsTY2"
      },
      "execution_count": 7,
      "outputs": []
    },
    {
      "cell_type": "code",
      "source": [
        "G = nx.karate_club_graph()\n",
        "community_map = {}\n",
        "\n",
        "for node in G.nodes(data=True):\n",
        "  if node[1]['club'] == 'Mr. Hi':\n",
        "    community_map[node[0]] = 0\n",
        "  else:\n",
        "    community_map[node[0]] = 1\n",
        "  \n",
        "node_color = []\n",
        "color_map = {0 : 0, 1 : 1}\n",
        "node_color = [color_map[community_map[node]] for node in G.nodes()]\n",
        "pos = nx.spring_layout(G)\n",
        "plt.figure(figsize=(7, 7))\n",
        "nx.draw(G, pos=pos, cmap=plt.get_cmap('coolwarm'), node_color=node_color)\n",
        "show()"
      ],
      "metadata": {
        "colab": {
          "base_uri": "https://localhost:8080/",
          "height": 535
        },
        "id": "Jqrds0lrsdtT",
        "outputId": "3d39fb27-04eb-4adc-f18c-9f876e4ec98e"
      },
      "execution_count": 9,
      "outputs": [
        {
          "output_type": "display_data",
          "data": {
            "text/plain": [
              "<Figure size 504x504 with 1 Axes>"
            ],
            "image/png": "[encoded data removed]"
          },
          "metadata": {}
        }
      ]
    },
    {
      "cell_type": "code",
      "source": [
        "print(community_map)"
      ],
      "metadata": {
        "colab": {
          "base_uri": "https://localhost:8080/"
        },
        "id": "q7DQXTOEv4nH",
        "outputId": "0b79998d-793a-48b5-8bdb-66dcbfe75b3c"
      },
      "execution_count": 11,
      "outputs": [
        {
          "output_type": "stream",
          "name": "stdout",
          "text": [
            "{0: 0, 1: 0, 2: 0, 3: 0, 4: 0, 5: 0, 6: 0, 7: 0, 8: 0, 9: 1, 10: 0, 11: 0, 12: 0, 13: 0, 14: 1, 15: 1, 16: 0, 17: 0, 18: 1, 19: 0, 20: 1, 21: 0, 22: 1, 23: 1, 24: 1, 25: 1, 26: 1, 27: 1, 28: 1, 29: 1, 30: 1, 31: 1, 32: 1, 33: 1}\n"
          ]
        }
      ]
    },
    {
      "cell_type": "code",
      "source": [
        "print(node[0])"
      ],
      "metadata": {
        "colab": {
          "base_uri": "https://localhost:8080/"
        },
        "id": "aYDiEM1lv8kZ",
        "outputId": "de35a585-cb3f-426a-b741-4b27d82ef85e"
      },
      "execution_count": 12,
      "outputs": [
        {
          "output_type": "stream",
          "name": "stdout",
          "text": [
            "33\n"
          ]
        }
      ]
    },
    {
      "cell_type": "code",
      "source": [
        "print(community_map[node[0]])"
      ],
      "metadata": {
        "colab": {
          "base_uri": "https://localhost:8080/"
        },
        "id": "9Nv-0d2Zv-Hi",
        "outputId": "dc5f6cb2-d180-4e80-9dd3-1ba1aac2c192"
      },
      "execution_count": 13,
      "outputs": [
        {
          "output_type": "stream",
          "name": "stdout",
          "text": [
            "1\n"
          ]
        }
      ]
    },
    {
      "cell_type": "code",
      "source": [
        "for node in G.nodes(data=True):\n",
        "  print(node)"
      ],
      "metadata": {
        "colab": {
          "base_uri": "https://localhost:8080/"
        },
        "id": "0yl70TuvwH_Z",
        "outputId": "1191539d-0613-4c52-f115-f7468c5ddc4d"
      },
      "execution_count": 15,
      "outputs": [
        {
          "output_type": "stream",
          "name": "stdout",
          "text": [
            "(0, {'club': 'Mr. Hi'})\n",
            "(1, {'club': 'Mr. Hi'})\n",
            "(2, {'club': 'Mr. Hi'})\n",
            "(3, {'club': 'Mr. Hi'})\n",
            "(4, {'club': 'Mr. Hi'})\n",
            "(5, {'club': 'Mr. Hi'})\n",
            "(6, {'club': 'Mr. Hi'})\n",
            "(7, {'club': 'Mr. Hi'})\n",
            "(8, {'club': 'Mr. Hi'})\n",
            "(9, {'club': 'Officer'})\n",
            "(10, {'club': 'Mr. Hi'})\n",
            "(11, {'club': 'Mr. Hi'})\n",
            "(12, {'club': 'Mr. Hi'})\n",
            "(13, {'club': 'Mr. Hi'})\n",
            "(14, {'club': 'Officer'})\n",
            "(15, {'club': 'Officer'})\n",
            "(16, {'club': 'Mr. Hi'})\n",
            "(17, {'club': 'Mr. Hi'})\n",
            "(18, {'club': 'Officer'})\n",
            "(19, {'club': 'Mr. Hi'})\n",
            "(20, {'club': 'Officer'})\n",
            "(21, {'club': 'Mr. Hi'})\n",
            "(22, {'club': 'Officer'})\n",
            "(23, {'club': 'Officer'})\n",
            "(24, {'club': 'Officer'})\n",
            "(25, {'club': 'Officer'})\n",
            "(26, {'club': 'Officer'})\n",
            "(27, {'club': 'Officer'})\n",
            "(28, {'club': 'Officer'})\n",
            "(29, {'club': 'Officer'})\n",
            "(30, {'club': 'Officer'})\n",
            "(31, {'club': 'Officer'})\n",
            "(32, {'club': 'Officer'})\n",
            "(33, {'club': 'Officer'})\n"
          ]
        }
      ]
    },
    {
      "cell_type": "code",
      "source": [
        "for node in G.nodes(data=True):\n",
        "  print(node[0])\n",
        "  print(node[1])\n",
        "  print('-' * 30)"
      ],
      "metadata": {
        "colab": {
          "base_uri": "https://localhost:8080/"
        },
        "id": "0rIIJYJcwPnX",
        "outputId": "621f99fa-18dc-4d74-97be-0c6cc3b8288b"
      },
      "execution_count": 21,
      "outputs": [
        {
          "output_type": "stream",
          "name": "stdout",
          "text": [
            "0\n",
            "{'club': 'Mr. Hi'}\n",
            "------------------------------\n",
            "1\n",
            "{'club': 'Mr. Hi'}\n",
            "------------------------------\n",
            "2\n",
            "{'club': 'Mr. Hi'}\n",
            "------------------------------\n",
            "3\n",
            "{'club': 'Mr. Hi'}\n",
            "------------------------------\n",
            "4\n",
            "{'club': 'Mr. Hi'}\n",
            "------------------------------\n",
            "5\n",
            "{'club': 'Mr. Hi'}\n",
            "------------------------------\n",
            "6\n",
            "{'club': 'Mr. Hi'}\n",
            "------------------------------\n",
            "7\n",
            "{'club': 'Mr. Hi'}\n",
            "------------------------------\n",
            "8\n",
            "{'club': 'Mr. Hi'}\n",
            "------------------------------\n",
            "9\n",
            "{'club': 'Officer'}\n",
            "------------------------------\n",
            "10\n",
            "{'club': 'Mr. Hi'}\n",
            "------------------------------\n",
            "11\n",
            "{'club': 'Mr. Hi'}\n",
            "------------------------------\n",
            "12\n",
            "{'club': 'Mr. Hi'}\n",
            "------------------------------\n",
            "13\n",
            "{'club': 'Mr. Hi'}\n",
            "------------------------------\n",
            "14\n",
            "{'club': 'Officer'}\n",
            "------------------------------\n",
            "15\n",
            "{'club': 'Officer'}\n",
            "------------------------------\n",
            "16\n",
            "{'club': 'Mr. Hi'}\n",
            "------------------------------\n",
            "17\n",
            "{'club': 'Mr. Hi'}\n",
            "------------------------------\n",
            "18\n",
            "{'club': 'Officer'}\n",
            "------------------------------\n",
            "19\n",
            "{'club': 'Mr. Hi'}\n",
            "------------------------------\n",
            "20\n",
            "{'club': 'Officer'}\n",
            "------------------------------\n",
            "21\n",
            "{'club': 'Mr. Hi'}\n",
            "------------------------------\n",
            "22\n",
            "{'club': 'Officer'}\n",
            "------------------------------\n",
            "23\n",
            "{'club': 'Officer'}\n",
            "------------------------------\n",
            "24\n",
            "{'club': 'Officer'}\n",
            "------------------------------\n",
            "25\n",
            "{'club': 'Officer'}\n",
            "------------------------------\n",
            "26\n",
            "{'club': 'Officer'}\n",
            "------------------------------\n",
            "27\n",
            "{'club': 'Officer'}\n",
            "------------------------------\n",
            "28\n",
            "{'club': 'Officer'}\n",
            "------------------------------\n",
            "29\n",
            "{'club': 'Officer'}\n",
            "------------------------------\n",
            "30\n",
            "{'club': 'Officer'}\n",
            "------------------------------\n",
            "31\n",
            "{'club': 'Officer'}\n",
            "------------------------------\n",
            "32\n",
            "{'club': 'Officer'}\n",
            "------------------------------\n",
            "33\n",
            "{'club': 'Officer'}\n",
            "------------------------------\n"
          ]
        }
      ]
    },
    {
      "cell_type": "markdown",
      "metadata": {
        "id": "1JpFb9fTw1lg"
      },
      "source": [
        "### Question 1.1: Assigning Node Type and Node Features (Not Specifically Graded)\n",
        "\n",
        "Using the `community_map` dictionary and graph `G` from above, add node attributes `node_type` and `node_label` to the graph G. Namely, for `node_type` assign nodes in the \"Mr. Hi\" club to a node type `n0` and nodes in club \"Officer\" a node type `n1`. \n",
        "\n",
        "Then for `node_label`, assign nodes in \"Mr. Hi\" club to a `node_label` `0` and nodes in club \"Officer\" a `node_label` of `1`.\n",
        "\n",
        "Lastly, assign every node a feature vector [1, 1, 1, 1, 1]. \n",
        "\n",
        "**Hint**: Look at the NetworkX function `nx.classes.function.set_node_attributes`.\n",
        "\n",
        "**Note**: This question is not specifically graded but is important for later questions."
      ]
    },
    {
      "cell_type": "code",
      "source": [
        "# community_map = {} : dictionary\n",
        "# Graph G\n",
        "\n",
        "# node 속성들 : node_type 및 node_label -> 그래프 G\n",
        "\n",
        "# node_type\n",
        "# 'Mr, Hi' -> n0\n",
        "# 'Officier' -> n1\n",
        "\n",
        "# node_label\n",
        "# 'Mr. Hi' -> node_label 0\n",
        "# 'Officer' -> node_label 1\n",
        "\n",
        "# assign every node a feature vector [1, 1, 1, 1, 1]\n",
        "\n",
        "# nx.classes.function.set_node_attributes"
      ],
      "metadata": {
        "id": "6uHfTPjosTbm"
      },
      "execution_count": 10,
      "outputs": []
    },
    {
      "cell_type": "code",
      "source": [
        "for node in G.nodes(data=True):\n",
        "  print(node[0])\n",
        "  print(node[1])\n",
        "  break"
      ],
      "metadata": {
        "colab": {
          "base_uri": "https://localhost:8080/"
        },
        "id": "vPSvWqO4wyFy",
        "outputId": "a5a49c6b-cd29-4805-a33e-7c5e8af60cfd"
      },
      "execution_count": 22,
      "outputs": [
        {
          "output_type": "stream",
          "name": "stdout",
          "text": [
            "0\n",
            "{'club': 'Mr. Hi'}\n"
          ]
        }
      ]
    },
    {
      "cell_type": "code",
      "source": [
        "for node in G.nodes(data=True):\n",
        "  print(community_map[node[0]])"
      ],
      "metadata": {
        "colab": {
          "base_uri": "https://localhost:8080/"
        },
        "id": "WeGBXNJVyOHP",
        "outputId": "4dfc7d1d-3b57-4ca1-c3e1-43cb7e27e3fe"
      },
      "execution_count": 23,
      "outputs": [
        {
          "output_type": "stream",
          "name": "stdout",
          "text": [
            "0\n",
            "0\n",
            "0\n",
            "0\n",
            "0\n",
            "0\n",
            "0\n",
            "0\n",
            "0\n",
            "1\n",
            "0\n",
            "0\n",
            "0\n",
            "0\n",
            "1\n",
            "1\n",
            "0\n",
            "0\n",
            "1\n",
            "0\n",
            "1\n",
            "0\n",
            "1\n",
            "1\n",
            "1\n",
            "1\n",
            "1\n",
            "1\n",
            "1\n",
            "1\n",
            "1\n",
            "1\n",
            "1\n",
            "1\n"
          ]
        }
      ]
    },
    {
      "cell_type": "code",
      "source": [
        "# Dictionary는 Key - Value 쌍 형태로 이루어진다.\n",
        "# 그래서 Value가 도출되는 것!\n",
        "\n",
        "print(community_map)"
      ],
      "metadata": {
        "colab": {
          "base_uri": "https://localhost:8080/"
        },
        "id": "rGhLelGPyVYT",
        "outputId": "562c61d6-fa53-4444-b45f-4307d75e2663"
      },
      "execution_count": 24,
      "outputs": [
        {
          "output_type": "stream",
          "name": "stdout",
          "text": [
            "{0: 0, 1: 0, 2: 0, 3: 0, 4: 0, 5: 0, 6: 0, 7: 0, 8: 0, 9: 1, 10: 0, 11: 0, 12: 0, 13: 0, 14: 1, 15: 1, 16: 0, 17: 0, 18: 1, 19: 0, 20: 1, 21: 0, 22: 1, 23: 1, 24: 1, 25: 1, 26: 1, 27: 1, 28: 1, 29: 1, 30: 1, 31: 1, 32: 1, 33: 1}\n"
          ]
        }
      ]
    },
    {
      "cell_type": "code",
      "metadata": {
        "id": "zev_hMJHJXK1"
      },
      "source": [
        "import torch\n",
        "\n",
        "def assign_node_types(G, community_map):\n",
        "  # TODO: Implement this function that takes in a NetworkX graph\n",
        "  # G and community map assignment (mapping node ids --> 0/1 labels)\n",
        "  # and adds 'node_type' as a node_attribute in G.\n",
        "\n",
        "  ############# Your code here ############\n",
        "  ## (~2 line of code)\n",
        "  ## Note\n",
        "  ## 1. Look up NetworkX `nx.classes.function.set_node_attributes`\n",
        "  values = {}\n",
        "  \n",
        "  for node in G.nodes(data=True):\n",
        "    if community_map[node[0]] == 0:\n",
        "      values[node[0]] = 'n0'\n",
        "    else:\n",
        "      values[node[0]] = 'n1'\n",
        "\n",
        "  nx.classes.function.set_node_attributes(G, values, name='node_type')\n",
        "\n",
        "  #########################################\n",
        "\n",
        "def assign_node_labels(G, community_map):\n",
        "  # TODO: Implement this function that takes in a NetworkX graph\n",
        "  # G and community map assignment (mapping node ids --> 0/1 labels)\n",
        "  # and adds 'node_label' as a node_attribute in G.\n",
        "\n",
        "  ############# Your code here ############\n",
        "  ## (~2 line of code)\n",
        "  ## Note\n",
        "  ## 1. Look up NetworkX `nx.classes.function.set_node_attributes`\n",
        "\n",
        "  nx.classes.function.set_node_attributes(G, community_map, name='node_label')\n",
        "\n",
        "  #########################################\n",
        "\n",
        "def assign_node_features(G):\n",
        "  # TODO: Implement this function that takes in a NetworkX graph\n",
        "  # G and adds 'node_feature' as a node_attribute in G. Each node\n",
        "  # in the graph has the same feature vector [1., 1., 1., 1., 1.]\n",
        "\n",
        "  ############# Your code here ############\n",
        "  ## (~2 line of code)\n",
        "  ## Note\n",
        "  ## 1. Look up NetworkX `nx.classes.function.set_node_attributes`\n",
        "\n",
        "  nx.classes.function.set_node_attributes(G, [1., 1., 1., 1., 1.], name='node_feature')\n",
        "\n",
        "\n",
        "  #########################################\n",
        "\n",
        "assign_node_types(G, community_map)\n",
        "assign_node_labels(G, community_map)\n",
        "assign_node_features(G)"
      ],
      "execution_count": 27,
      "outputs": []
    },
    {
      "cell_type": "code",
      "source": [
        "for node in G.nodes(data=True):\n",
        "  print(node)"
      ],
      "metadata": {
        "colab": {
          "base_uri": "https://localhost:8080/"
        },
        "id": "5mzJFn3Q0muP",
        "outputId": "42e27302-6e76-4d3d-f374-8a81e6915dc5"
      },
      "execution_count": 28,
      "outputs": [
        {
          "output_type": "stream",
          "name": "stdout",
          "text": [
            "(0, {'club': 'Mr. Hi', 'node_type': 'n0', 'node_label': 0, 'node_feature': [1.0, 1.0, 1.0, 1.0, 1.0]})\n",
            "(1, {'club': 'Mr. Hi', 'node_type': 'n0', 'node_label': 0, 'node_feature': [1.0, 1.0, 1.0, 1.0, 1.0]})\n",
            "(2, {'club': 'Mr. Hi', 'node_type': 'n0', 'node_label': 0, 'node_feature': [1.0, 1.0, 1.0, 1.0, 1.0]})\n",
            "(3, {'club': 'Mr. Hi', 'node_type': 'n0', 'node_label': 0, 'node_feature': [1.0, 1.0, 1.0, 1.0, 1.0]})\n",
            "(4, {'club': 'Mr. Hi', 'node_type': 'n0', 'node_label': 0, 'node_feature': [1.0, 1.0, 1.0, 1.0, 1.0]})\n",
            "(5, {'club': 'Mr. Hi', 'node_type': 'n0', 'node_label': 0, 'node_feature': [1.0, 1.0, 1.0, 1.0, 1.0]})\n",
            "(6, {'club': 'Mr. Hi', 'node_type': 'n0', 'node_label': 0, 'node_feature': [1.0, 1.0, 1.0, 1.0, 1.0]})\n",
            "(7, {'club': 'Mr. Hi', 'node_type': 'n0', 'node_label': 0, 'node_feature': [1.0, 1.0, 1.0, 1.0, 1.0]})\n",
            "(8, {'club': 'Mr. Hi', 'node_type': 'n0', 'node_label': 0, 'node_feature': [1.0, 1.0, 1.0, 1.0, 1.0]})\n",
            "(9, {'club': 'Officer', 'node_type': 'n1', 'node_label': 1, 'node_feature': [1.0, 1.0, 1.0, 1.0, 1.0]})\n",
            "(10, {'club': 'Mr. Hi', 'node_type': 'n0', 'node_label': 0, 'node_feature': [1.0, 1.0, 1.0, 1.0, 1.0]})\n",
            "(11, {'club': 'Mr. Hi', 'node_type': 'n0', 'node_label': 0, 'node_feature': [1.0, 1.0, 1.0, 1.0, 1.0]})\n",
            "(12, {'club': 'Mr. Hi', 'node_type': 'n0', 'node_label': 0, 'node_feature': [1.0, 1.0, 1.0, 1.0, 1.0]})\n",
            "(13, {'club': 'Mr. Hi', 'node_type': 'n0', 'node_label': 0, 'node_feature': [1.0, 1.0, 1.0, 1.0, 1.0]})\n",
            "(14, {'club': 'Officer', 'node_type': 'n1', 'node_label': 1, 'node_feature': [1.0, 1.0, 1.0, 1.0, 1.0]})\n",
            "(15, {'club': 'Officer', 'node_type': 'n1', 'node_label': 1, 'node_feature': [1.0, 1.0, 1.0, 1.0, 1.0]})\n",
            "(16, {'club': 'Mr. Hi', 'node_type': 'n0', 'node_label': 0, 'node_feature': [1.0, 1.0, 1.0, 1.0, 1.0]})\n",
            "(17, {'club': 'Mr. Hi', 'node_type': 'n0', 'node_label': 0, 'node_feature': [1.0, 1.0, 1.0, 1.0, 1.0]})\n",
            "(18, {'club': 'Officer', 'node_type': 'n1', 'node_label': 1, 'node_feature': [1.0, 1.0, 1.0, 1.0, 1.0]})\n",
            "(19, {'club': 'Mr. Hi', 'node_type': 'n0', 'node_label': 0, 'node_feature': [1.0, 1.0, 1.0, 1.0, 1.0]})\n",
            "(20, {'club': 'Officer', 'node_type': 'n1', 'node_label': 1, 'node_feature': [1.0, 1.0, 1.0, 1.0, 1.0]})\n",
            "(21, {'club': 'Mr. Hi', 'node_type': 'n0', 'node_label': 0, 'node_feature': [1.0, 1.0, 1.0, 1.0, 1.0]})\n",
            "(22, {'club': 'Officer', 'node_type': 'n1', 'node_label': 1, 'node_feature': [1.0, 1.0, 1.0, 1.0, 1.0]})\n",
            "(23, {'club': 'Officer', 'node_type': 'n1', 'node_label': 1, 'node_feature': [1.0, 1.0, 1.0, 1.0, 1.0]})\n",
            "(24, {'club': 'Officer', 'node_type': 'n1', 'node_label': 1, 'node_feature': [1.0, 1.0, 1.0, 1.0, 1.0]})\n",
            "(25, {'club': 'Officer', 'node_type': 'n1', 'node_label': 1, 'node_feature': [1.0, 1.0, 1.0, 1.0, 1.0]})\n",
            "(26, {'club': 'Officer', 'node_type': 'n1', 'node_label': 1, 'node_feature': [1.0, 1.0, 1.0, 1.0, 1.0]})\n",
            "(27, {'club': 'Officer', 'node_type': 'n1', 'node_label': 1, 'node_feature': [1.0, 1.0, 1.0, 1.0, 1.0]})\n",
            "(28, {'club': 'Officer', 'node_type': 'n1', 'node_label': 1, 'node_feature': [1.0, 1.0, 1.0, 1.0, 1.0]})\n",
            "(29, {'club': 'Officer', 'node_type': 'n1', 'node_label': 1, 'node_feature': [1.0, 1.0, 1.0, 1.0, 1.0]})\n",
            "(30, {'club': 'Officer', 'node_type': 'n1', 'node_label': 1, 'node_feature': [1.0, 1.0, 1.0, 1.0, 1.0]})\n",
            "(31, {'club': 'Officer', 'node_type': 'n1', 'node_label': 1, 'node_feature': [1.0, 1.0, 1.0, 1.0, 1.0]})\n",
            "(32, {'club': 'Officer', 'node_type': 'n1', 'node_label': 1, 'node_feature': [1.0, 1.0, 1.0, 1.0, 1.0]})\n",
            "(33, {'club': 'Officer', 'node_type': 'n1', 'node_label': 1, 'node_feature': [1.0, 1.0, 1.0, 1.0, 1.0]})\n"
          ]
        }
      ]
    },
    {
      "cell_type": "markdown",
      "metadata": {
        "id": "mafN0P3EOhSb"
      },
      "source": [
        "### Question 1.2: Assigning Edge Types (Not Specifically Graded)\n",
        "\n",
        "Next, we will assign three different types of `edge_type` to the edges: \n",
        "* Edges within club \"Mr. Hi\": `e0`\n",
        "* Edges within club \"Officer\": `e1`\n",
        "* Edges between clubs: `e2`\n",
        "\n",
        "**Hint**: Use the `community_map` from before and `nx.classes.function.set_edge_attributes`"
      ]
    },
    {
      "cell_type": "code",
      "source": [
        "# 모든 Edge 연결 모습 프린트\n",
        "for edge in G.edges(data=True):\n",
        "  print(edge)"
      ],
      "metadata": {
        "colab": {
          "base_uri": "https://localhost:8080/"
        },
        "id": "WZjJOOTQ1Y_e",
        "outputId": "823a11c0-55fe-4bc1-eaee-1f4298e6a1af"
      },
      "execution_count": 29,
      "outputs": [
        {
          "output_type": "stream",
          "name": "stdout",
          "text": [
            "(0, 1, {})\n",
            "(0, 2, {})\n",
            "(0, 3, {})\n",
            "(0, 4, {})\n",
            "(0, 5, {})\n",
            "(0, 6, {})\n",
            "(0, 7, {})\n",
            "(0, 8, {})\n",
            "(0, 10, {})\n",
            "(0, 11, {})\n",
            "(0, 12, {})\n",
            "(0, 13, {})\n",
            "(0, 17, {})\n",
            "(0, 19, {})\n",
            "(0, 21, {})\n",
            "(0, 31, {})\n",
            "(1, 2, {})\n",
            "(1, 3, {})\n",
            "(1, 7, {})\n",
            "(1, 13, {})\n",
            "(1, 17, {})\n",
            "(1, 19, {})\n",
            "(1, 21, {})\n",
            "(1, 30, {})\n",
            "(2, 3, {})\n",
            "(2, 7, {})\n",
            "(2, 8, {})\n",
            "(2, 9, {})\n",
            "(2, 13, {})\n",
            "(2, 27, {})\n",
            "(2, 28, {})\n",
            "(2, 32, {})\n",
            "(3, 7, {})\n",
            "(3, 12, {})\n",
            "(3, 13, {})\n",
            "(4, 6, {})\n",
            "(4, 10, {})\n",
            "(5, 6, {})\n",
            "(5, 10, {})\n",
            "(5, 16, {})\n",
            "(6, 16, {})\n",
            "(8, 30, {})\n",
            "(8, 32, {})\n",
            "(8, 33, {})\n",
            "(9, 33, {})\n",
            "(13, 33, {})\n",
            "(14, 32, {})\n",
            "(14, 33, {})\n",
            "(15, 32, {})\n",
            "(15, 33, {})\n",
            "(18, 32, {})\n",
            "(18, 33, {})\n",
            "(19, 33, {})\n",
            "(20, 32, {})\n",
            "(20, 33, {})\n",
            "(22, 32, {})\n",
            "(22, 33, {})\n",
            "(23, 25, {})\n",
            "(23, 27, {})\n",
            "(23, 29, {})\n",
            "(23, 32, {})\n",
            "(23, 33, {})\n",
            "(24, 25, {})\n",
            "(24, 27, {})\n",
            "(24, 31, {})\n",
            "(25, 31, {})\n",
            "(26, 29, {})\n",
            "(26, 33, {})\n",
            "(27, 33, {})\n",
            "(28, 31, {})\n",
            "(28, 33, {})\n",
            "(29, 32, {})\n",
            "(29, 33, {})\n",
            "(30, 32, {})\n",
            "(30, 33, {})\n",
            "(31, 32, {})\n",
            "(31, 33, {})\n",
            "(32, 33, {})\n"
          ]
        }
      ]
    },
    {
      "cell_type": "code",
      "source": [
        "for edge in G.edges(data=True):\n",
        "  print(community_map[edge[0]])\n",
        "  print(community_map[edge[1]])\n",
        "  print('-' * 30)"
      ],
      "metadata": {
        "colab": {
          "base_uri": "https://localhost:8080/"
        },
        "id": "E7vMQ0B_1gr9",
        "outputId": "5cabb2f5-1e95-48d6-c7e1-44e104786d27"
      },
      "execution_count": 31,
      "outputs": [
        {
          "output_type": "stream",
          "name": "stdout",
          "text": [
            "0\n",
            "0\n",
            "------------------------------\n",
            "0\n",
            "0\n",
            "------------------------------\n",
            "0\n",
            "0\n",
            "------------------------------\n",
            "0\n",
            "0\n",
            "------------------------------\n",
            "0\n",
            "0\n",
            "------------------------------\n",
            "0\n",
            "0\n",
            "------------------------------\n",
            "0\n",
            "0\n",
            "------------------------------\n",
            "0\n",
            "0\n",
            "------------------------------\n",
            "0\n",
            "0\n",
            "------------------------------\n",
            "0\n",
            "0\n",
            "------------------------------\n",
            "0\n",
            "0\n",
            "------------------------------\n",
            "0\n",
            "0\n",
            "------------------------------\n",
            "0\n",
            "0\n",
            "------------------------------\n",
            "0\n",
            "0\n",
            "------------------------------\n",
            "0\n",
            "0\n",
            "------------------------------\n",
            "0\n",
            "1\n",
            "------------------------------\n",
            "0\n",
            "0\n",
            "------------------------------\n",
            "0\n",
            "0\n",
            "------------------------------\n",
            "0\n",
            "0\n",
            "------------------------------\n",
            "0\n",
            "0\n",
            "------------------------------\n",
            "0\n",
            "0\n",
            "------------------------------\n",
            "0\n",
            "0\n",
            "------------------------------\n",
            "0\n",
            "0\n",
            "------------------------------\n",
            "0\n",
            "1\n",
            "------------------------------\n",
            "0\n",
            "0\n",
            "------------------------------\n",
            "0\n",
            "0\n",
            "------------------------------\n",
            "0\n",
            "0\n",
            "------------------------------\n",
            "0\n",
            "1\n",
            "------------------------------\n",
            "0\n",
            "0\n",
            "------------------------------\n",
            "0\n",
            "1\n",
            "------------------------------\n",
            "0\n",
            "1\n",
            "------------------------------\n",
            "0\n",
            "1\n",
            "------------------------------\n",
            "0\n",
            "0\n",
            "------------------------------\n",
            "0\n",
            "0\n",
            "------------------------------\n",
            "0\n",
            "0\n",
            "------------------------------\n",
            "0\n",
            "0\n",
            "------------------------------\n",
            "0\n",
            "0\n",
            "------------------------------\n",
            "0\n",
            "0\n",
            "------------------------------\n",
            "0\n",
            "0\n",
            "------------------------------\n",
            "0\n",
            "0\n",
            "------------------------------\n",
            "0\n",
            "0\n",
            "------------------------------\n",
            "0\n",
            "1\n",
            "------------------------------\n",
            "0\n",
            "1\n",
            "------------------------------\n",
            "0\n",
            "1\n",
            "------------------------------\n",
            "1\n",
            "1\n",
            "------------------------------\n",
            "0\n",
            "1\n",
            "------------------------------\n",
            "1\n",
            "1\n",
            "------------------------------\n",
            "1\n",
            "1\n",
            "------------------------------\n",
            "1\n",
            "1\n",
            "------------------------------\n",
            "1\n",
            "1\n",
            "------------------------------\n",
            "1\n",
            "1\n",
            "------------------------------\n",
            "1\n",
            "1\n",
            "------------------------------\n",
            "0\n",
            "1\n",
            "------------------------------\n",
            "1\n",
            "1\n",
            "------------------------------\n",
            "1\n",
            "1\n",
            "------------------------------\n",
            "1\n",
            "1\n",
            "------------------------------\n",
            "1\n",
            "1\n",
            "------------------------------\n",
            "1\n",
            "1\n",
            "------------------------------\n",
            "1\n",
            "1\n",
            "------------------------------\n",
            "1\n",
            "1\n",
            "------------------------------\n",
            "1\n",
            "1\n",
            "------------------------------\n",
            "1\n",
            "1\n",
            "------------------------------\n",
            "1\n",
            "1\n",
            "------------------------------\n",
            "1\n",
            "1\n",
            "------------------------------\n",
            "1\n",
            "1\n",
            "------------------------------\n",
            "1\n",
            "1\n",
            "------------------------------\n",
            "1\n",
            "1\n",
            "------------------------------\n",
            "1\n",
            "1\n",
            "------------------------------\n",
            "1\n",
            "1\n",
            "------------------------------\n",
            "1\n",
            "1\n",
            "------------------------------\n",
            "1\n",
            "1\n",
            "------------------------------\n",
            "1\n",
            "1\n",
            "------------------------------\n",
            "1\n",
            "1\n",
            "------------------------------\n",
            "1\n",
            "1\n",
            "------------------------------\n",
            "1\n",
            "1\n",
            "------------------------------\n",
            "1\n",
            "1\n",
            "------------------------------\n",
            "1\n",
            "1\n",
            "------------------------------\n",
            "1\n",
            "1\n",
            "------------------------------\n"
          ]
        }
      ]
    },
    {
      "cell_type": "code",
      "source": [
        "print(community_map)"
      ],
      "metadata": {
        "colab": {
          "base_uri": "https://localhost:8080/"
        },
        "id": "fDEUQUGV1vfu",
        "outputId": "a63716fa-ccbe-4189-e79c-395b993ac9fc"
      },
      "execution_count": 32,
      "outputs": [
        {
          "output_type": "stream",
          "name": "stdout",
          "text": [
            "{0: 0, 1: 0, 2: 0, 3: 0, 4: 0, 5: 0, 6: 0, 7: 0, 8: 0, 9: 1, 10: 0, 11: 0, 12: 0, 13: 0, 14: 1, 15: 1, 16: 0, 17: 0, 18: 1, 19: 0, 20: 1, 21: 0, 22: 1, 23: 1, 24: 1, 25: 1, 26: 1, 27: 1, 28: 1, 29: 1, 30: 1, 31: 1, 32: 1, 33: 1}\n"
          ]
        }
      ]
    },
    {
      "cell_type": "code",
      "source": [
        ""
      ],
      "metadata": {
        "id": "dLtZq_cm1jso"
      },
      "execution_count": null,
      "outputs": []
    },
    {
      "cell_type": "code",
      "metadata": {
        "id": "rsbYWEVwSV5n"
      },
      "source": [
        "def assign_edge_types(G, community_map):\n",
        "  # TODO: Implement this function that takes in a NetworkX graph\n",
        "  # G and community map assignment (mapping node ids --> 0/1 labels)\n",
        "  # and adds 'edge_type' as a edge_attribute in G.\n",
        "\n",
        "  ############# Your code here ############\n",
        "  ## (~5 line of code)\n",
        "  ## Note\n",
        "  ## 1. Create an edge assignment dict following rules above\n",
        "\n",
        "  values = {}\n",
        "\n",
        "  for edge in G.edges(data=True):\n",
        "    if community_map[edge[0]] == 0 and community_map[edge[1]] == 0:\n",
        "      values[(edge[0], edge[1])] = 'e0'\n",
        "    elif community_map[edge[0]] == 1 and community_map[edge[1]] == 1:\n",
        "      values[(edge[0], edge[1])] = 'e1'\n",
        "    else:\n",
        "      values[(edge[0], edge[1])] = 'e2'\n",
        "\n",
        "  nx.classes.function.set_edge_attributes(G, values, name='edge_type')\n",
        "\n",
        "  #########################################\n",
        "\n",
        "assign_edge_types(G, community_map)"
      ],
      "execution_count": 33,
      "outputs": []
    },
    {
      "cell_type": "code",
      "source": [
        "for edge in G.edges(data=True):\n",
        "  print(edge)"
      ],
      "metadata": {
        "colab": {
          "base_uri": "https://localhost:8080/"
        },
        "id": "2arkjpv-2Aiq",
        "outputId": "181c6510-eb13-4155-e47d-1c8cfb1bfd37"
      },
      "execution_count": 34,
      "outputs": [
        {
          "output_type": "stream",
          "name": "stdout",
          "text": [
            "(0, 1, {'edge_type': 'e0'})\n",
            "(0, 2, {'edge_type': 'e0'})\n",
            "(0, 3, {'edge_type': 'e0'})\n",
            "(0, 4, {'edge_type': 'e0'})\n",
            "(0, 5, {'edge_type': 'e0'})\n",
            "(0, 6, {'edge_type': 'e0'})\n",
            "(0, 7, {'edge_type': 'e0'})\n",
            "(0, 8, {'edge_type': 'e0'})\n",
            "(0, 10, {'edge_type': 'e0'})\n",
            "(0, 11, {'edge_type': 'e0'})\n",
            "(0, 12, {'edge_type': 'e0'})\n",
            "(0, 13, {'edge_type': 'e0'})\n",
            "(0, 17, {'edge_type': 'e0'})\n",
            "(0, 19, {'edge_type': 'e0'})\n",
            "(0, 21, {'edge_type': 'e0'})\n",
            "(0, 31, {'edge_type': 'e2'})\n",
            "(1, 2, {'edge_type': 'e0'})\n",
            "(1, 3, {'edge_type': 'e0'})\n",
            "(1, 7, {'edge_type': 'e0'})\n",
            "(1, 13, {'edge_type': 'e0'})\n",
            "(1, 17, {'edge_type': 'e0'})\n",
            "(1, 19, {'edge_type': 'e0'})\n",
            "(1, 21, {'edge_type': 'e0'})\n",
            "(1, 30, {'edge_type': 'e2'})\n",
            "(2, 3, {'edge_type': 'e0'})\n",
            "(2, 7, {'edge_type': 'e0'})\n",
            "(2, 8, {'edge_type': 'e0'})\n",
            "(2, 9, {'edge_type': 'e2'})\n",
            "(2, 13, {'edge_type': 'e0'})\n",
            "(2, 27, {'edge_type': 'e2'})\n",
            "(2, 28, {'edge_type': 'e2'})\n",
            "(2, 32, {'edge_type': 'e2'})\n",
            "(3, 7, {'edge_type': 'e0'})\n",
            "(3, 12, {'edge_type': 'e0'})\n",
            "(3, 13, {'edge_type': 'e0'})\n",
            "(4, 6, {'edge_type': 'e0'})\n",
            "(4, 10, {'edge_type': 'e0'})\n",
            "(5, 6, {'edge_type': 'e0'})\n",
            "(5, 10, {'edge_type': 'e0'})\n",
            "(5, 16, {'edge_type': 'e0'})\n",
            "(6, 16, {'edge_type': 'e0'})\n",
            "(8, 30, {'edge_type': 'e2'})\n",
            "(8, 32, {'edge_type': 'e2'})\n",
            "(8, 33, {'edge_type': 'e2'})\n",
            "(9, 33, {'edge_type': 'e1'})\n",
            "(13, 33, {'edge_type': 'e2'})\n",
            "(14, 32, {'edge_type': 'e1'})\n",
            "(14, 33, {'edge_type': 'e1'})\n",
            "(15, 32, {'edge_type': 'e1'})\n",
            "(15, 33, {'edge_type': 'e1'})\n",
            "(18, 32, {'edge_type': 'e1'})\n",
            "(18, 33, {'edge_type': 'e1'})\n",
            "(19, 33, {'edge_type': 'e2'})\n",
            "(20, 32, {'edge_type': 'e1'})\n",
            "(20, 33, {'edge_type': 'e1'})\n",
            "(22, 32, {'edge_type': 'e1'})\n",
            "(22, 33, {'edge_type': 'e1'})\n",
            "(23, 25, {'edge_type': 'e1'})\n",
            "(23, 27, {'edge_type': 'e1'})\n",
            "(23, 29, {'edge_type': 'e1'})\n",
            "(23, 32, {'edge_type': 'e1'})\n",
            "(23, 33, {'edge_type': 'e1'})\n",
            "(24, 25, {'edge_type': 'e1'})\n",
            "(24, 27, {'edge_type': 'e1'})\n",
            "(24, 31, {'edge_type': 'e1'})\n",
            "(25, 31, {'edge_type': 'e1'})\n",
            "(26, 29, {'edge_type': 'e1'})\n",
            "(26, 33, {'edge_type': 'e1'})\n",
            "(27, 33, {'edge_type': 'e1'})\n",
            "(28, 31, {'edge_type': 'e1'})\n",
            "(28, 33, {'edge_type': 'e1'})\n",
            "(29, 32, {'edge_type': 'e1'})\n",
            "(29, 33, {'edge_type': 'e1'})\n",
            "(30, 32, {'edge_type': 'e1'})\n",
            "(30, 33, {'edge_type': 'e1'})\n",
            "(31, 32, {'edge_type': 'e1'})\n",
            "(31, 33, {'edge_type': 'e1'})\n",
            "(32, 33, {'edge_type': 'e1'})\n"
          ]
        }
      ]
    },
    {
      "cell_type": "markdown",
      "metadata": {
        "id": "VBsTdTPVTQ52"
      },
      "source": [
        "## Heterogeneous Graph Visualization\n",
        "\n",
        "Now we can visualize the Heterogeneous Graph we have generated."
      ]
    },
    {
      "cell_type": "code",
      "metadata": {
        "id": "n2sdufbODHtp",
        "colab": {
          "base_uri": "https://localhost:8080/",
          "height": 607
        },
        "outputId": "f342f8ce-6ba0-4838-b674-d780e67333b9"
      },
      "source": [
        "edge_color = {}\n",
        "for edge in G.edges():\n",
        "  n1, n2 = edge\n",
        "  edge_color[edge] = community_map[n1] if community_map[n1] == community_map[n2] else 2\n",
        "  if community_map[n1] == community_map[n2] and community_map[n1] == 0:\n",
        "    edge_color[edge] = 'blue'\n",
        "  elif community_map[n1] == community_map[n2] and community_map[n1] == 1:\n",
        "    edge_color[edge] = 'red'\n",
        "  else:\n",
        "    edge_color[edge] = 'green'\n",
        "\n",
        "G_orig = copy.deepcopy(G)\n",
        "nx.classes.function.set_edge_attributes(G, edge_color, name='color')\n",
        "colors = nx.get_edge_attributes(G,'color').values()\n",
        "labels = nx.get_node_attributes(G, 'node_type')\n",
        "plt.figure(figsize=(8, 8))\n",
        "nx.draw(G, pos=pos, cmap=plt.get_cmap('coolwarm'), node_color=node_color, edge_color=colors, labels=labels, font_color='white')\n",
        "show()"
      ],
      "execution_count": 35,
      "outputs": [
        {
          "output_type": "display_data",
          "data": {
            "text/plain": [
              "<Figure size 576x576 with 1 Axes>"
            ],
            "image/png": "[encoded data removed]"
          },
          "metadata": {}
        }
      ]
    },
    {
      "cell_type": "code",
      "source": [
        "edge_color = {}\n",
        "\n",
        "for edge in G.edges():\n",
        "  n1, n2 = edge\n",
        "  edge_color[edge] = community_map[n1] if community_map[n1] == community_map[n2] else 2\n",
        "\n",
        "  if community_map[n1] == community_map[n2] and community_map[n1] == 0:\n",
        "    edge_color[edge] = 'blue'\n",
        "  elif community_map[n1] == community_map[n2] and community_map[n1] == 1:\n",
        "    edge_color[edge] = 'red'\n",
        "  else:\n",
        "    edge_color[edge] = 'green'\n",
        "\n",
        "G_orig = copy.deepcopy(G)\n",
        "nx.classes.function.set_edge_attributes(G, edge_color, name='color')\n",
        "\n",
        "colors = nx.get_edge_attributes(G, 'color').values()\n",
        "labels = nx.get_node_attributes(G, 'node_type')\n",
        "\n",
        "plt.figure(figsize=(8, 8))\n",
        "\n",
        "nx.draw(G, \n",
        "        pos=pos, \n",
        "        cmap=plt.get_cmap('coolwarm'), \n",
        "        node_color=node_color, \n",
        "        edge_color=colors, \n",
        "        labels=labels, \n",
        "        font_color='white')\n",
        "\n",
        "show()"
      ],
      "metadata": {
        "colab": {
          "base_uri": "https://localhost:8080/",
          "height": 607
        },
        "id": "pBtgo2e52J7T",
        "outputId": "e9c38c14-4e9f-4c16-9d85-7b185d6f9840"
      },
      "execution_count": 36,
      "outputs": [
        {
          "output_type": "display_data",
          "data": {
            "text/plain": [
              "<Figure size 576x576 with 1 Axes>"
            ],
            "image/png": "[encoded data removed]"
          },
          "metadata": {}
        }
      ]
    },
    {
      "cell_type": "markdown",
      "metadata": {
        "id": "QRANkF1jRxLV"
      },
      "source": [
        "which include edges within each clubs (2 types) and edges across two clubs (1 type). Different types of nodes and edges are visualized in different colors. The NetworkX object `G` in following code can be transformed into `deepsnap.hetero_graph.HeteroGraph` directly."
      ]
    },
    {
      "cell_type": "markdown",
      "metadata": {
        "id": "4DW8L0hxbxw4"
      },
      "source": [
        "## Transforming to DeepSNAP representation\n",
        "\n",
        "The NetworkX object `G` in following code can be transformed into `deepsnap.hetero_graph.HeteroGraph` directly!"
      ]
    },
    {
      "cell_type": "code",
      "source": [
        "print(G_orig)"
      ],
      "metadata": {
        "colab": {
          "base_uri": "https://localhost:8080/"
        },
        "id": "HVpJf24U3gxR",
        "outputId": "f6f4dc19-6a14-4368-ff1b-a271b4ec141d"
      },
      "execution_count": 39,
      "outputs": [
        {
          "output_type": "stream",
          "name": "stdout",
          "text": [
            "Graph named \"Zachary's Karate Club\" with 34 nodes and 78 edges\n"
          ]
        }
      ]
    },
    {
      "cell_type": "code",
      "source": [
        "G_orig.nodes(data=True)[0]"
      ],
      "metadata": {
        "colab": {
          "base_uri": "https://localhost:8080/"
        },
        "id": "1LrCIA_V4Jcq",
        "outputId": "a4e8e7b9-1266-4002-d3c8-3f2b34dd5ce9"
      },
      "execution_count": 41,
      "outputs": [
        {
          "output_type": "execute_result",
          "data": {
            "text/plain": [
              "{'club': 'Mr. Hi',\n",
              " 'node_feature': [1.0, 1.0, 1.0, 1.0, 1.0],\n",
              " 'node_label': 0,\n",
              " 'node_type': 'n0'}"
            ]
          },
          "metadata": {},
          "execution_count": 41
        }
      ]
    },
    {
      "cell_type": "code",
      "source": [
        "for e in G_orig.edges(data=True):\n",
        "  print(e)\n",
        "  break"
      ],
      "metadata": {
        "colab": {
          "base_uri": "https://localhost:8080/"
        },
        "id": "lZDkWZQv4Lzo",
        "outputId": "0fad5a30-7c4b-4559-df0c-85fa87a91bc4"
      },
      "execution_count": 42,
      "outputs": [
        {
          "output_type": "stream",
          "name": "stdout",
          "text": [
            "(0, 1, {'edge_type': 'e0', 'color': 'blue'})\n"
          ]
        }
      ]
    },
    {
      "cell_type": "code",
      "source": [
        "for e in G.edges(data=True):\n",
        "  print(e)\n",
        "  break"
      ],
      "metadata": {
        "colab": {
          "base_uri": "https://localhost:8080/"
        },
        "id": "xeRonaqc4Uc1",
        "outputId": "5a3d64b9-9354-413b-d733-04e67d0ec3c7"
      },
      "execution_count": 43,
      "outputs": [
        {
          "output_type": "stream",
          "name": "stdout",
          "text": [
            "(0, 1, {'edge_type': 'e0', 'color': 'blue'})\n"
          ]
        }
      ]
    },
    {
      "cell_type": "code",
      "source": [
        "# for hetero_feature in hete:\n",
        "#     print(hetero_feature)"
      ],
      "metadata": {
        "id": "u26rNir94Ufu"
      },
      "execution_count": 45,
      "outputs": []
    },
    {
      "cell_type": "code",
      "metadata": {
        "id": "-ZfHZ_eoVVGd",
        "colab": {
          "base_uri": "https://localhost:8080/",
          "height": 382
        },
        "outputId": "1e65fbc9-e8e0-4829-b063-860dbb729200"
      },
      "source": [
        "from deepsnap.hetero_graph import HeteroGraph\n",
        "\n",
        "# 여기서 에러뜨는거는... 어쩔수 없다 일단은. 코드를 아래꺼를 분석해보면서 넘어가보도록 하자.\n",
        "hete = HeteroGraph(G_orig)\n",
        "# hete = HeteroGraph(G)"
      ],
      "execution_count": 59,
      "outputs": [
        {
          "output_type": "error",
          "ename": "TypeError",
          "evalue": "ignored",
          "traceback": [
            "\u001b[0;31m---------------------------------------------------------------------------\u001b[0m",
            "\u001b[0;31mTypeError\u001b[0m                                 Traceback (most recent call last)",
            "\u001b[0;32m<ipython-input-59-f658131fafae>\u001b[0m in \u001b[0;36m<module>\u001b[0;34m()\u001b[0m\n\u001b[1;32m      1\u001b[0m \u001b[0;32mfrom\u001b[0m \u001b[0mdeepsnap\u001b[0m\u001b[0;34m.\u001b[0m\u001b[0mhetero_graph\u001b[0m \u001b[0;32mimport\u001b[0m \u001b[0mHeteroGraph\u001b[0m\u001b[0;34m\u001b[0m\u001b[0;34m\u001b[0m\u001b[0m\n\u001b[1;32m      2\u001b[0m \u001b[0;34m\u001b[0m\u001b[0m\n\u001b[0;32m----> 3\u001b[0;31m \u001b[0mhete\u001b[0m \u001b[0;34m=\u001b[0m \u001b[0mHeteroGraph\u001b[0m\u001b[0;34m(\u001b[0m\u001b[0mG_orig\u001b[0m\u001b[0;34m)\u001b[0m\u001b[0;34m\u001b[0m\u001b[0;34m\u001b[0m\u001b[0m\n\u001b[0m\u001b[1;32m      4\u001b[0m \u001b[0;31m# hete = HeteroGraph(G)\u001b[0m\u001b[0;34m\u001b[0m\u001b[0;34m\u001b[0m\u001b[0;34m\u001b[0m\u001b[0m\n",
            "\u001b[0;32m/usr/local/lib/python3.7/dist-packages/deepsnap/hetero_graph.py\u001b[0m in \u001b[0;36m__init__\u001b[0;34m(self, G, **kwargs)\u001b[0m\n\u001b[1;32m     92\u001b[0m \u001b[0;34m\u001b[0m\u001b[0m\n\u001b[1;32m     93\u001b[0m         \u001b[0;32mif\u001b[0m \u001b[0mG\u001b[0m \u001b[0;32mis\u001b[0m \u001b[0;32mnot\u001b[0m \u001b[0;32mNone\u001b[0m \u001b[0;32mor\u001b[0m \u001b[0mkwargs\u001b[0m\u001b[0;34m:\u001b[0m\u001b[0;34m\u001b[0m\u001b[0;34m\u001b[0m\u001b[0m\n\u001b[0;32m---> 94\u001b[0;31m             \u001b[0mself\u001b[0m\u001b[0;34m.\u001b[0m\u001b[0m_update_tensors\u001b[0m\u001b[0;34m(\u001b[0m\u001b[0minit\u001b[0m\u001b[0;34m=\u001b[0m\u001b[0;32mTrue\u001b[0m\u001b[0;34m)\u001b[0m\u001b[0;34m\u001b[0m\u001b[0;34m\u001b[0m\u001b[0m\n\u001b[0m\u001b[1;32m     95\u001b[0m \u001b[0;34m\u001b[0m\u001b[0m\n\u001b[1;32m     96\u001b[0m     \u001b[0;34m@\u001b[0m\u001b[0mproperty\u001b[0m\u001b[0;34m\u001b[0m\u001b[0;34m\u001b[0m\u001b[0m\n",
            "\u001b[0;32m/usr/local/lib/python3.7/dist-packages/deepsnap/graph.py\u001b[0m in \u001b[0;36m_update_tensors\u001b[0;34m(self, init)\u001b[0m\n\u001b[1;32m    513\u001b[0m         \"\"\"\n\u001b[1;32m    514\u001b[0m         \u001b[0;32mif\u001b[0m \u001b[0mself\u001b[0m\u001b[0;34m.\u001b[0m\u001b[0mG\u001b[0m \u001b[0;32mis\u001b[0m \u001b[0;32mnot\u001b[0m \u001b[0;32mNone\u001b[0m\u001b[0;34m:\u001b[0m\u001b[0;34m\u001b[0m\u001b[0;34m\u001b[0m\u001b[0m\n\u001b[0;32m--> 515\u001b[0;31m             \u001b[0mself\u001b[0m\u001b[0;34m.\u001b[0m\u001b[0m_update_attributes\u001b[0m\u001b[0;34m(\u001b[0m\u001b[0;34m)\u001b[0m\u001b[0;34m\u001b[0m\u001b[0;34m\u001b[0m\u001b[0m\n\u001b[0m\u001b[1;32m    516\u001b[0m         \u001b[0mself\u001b[0m\u001b[0;34m.\u001b[0m\u001b[0m_node_related_key\u001b[0m \u001b[0;34m=\u001b[0m \u001b[0;32mNone\u001b[0m\u001b[0;34m\u001b[0m\u001b[0;34m\u001b[0m\u001b[0m\n\u001b[1;32m    517\u001b[0m         \u001b[0;32mfor\u001b[0m \u001b[0mkey\u001b[0m \u001b[0;32min\u001b[0m \u001b[0mself\u001b[0m\u001b[0;34m.\u001b[0m\u001b[0mkeys\u001b[0m\u001b[0;34m:\u001b[0m\u001b[0;34m\u001b[0m\u001b[0;34m\u001b[0m\u001b[0m\n",
            "\u001b[0;32m/usr/local/lib/python3.7/dist-packages/deepsnap/graph.py\u001b[0m in \u001b[0;36m_update_attributes\u001b[0;34m(self)\u001b[0m\n\u001b[1;32m    547\u001b[0m         \u001b[0mkeys\u001b[0m \u001b[0;34m=\u001b[0m \u001b[0mnext\u001b[0m\u001b[0;34m(\u001b[0m\u001b[0miter\u001b[0m\u001b[0;34m(\u001b[0m\u001b[0mself\u001b[0m\u001b[0;34m.\u001b[0m\u001b[0mG\u001b[0m\u001b[0;34m.\u001b[0m\u001b[0medges\u001b[0m\u001b[0;34m(\u001b[0m\u001b[0mdata\u001b[0m\u001b[0;34m=\u001b[0m\u001b[0;32mTrue\u001b[0m\u001b[0;34m)\u001b[0m\u001b[0;34m)\u001b[0m\u001b[0;34m)\u001b[0m\u001b[0;34m[\u001b[0m\u001b[0;34m-\u001b[0m\u001b[0;36m1\u001b[0m\u001b[0;34m]\u001b[0m\u001b[0;34m.\u001b[0m\u001b[0mkeys\u001b[0m\u001b[0;34m(\u001b[0m\u001b[0;34m)\u001b[0m\u001b[0;34m\u001b[0m\u001b[0;34m\u001b[0m\u001b[0m\n\u001b[1;32m    548\u001b[0m         \u001b[0;32mfor\u001b[0m \u001b[0mkey\u001b[0m \u001b[0;32min\u001b[0m \u001b[0mkeys\u001b[0m\u001b[0;34m:\u001b[0m\u001b[0;34m\u001b[0m\u001b[0;34m\u001b[0m\u001b[0m\n\u001b[0;32m--> 549\u001b[0;31m             \u001b[0mself\u001b[0m\u001b[0;34m[\u001b[0m\u001b[0mkey\u001b[0m\u001b[0;34m]\u001b[0m \u001b[0;34m=\u001b[0m \u001b[0mself\u001b[0m\u001b[0;34m.\u001b[0m\u001b[0m_get_edge_attributes\u001b[0m\u001b[0;34m(\u001b[0m\u001b[0mkey\u001b[0m\u001b[0;34m)\u001b[0m\u001b[0;34m\u001b[0m\u001b[0;34m\u001b[0m\u001b[0m\n\u001b[0m\u001b[1;32m    550\u001b[0m         \u001b[0;31m# graph\u001b[0m\u001b[0;34m\u001b[0m\u001b[0;34m\u001b[0m\u001b[0;34m\u001b[0m\u001b[0m\n\u001b[1;32m    551\u001b[0m         \u001b[0mkeys\u001b[0m \u001b[0;34m=\u001b[0m \u001b[0mself\u001b[0m\u001b[0;34m.\u001b[0m\u001b[0mG\u001b[0m\u001b[0;34m.\u001b[0m\u001b[0mgraph\u001b[0m\u001b[0;34m.\u001b[0m\u001b[0mkeys\u001b[0m\u001b[0;34m(\u001b[0m\u001b[0;34m)\u001b[0m\u001b[0;34m\u001b[0m\u001b[0;34m\u001b[0m\u001b[0m\n",
            "\u001b[0;32m/usr/local/lib/python3.7/dist-packages/deepsnap/hetero_graph.py\u001b[0m in \u001b[0;36m_get_edge_attributes\u001b[0;34m(self, key)\u001b[0m\n\u001b[1;32m    584\u001b[0m                 \u001b[0;32mcontinue\u001b[0m\u001b[0;34m\u001b[0m\u001b[0;34m\u001b[0m\u001b[0m\n\u001b[1;32m    585\u001b[0m             \u001b[0;32melse\u001b[0m\u001b[0;34m:\u001b[0m\u001b[0;34m\u001b[0m\u001b[0;34m\u001b[0m\u001b[0m\n\u001b[0;32m--> 586\u001b[0;31m                 \u001b[0;32mraise\u001b[0m \u001b[0mTypeError\u001b[0m\u001b[0;34m(\u001b[0m\u001b[0;34mf\"Unknown type {key} in edge attributes.\"\u001b[0m\u001b[0;34m)\u001b[0m\u001b[0;34m\u001b[0m\u001b[0;34m\u001b[0m\u001b[0m\n\u001b[0m\u001b[1;32m    587\u001b[0m             \u001b[0;32mif\u001b[0m \u001b[0mself\u001b[0m\u001b[0;34m.\u001b[0m\u001b[0mis_undirected\u001b[0m\u001b[0;34m(\u001b[0m\u001b[0;34m)\u001b[0m \u001b[0;32mand\u001b[0m \u001b[0mkey\u001b[0m \u001b[0;34m!=\u001b[0m \u001b[0;34m\"edge_type\"\u001b[0m\u001b[0;34m:\u001b[0m\u001b[0;34m\u001b[0m\u001b[0;34m\u001b[0m\u001b[0m\n\u001b[1;32m    588\u001b[0m                 attributes[message_type] = torch.cat(\n",
            "\u001b[0;31mTypeError\u001b[0m: Unknown type color in edge attributes."
          ]
        }
      ]
    },
    {
      "cell_type": "code",
      "source": [
        ""
      ],
      "metadata": {
        "id": "4_49T56Y4o_2"
      },
      "execution_count": 48,
      "outputs": []
    },
    {
      "cell_type": "markdown",
      "metadata": {
        "id": "izq4t_O9WxDH"
      },
      "source": [
        "## Question 1.3: How many nodes are of each type (10 Points)\n",
        "\n",
        "Submit your answers on Gradescope.\n"
      ]
    },
    {
      "cell_type": "code",
      "source": [
        "print(hete.node_type)\n",
        "print(len(hete.node_type['n0']))"
      ],
      "metadata": {
        "id": "7xTt0ZQn8ULh"
      },
      "execution_count": null,
      "outputs": []
    },
    {
      "cell_type": "code",
      "metadata": {
        "id": "wRNSP6nnW78C",
        "colab": {
          "base_uri": "https://localhost:8080/"
        },
        "outputId": "9c010159-ca7f-4659-decc-88e8f1a29376"
      },
      "source": [
        "def get_nodes_per_type(hete):\n",
        "  # TODO: Implement this function that takes a DeepSNAP dataset object\n",
        "  # and return the number of nodes per `node_type`.\n",
        "\n",
        "  num_nodes_n0 = 0\n",
        "  num_nodes_n1 = 0\n",
        "\n",
        "  ############# Your code here ############\n",
        "  ## (~2 line of code)\n",
        "  ## Note\n",
        "  ## 1. Colab autocomplete functionality might be useful.\n",
        "\n",
        "  num_nodes_n0 = len(hete.node_type['n0'])\n",
        "  num_nodes_n1 = len(hete.node_type['n1'])\n",
        "\n",
        "  #########################################\n",
        "\n",
        "  return num_nodes_n0, num_nodes_n1\n",
        "\n",
        "# num_nodes_n0, num_nodes_n1 = get_nodes_per_type(hete)\n",
        "# num_nodes_n0, num_nodes_n1 = get_nodes_per_type(G_orig)\n",
        "print(\"Node type n0 has {} nodes\".format(num_nodes_n0))\n",
        "print(\"Node type n1 has {} nodes\".format(num_nodes_n1))"
      ],
      "execution_count": 65,
      "outputs": [
        {
          "output_type": "stream",
          "name": "stdout",
          "text": [
            "Node type n0 has 0 nodes\n",
            "Node type n1 has 0 nodes\n"
          ]
        }
      ]
    },
    {
      "cell_type": "code",
      "source": [
        ""
      ],
      "metadata": {
        "id": "owrQy1lD8adS"
      },
      "execution_count": null,
      "outputs": []
    },
    {
      "cell_type": "markdown",
      "metadata": {
        "id": "vEsHJp2ZYaE2"
      },
      "source": [
        "## Question 1.4: Message Types: How many edges are of each message type (10 Points)\n",
        "\n",
        "Submit your answers on Gradescope.\n",
        "\n",
        "When working with heterogenous graphs, as we have discussed before, we now work with heterogenous message types (i.e. different message types for `node_type` and `edge_type` combinations). For example, an edge of type `e0` connecting two nodes in club \"Mr. HI\" would have a message type of (`n0`, `e0`, `n0`). In this problem we will analyze how many edges in our graph are of each message type.\n",
        "\n",
        "**Hint**: If you want to learn more about what the different message types are try the call `hete.message_types`"
      ]
    },
    {
      "cell_type": "code",
      "source": [
        "hete.message_types"
      ],
      "metadata": {
        "id": "CRWx-cHv856R"
      },
      "execution_count": null,
      "outputs": []
    },
    {
      "cell_type": "code",
      "source": [
        "# hete.edge_type[('n0', 'e0', 'n0)]"
      ],
      "metadata": {
        "id": "JNoqF6sz858b"
      },
      "execution_count": null,
      "outputs": []
    },
    {
      "cell_type": "code",
      "metadata": {
        "id": "qobKuqbAYvJ7"
      },
      "source": [
        "def get_num_message_edges(hete):\n",
        "  # TODO: Implement this function that takes a DeepSNAP dataset object\n",
        "  # and return the number of edges for each message type. \n",
        "  # You should return a list of tuples as \n",
        "  # (message_type, num_edge)\n",
        "\n",
        "  message_type_edges = []\n",
        "\n",
        "  ############# Your code here ############\n",
        "  ## (~2 line of code)\n",
        "  ## Note\n",
        "  ## 1. Colab autocomplete functionality might be useful.\n",
        "\n",
        "  for message_type.num_edge in hete.edge_type.items():\n",
        "    message_type_edges.append((message_type, len(num_edge)))\n",
        "\n",
        "  #########################################\n",
        "\n",
        "  return message_type_edges\n",
        "\n",
        "message_type_edges = get_num_message_edges(hete)\n",
        "for (message_type, num_edges) in message_type_edges:\n",
        "  print(\"Message type {} has {} edges\".format(message_type, num_edges))"
      ],
      "execution_count": null,
      "outputs": []
    },
    {
      "cell_type": "code",
      "source": [
        ""
      ],
      "metadata": {
        "id": "kqk6I6LJBukR"
      },
      "execution_count": 65,
      "outputs": []
    },
    {
      "cell_type": "markdown",
      "metadata": {
        "id": "bjMVik1JbJ76"
      },
      "source": [
        "## Question 1.5: Dataset Splitting: How many nodes in each dataset split? (10 Points)\n",
        "\n",
        "Submit your answers on Gradescope.\n",
        "\n",
        "DeepSNAP has built in Dataset creation and splitting methods for heterogeneous graphs. Here we will create train, validation, and test datasets for a node prediction task and inspect the resulting subgraphs. Specifically, write a function that computes the number of nodes in each dataset split.\n"
      ]
    },
    {
      "cell_type": "code",
      "metadata": {
        "id": "Ct10Oh4gcqgD"
      },
      "source": [
        "from deepsnap.dataset import GraphDataset\n",
        "\n",
        "def compute_dataset_split_counts(datasets):\n",
        "  # TODO: Implement this function that takes a dict of datasets\n",
        "  # and returns a dict mapping dataset names to the number of labeled\n",
        "  # nodes used for supervision in that respective dataset.  \n",
        "  \n",
        "  data_set_splits = {}\n",
        "\n",
        "  ############# Your code here ############\n",
        "  ## (~3 line of code)\n",
        "  ## Note\n",
        "  ## 1. DeepSNAP `node_label_index` will be helpful.\n",
        "  ## 2. Remember to count both node_types\n",
        "\n",
        "  for ds_name, ds in datasets.items():\n",
        "    # data_set_splits[ds_name] = ds[0].sha\n",
        "    # # train\n",
        "    # print(ds_name)\n",
        "    # print(ds[0].node_label_index)\n",
        "    # # {'n0' : tensor([10. 8. 3. 12. 0. 13]),\n",
        "    # # 'n1' : tensor([0. 8. 1. 15. 5. 7])}\n",
        "\n",
        "    data_set_splits[ds_name] = ds[0].node_label_index['n0'].shape[0] + ds[0].node_label_index['n1'].shape[0]\n",
        "\n",
        "  #########################################\n",
        "\n",
        "  return data_set_splits\n",
        "\n",
        "\n",
        "dataset = GraphDataset([hete], task='node')\n",
        "# Splitting the dataset\n",
        "dataset_train, dataset_val, dataset_test = dataset.split(transductive=True, split_ratio=[0.4, 0.3, 0.3])\n",
        "datasets = {'train': dataset_train, 'val': dataset_val, 'test': dataset_test}\n",
        "\n",
        "data_set_splits = compute_dataset_split_counts(datasets)\n",
        "for dataset_name, num_nodes in data_set_splits.items():\n",
        "  print(\"{} dataset has {} nodes\".format(dataset_name, num_nodes))"
      ],
      "execution_count": 67,
      "outputs": []
    },
    {
      "cell_type": "code",
      "source": [
        "# train dataset has 12 nodes\n",
        "# val dataset has 10 nodes\n",
        "# test dataset has 12 nodes"
      ],
      "metadata": {
        "id": "YGTX_fxaDIuc"
      },
      "execution_count": 68,
      "outputs": []
    },
    {
      "cell_type": "markdown",
      "metadata": {
        "id": "lFY2PaDbVKe4"
      },
      "source": [
        "## DeepSNAP Dataset Visualization"
      ]
    },
    {
      "cell_type": "code",
      "metadata": {
        "id": "iiyEw-agbgV8"
      },
      "source": [
        "from deepsnap.dataset import GraphDataset\n",
        "\n",
        "dataset = GraphDataset([hete], task='node')\n",
        "# Splitting the dataset\n",
        "dataset_train, dataset_val, dataset_test = dataset.split(transductive=True, split_ratio=[0.4, 0.3, 0.3])\n",
        "titles = ['Train', 'Validation', 'Test']\n",
        "\n",
        "for i, dataset in enumerate([dataset_train, dataset_val, dataset_test]):\n",
        "  n0 = hete._convert_to_graph_index(dataset[0].node_label_index['n0'], 'n0').tolist()\n",
        "  n1 = hete._convert_to_graph_index(dataset[0].node_label_index['n1'], 'n1').tolist()\n",
        "\n",
        "  plt.figure(figsize=(7, 7))\n",
        "  plt.title(titles[i])\n",
        "  nx.draw(G_orig, pos=pos, node_color=\"grey\", edge_color=colors, labels=labels, font_color='white')\n",
        "  nx.draw_networkx_nodes(G_orig.subgraph(n0), pos=pos, node_color=\"blue\")\n",
        "  nx.draw_networkx_nodes(G_orig.subgraph(n1), pos=pos, node_color=\"red\")\n",
        "  show()"
      ],
      "execution_count": null,
      "outputs": []
    },
    {
      "cell_type": "markdown",
      "metadata": {
        "id": "e5LsVSRuI3hU"
      },
      "source": [
        "# 2 Heterogeneous Graph Node Property Prediction\n",
        "\n",
        "In this part we will use PyTorch Geometric and DeepSNAP to implement a GNN model for heterogeneous graph node property prediction (node classification). This part of Colab requires you having good understandings on the heterogeneous graph and how to implement the GNN layers by using PyG.\n",
        "\n",
        "At first let's take look at the general structure of a heterogeneous layer by an example.\n",
        "\n",
        "Let's assume we have a graph $G$, which contains two node types $a$ and $b$, and three message types $m_1=(a, r_1, a)$, $m_2=(a, r_2, b)$ and $m_3=(a, r_3, b)$.\n",
        "\n",
        "Thus, for $G$ a heterogeneous layer will contains three Heterogeneous GNN layers (`HeteroGNNConv` in this Colab) where each `HeteroGNNConv` layer will perform the message passing and aggregation with respect to only one message type. The overview of the heterogeneous layer is shown below:\n",
        "\n",
        "<br/>\n",
        "<center>\n",
        "<img src=\"https://web.stanford.edu/class/cs224w/images/colab4/hetero_conv.png\"/>\n",
        "</center>\n",
        "<br/>\n",
        "\n",
        "In this Colab, all the $l^{th}$ Heterogeneous GNN layers will be managed by a ($l^{th}$) Heterogeneous GNN Wrapper layer (the `HeteroGNNWrapperConv`). The $l^{th}$ Heterogeneous GNN Wrapper layer will take in the input node embeddings from $(l-1)^{th}$ layer and aggregate (across message types) the Heterogeneous GNN layers' results. For example, the wrapper layer will aggregate node type $b$'s node embeddings from Heterogeneous GNN layers for $m_2$ and $m_3$. The \"simplified\" heterogeneous layer structure is shown below:\n",
        "\n",
        "<br/>\n",
        "<center>\n",
        "<img src=\"http://web.stanford.edu/class/cs224w/images/colab4/hetero_conv_1.png\"/>\n",
        "</center>\n",
        "<br/>"
      ]
    },
    {
      "cell_type": "markdown",
      "metadata": {
        "id": "rOTCyuRcJikS"
      },
      "source": [
        "<font color='red'>We recommend you implement the heterogeneous GNN model in following steps:</font>\n",
        "\n",
        "1. Implement the `HeteroGNNConv` first.\n",
        "2. Implement the `mean` aggregation in `HeteroGNNWrapperConv`.\n",
        "3. Implement the `generate_convs`.\n",
        "4. Implement the `HeteroGNN` model and the `train` function.\n",
        "5. Train the model with `mean` aggregation across the message types and make sure your model has reasonable performance.\n",
        "6. Implement the `attn` aggregation in `HeteroGNNWrapperConv`.\n",
        "7. Train the model with `attn` aggregation across the message types and make sure your model has reasonable performance."
      ]
    },
    {
      "cell_type": "markdown",
      "metadata": {
        "id": "pkFjcktiJJLm"
      },
      "source": [
        "## Setup"
      ]
    },
    {
      "cell_type": "code",
      "metadata": {
        "id": "NAm9_OcJJJ-W"
      },
      "source": [
        "import copy\n",
        "import torch\n",
        "import deepsnap\n",
        "import numpy as np\n",
        "import torch.nn as nn\n",
        "import torch.nn.functional as F\n",
        "import torch_geometric.nn as pyg_nn\n",
        "\n",
        "from sklearn.metrics import f1_score\n",
        "from deepsnap.hetero_gnn import forward_op\n",
        "from deepsnap.hetero_graph import HeteroGraph\n",
        "from torch_sparse import SparseTensor, matmul"
      ],
      "execution_count": 74,
      "outputs": []
    },
    {
      "cell_type": "markdown",
      "metadata": {
        "id": "n2prITo3JSbo"
      },
      "source": [
        "## Dataset\n",
        "\n",
        "You need to login to your Google account and enter the verification code below."
      ]
    },
    {
      "cell_type": "code",
      "metadata": {
        "id": "QvQwxJX4JTJX"
      },
      "source": [
        "from pydrive.auth import GoogleAuth\n",
        "from pydrive.drive import GoogleDrive\n",
        "from google.colab import auth\n",
        "from oauth2client.client import GoogleCredentials\n",
        "\n",
        "# Authenticate and create the PyDrive client\n",
        "auth.authenticate_user()\n",
        "gauth = GoogleAuth()\n",
        "gauth.credentials = GoogleCredentials.get_application_default()\n",
        "drive = GoogleDrive(gauth)"
      ],
      "execution_count": 70,
      "outputs": []
    },
    {
      "cell_type": "code",
      "source": [
        "# Warning 무시하기\n",
        "\n",
        "import warnings\n",
        "warnings.filterwarnings(action='ignore')"
      ],
      "metadata": {
        "id": "pehSBoHjEUFt"
      },
      "execution_count": 72,
      "outputs": []
    },
    {
      "cell_type": "code",
      "metadata": {
        "id": "Igoy4F_xJbVn"
      },
      "source": [
        "id='1ivlxd6lJMcZ9taS44TMGG72x2V1GeVvk'\n",
        "downloaded = drive.CreateFile({'id': id})\n",
        "downloaded.GetContentFile('acm.pkl')"
      ],
      "execution_count": 73,
      "outputs": []
    },
    {
      "cell_type": "markdown",
      "metadata": {
        "id": "VBlboS5kJmJL"
      },
      "source": [
        "## Heterogeneous GNN Layer\n",
        "\n",
        "Now let's start working on our own implementation of a heterogeneous layer (the `HeteroGNNConv`)! Similar to what we did in Colab 3, we will implement the layer using PyTorch Geometric. In general, our heterogeneous GNN layer draws ideas from the **GraphSAGE** ([Hamilton et al. (2017)](https://arxiv.org/abs/1706.02216)).\n",
        "\n",
        "At first, let's implement the GNN layer for each message type :\n",
        "\n",
        "\\begin{equation}\n",
        "m =(s, r, d)\n",
        "\\end{equation}\n",
        "\n",
        "Each message type is a tuple containing three elements where $s$ refers to the source node type, $r$ refers to the edge (relation) type and $d$ refers to the destination node type. The update rule is very similar to that of GraphSAGE but we need to include the node types and the edge type. The update rule is described as below:\n",
        "\n",
        "\\begin{equation}\n",
        "h_v^{(l)[m]} = W^{(l)[m]} \\cdot \\text{CONCAT} \\Big( W_d^{(l)[m]} \\cdot h_v^{(l-1)}, W_s^{(l)[m]} \\cdot AGG(\\{h_u^{(l-1)}, \\forall u \\in N_{m}(v) \\})\\Big)\n",
        "\\end{equation}\n",
        "\n",
        "where $[m]$ indicates that the weight matrices or embeddings with respect to message type $m$, $W_s^{(l)[m]}$ computes the messages from neighboring nodes, $W_d^{(l)[m]}$ compute messages from the node itself, and $W^{(l)[m]}$ aggregates messages from both node types. In the equation above, $v$ has the node type $d$, and $u$ has the node type $s$.\n",
        "\n",
        "For simplicity, we use mean aggregations for $AGG$ where:\n",
        "\n",
        "\\begin{equation}\n",
        "AGG(\\{h_u^{(l-1)}, \\forall u \\in N_{m}(v) \\}) = \\frac{1}{|N_{m}(v)|} \\sum_{u\\in N_{m}(v)} h_u^{(l-1)}\n",
        "\\end{equation}"
      ]
    },
    {
      "cell_type": "code",
      "metadata": {
        "id": "_Z1b0Mf8Jova"
      },
      "source": [
        "class HeteroGNNConv(pyg_nn.MessagePassing):\n",
        "    def __init__(self, in_channels_src, in_channels_dst, out_channels):\n",
        "        super(HeteroGNNConv, self).__init__(aggr=\"mean\")\n",
        "\n",
        "        self.in_channels_src = in_channels_src\n",
        "        self.in_channels_dst = in_channels_dst\n",
        "        self.out_channels = out_channels\n",
        "\n",
        "        # To simplify implementation, please initialize both self.lin_dst\n",
        "        # and self.lin_src out_features to out_channels\n",
        "        self.lin_dst = None\n",
        "        self.lin_src = None\n",
        "\n",
        "        self.lin_update = None\n",
        "\n",
        "        ############# Your code here #############\n",
        "        ## (~3 lines of code)\n",
        "        self.lin_dst = nn.Linear(in_channels_dst, out_channels)\n",
        "        self.lin_src = nn.Linear(in_channels_src, out_channels)\n",
        "        \n",
        "        self.lin_update = nn.Linear(out_channels * 2, out_channels)\n",
        "\n",
        "        ##########################################\n",
        "\n",
        "    def forward(\n",
        "        self,\n",
        "        node_feature_src,\n",
        "        node_feature_dst,\n",
        "        edge_index,\n",
        "        size=None,\n",
        "        res_n_id=None,\n",
        "    ):\n",
        "        ############# Your code here #############\n",
        "        ## (~1 line of code)\n",
        "        return self.propagate(edge_index,\n",
        "                              size = size,\n",
        "                              node_feature_src = node_feature_src,\n",
        "                              node_feature_dst = node_feature_dst,\n",
        "                              res_n_id = res_n_id)\n",
        "\n",
        "        ##########################################\n",
        "\n",
        "    def message_and_aggregate(self, edge_index, node_feature_src):\n",
        "\n",
        "        ############# Your code here #############\n",
        "        ## (~1 line of code)\n",
        "        ## Note:\n",
        "        ## 1. Different from what we implemented in Colab 3, we use message_and_aggregate\n",
        "        ## to replace the message and aggregate. The benefit is that we can avoid\n",
        "        ## materializing x_i and x_j, and make the implementation more efficient.\n",
        "        ## 2. To implement efficiently, following PyG documentation is helpful:\n",
        "        ## https://pytorch-geometric.readthedocs.io/en/latest/notes/sparse_tensor.html\n",
        "        ## 3. Here edge_index is torch_sparse SparseTensor.\n",
        "\n",
        "        out = matmul(edge_index,\n",
        "                     node_feature_src,\n",
        "                     reduce = self.aggr)\n",
        "\n",
        "        ##########################################\n",
        "\n",
        "        return out\n",
        "\n",
        "    def update(self, aggr_out, node_feature_dst, res_n_id):\n",
        "\n",
        "        ############# Your code here #############\n",
        "        ## (~4 lines of code)\n",
        "\n",
        "        aggr_out = self.lin_src(aggr_out)\n",
        "        node_feature_dst = self.lin_dst(node_feature_dst)\n",
        "        concat_features = torch.cat((node_feature_dst, aggr_out), \n",
        "                                    dim = -1)\n",
        "        aggr_out = self.lin_update(concat_features)\n",
        "\n",
        "        ##########################################\n",
        "\n",
        "        return aggr_out"
      ],
      "execution_count": 75,
      "outputs": []
    },
    {
      "cell_type": "code",
      "source": [
        "x1 = torch.randn(7, 34)\n",
        "x2 = torch.randn(7, 34)\n",
        "x3 = torch.cat((x1, x2), dim=-1)\n",
        "x3.shape"
      ],
      "metadata": {
        "colab": {
          "base_uri": "https://localhost:8080/"
        },
        "id": "_tVwl-5FGaw5",
        "outputId": "94578758-c6d0-469b-e9dc-8c88ef009c9a"
      },
      "execution_count": 76,
      "outputs": [
        {
          "output_type": "execute_result",
          "data": {
            "text/plain": [
              "torch.Size([7, 68])"
            ]
          },
          "metadata": {},
          "execution_count": 76
        }
      ]
    },
    {
      "cell_type": "code",
      "source": [
        "print(x1)"
      ],
      "metadata": {
        "colab": {
          "base_uri": "https://localhost:8080/"
        },
        "id": "5EDon903GhMl",
        "outputId": "53d39d7b-a771-49ff-f3c0-b24c27033a0b"
      },
      "execution_count": 77,
      "outputs": [
        {
          "output_type": "stream",
          "name": "stdout",
          "text": [
            "tensor([[-0.9887,  1.2005,  0.3943, -0.7388,  0.1424, -1.7153,  0.4164, -1.5052,\n",
            "          0.7493, -0.8499, -0.5678,  0.4154, -0.5440,  1.9202,  0.4116, -0.0790,\n",
            "          0.0876,  1.1201,  0.2802,  1.4058,  0.2405, -1.0120,  1.1557,  0.0334,\n",
            "         -0.1174,  0.4102,  2.0018, -1.0584, -0.5337, -0.3597, -1.0308, -1.3833,\n",
            "         -0.8478, -1.6739],\n",
            "        [-0.6180, -0.6033,  0.9865, -0.5452,  0.0123, -0.5423, -0.0393, -1.1147,\n",
            "          0.1571, -1.8476,  0.5960, -0.2923,  2.5907, -0.2338, -0.0317,  1.4570,\n",
            "         -1.6280, -0.4408,  3.0258,  3.0841,  0.0915, -0.5005,  1.5048, -0.3510,\n",
            "         -0.3477, -0.1369, -1.1380, -1.3396, -1.5528,  0.0040, -1.6667,  0.2225,\n",
            "          0.6470,  1.6527],\n",
            "        [ 1.6788,  0.2803, -1.0508, -1.2019, -0.0095,  0.8826,  1.2459,  0.7982,\n",
            "         -0.9701,  0.5253,  0.5185, -1.0737,  0.2400,  0.5188, -0.1296, -1.6174,\n",
            "         -0.6628,  0.8159,  1.3726,  0.4346,  0.0660, -1.5487,  1.4890, -1.5639,\n",
            "         -1.0202, -0.2019,  0.8531,  0.2693, -1.6417,  0.3444,  0.1504, -0.0712,\n",
            "         -0.4538, -1.0062],\n",
            "        [ 0.5465, -0.6672, -0.6222,  0.1812,  0.5185,  1.2004, -1.1117, -0.4451,\n",
            "         -1.4434, -0.7158,  0.1906, -0.5281,  1.9130, -1.4827,  0.3505, -1.0082,\n",
            "          0.8326, -0.4807,  0.2906,  3.1398,  1.4077, -1.1582,  0.2912,  1.0703,\n",
            "          0.8463, -0.2257, -0.4808,  0.6459, -1.0755,  0.5308, -0.9064,  0.4773,\n",
            "         -0.8129, -0.3202],\n",
            "        [-0.6205,  0.8994, -0.1306, -1.3180, -0.0478, -1.2144, -1.0486, -0.5219,\n",
            "          0.0359, -1.2953, -0.2470,  0.0935, -0.0671, -0.8913, -0.8519, -0.4535,\n",
            "         -0.3623,  0.3726,  0.3102, -0.3761, -1.5867,  0.7198, -0.7584, -0.9154,\n",
            "          0.3032,  0.6685,  1.0878, -1.8479, -0.2159,  0.8084, -0.3840,  0.5014,\n",
            "         -1.0861,  0.7579],\n",
            "        [-0.1589,  1.0602, -0.1174,  0.8343,  1.3979, -0.0979, -1.0431, -0.1599,\n",
            "         -0.9585,  0.4405,  0.2744,  0.3139,  1.3341,  0.1590,  0.1999, -1.0829,\n",
            "          0.2441, -0.1329, -0.2793, -0.2197, -1.3088, -0.8072,  0.3392,  1.4214,\n",
            "         -0.7940,  0.2183, -0.1160, -0.9462,  0.3935,  0.1939, -0.8965,  1.7839,\n",
            "          0.4138,  0.3969],\n",
            "        [ 0.5594, -0.9179,  0.0299,  0.5234,  0.7123, -1.3574,  1.3131,  0.4130,\n",
            "         -0.8622, -1.3338, -0.4851,  1.0217, -0.9985, -0.0671, -0.6165, -0.1798,\n",
            "          0.4753, -0.0505,  1.5158,  0.8129,  1.2034, -0.6902, -0.7302,  0.5679,\n",
            "          0.9861,  1.4693, -0.5416, -1.2417, -1.1958,  1.7058,  2.2205,  1.1670,\n",
            "         -1.3147,  1.6179]])\n"
          ]
        }
      ]
    },
    {
      "cell_type": "code",
      "source": [
        "print(x2)"
      ],
      "metadata": {
        "colab": {
          "base_uri": "https://localhost:8080/"
        },
        "id": "wVfO1j9KGid4",
        "outputId": "e3a33b9f-ab20-4c7c-fc23-b3ceadb18e9f"
      },
      "execution_count": 78,
      "outputs": [
        {
          "output_type": "stream",
          "name": "stdout",
          "text": [
            "tensor([[-5.0294e-01, -2.4606e-01,  3.2694e-01, -1.5434e+00, -1.7520e-01,\n",
            "          6.9320e-01,  9.4944e-01,  6.0516e-01, -4.9179e-01,  5.5948e-01,\n",
            "         -4.3518e-01, -2.0413e+00,  1.0531e+00, -7.4474e-01,  6.1383e-01,\n",
            "          1.2698e-01,  1.1971e+00,  3.8985e-01,  1.2539e+00,  5.9483e-01,\n",
            "          4.4738e-01,  5.5651e-01, -2.5280e+00, -1.6502e-01,  8.9824e-01,\n",
            "         -8.4592e-01, -5.9301e-01,  5.5805e-01,  1.4559e+00,  2.2065e-01,\n",
            "          2.2080e+00, -5.2927e-01, -1.7897e+00,  6.9159e-01],\n",
            "        [ 1.0924e+00,  4.3829e-01,  2.0377e-01,  8.5495e-01,  1.7279e+00,\n",
            "         -1.1568e+00,  3.5015e-01,  1.5196e+00,  8.2414e-01,  3.5379e-01,\n",
            "          1.1905e+00, -6.3092e-01, -1.4455e+00,  4.8365e-01, -2.3447e-01,\n",
            "         -6.5557e-01, -7.1051e-01, -4.2081e-01,  3.9758e-01, -1.2120e+00,\n",
            "          6.6067e-01,  1.3605e+00, -8.8598e-01,  1.1114e+00,  4.0225e-01,\n",
            "          6.8124e-01,  2.1060e+00, -8.4232e-01, -4.0828e-02,  5.1332e-01,\n",
            "          2.2492e+00, -9.8073e-01, -5.6392e-01,  3.4863e-01],\n",
            "        [-1.7619e-01, -5.5039e-01, -2.1161e-01, -4.1243e-02,  8.3057e-01,\n",
            "          2.4942e-01, -4.3627e-01,  6.7791e-01, -2.9069e-01,  5.3060e-01,\n",
            "          1.8624e+00,  1.4634e+00, -4.7346e-01, -8.2013e-03,  7.2245e-02,\n",
            "         -2.2628e-01, -1.3125e+00, -9.2039e-01, -1.0410e+00, -5.2148e-01,\n",
            "         -1.4098e+00,  1.0541e+00,  1.6670e+00,  8.3580e-01, -1.1121e-01,\n",
            "         -2.2551e-02, -8.4006e-01, -3.8481e-02, -1.3012e+00, -8.1474e-01,\n",
            "         -3.0290e-01, -1.0965e+00,  6.1176e-01,  4.5475e-01],\n",
            "        [-4.2122e-01, -1.1125e+00,  1.0759e-01,  5.1484e-01,  3.3926e-01,\n",
            "          5.1121e-01, -4.7035e-02,  6.7814e-01, -5.8516e-01,  9.4080e-01,\n",
            "          1.3775e+00,  6.0668e-02, -3.8995e-04,  9.9198e-01,  7.6534e-01,\n",
            "          3.7457e-01,  7.4544e-01, -2.7973e+00, -1.8332e-02, -7.8076e-01,\n",
            "          8.0031e-01,  2.9448e-01, -7.6575e-01, -1.0415e+00, -3.4547e-01,\n",
            "          9.4385e-01,  7.4570e-01,  1.0437e+00,  1.2859e+00, -2.3716e+00,\n",
            "          2.9429e-01, -1.1464e+00, -1.0286e+00, -3.7102e-01],\n",
            "        [ 2.0213e-01, -1.2370e+00,  2.9851e-01, -4.5058e-02, -1.3279e+00,\n",
            "          8.5278e-01,  5.4063e-01,  3.4177e-01, -2.1532e-01,  4.2643e-01,\n",
            "          4.7616e-01,  8.7203e-01, -9.2274e-01,  1.6402e-01, -2.7001e-02,\n",
            "         -1.2802e+00,  5.0126e-01, -2.0828e-01,  9.1187e-01,  3.2122e+00,\n",
            "         -1.7547e+00,  5.7643e-01,  1.0972e-01,  4.1758e-01,  9.3852e-02,\n",
            "         -1.1690e+00, -1.6266e+00, -1.6784e+00, -5.4125e-01, -5.9307e-01,\n",
            "          8.7653e-01, -1.7347e-01, -1.0742e-02, -1.0253e+00],\n",
            "        [ 4.8768e-01, -6.7091e-01, -9.9668e-01, -4.2178e-01, -1.2574e+00,\n",
            "          1.7760e+00, -1.3287e+00,  6.5625e-01,  8.8001e-01, -4.1444e-01,\n",
            "         -1.2062e+00, -3.0643e-01, -8.0439e-02,  9.7102e-01,  2.5614e-01,\n",
            "          2.0996e+00,  9.0308e-01, -1.1030e+00, -1.6054e+00, -1.3260e-01,\n",
            "          2.5353e-01,  1.8416e-01,  1.1887e+00,  3.2205e-01,  7.1501e-01,\n",
            "          2.4462e-01,  8.7905e-03,  1.0786e+00,  9.5690e-01, -1.3188e+00,\n",
            "         -4.6505e-01,  2.2156e-01, -1.5741e-01,  2.0053e+00],\n",
            "        [ 5.7919e-02,  8.2130e-01, -4.8812e-01,  7.8033e-01,  1.0663e+00,\n",
            "          1.8632e+00, -1.3220e+00, -1.0431e-01,  5.9584e-01,  4.3963e-01,\n",
            "         -4.3828e-01, -6.1788e-01,  4.2805e-01, -6.0022e-01, -2.2381e+00,\n",
            "         -3.4298e-01, -1.4002e+00, -1.3559e-01,  1.6716e+00, -1.8735e+00,\n",
            "         -7.4586e-01, -5.8342e-01, -1.6990e+00, -1.4699e+00, -3.5714e-01,\n",
            "          1.0906e+00, -1.6250e+00, -1.0386e+00,  1.3573e-01,  2.9989e-01,\n",
            "          3.6825e-02,  9.2020e-01, -1.7933e-01,  1.5763e+00]])\n"
          ]
        }
      ]
    },
    {
      "cell_type": "code",
      "source": [
        "print(x3)"
      ],
      "metadata": {
        "colab": {
          "base_uri": "https://localhost:8080/"
        },
        "id": "4DxzqsQ0GjM9",
        "outputId": "154b2291-5846-4238-d668-77c0333dbf8a"
      },
      "execution_count": 79,
      "outputs": [
        {
          "output_type": "stream",
          "name": "stdout",
          "text": [
            "tensor([[-9.8874e-01,  1.2005e+00,  3.9431e-01, -7.3879e-01,  1.4244e-01,\n",
            "         -1.7153e+00,  4.1637e-01, -1.5052e+00,  7.4930e-01, -8.4985e-01,\n",
            "         -5.6779e-01,  4.1542e-01, -5.4397e-01,  1.9202e+00,  4.1163e-01,\n",
            "         -7.8988e-02,  8.7576e-02,  1.1201e+00,  2.8021e-01,  1.4058e+00,\n",
            "          2.4046e-01, -1.0120e+00,  1.1557e+00,  3.3435e-02, -1.1744e-01,\n",
            "          4.1022e-01,  2.0018e+00, -1.0584e+00, -5.3365e-01, -3.5967e-01,\n",
            "         -1.0308e+00, -1.3833e+00, -8.4778e-01, -1.6739e+00, -5.0294e-01,\n",
            "         -2.4606e-01,  3.2694e-01, -1.5434e+00, -1.7520e-01,  6.9320e-01,\n",
            "          9.4944e-01,  6.0516e-01, -4.9179e-01,  5.5948e-01, -4.3518e-01,\n",
            "         -2.0413e+00,  1.0531e+00, -7.4474e-01,  6.1383e-01,  1.2698e-01,\n",
            "          1.1971e+00,  3.8985e-01,  1.2539e+00,  5.9483e-01,  4.4738e-01,\n",
            "          5.5651e-01, -2.5280e+00, -1.6502e-01,  8.9824e-01, -8.4592e-01,\n",
            "         -5.9301e-01,  5.5805e-01,  1.4559e+00,  2.2065e-01,  2.2080e+00,\n",
            "         -5.2927e-01, -1.7897e+00,  6.9159e-01],\n",
            "        [-6.1795e-01, -6.0327e-01,  9.8652e-01, -5.4519e-01,  1.2327e-02,\n",
            "         -5.4231e-01, -3.9298e-02, -1.1147e+00,  1.5712e-01, -1.8476e+00,\n",
            "          5.9599e-01, -2.9225e-01,  2.5907e+00, -2.3381e-01, -3.1734e-02,\n",
            "          1.4570e+00, -1.6280e+00, -4.4080e-01,  3.0258e+00,  3.0841e+00,\n",
            "          9.1470e-02, -5.0054e-01,  1.5048e+00, -3.5096e-01, -3.4767e-01,\n",
            "         -1.3692e-01, -1.1380e+00, -1.3396e+00, -1.5528e+00,  3.9929e-03,\n",
            "         -1.6667e+00,  2.2248e-01,  6.4696e-01,  1.6527e+00,  1.0924e+00,\n",
            "          4.3829e-01,  2.0377e-01,  8.5495e-01,  1.7279e+00, -1.1568e+00,\n",
            "          3.5015e-01,  1.5196e+00,  8.2414e-01,  3.5379e-01,  1.1905e+00,\n",
            "         -6.3092e-01, -1.4455e+00,  4.8365e-01, -2.3447e-01, -6.5557e-01,\n",
            "         -7.1051e-01, -4.2081e-01,  3.9758e-01, -1.2120e+00,  6.6067e-01,\n",
            "          1.3605e+00, -8.8598e-01,  1.1114e+00,  4.0225e-01,  6.8124e-01,\n",
            "          2.1060e+00, -8.4232e-01, -4.0828e-02,  5.1332e-01,  2.2492e+00,\n",
            "         -9.8073e-01, -5.6392e-01,  3.4863e-01],\n",
            "        [ 1.6788e+00,  2.8032e-01, -1.0508e+00, -1.2019e+00, -9.4810e-03,\n",
            "          8.8258e-01,  1.2459e+00,  7.9822e-01, -9.7013e-01,  5.2532e-01,\n",
            "          5.1854e-01, -1.0737e+00,  2.4001e-01,  5.1881e-01, -1.2956e-01,\n",
            "         -1.6174e+00, -6.6283e-01,  8.1590e-01,  1.3726e+00,  4.3465e-01,\n",
            "          6.5985e-02, -1.5487e+00,  1.4890e+00, -1.5639e+00, -1.0202e+00,\n",
            "         -2.0190e-01,  8.5312e-01,  2.6929e-01, -1.6417e+00,  3.4438e-01,\n",
            "          1.5040e-01, -7.1166e-02, -4.5376e-01, -1.0062e+00, -1.7619e-01,\n",
            "         -5.5039e-01, -2.1161e-01, -4.1243e-02,  8.3057e-01,  2.4942e-01,\n",
            "         -4.3627e-01,  6.7791e-01, -2.9069e-01,  5.3060e-01,  1.8624e+00,\n",
            "          1.4634e+00, -4.7346e-01, -8.2013e-03,  7.2245e-02, -2.2628e-01,\n",
            "         -1.3125e+00, -9.2039e-01, -1.0410e+00, -5.2148e-01, -1.4098e+00,\n",
            "          1.0541e+00,  1.6670e+00,  8.3580e-01, -1.1121e-01, -2.2551e-02,\n",
            "         -8.4006e-01, -3.8481e-02, -1.3012e+00, -8.1474e-01, -3.0290e-01,\n",
            "         -1.0965e+00,  6.1176e-01,  4.5475e-01],\n",
            "        [ 5.4649e-01, -6.6716e-01, -6.2220e-01,  1.8118e-01,  5.1852e-01,\n",
            "          1.2004e+00, -1.1117e+00, -4.4505e-01, -1.4434e+00, -7.1578e-01,\n",
            "          1.9063e-01, -5.2808e-01,  1.9130e+00, -1.4827e+00,  3.5051e-01,\n",
            "         -1.0082e+00,  8.3258e-01, -4.8068e-01,  2.9064e-01,  3.1398e+00,\n",
            "          1.4077e+00, -1.1582e+00,  2.9118e-01,  1.0703e+00,  8.4630e-01,\n",
            "         -2.2573e-01, -4.8076e-01,  6.4591e-01, -1.0755e+00,  5.3082e-01,\n",
            "         -9.0637e-01,  4.7734e-01, -8.1286e-01, -3.2021e-01, -4.2122e-01,\n",
            "         -1.1125e+00,  1.0759e-01,  5.1484e-01,  3.3926e-01,  5.1121e-01,\n",
            "         -4.7035e-02,  6.7814e-01, -5.8516e-01,  9.4080e-01,  1.3775e+00,\n",
            "          6.0668e-02, -3.8995e-04,  9.9198e-01,  7.6534e-01,  3.7457e-01,\n",
            "          7.4544e-01, -2.7973e+00, -1.8332e-02, -7.8076e-01,  8.0031e-01,\n",
            "          2.9448e-01, -7.6575e-01, -1.0415e+00, -3.4547e-01,  9.4385e-01,\n",
            "          7.4570e-01,  1.0437e+00,  1.2859e+00, -2.3716e+00,  2.9429e-01,\n",
            "         -1.1464e+00, -1.0286e+00, -3.7102e-01],\n",
            "        [-6.2045e-01,  8.9938e-01, -1.3056e-01, -1.3180e+00, -4.7791e-02,\n",
            "         -1.2144e+00, -1.0486e+00, -5.2187e-01,  3.5930e-02, -1.2953e+00,\n",
            "         -2.4698e-01,  9.3547e-02, -6.7115e-02, -8.9134e-01, -8.5188e-01,\n",
            "         -4.5346e-01, -3.6229e-01,  3.7255e-01,  3.1020e-01, -3.7613e-01,\n",
            "         -1.5867e+00,  7.1981e-01, -7.5841e-01, -9.1544e-01,  3.0322e-01,\n",
            "          6.6848e-01,  1.0878e+00, -1.8479e+00, -2.1586e-01,  8.0844e-01,\n",
            "         -3.8396e-01,  5.0141e-01, -1.0861e+00,  7.5793e-01,  2.0213e-01,\n",
            "         -1.2370e+00,  2.9851e-01, -4.5058e-02, -1.3279e+00,  8.5278e-01,\n",
            "          5.4063e-01,  3.4177e-01, -2.1532e-01,  4.2643e-01,  4.7616e-01,\n",
            "          8.7203e-01, -9.2274e-01,  1.6402e-01, -2.7001e-02, -1.2802e+00,\n",
            "          5.0126e-01, -2.0828e-01,  9.1187e-01,  3.2122e+00, -1.7547e+00,\n",
            "          5.7643e-01,  1.0972e-01,  4.1758e-01,  9.3852e-02, -1.1690e+00,\n",
            "         -1.6266e+00, -1.6784e+00, -5.4125e-01, -5.9307e-01,  8.7653e-01,\n",
            "         -1.7347e-01, -1.0742e-02, -1.0253e+00],\n",
            "        [-1.5889e-01,  1.0602e+00, -1.1744e-01,  8.3431e-01,  1.3979e+00,\n",
            "         -9.7860e-02, -1.0431e+00, -1.5986e-01, -9.5846e-01,  4.4050e-01,\n",
            "          2.7442e-01,  3.1393e-01,  1.3341e+00,  1.5898e-01,  1.9985e-01,\n",
            "         -1.0829e+00,  2.4412e-01, -1.3287e-01, -2.7931e-01, -2.1968e-01,\n",
            "         -1.3088e+00, -8.0716e-01,  3.3924e-01,  1.4214e+00, -7.9402e-01,\n",
            "          2.1827e-01, -1.1602e-01, -9.4625e-01,  3.9353e-01,  1.9386e-01,\n",
            "         -8.9646e-01,  1.7839e+00,  4.1380e-01,  3.9688e-01,  4.8768e-01,\n",
            "         -6.7091e-01, -9.9668e-01, -4.2178e-01, -1.2574e+00,  1.7760e+00,\n",
            "         -1.3287e+00,  6.5625e-01,  8.8001e-01, -4.1444e-01, -1.2062e+00,\n",
            "         -3.0643e-01, -8.0439e-02,  9.7102e-01,  2.5614e-01,  2.0996e+00,\n",
            "          9.0308e-01, -1.1030e+00, -1.6054e+00, -1.3260e-01,  2.5353e-01,\n",
            "          1.8416e-01,  1.1887e+00,  3.2205e-01,  7.1501e-01,  2.4462e-01,\n",
            "          8.7905e-03,  1.0786e+00,  9.5690e-01, -1.3188e+00, -4.6505e-01,\n",
            "          2.2156e-01, -1.5741e-01,  2.0053e+00],\n",
            "        [ 5.5940e-01, -9.1792e-01,  2.9923e-02,  5.2340e-01,  7.1228e-01,\n",
            "         -1.3574e+00,  1.3131e+00,  4.1300e-01, -8.6222e-01, -1.3338e+00,\n",
            "         -4.8509e-01,  1.0217e+00, -9.9849e-01, -6.7122e-02, -6.1651e-01,\n",
            "         -1.7977e-01,  4.7531e-01, -5.0481e-02,  1.5158e+00,  8.1285e-01,\n",
            "          1.2034e+00, -6.9015e-01, -7.3021e-01,  5.6786e-01,  9.8612e-01,\n",
            "          1.4693e+00, -5.4164e-01, -1.2417e+00, -1.1958e+00,  1.7058e+00,\n",
            "          2.2205e+00,  1.1670e+00, -1.3147e+00,  1.6179e+00,  5.7919e-02,\n",
            "          8.2130e-01, -4.8812e-01,  7.8033e-01,  1.0663e+00,  1.8632e+00,\n",
            "         -1.3220e+00, -1.0431e-01,  5.9584e-01,  4.3963e-01, -4.3828e-01,\n",
            "         -6.1788e-01,  4.2805e-01, -6.0022e-01, -2.2381e+00, -3.4298e-01,\n",
            "         -1.4002e+00, -1.3559e-01,  1.6716e+00, -1.8735e+00, -7.4586e-01,\n",
            "         -5.8342e-01, -1.6990e+00, -1.4699e+00, -3.5714e-01,  1.0906e+00,\n",
            "         -1.6250e+00, -1.0386e+00,  1.3573e-01,  2.9989e-01,  3.6825e-02,\n",
            "          9.2020e-01, -1.7933e-01,  1.5763e+00]])\n"
          ]
        }
      ]
    },
    {
      "cell_type": "markdown",
      "metadata": {
        "id": "aKq8ScTiJthn"
      },
      "source": [
        "## Heterogeneous GNN Wrapper Layer\n",
        "\n",
        "After implementing the GNN layer for each message type, we need to somehow aggregate the the node embedding results (with respect to each message types) together. Here we will implement two types of message type level aggregation.\n",
        "\n",
        "The first one is simply the mean aggregation:\n",
        "\n",
        "\\begin{equation}\n",
        "h_v^{(l)} = \\frac{1}{M}\\sum_{m=1}^{M}h_v^{(l)[m]}\n",
        "\\end{equation}\n",
        "\n",
        "Here node $v$ has the node type $d$ and $M$ is the total number of message types that the destination node type is $d$.\n",
        "\n",
        "The other one is the semantic level attention introduced in **HAN** ([Wang et al. (2019)](https://arxiv.org/abs/1903.07293)). Instead of directly averaging on the message type aggregation results, we use attention to learn which message type result can be more important, then aggregate from all the message types. Following are the equations for semantic level attention:\n",
        "\n",
        "\\begin{equation}\n",
        "e_{m} = \\frac{1}{|V_{d}|} \\sum_{v \\in V_{d}} q_{attn}^T \\cdot tanh \\Big( W_{attn}^{(l)} \\cdot h_v^{(l)[m]} + b \\Big)\n",
        "\\end{equation}\n",
        "\n",
        "where $m$ refers to message type and $d$ refers to the destination node type. Then we can compute the attention and update the $h_v^{(l)}$:\n",
        "\n",
        "\\begin{equation}\n",
        "\\alpha_{m} = \\frac{\\exp(e_{m})}{\\sum_{m=1}^M \\exp(e_{m})}\n",
        "\\end{equation}\n",
        "\n",
        "\\begin{equation}\n",
        "h_v^{(l)} = \\sum_{m=1}^{M} \\alpha_{m} \\cdot h_v^{(l)[m]}\n",
        "\\end{equation}"
      ]
    },
    {
      "cell_type": "code",
      "metadata": {
        "id": "0_bun02xJwFm"
      },
      "source": [
        "class HeteroGNNWrapperConv(deepsnap.hetero_gnn.HeteroConv):\n",
        "    def __init__(self, convs, args, aggr=\"mean\"):\n",
        "        super(HeteroGNNWrapperConv, self).__init__(convs, None)\n",
        "        self.aggr = aggr\n",
        "\n",
        "        # Map the index and message type\n",
        "        self.mapping = {}\n",
        "\n",
        "        # A numpy array that stores the final attention probability\n",
        "        self.alpha = None\n",
        "\n",
        "        self.attn_proj = None\n",
        "\n",
        "        if self.aggr == \"attn\":\n",
        "            ############# Your code here #############\n",
        "            ## (~1 line of code)\n",
        "            ## Note:\n",
        "            ## 1. Initialize self.attn_proj here.\n",
        "            ## 2. You should use nn.Sequential for self.attn_proj\n",
        "            ## 3. nn.Linear and nn.Tanh are useful.\n",
        "            ## 4. You can create a vector parameter by using:\n",
        "            ## nn.Linear(some_size, 1, bias=False)\n",
        "            ## 5. The first linear layer should have out_features as args['attn_size']\n",
        "            ## 6. You can assume we only have one \"head\" for the attention.\n",
        "            ## 7. We recommend you to implement the mean aggregation first. After \n",
        "            ## the mean aggregation works well in the training, then you can \n",
        "            ## implement this part.\n",
        "\n",
        "            self.attn_proj = nn.Sequential(\n",
        "                # Wh + b\n",
        "                nn.Linear(args['hidden_size'], args['attn_size']),\n",
        "                nn.Tanh(),\n",
        "                # q_semantic_attention\n",
        "                nn.Linear(args['attn_size'], 1, bias=False)\n",
        "            )\n",
        "\n",
        "\n",
        "            ##########################################\n",
        "    \n",
        "    def reset_parameters(self):\n",
        "        super(HeteroConvWrapper, self).reset_parameters()\n",
        "        if self.aggr == \"attn\":\n",
        "            for layer in self.attn_proj.children():\n",
        "                layer.reset_parameters()\n",
        "    \n",
        "    def forward(self, node_features, edge_indices):\n",
        "        message_type_emb = {}\n",
        "        for message_key, message_type in edge_indices.items():\n",
        "            src_type, edge_type, dst_type = message_key\n",
        "            node_feature_src = node_features[src_type]\n",
        "            node_feature_dst = node_features[dst_type]\n",
        "            edge_index = edge_indices[message_key]\n",
        "            message_type_emb[message_key] = (\n",
        "                self.convs[message_key](\n",
        "                    node_feature_src,\n",
        "                    node_feature_dst,\n",
        "                    edge_index,\n",
        "                )\n",
        "            )\n",
        "        node_emb = {dst: [] for _, _, dst in message_type_emb.keys()}\n",
        "        mapping = {}        \n",
        "        for (src, edge_type, dst), item in message_type_emb.items():\n",
        "            mapping[len(node_emb[dst])] = (src, edge_type, dst)\n",
        "            node_emb[dst].append(item)\n",
        "        self.mapping = mapping\n",
        "        for node_type, embs in node_emb.items():\n",
        "            if len(embs) == 1:\n",
        "                node_emb[node_type] = embs[0]\n",
        "            else:\n",
        "                node_emb[node_type] = self.aggregate(embs)\n",
        "        return node_emb\n",
        "    \n",
        "    def aggregate(self, xs):\n",
        "        # TODO: Implement this function that aggregates all message type results.\n",
        "        # Here, xs is a list of tensors (embeddings) with respect to message \n",
        "        # type aggregation results.\n",
        "\n",
        "        if self.aggr == \"mean\":\n",
        "\n",
        "            ############# Your code here #############\n",
        "            ## (~2 lines of code)\n",
        "\n",
        "            x = torch.stack(xs, dim=-1)\n",
        "            return x.mean(dim=-1)\n",
        "\n",
        "            ##########################################\n",
        "\n",
        "        elif self.aggr == \"attn\":\n",
        "\n",
        "            ############# Your code here #############\n",
        "            ## (~10 lines of code)\n",
        "            ## Note:\n",
        "            ## 1. Store the value of attention alpha (as a numpy array) to self.alpha,\n",
        "            ## which has the shape (len(xs), ) self.alpha will be not be used \n",
        "            ## to backpropagate etc. in the model. We will use it to see how much \n",
        "            ## attention the layer pays on different message types.\n",
        "            ## 2. torch.softmax and torch.cat are useful.\n",
        "            ## 3. You might need to reshape the tensors by using the \n",
        "            ## `view()` function https://pytorch.org/docs/stable/tensor_view.html\n",
        "\n",
        "            # Number of nodes for that node type\n",
        "            N = xs[0].shape[0]\n",
        "\n",
        "            # Number of message types for that node type\n",
        "            M = len(xs)\n",
        "\n",
        "            # M * N * D\n",
        "            x = torch.cat(xs, dim=0).view(M, N, -1)\n",
        "\n",
        "            # M * N * 1\n",
        "            z = self.attn_proj(x).view(M, N)\n",
        "\n",
        "            # M * 1\n",
        "            z = z.mean(1)\n",
        "\n",
        "            # M * 1\n",
        "            alpha = torch.softmax(z, dim=0)\n",
        "\n",
        "            # Store the attention result to self.alpha as np array\n",
        "            self.alpha = alpha.view(-1).data.cpu().numpy()\n",
        "\n",
        "            alpha = alpha.view(M, 1, 1)\n",
        "\n",
        "            x = x * alpha\n",
        "\n",
        "            return x.sum(dim=0)\n",
        "\n",
        "            ##########################################"
      ],
      "execution_count": 80,
      "outputs": []
    },
    {
      "cell_type": "markdown",
      "metadata": {
        "id": "tn_pnCOKJw-d"
      },
      "source": [
        "## Initialize Heterogeneous GNN Layers\n",
        "\n",
        "Now let's initialize the Heterogeneous GNN Layers. Different from homogeneous graph case, heterogeneous case can be a little bit complex.\n",
        "\n",
        "In general, we need to create a dictionary of `HeteroGNNConv` layers where the keys are message types.\n",
        "\n",
        "* To get all message types, `deepsnap.hetero_graph.HeteroGraph.message_types` is useful.\n",
        "* If we are initializing the first conv layers, we need to get the feature dimension of each node type. Using `deepsnap.hetero_graph.HeteroGraph.num_node_features(node_type)` will return the node feature dimension of `node_type`. In this function, we will set each `HeteroGNNConv` `out_channels` to be `hidden_size`.\n",
        "* If we are not initializing the first conv layers, all node types will have the same embedding dimension `hidden_size` and we still set `HeteroGNNConv` `out_channels` to be `hidden_size` for simplicity.\n",
        "\n"
      ]
    },
    {
      "cell_type": "code",
      "metadata": {
        "id": "hSBImHClJzf4"
      },
      "source": [
        "def generate_convs(hetero_graph, conv, hidden_size, first_layer=False):\n",
        "    # TODO: Implement this function that returns a dictionary of `HeteroGNNConv` \n",
        "    # layers where the keys are message types. `hetero_graph` is deepsnap `HeteroGraph`\n",
        "    # object and the `conv` is the `HeteroGNNConv`.\n",
        "\n",
        "    convs = {}\n",
        "\n",
        "    ############# Your code here #############\n",
        "    ## (~9 lines of code)\n",
        "\n",
        "    for message_type in hetero_graph.message_types:\n",
        "      if first_layer is True:\n",
        "        src_type = message_type[0]\n",
        "        dst_type = message_type[2]\n",
        "        src_size = hetero_graph.num_node_features(src_type)\n",
        "        dst_size = hetero_graph.num_node_features(dst_type)\n",
        "        convs[message_type] = conv(src_size, dst_size, hidden_size)\n",
        "\n",
        "      else:\n",
        "        convs[message_type] = conv(hidden_size, hidden_size, hidden_size)\n",
        "\n",
        "    ##########################################\n",
        "    \n",
        "    return convs"
      ],
      "execution_count": 81,
      "outputs": []
    },
    {
      "cell_type": "markdown",
      "metadata": {
        "id": "U39dX8EpJ3FG"
      },
      "source": [
        "## HeteroGNN\n",
        "\n",
        "Now we will make a simple HeteroGNN model which contains only two `HeteroGNNWrapperConv` layers.\n",
        "\n",
        "For the forward function in `HeteroGNN`, the model is going to be run as following:\n",
        "\n",
        "$\\text{self.convs1} \\rightarrow \\text{self.bns1} \\rightarrow \\text{self.relus1} \\rightarrow \\text{self.convs2} \\rightarrow \\text{self.bns2} \\rightarrow \\text{self.relus2} \\rightarrow \\text{self.post_mps}$"
      ]
    },
    {
      "cell_type": "code",
      "metadata": {
        "id": "rplknA8aJ6J5"
      },
      "source": [
        "class HeteroGNN(torch.nn.Module):\n",
        "    def __init__(self, hetero_graph, args, aggr=\"mean\"):\n",
        "        super(HeteroGNN, self).__init__()\n",
        "\n",
        "        self.aggr = aggr\n",
        "        self.hidden_size = args['hidden_size']\n",
        "\n",
        "        self.convs1 = None\n",
        "        self.convs2 = None\n",
        "\n",
        "        self.bns1 = nn.ModuleDict()\n",
        "        self.bns2 = nn.ModuleDict()\n",
        "        self.relus1 = nn.ModuleDict()\n",
        "        self.relus2 = nn.ModuleDict()\n",
        "        self.post_mps = nn.ModuleDict()\n",
        "\n",
        "        ############# Your code here #############\n",
        "        ## (~10 lines of code)\n",
        "        ## Note:\n",
        "        ## 1. For self.convs1 and self.convs2, call generate_convs at first and then\n",
        "        ## pass the returned dictionary of `HeteroGNNConv` to `HeteroGNNWrapperConv`.\n",
        "        ## 2. For self.bns, self.relus and self.post_mps, the keys are node_types.\n",
        "        ## `deepsnap.hetero_graph.HeteroGraph.node_types` will be helpful.\n",
        "        ## 3. Initialize all batchnorms to torch.nn.BatchNorm1d(hidden_size, eps=1.0).\n",
        "        ## 4. Initialize all relus to nn.LeakyReLU().\n",
        "        ## 5. For self.post_mps, each value in the ModuleDict is a linear layer \n",
        "        ## where the `out_features` is the number of classes for that node type.\n",
        "        ## `deepsnap.hetero_graph.HeteroGraph.num_node_labels(node_type)` will be\n",
        "        ## useful.\n",
        "\n",
        "        convs1 = generate_convs(hetero_graph,\n",
        "                                HeteroGNNConv,\n",
        "                                self.hidden_size,\n",
        "                                first_layer = True)\n",
        "        \n",
        "        convs2 = generate_convs(hetero_graph,\n",
        "                                HeteroGNNConv,\n",
        "                                self.hidden_size)\n",
        "        \n",
        "        self.convs1 = HeteroGNNWrapperConv(convs1,\n",
        "                                           args,\n",
        "                                           aggr=self.aggr)\n",
        "        \n",
        "        self.convs2 = HeteroGNNWrapperConv(convs2,\n",
        "                                           args,\n",
        "                                           aggr=self.aggr)\n",
        "        \n",
        "        for node_type in hetero_graph.node_types:\n",
        "          self.bns1[node_type] = torch.nn.BatchNorm1d(self.hidden_size, eps=1)\n",
        "          self.bns2[node_type] = torch.nn.BatchNorm1d(self.hidden_size, eps=1)\n",
        "\n",
        "          self.post_mps[node_type] = nn.Linear(self.hidden_size, hetero_graph.num_node_labels(node_type))\n",
        "\n",
        "          self.relus1[node_type] = nn.LeakyReLU()\n",
        "          self.relus2[node_type] = nn.LeakyReLU()\n",
        "\n",
        "        ##########################################\n",
        "\n",
        "    def forward(self, node_feature, edge_index):\n",
        "        # TODO: Implement the forward function. Notice that `node_feature` is \n",
        "        # a dictionary of tensors where keys are node types and values are \n",
        "        # corresponding feature tensors. The `edge_index` is a dictionary of \n",
        "        # tensors where keys are message types and values are corresponding\n",
        "        # edge index tensors (with respect to each message type).\n",
        "\n",
        "        x = node_feature\n",
        "\n",
        "        ############# Your code here #############\n",
        "        ## (~7 lines of code)\n",
        "        ## Note:\n",
        "        ## 1. `deepsnap.hetero_gnn.forward_op` can be helpful.\n",
        "\n",
        "        x = self.convs1(x, edge_index)\n",
        "        x = forward_op(x, self.bns1)\n",
        "        x = forward_op(x, self.relus1)\n",
        "        \n",
        "        x = self.convs2(x, edge_index)\n",
        "        x = forward_op(x, self.bns2)\n",
        "        x = forward_op(x, self.relus2)\n",
        "\n",
        "        x = forward_op(x, self.post_mps)\n",
        "\n",
        "        ##########################################\n",
        "        \n",
        "        return x\n",
        "\n",
        "    def loss(self, preds, y, indices):\n",
        "        \n",
        "        loss = 0\n",
        "        loss_func = F.cross_entropy\n",
        "\n",
        "        ############# Your code here #############\n",
        "        ## (~3 lines of code)\n",
        "        ## Note:\n",
        "        ## 1. For each node type in preds, accumulate computed loss to `loss`\n",
        "        ## 2. Loss need to be computed with respect to the given index\n",
        "\n",
        "        for node_type in preds:\n",
        "          idx = indices[node_type]\n",
        "          loss += loss_func(preds[node_type][idx], y[node_type][idx])\n",
        "\n",
        "        ##########################################\n",
        "\n",
        "        return loss"
      ],
      "execution_count": 82,
      "outputs": []
    },
    {
      "cell_type": "markdown",
      "metadata": {
        "id": "o9e7q_hUJ8zB"
      },
      "source": [
        "## Training and Testing\n",
        "\n",
        "Here we provide you with the functions to train and test. You only need to implement one line of code here.\n",
        "\n",
        "**Please do not modify other parts in `train` and `test` for grading purposes.**"
      ]
    },
    {
      "cell_type": "code",
      "metadata": {
        "id": "CI5Hl_5TJ_YL"
      },
      "source": [
        "def train(model, optimizer, hetero_graph, train_idx):\n",
        "    model.train()\n",
        "    optimizer.zero_grad()\n",
        "    preds = model(hetero_graph.node_feature, hetero_graph.edge_index)\n",
        "\n",
        "    loss = None\n",
        "\n",
        "    ############# Your code here #############\n",
        "    ## Note:\n",
        "    ## 1. `deepsnap.hetero_graph.HeteroGraph.node_label` is useful\n",
        "    ## 2. Compute the loss here\n",
        "    loss = model.loss(preds,\n",
        "                      hetero_graph.node_label,\n",
        "                      train_idx)\n",
        "\n",
        "    ##########################################\n",
        "\n",
        "    loss.backward()\n",
        "    optimizer.step()\n",
        "    return loss.item()\n",
        "\n",
        "def test(model, graph, indices, best_model=None, best_val=0):\n",
        "    model.eval()\n",
        "    accs = []\n",
        "    for index in indices:\n",
        "        preds = model(graph.node_feature, graph.edge_index)\n",
        "        num_node_types = 0\n",
        "        micro = 0\n",
        "        macro = 0\n",
        "        for node_type in preds:\n",
        "            idx = index[node_type]\n",
        "            pred = preds[node_type][idx]\n",
        "            pred = pred.max(1)[1]\n",
        "            label_np = graph.node_label[node_type][idx].cpu().numpy()\n",
        "            pred_np = pred.cpu().numpy()\n",
        "            micro = f1_score(label_np, pred_np, average='micro')\n",
        "            macro = f1_score(label_np, pred_np, average='macro')\n",
        "            num_node_types += 1\n",
        "        # Averaging f1 score might not make sense, but in our example we only\n",
        "        # have one node type\n",
        "        micro /= num_node_types\n",
        "        macro /= num_node_types\n",
        "        accs.append((micro, macro))\n",
        "    if accs[1][0] > best_val:\n",
        "        best_val = accs[1][0]\n",
        "        best_model = copy.deepcopy(model)\n",
        "    return accs, best_model, best_val"
      ],
      "execution_count": 83,
      "outputs": []
    },
    {
      "cell_type": "code",
      "metadata": {
        "id": "DpNz9B5AKBUU"
      },
      "source": [
        "# Please do not change the following parameters\n",
        "args = {\n",
        "    'device': torch.device('cuda' if torch.cuda.is_available() else 'cpu'),\n",
        "    'hidden_size': 64,\n",
        "    'epochs': 100,\n",
        "    'weight_decay': 1e-5,\n",
        "    'lr': 0.003,\n",
        "    'attn_size': 32,\n",
        "}"
      ],
      "execution_count": 84,
      "outputs": []
    },
    {
      "cell_type": "markdown",
      "metadata": {
        "id": "pRHbWD4hKED8"
      },
      "source": [
        "## Dataset and Preprocessing\n",
        "\n",
        "In the next, we will load the data and create a tensor backend (without a NetworkX graph) `deepsnap.hetero_graph.HeteroGraph` object.\n",
        "\n",
        "We will use the `ACM(3025)` dataset in our node property prediction task, which is proposed in **HAN** ([Wang et al. (2019)](https://arxiv.org/abs/1903.07293)) and our dataset is extracted from [DGL](https://www.dgl.ai/)'s [ACM.mat](https://data.dgl.ai/dataset/ACM.mat).\n",
        "\n",
        "The original ACM dataset has three node types and two edge (relation) types. For simplicity, we simplify the heterogeneous graph to one node type and two edge types (shown below). This means that in our heterogeneous graph, we have one node type (paper) and two message types (paper, author, paper) and (paper, subject, paper).\n",
        "\n",
        "<br/>\n",
        "<center>\n",
        "<img src=\"http://web.stanford.edu/class/cs224w/images/colab4/cs224w-acm.png\"/>\n",
        "</center>"
      ]
    },
    {
      "cell_type": "code",
      "metadata": {
        "id": "lJy03_IsKGh6",
        "colab": {
          "base_uri": "https://localhost:8080/"
        },
        "outputId": "38302fcd-7e76-42e4-beae-1b0da4e5e3cb"
      },
      "source": [
        "print(\"Device: {}\".format(args['device']))\n",
        "\n",
        "# Load the data\n",
        "data = torch.load(\"acm.pkl\")\n",
        "\n",
        "# Message types\n",
        "message_type_1 = (\"paper\", \"author\", \"paper\")\n",
        "message_type_2 = (\"paper\", \"subject\", \"paper\")\n",
        "\n",
        "# Dictionary of edge indices\n",
        "edge_index = {}\n",
        "edge_index[message_type_1] = data['pap']\n",
        "edge_index[message_type_2] = data['psp']\n",
        "\n",
        "# Dictionary of node features\n",
        "node_feature = {}\n",
        "node_feature[\"paper\"] = data['feature']\n",
        "\n",
        "# Dictionary of node labels\n",
        "node_label = {}\n",
        "node_label[\"paper\"] = data['label']\n",
        "\n",
        "# Load the train, validation and test indices\n",
        "train_idx = {\"paper\": data['train_idx'].to(args['device'])}\n",
        "val_idx = {\"paper\": data['val_idx'].to(args['device'])}\n",
        "test_idx = {\"paper\": data['test_idx'].to(args['device'])}\n",
        "\n",
        "# Construct a deepsnap tensor backend HeteroGraph\n",
        "hetero_graph = HeteroGraph(\n",
        "    node_feature=node_feature,\n",
        "    node_label=node_label,\n",
        "    edge_index=edge_index,\n",
        "    directed=True\n",
        ")\n",
        "\n",
        "print(f\"ACM heterogeneous graph: {hetero_graph.num_nodes()} nodes, {hetero_graph.num_edges()} edges\")\n",
        "\n",
        "# Node feature and node label to device\n",
        "for key in hetero_graph.node_feature:\n",
        "    hetero_graph.node_feature[key] = hetero_graph.node_feature[key].to(args['device'])\n",
        "for key in hetero_graph.node_label:\n",
        "    hetero_graph.node_label[key] = hetero_graph.node_label[key].to(args['device'])\n",
        "\n",
        "# Edge_index to sparse tensor and to device\n",
        "for key in hetero_graph.edge_index:\n",
        "    edge_index = hetero_graph.edge_index[key]\n",
        "    adj = SparseTensor(row=edge_index[0], col=edge_index[1], sparse_sizes=(hetero_graph.num_nodes('paper'), hetero_graph.num_nodes('paper')))\n",
        "    hetero_graph.edge_index[key] = adj.t().to(args['device'])\n",
        "print(hetero_graph.edge_index[message_type_1])\n",
        "print(hetero_graph.edge_index[message_type_2])"
      ],
      "execution_count": 85,
      "outputs": [
        {
          "output_type": "stream",
          "name": "stdout",
          "text": [
            "Device: cuda\n",
            "ACM heterogeneous graph: {'paper': 3025} nodes, {('paper', 'author', 'paper'): 26256, ('paper', 'subject', 'paper'): 2207736} edges\n",
            "SparseTensor(row=tensor([   0,    0,    0,  ..., 3024, 3024, 3024], device='cuda:0'),\n",
            "             col=tensor([   8,   20,   51,  ..., 2948, 2983, 2991], device='cuda:0'),\n",
            "             size=(3025, 3025), nnz=26256, density=0.29%)\n",
            "SparseTensor(row=tensor([   0,    0,    0,  ..., 3024, 3024, 3024], device='cuda:0'),\n",
            "             col=tensor([  75,  434,  534,  ..., 3020, 3021, 3022], device='cuda:0'),\n",
            "             size=(3025, 3025), nnz=2207736, density=24.13%)\n"
          ]
        }
      ]
    },
    {
      "cell_type": "markdown",
      "metadata": {
        "id": "hrmU5-QQKJv6"
      },
      "source": [
        "## Start Training!\n",
        "\n",
        "Now lets start training!"
      ]
    },
    {
      "cell_type": "markdown",
      "metadata": {
        "id": "y0HplV9hKMkc"
      },
      "source": [
        "## Training the Mean Aggregation"
      ]
    },
    {
      "cell_type": "code",
      "metadata": {
        "id": "ZgwfyzLbKOUw",
        "colab": {
          "base_uri": "https://localhost:8080/"
        },
        "outputId": "95b13666-b7f3-492e-d7d3-78632f94e688"
      },
      "source": [
        "best_model = None\n",
        "best_val = 0\n",
        "\n",
        "model = HeteroGNN(hetero_graph, args, aggr=\"mean\").to(args['device'])\n",
        "optimizer = torch.optim.Adam(model.parameters(), lr=args['lr'], weight_decay=args['weight_decay'])\n",
        "\n",
        "for epoch in range(args['epochs']):\n",
        "    loss = train(model, optimizer, hetero_graph, train_idx)\n",
        "    accs, best_model, best_val = test(model, hetero_graph, [train_idx, val_idx, test_idx], best_model, best_val)\n",
        "    print(\n",
        "        f\"Epoch {epoch + 1}: loss {round(loss, 5)}, \"\n",
        "        f\"train micro {round(accs[0][0] * 100, 2)}%, train macro {round(accs[0][1] * 100, 2)}%, \"\n",
        "        f\"valid micro {round(accs[1][0] * 100, 2)}%, valid macro {round(accs[1][1] * 100, 2)}%, \"\n",
        "        f\"test micro {round(accs[2][0] * 100, 2)}%, test macro {round(accs[2][1] * 100, 2)}%\"\n",
        "    )\n",
        "best_accs, _, _ = test(best_model, hetero_graph, [train_idx, val_idx, test_idx])\n",
        "print(\n",
        "    f\"Best model: \"\n",
        "    f\"train micro {round(best_accs[0][0] * 100, 2)}%, train macro {round(best_accs[0][1] * 100, 2)}%, \"\n",
        "    f\"valid micro {round(best_accs[1][0] * 100, 2)}%, valid macro {round(best_accs[1][1] * 100, 2)}%, \"\n",
        "    f\"test micro {round(best_accs[2][0] * 100, 2)}%, test macro {round(best_accs[2][1] * 100, 2)}%\"\n",
        ")"
      ],
      "execution_count": 86,
      "outputs": [
        {
          "output_type": "stream",
          "name": "stdout",
          "text": [
            "Epoch 1: loss 1.0987, train micro 45.5%, train macro 36.17%, valid micro 39.0%, valid macro 27.09%, test micro 37.22%, test macro 26.09%\n",
            "Epoch 2: loss 1.08992, train micro 65.67%, train macro 53.5%, valid micro 65.33%, valid macro 53.6%, test micro 65.22%, test macro 54.22%\n",
            "Epoch 3: loss 1.0618, train micro 65.83%, train macro 54.48%, valid micro 65.0%, valid macro 54.34%, test micro 64.71%, test macro 54.12%\n",
            "Epoch 4: loss 1.00556, train micro 66.17%, train macro 55.28%, valid micro 65.0%, valid macro 54.34%, test micro 64.75%, test macro 54.14%\n",
            "Epoch 5: loss 0.9083, train micro 66.67%, train macro 56.13%, valid micro 65.0%, valid macro 54.34%, test micro 64.8%, test macro 54.17%\n",
            "Epoch 6: loss 0.76316, train micro 67.0%, train macro 56.87%, valid micro 65.0%, valid macro 54.34%, test micro 64.8%, test macro 54.17%\n",
            "Epoch 7: loss 0.5814, train micro 67.5%, train macro 57.87%, valid micro 65.33%, valid macro 55.07%, test micro 64.85%, test macro 54.25%\n",
            "Epoch 8: loss 0.40034, train micro 70.0%, train macro 62.53%, valid micro 66.0%, valid macro 55.56%, test micro 65.22%, test macro 54.58%\n",
            "Epoch 9: loss 0.26032, train micro 74.0%, train macro 69.24%, valid micro 68.0%, valid macro 59.22%, test micro 65.6%, test macro 54.95%\n",
            "Epoch 10: loss 0.16993, train micro 79.33%, train macro 76.95%, valid micro 72.33%, valid macro 67.13%, test micro 66.26%, test macro 56.24%\n",
            "Epoch 11: loss 0.11363, train micro 88.33%, train macro 87.77%, valid micro 81.67%, valid macro 80.34%, test micro 68.28%, test macro 60.17%\n",
            "Epoch 12: loss 0.07679, train micro 93.5%, train macro 93.35%, valid micro 88.67%, valid macro 88.39%, test micro 72.0%, test macro 66.75%\n",
            "Epoch 13: loss 0.05304, train micro 96.67%, train macro 96.64%, valid micro 91.0%, valid macro 90.87%, test micro 74.78%, test macro 71.14%\n",
            "Epoch 14: loss 0.0384, train micro 98.17%, train macro 98.16%, valid micro 92.33%, valid macro 92.22%, test micro 77.41%, test macro 74.88%\n",
            "Epoch 15: loss 0.02926, train micro 98.5%, train macro 98.5%, valid micro 94.33%, valid macro 94.26%, test micro 79.2%, test macro 77.22%\n",
            "Epoch 16: loss 0.02344, train micro 99.0%, train macro 99.0%, valid micro 95.0%, valid macro 94.94%, test micro 80.75%, test macro 79.2%\n",
            "Epoch 17: loss 0.01954, train micro 99.17%, train macro 99.17%, valid micro 96.33%, valid macro 96.3%, test micro 82.31%, test macro 81.15%\n",
            "Epoch 18: loss 0.01674, train micro 99.33%, train macro 99.33%, valid micro 97.0%, valid macro 96.98%, test micro 82.82%, test macro 81.77%\n",
            "Epoch 19: loss 0.01457, train micro 99.33%, train macro 99.33%, valid micro 97.0%, valid macro 96.98%, test micro 83.15%, test macro 82.19%\n",
            "Epoch 20: loss 0.0128, train micro 99.67%, train macro 99.67%, valid micro 97.0%, valid macro 96.98%, test micro 83.11%, test macro 82.13%\n",
            "Epoch 21: loss 0.01129, train micro 99.83%, train macro 99.83%, valid micro 97.33%, valid macro 97.32%, test micro 82.82%, test macro 81.81%\n",
            "Epoch 22: loss 0.00995, train micro 99.83%, train macro 99.83%, valid micro 97.0%, valid macro 96.98%, test micro 82.92%, test macro 81.92%\n",
            "Epoch 23: loss 0.00879, train micro 100.0%, train macro 100.0%, valid micro 97.0%, valid macro 96.98%, test micro 82.78%, test macro 81.79%\n",
            "Epoch 24: loss 0.00787, train micro 100.0%, train macro 100.0%, valid micro 96.67%, valid macro 96.64%, test micro 82.64%, test macro 81.65%\n",
            "Epoch 25: loss 0.00705, train micro 100.0%, train macro 100.0%, valid micro 96.33%, valid macro 96.3%, test micro 82.73%, test macro 81.8%\n",
            "Epoch 26: loss 0.00632, train micro 100.0%, train macro 100.0%, valid micro 96.33%, valid macro 96.31%, test micro 82.59%, test macro 81.65%\n",
            "Epoch 27: loss 0.00569, train micro 100.0%, train macro 100.0%, valid micro 97.0%, valid macro 97.0%, test micro 82.35%, test macro 81.4%\n",
            "Epoch 28: loss 0.00514, train micro 100.0%, train macro 100.0%, valid micro 96.67%, valid macro 96.68%, test micro 82.45%, test macro 81.5%\n",
            "Epoch 29: loss 0.00466, train micro 100.0%, train macro 100.0%, valid micro 96.67%, valid macro 96.68%, test micro 82.35%, test macro 81.4%\n",
            "Epoch 30: loss 0.00424, train micro 100.0%, train macro 100.0%, valid micro 96.67%, valid macro 96.68%, test micro 81.98%, test macro 81.04%\n",
            "Epoch 31: loss 0.00387, train micro 100.0%, train macro 100.0%, valid micro 96.67%, valid macro 96.68%, test micro 82.12%, test macro 81.26%\n",
            "Epoch 32: loss 0.00349, train micro 100.0%, train macro 100.0%, valid micro 96.67%, valid macro 96.68%, test micro 82.02%, test macro 81.16%\n",
            "Epoch 33: loss 0.00303, train micro 100.0%, train macro 100.0%, valid micro 97.0%, valid macro 97.01%, test micro 82.12%, test macro 81.27%\n",
            "Epoch 34: loss 0.00261, train micro 100.0%, train macro 100.0%, valid micro 97.0%, valid macro 97.01%, test micro 82.16%, test macro 81.33%\n",
            "Epoch 35: loss 0.00223, train micro 100.0%, train macro 100.0%, valid micro 97.33%, valid macro 97.34%, test micro 82.12%, test macro 81.31%\n",
            "Epoch 36: loss 0.00191, train micro 100.0%, train macro 100.0%, valid micro 97.33%, valid macro 97.34%, test micro 82.16%, test macro 81.4%\n",
            "Epoch 37: loss 0.00164, train micro 100.0%, train macro 100.0%, valid micro 97.67%, valid macro 97.67%, test micro 82.35%, test macro 81.6%\n",
            "Epoch 38: loss 0.00142, train micro 100.0%, train macro 100.0%, valid micro 97.67%, valid macro 97.67%, test micro 82.59%, test macro 81.88%\n",
            "Epoch 39: loss 0.00123, train micro 100.0%, train macro 100.0%, valid micro 98.0%, valid macro 98.0%, test micro 82.59%, test macro 81.9%\n",
            "Epoch 40: loss 0.00109, train micro 100.0%, train macro 100.0%, valid micro 97.67%, valid macro 97.67%, test micro 82.78%, test macro 82.16%\n",
            "Epoch 41: loss 0.00097, train micro 100.0%, train macro 100.0%, valid micro 97.67%, valid macro 97.67%, test micro 82.92%, test macro 82.36%\n",
            "Epoch 42: loss 0.00088, train micro 100.0%, train macro 100.0%, valid micro 97.33%, valid macro 97.34%, test micro 82.96%, test macro 82.41%\n",
            "Epoch 43: loss 0.00081, train micro 100.0%, train macro 100.0%, valid micro 97.33%, valid macro 97.34%, test micro 83.01%, test macro 82.48%\n",
            "Epoch 44: loss 0.00075, train micro 100.0%, train macro 100.0%, valid micro 97.33%, valid macro 97.34%, test micro 83.2%, test macro 82.7%\n",
            "Epoch 45: loss 0.0007, train micro 100.0%, train macro 100.0%, valid micro 97.33%, valid macro 97.34%, test micro 83.25%, test macro 82.78%\n",
            "Epoch 46: loss 0.00066, train micro 100.0%, train macro 100.0%, valid micro 97.33%, valid macro 97.34%, test micro 83.11%, test macro 82.64%\n",
            "Epoch 47: loss 0.00063, train micro 100.0%, train macro 100.0%, valid micro 97.33%, valid macro 97.34%, test micro 82.92%, test macro 82.45%\n",
            "Epoch 48: loss 0.0006, train micro 100.0%, train macro 100.0%, valid micro 97.33%, valid macro 97.34%, test micro 82.92%, test macro 82.48%\n",
            "Epoch 49: loss 0.00057, train micro 100.0%, train macro 100.0%, valid micro 97.33%, valid macro 97.34%, test micro 82.92%, test macro 82.48%\n",
            "Epoch 50: loss 0.00055, train micro 100.0%, train macro 100.0%, valid micro 97.33%, valid macro 97.34%, test micro 83.29%, test macro 82.9%\n",
            "Epoch 51: loss 0.00053, train micro 100.0%, train macro 100.0%, valid micro 97.33%, valid macro 97.34%, test micro 83.2%, test macro 82.81%\n",
            "Epoch 52: loss 0.00051, train micro 100.0%, train macro 100.0%, valid micro 97.33%, valid macro 97.34%, test micro 83.34%, test macro 82.97%\n",
            "Epoch 53: loss 0.00049, train micro 100.0%, train macro 100.0%, valid micro 97.33%, valid macro 97.34%, test micro 83.44%, test macro 83.09%\n",
            "Epoch 54: loss 0.00048, train micro 100.0%, train macro 100.0%, valid micro 97.33%, valid macro 97.34%, test micro 83.39%, test macro 83.05%\n",
            "Epoch 55: loss 0.00046, train micro 100.0%, train macro 100.0%, valid micro 97.33%, valid macro 97.34%, test micro 83.29%, test macro 82.96%\n",
            "Epoch 56: loss 0.00045, train micro 100.0%, train macro 100.0%, valid micro 97.67%, valid macro 97.67%, test micro 83.34%, test macro 83.02%\n",
            "Epoch 57: loss 0.00044, train micro 100.0%, train macro 100.0%, valid micro 97.67%, valid macro 97.67%, test micro 83.39%, test macro 83.08%\n",
            "Epoch 58: loss 0.00043, train micro 100.0%, train macro 100.0%, valid micro 97.33%, valid macro 97.33%, test micro 83.48%, test macro 83.18%\n",
            "Epoch 59: loss 0.00042, train micro 100.0%, train macro 100.0%, valid micro 97.0%, valid macro 97.0%, test micro 83.53%, test macro 83.23%\n",
            "Epoch 60: loss 0.00041, train micro 100.0%, train macro 100.0%, valid micro 96.67%, valid macro 96.67%, test micro 83.48%, test macro 83.18%\n",
            "Epoch 61: loss 0.0004, train micro 100.0%, train macro 100.0%, valid micro 96.67%, valid macro 96.67%, test micro 83.48%, test macro 83.17%\n",
            "Epoch 62: loss 0.00039, train micro 100.0%, train macro 100.0%, valid micro 96.67%, valid macro 96.67%, test micro 83.48%, test macro 83.18%\n",
            "Epoch 63: loss 0.00038, train micro 100.0%, train macro 100.0%, valid micro 96.67%, valid macro 96.67%, test micro 83.58%, test macro 83.28%\n",
            "Epoch 64: loss 0.00037, train micro 100.0%, train macro 100.0%, valid micro 96.67%, valid macro 96.67%, test micro 83.58%, test macro 83.29%\n",
            "Epoch 65: loss 0.00037, train micro 100.0%, train macro 100.0%, valid micro 96.67%, valid macro 96.67%, test micro 83.48%, test macro 83.2%\n",
            "Epoch 66: loss 0.00036, train micro 100.0%, train macro 100.0%, valid micro 96.67%, valid macro 96.67%, test micro 83.48%, test macro 83.21%\n",
            "Epoch 67: loss 0.00035, train micro 100.0%, train macro 100.0%, valid micro 96.67%, valid macro 96.67%, test micro 83.39%, test macro 83.12%\n",
            "Epoch 68: loss 0.00035, train micro 100.0%, train macro 100.0%, valid micro 96.67%, valid macro 96.67%, test micro 83.53%, test macro 83.27%\n",
            "Epoch 69: loss 0.00034, train micro 100.0%, train macro 100.0%, valid micro 96.67%, valid macro 96.67%, test micro 83.58%, test macro 83.32%\n",
            "Epoch 70: loss 0.00034, train micro 100.0%, train macro 100.0%, valid micro 96.67%, valid macro 96.67%, test micro 83.48%, test macro 83.24%\n",
            "Epoch 71: loss 0.00033, train micro 100.0%, train macro 100.0%, valid micro 96.67%, valid macro 96.67%, test micro 83.48%, test macro 83.24%\n",
            "Epoch 72: loss 0.00033, train micro 100.0%, train macro 100.0%, valid micro 96.67%, valid macro 96.67%, test micro 83.44%, test macro 83.2%\n",
            "Epoch 73: loss 0.00032, train micro 100.0%, train macro 100.0%, valid micro 96.67%, valid macro 96.67%, test micro 83.29%, test macro 83.07%\n",
            "Epoch 74: loss 0.00032, train micro 100.0%, train macro 100.0%, valid micro 96.67%, valid macro 96.67%, test micro 83.44%, test macro 83.22%\n",
            "Epoch 75: loss 0.00031, train micro 100.0%, train macro 100.0%, valid micro 96.67%, valid macro 96.67%, test micro 83.48%, test macro 83.27%\n",
            "Epoch 76: loss 0.00031, train micro 100.0%, train macro 100.0%, valid micro 96.67%, valid macro 96.67%, test micro 83.53%, test macro 83.32%\n",
            "Epoch 77: loss 0.00031, train micro 100.0%, train macro 100.0%, valid micro 96.67%, valid macro 96.67%, test micro 83.48%, test macro 83.28%\n",
            "Epoch 78: loss 0.0003, train micro 100.0%, train macro 100.0%, valid micro 96.67%, valid macro 96.67%, test micro 83.39%, test macro 83.19%\n",
            "Epoch 79: loss 0.0003, train micro 100.0%, train macro 100.0%, valid micro 96.67%, valid macro 96.67%, test micro 83.48%, test macro 83.29%\n",
            "Epoch 80: loss 0.00029, train micro 100.0%, train macro 100.0%, valid micro 96.67%, valid macro 96.67%, test micro 83.48%, test macro 83.3%\n",
            "Epoch 81: loss 0.00029, train micro 100.0%, train macro 100.0%, valid micro 96.67%, valid macro 96.67%, test micro 83.44%, test macro 83.25%\n",
            "Epoch 82: loss 0.00029, train micro 100.0%, train macro 100.0%, valid micro 96.67%, valid macro 96.67%, test micro 83.48%, test macro 83.3%\n",
            "Epoch 83: loss 0.00029, train micro 100.0%, train macro 100.0%, valid micro 96.67%, valid macro 96.67%, test micro 83.53%, test macro 83.35%\n",
            "Epoch 84: loss 0.00028, train micro 100.0%, train macro 100.0%, valid micro 96.67%, valid macro 96.67%, test micro 83.48%, test macro 83.3%\n",
            "Epoch 85: loss 0.00028, train micro 100.0%, train macro 100.0%, valid micro 96.67%, valid macro 96.67%, test micro 83.53%, test macro 83.35%\n",
            "Epoch 86: loss 0.00028, train micro 100.0%, train macro 100.0%, valid micro 96.67%, valid macro 96.67%, test micro 83.53%, test macro 83.35%\n",
            "Epoch 87: loss 0.00027, train micro 100.0%, train macro 100.0%, valid micro 96.67%, valid macro 96.67%, test micro 83.53%, test macro 83.36%\n",
            "Epoch 88: loss 0.00027, train micro 100.0%, train macro 100.0%, valid micro 96.67%, valid macro 96.67%, test micro 83.53%, test macro 83.37%\n",
            "Epoch 89: loss 0.00027, train micro 100.0%, train macro 100.0%, valid micro 96.67%, valid macro 96.67%, test micro 83.53%, test macro 83.37%\n",
            "Epoch 90: loss 0.00027, train micro 100.0%, train macro 100.0%, valid micro 96.67%, valid macro 96.67%, test micro 83.53%, test macro 83.37%\n",
            "Epoch 91: loss 0.00026, train micro 100.0%, train macro 100.0%, valid micro 97.0%, valid macro 97.0%, test micro 83.48%, test macro 83.33%\n",
            "Epoch 92: loss 0.00026, train micro 100.0%, train macro 100.0%, valid micro 97.33%, valid macro 97.34%, test micro 83.48%, test macro 83.33%\n",
            "Epoch 93: loss 0.00026, train micro 100.0%, train macro 100.0%, valid micro 97.33%, valid macro 97.34%, test micro 83.48%, test macro 83.33%\n",
            "Epoch 94: loss 0.00026, train micro 100.0%, train macro 100.0%, valid micro 97.33%, valid macro 97.34%, test micro 83.48%, test macro 83.33%\n",
            "Epoch 95: loss 0.00026, train micro 100.0%, train macro 100.0%, valid micro 97.33%, valid macro 97.34%, test micro 83.48%, test macro 83.33%\n",
            "Epoch 96: loss 0.00025, train micro 100.0%, train macro 100.0%, valid micro 97.33%, valid macro 97.34%, test micro 83.48%, test macro 83.33%\n",
            "Epoch 97: loss 0.00025, train micro 100.0%, train macro 100.0%, valid micro 97.33%, valid macro 97.34%, test micro 83.48%, test macro 83.33%\n",
            "Epoch 98: loss 0.00025, train micro 100.0%, train macro 100.0%, valid micro 97.33%, valid macro 97.34%, test micro 83.44%, test macro 83.28%\n",
            "Epoch 99: loss 0.00025, train micro 100.0%, train macro 100.0%, valid micro 97.33%, valid macro 97.34%, test micro 83.44%, test macro 83.28%\n",
            "Epoch 100: loss 0.00025, train micro 100.0%, train macro 100.0%, valid micro 97.33%, valid macro 97.34%, test micro 83.44%, test macro 83.28%\n",
            "Best model: train micro 100.0%, train macro 100.0%, valid micro 98.0%, valid macro 98.0%, test micro 82.59%, test macro 81.9%\n"
          ]
        }
      ]
    },
    {
      "cell_type": "markdown",
      "metadata": {
        "id": "rtkKBI_nKS1T"
      },
      "source": [
        "## Question 2.1: What is the maximum **micro** F1 score you could get for the best_model on test set when using the mean aggregation? (10 points)\n",
        "\n",
        "Submit your answers on Gradescope."
      ]
    },
    {
      "cell_type": "markdown",
      "metadata": {
        "id": "AIvw51jMKTvn"
      },
      "source": [
        "## Question 2.2: What is the maximum **macro** F1 score you could get for the best_model on test set when using the mean aggregation? (10 points)\n",
        "\n",
        "Submit your answers on Gradescope."
      ]
    },
    {
      "cell_type": "markdown",
      "metadata": {
        "id": "JBiYvwcuKd0z"
      },
      "source": [
        "## Training the Attention Aggregation"
      ]
    },
    {
      "cell_type": "code",
      "metadata": {
        "id": "e6na5zyQKfvi",
        "colab": {
          "base_uri": "https://localhost:8080/"
        },
        "outputId": "c9b05193-0e56-42d2-ff16-1bb7813152ca"
      },
      "source": [
        "best_model = None\n",
        "best_val = 0\n",
        "\n",
        "output_size = hetero_graph.num_node_labels('paper')\n",
        "model = HeteroGNN(hetero_graph, args, aggr=\"attn\").to(args['device'])\n",
        "optimizer = torch.optim.Adam(model.parameters(), lr=args['lr'], weight_decay=args['weight_decay'])\n",
        "\n",
        "for epoch in range(args['epochs']):\n",
        "    loss = train(model, optimizer, hetero_graph, train_idx)\n",
        "    accs, best_model, best_val = test(model, hetero_graph, [train_idx, val_idx, test_idx], best_model, best_val)\n",
        "    print(\n",
        "        f\"Epoch {epoch + 1}: loss {round(loss, 5)}, \"\n",
        "        f\"train micro {round(accs[0][0] * 100, 2)}%, train macro {round(accs[0][1] * 100, 2)}%, \"\n",
        "        f\"valid micro {round(accs[1][0] * 100, 2)}%, valid macro {round(accs[1][1] * 100, 2)}%, \"\n",
        "        f\"test micro {round(accs[2][0] * 100, 2)}%, test macro {round(accs[2][1] * 100, 2)}%\"\n",
        "    )\n",
        "best_accs, _, _ = test(best_model, hetero_graph, [train_idx, val_idx, test_idx])\n",
        "print(\n",
        "    f\"Best model: \"\n",
        "    f\"train micro {round(best_accs[0][0] * 100, 2)}%, train macro {round(best_accs[0][1] * 100, 2)}%, \"\n",
        "    f\"valid micro {round(best_accs[1][0] * 100, 2)}%, valid macro {round(best_accs[1][1] * 100, 2)}%, \"\n",
        "    f\"test micro {round(best_accs[2][0] * 100, 2)}%, test macro {round(best_accs[2][1] * 100, 2)}%\"\n",
        ")"
      ],
      "execution_count": 87,
      "outputs": [
        {
          "output_type": "stream",
          "name": "stdout",
          "text": [
            "Epoch 1: loss 1.09971, train micro 33.33%, train macro 16.67%, valid micro 33.33%, valid macro 16.67%, test micro 32.89%, test macro 16.5%\n",
            "Epoch 2: loss 1.09203, train micro 68.83%, train macro 64.13%, valid micro 59.0%, valid macro 49.3%, test micro 52.24%, test macro 42.72%\n",
            "Epoch 3: loss 1.0659, train micro 71.67%, train macro 67.17%, valid micro 67.33%, valid macro 60.38%, test micro 62.4%, test macro 53.91%\n",
            "Epoch 4: loss 1.0131, train micro 66.33%, train macro 57.01%, valid micro 64.67%, valid macro 54.09%, test micro 64.33%, test macro 53.89%\n",
            "Epoch 5: loss 0.92111, train micro 66.17%, train macro 56.36%, valid micro 64.67%, valid macro 54.09%, test micro 64.52%, test macro 54.0%\n",
            "Epoch 6: loss 0.78237, train micro 66.17%, train macro 56.36%, valid micro 64.67%, valid macro 54.09%, test micro 64.47%, test macro 53.96%\n",
            "Epoch 7: loss 0.60872, train micro 66.17%, train macro 56.28%, valid micro 64.67%, valid macro 54.09%, test micro 64.56%, test macro 53.98%\n",
            "Epoch 8: loss 0.43734, train micro 66.33%, train macro 56.55%, valid micro 64.67%, valid macro 54.51%, test micro 64.71%, test macro 54.05%\n",
            "Epoch 9: loss 0.30407, train micro 67.83%, train macro 58.97%, valid micro 65.0%, valid macro 54.76%, test micro 64.8%, test macro 54.19%\n",
            "Epoch 10: loss 0.2134, train micro 72.0%, train macro 66.23%, valid micro 65.67%, valid macro 55.72%, test micro 65.04%, test macro 54.45%\n",
            "Epoch 11: loss 0.15198, train micro 75.67%, train macro 71.77%, valid micro 70.33%, valid macro 63.67%, test micro 65.69%, test macro 55.25%\n",
            "Epoch 12: loss 0.1086, train micro 83.17%, train macro 81.75%, valid micro 77.0%, valid macro 74.19%, test micro 66.73%, test macro 57.16%\n",
            "Epoch 13: loss 0.07796, train micro 89.17%, train macro 88.66%, valid micro 85.33%, valid macro 84.69%, test micro 69.18%, test macro 61.79%\n",
            "Epoch 14: loss 0.05685, train micro 93.67%, train macro 93.5%, valid micro 88.67%, valid macro 88.32%, test micro 71.2%, test macro 65.21%\n",
            "Epoch 15: loss 0.0425, train micro 95.83%, train macro 95.77%, valid micro 91.33%, valid macro 91.09%, test micro 73.18%, test macro 68.49%\n",
            "Epoch 16: loss 0.0326, train micro 97.0%, train macro 96.98%, valid micro 92.0%, valid macro 91.76%, test micro 74.64%, test macro 70.74%\n",
            "Epoch 17: loss 0.02573, train micro 98.0%, train macro 97.99%, valid micro 93.0%, valid macro 92.83%, test micro 76.56%, test macro 73.6%\n",
            "Epoch 18: loss 0.02101, train micro 98.5%, train macro 98.5%, valid micro 94.0%, valid macro 93.88%, test micro 77.98%, test macro 75.62%\n",
            "Epoch 19: loss 0.0177, train micro 99.17%, train macro 99.17%, valid micro 95.0%, valid macro 94.94%, test micro 78.78%, test macro 76.68%\n",
            "Epoch 20: loss 0.01529, train micro 99.33%, train macro 99.33%, valid micro 96.0%, valid macro 95.97%, test micro 80.05%, test macro 78.31%\n",
            "Epoch 21: loss 0.01349, train micro 99.17%, train macro 99.17%, valid micro 96.33%, valid macro 96.31%, test micro 81.04%, test macro 79.57%\n",
            "Epoch 22: loss 0.01208, train micro 99.83%, train macro 99.83%, valid micro 96.67%, valid macro 96.65%, test micro 81.84%, test macro 80.61%\n",
            "Epoch 23: loss 0.01092, train micro 99.83%, train macro 99.83%, valid micro 96.67%, valid macro 96.65%, test micro 82.31%, test macro 81.24%\n",
            "Epoch 24: loss 0.0099, train micro 100.0%, train macro 100.0%, valid micro 97.0%, valid macro 96.99%, test micro 83.01%, test macro 82.11%\n",
            "Epoch 25: loss 0.00895, train micro 100.0%, train macro 100.0%, valid micro 97.67%, valid macro 97.66%, test micro 83.53%, test macro 82.79%\n",
            "Epoch 26: loss 0.00798, train micro 100.0%, train macro 100.0%, valid micro 97.67%, valid macro 97.66%, test micro 83.72%, test macro 82.98%\n",
            "Epoch 27: loss 0.007, train micro 100.0%, train macro 100.0%, valid micro 97.67%, valid macro 97.66%, test micro 83.39%, test macro 82.63%\n",
            "Epoch 28: loss 0.00613, train micro 100.0%, train macro 100.0%, valid micro 97.33%, valid macro 97.32%, test micro 83.53%, test macro 82.83%\n",
            "Epoch 29: loss 0.00541, train micro 100.0%, train macro 100.0%, valid micro 98.0%, valid macro 98.0%, test micro 83.25%, test macro 82.56%\n",
            "Epoch 30: loss 0.00485, train micro 100.0%, train macro 100.0%, valid micro 97.67%, valid macro 97.67%, test micro 83.29%, test macro 82.6%\n",
            "Epoch 31: loss 0.00438, train micro 100.0%, train macro 100.0%, valid micro 97.67%, valid macro 97.67%, test micro 83.06%, test macro 82.37%\n",
            "Epoch 32: loss 0.00381, train micro 100.0%, train macro 100.0%, valid micro 97.33%, valid macro 97.33%, test micro 82.68%, test macro 81.99%\n",
            "Epoch 33: loss 0.00318, train micro 100.0%, train macro 100.0%, valid micro 97.33%, valid macro 97.33%, test micro 82.54%, test macro 81.84%\n",
            "Epoch 34: loss 0.00261, train micro 100.0%, train macro 100.0%, valid micro 97.33%, valid macro 97.33%, test micro 82.4%, test macro 81.73%\n",
            "Epoch 35: loss 0.00215, train micro 100.0%, train macro 100.0%, valid micro 97.33%, valid macro 97.33%, test micro 82.26%, test macro 81.58%\n",
            "Epoch 36: loss 0.0018, train micro 100.0%, train macro 100.0%, valid micro 96.67%, valid macro 96.67%, test micro 82.31%, test macro 81.64%\n",
            "Epoch 37: loss 0.00154, train micro 100.0%, train macro 100.0%, valid micro 96.33%, valid macro 96.34%, test micro 82.4%, test macro 81.75%\n",
            "Epoch 38: loss 0.00134, train micro 100.0%, train macro 100.0%, valid micro 96.0%, valid macro 96.01%, test micro 82.31%, test macro 81.65%\n",
            "Epoch 39: loss 0.00118, train micro 100.0%, train macro 100.0%, valid micro 96.0%, valid macro 96.01%, test micro 82.35%, test macro 81.75%\n",
            "Epoch 40: loss 0.00106, train micro 100.0%, train macro 100.0%, valid micro 96.0%, valid macro 96.01%, test micro 82.54%, test macro 81.97%\n",
            "Epoch 41: loss 0.00097, train micro 100.0%, train macro 100.0%, valid micro 96.0%, valid macro 96.01%, test micro 82.68%, test macro 82.15%\n",
            "Epoch 42: loss 0.00089, train micro 100.0%, train macro 100.0%, valid micro 95.67%, valid macro 95.67%, test micro 82.82%, test macro 82.32%\n",
            "Epoch 43: loss 0.00083, train micro 100.0%, train macro 100.0%, valid micro 95.67%, valid macro 95.67%, test micro 82.82%, test macro 82.34%\n",
            "Epoch 44: loss 0.00078, train micro 100.0%, train macro 100.0%, valid micro 95.67%, valid macro 95.67%, test micro 82.64%, test macro 82.18%\n",
            "Epoch 45: loss 0.00073, train micro 100.0%, train macro 100.0%, valid micro 96.0%, valid macro 96.01%, test micro 82.54%, test macro 82.1%\n",
            "Epoch 46: loss 0.00069, train micro 100.0%, train macro 100.0%, valid micro 96.33%, valid macro 96.34%, test micro 82.68%, test macro 82.27%\n",
            "Epoch 47: loss 0.00065, train micro 100.0%, train macro 100.0%, valid micro 96.33%, valid macro 96.34%, test micro 82.92%, test macro 82.56%\n",
            "Epoch 48: loss 0.00062, train micro 100.0%, train macro 100.0%, valid micro 96.67%, valid macro 96.67%, test micro 82.87%, test macro 82.54%\n",
            "Epoch 49: loss 0.00059, train micro 100.0%, train macro 100.0%, valid micro 97.0%, valid macro 97.0%, test micro 82.87%, test macro 82.55%\n",
            "Epoch 50: loss 0.00057, train micro 100.0%, train macro 100.0%, valid micro 97.0%, valid macro 97.0%, test micro 82.96%, test macro 82.65%\n",
            "Epoch 51: loss 0.00054, train micro 100.0%, train macro 100.0%, valid micro 97.0%, valid macro 97.0%, test micro 83.11%, test macro 82.81%\n",
            "Epoch 52: loss 0.00052, train micro 100.0%, train macro 100.0%, valid micro 96.67%, valid macro 96.67%, test micro 83.15%, test macro 82.91%\n",
            "Epoch 53: loss 0.00051, train micro 100.0%, train macro 100.0%, valid micro 96.67%, valid macro 96.67%, test micro 83.2%, test macro 82.97%\n",
            "Epoch 54: loss 0.00049, train micro 100.0%, train macro 100.0%, valid micro 97.0%, valid macro 97.0%, test micro 83.29%, test macro 83.08%\n",
            "Epoch 55: loss 0.00047, train micro 100.0%, train macro 100.0%, valid micro 97.0%, valid macro 97.0%, test micro 83.39%, test macro 83.2%\n",
            "Epoch 56: loss 0.00046, train micro 100.0%, train macro 100.0%, valid micro 97.0%, valid macro 97.0%, test micro 83.25%, test macro 83.06%\n",
            "Epoch 57: loss 0.00045, train micro 100.0%, train macro 100.0%, valid micro 97.0%, valid macro 97.0%, test micro 83.29%, test macro 83.11%\n",
            "Epoch 58: loss 0.00043, train micro 100.0%, train macro 100.0%, valid micro 97.0%, valid macro 97.0%, test micro 83.25%, test macro 83.08%\n",
            "Epoch 59: loss 0.00042, train micro 100.0%, train macro 100.0%, valid micro 96.67%, valid macro 96.66%, test micro 83.39%, test macro 83.23%\n",
            "Epoch 60: loss 0.00041, train micro 100.0%, train macro 100.0%, valid micro 96.33%, valid macro 96.34%, test micro 83.39%, test macro 83.23%\n",
            "Epoch 61: loss 0.0004, train micro 100.0%, train macro 100.0%, valid micro 96.33%, valid macro 96.34%, test micro 83.39%, test macro 83.24%\n",
            "Epoch 62: loss 0.00039, train micro 100.0%, train macro 100.0%, valid micro 96.33%, valid macro 96.34%, test micro 83.25%, test macro 83.11%\n",
            "Epoch 63: loss 0.00038, train micro 100.0%, train macro 100.0%, valid micro 96.33%, valid macro 96.34%, test micro 83.34%, test macro 83.21%\n",
            "Epoch 64: loss 0.00037, train micro 100.0%, train macro 100.0%, valid micro 96.33%, valid macro 96.34%, test micro 83.39%, test macro 83.26%\n",
            "Epoch 65: loss 0.00037, train micro 100.0%, train macro 100.0%, valid micro 96.33%, valid macro 96.34%, test micro 83.29%, test macro 83.18%\n",
            "Epoch 66: loss 0.00036, train micro 100.0%, train macro 100.0%, valid micro 96.33%, valid macro 96.34%, test micro 83.25%, test macro 83.13%\n",
            "Epoch 67: loss 0.00035, train micro 100.0%, train macro 100.0%, valid micro 96.33%, valid macro 96.34%, test micro 83.25%, test macro 83.13%\n",
            "Epoch 68: loss 0.00035, train micro 100.0%, train macro 100.0%, valid micro 96.33%, valid macro 96.34%, test micro 83.25%, test macro 83.13%\n",
            "Epoch 69: loss 0.00034, train micro 100.0%, train macro 100.0%, valid micro 96.33%, valid macro 96.34%, test micro 83.25%, test macro 83.13%\n",
            "Epoch 70: loss 0.00033, train micro 100.0%, train macro 100.0%, valid micro 96.33%, valid macro 96.34%, test micro 83.15%, test macro 83.04%\n",
            "Epoch 71: loss 0.00033, train micro 100.0%, train macro 100.0%, valid micro 96.33%, valid macro 96.34%, test micro 83.11%, test macro 82.98%\n",
            "Epoch 72: loss 0.00032, train micro 100.0%, train macro 100.0%, valid micro 96.33%, valid macro 96.34%, test micro 83.06%, test macro 82.94%\n",
            "Epoch 73: loss 0.00032, train micro 100.0%, train macro 100.0%, valid micro 96.33%, valid macro 96.34%, test micro 83.06%, test macro 82.94%\n",
            "Epoch 74: loss 0.00031, train micro 100.0%, train macro 100.0%, valid micro 96.33%, valid macro 96.34%, test micro 83.01%, test macro 82.9%\n",
            "Epoch 75: loss 0.00031, train micro 100.0%, train macro 100.0%, valid micro 96.33%, valid macro 96.34%, test micro 82.96%, test macro 82.86%\n",
            "Epoch 76: loss 0.0003, train micro 100.0%, train macro 100.0%, valid micro 96.33%, valid macro 96.34%, test micro 82.96%, test macro 82.85%\n",
            "Epoch 77: loss 0.0003, train micro 100.0%, train macro 100.0%, valid micro 96.33%, valid macro 96.34%, test micro 83.01%, test macro 82.9%\n",
            "Epoch 78: loss 0.00029, train micro 100.0%, train macro 100.0%, valid micro 96.33%, valid macro 96.34%, test micro 83.01%, test macro 82.89%\n",
            "Epoch 79: loss 0.00029, train micro 100.0%, train macro 100.0%, valid micro 96.67%, valid macro 96.66%, test micro 83.01%, test macro 82.89%\n",
            "Epoch 80: loss 0.00029, train micro 100.0%, train macro 100.0%, valid micro 96.67%, valid macro 96.66%, test micro 83.01%, test macro 82.89%\n",
            "Epoch 81: loss 0.00028, train micro 100.0%, train macro 100.0%, valid micro 96.67%, valid macro 96.66%, test micro 83.01%, test macro 82.89%\n",
            "Epoch 82: loss 0.00028, train micro 100.0%, train macro 100.0%, valid micro 96.67%, valid macro 96.66%, test micro 83.01%, test macro 82.89%\n",
            "Epoch 83: loss 0.00028, train micro 100.0%, train macro 100.0%, valid micro 96.67%, valid macro 96.66%, test micro 83.01%, test macro 82.89%\n",
            "Epoch 84: loss 0.00027, train micro 100.0%, train macro 100.0%, valid micro 96.67%, valid macro 96.66%, test micro 83.01%, test macro 82.89%\n",
            "Epoch 85: loss 0.00027, train micro 100.0%, train macro 100.0%, valid micro 96.67%, valid macro 96.66%, test micro 83.01%, test macro 82.89%\n",
            "Epoch 86: loss 0.00027, train micro 100.0%, train macro 100.0%, valid micro 96.67%, valid macro 96.66%, test micro 83.11%, test macro 82.99%\n",
            "Epoch 87: loss 0.00026, train micro 100.0%, train macro 100.0%, valid micro 96.67%, valid macro 96.66%, test micro 83.15%, test macro 83.04%\n",
            "Epoch 88: loss 0.00026, train micro 100.0%, train macro 100.0%, valid micro 96.67%, valid macro 96.66%, test micro 83.11%, test macro 82.99%\n",
            "Epoch 89: loss 0.00026, train micro 100.0%, train macro 100.0%, valid micro 96.67%, valid macro 96.66%, test micro 83.11%, test macro 82.99%\n",
            "Epoch 90: loss 0.00025, train micro 100.0%, train macro 100.0%, valid micro 96.67%, valid macro 96.66%, test micro 83.11%, test macro 82.99%\n",
            "Epoch 91: loss 0.00025, train micro 100.0%, train macro 100.0%, valid micro 96.67%, valid macro 96.66%, test micro 83.06%, test macro 82.94%\n",
            "Epoch 92: loss 0.00025, train micro 100.0%, train macro 100.0%, valid micro 96.67%, valid macro 96.66%, test micro 83.06%, test macro 82.94%\n",
            "Epoch 93: loss 0.00025, train micro 100.0%, train macro 100.0%, valid micro 96.67%, valid macro 96.66%, test micro 83.06%, test macro 82.94%\n",
            "Epoch 94: loss 0.00024, train micro 100.0%, train macro 100.0%, valid micro 96.67%, valid macro 96.66%, test micro 83.01%, test macro 82.9%\n",
            "Epoch 95: loss 0.00024, train micro 100.0%, train macro 100.0%, valid micro 96.67%, valid macro 96.66%, test micro 82.92%, test macro 82.8%\n",
            "Epoch 96: loss 0.00024, train micro 100.0%, train macro 100.0%, valid micro 96.67%, valid macro 96.66%, test micro 82.92%, test macro 82.8%\n",
            "Epoch 97: loss 0.00024, train micro 100.0%, train macro 100.0%, valid micro 96.67%, valid macro 96.66%, test micro 82.92%, test macro 82.8%\n",
            "Epoch 98: loss 0.00023, train micro 100.0%, train macro 100.0%, valid micro 96.67%, valid macro 96.66%, test micro 82.92%, test macro 82.8%\n",
            "Epoch 99: loss 0.00023, train micro 100.0%, train macro 100.0%, valid micro 96.67%, valid macro 96.66%, test micro 82.92%, test macro 82.8%\n",
            "Epoch 100: loss 0.00023, train micro 100.0%, train macro 100.0%, valid micro 96.67%, valid macro 96.66%, test micro 82.82%, test macro 82.71%\n",
            "Best model: train micro 100.0%, train macro 100.0%, valid micro 98.0%, valid macro 98.0%, test micro 83.25%, test macro 82.56%\n"
          ]
        }
      ]
    },
    {
      "cell_type": "markdown",
      "metadata": {
        "id": "mtAhFLQQKgbl"
      },
      "source": [
        "## Question 2.3: What is the maximum **micro** F1 score you could get for the best_model on test set when using the attention aggregation? (4 points)\n",
        "\n",
        "Submit your answers on Gradescope."
      ]
    },
    {
      "cell_type": "markdown",
      "metadata": {
        "id": "_cnsMGbsqJG_"
      },
      "source": [
        "## Question 2.4: What is the maximum **macro** F1 score you could get for the best_model on test set when using the attention aggregation? (4 points)\n",
        "\n",
        "Submit your answers on Gradescope."
      ]
    },
    {
      "cell_type": "markdown",
      "metadata": {
        "id": "aQgx5y4UqMHH"
      },
      "source": [
        "## Attention for each Message Type\n",
        "\n",
        "Through message type level attention we can learn that which message type is more important to which layer.\n",
        "\n",
        "Here we will print out and show that each layer pay how much attention on each message type."
      ]
    },
    {
      "cell_type": "code",
      "metadata": {
        "id": "hvK58gijqN_C",
        "colab": {
          "base_uri": "https://localhost:8080/"
        },
        "outputId": "06a998e3-baf1-498b-8a63-c49c45080232"
      },
      "source": [
        "if model.convs1.alpha is not None and model.convs2.alpha is not None:\n",
        "    for idx, message_type in model.convs1.mapping.items():\n",
        "        print(f\"Layer 1 has attention {model.convs1.alpha[idx]} on message type {message_type}\")\n",
        "    for idx, message_type in model.convs2.mapping.items():\n",
        "        print(f\"Layer 2 has attention {model.convs2.alpha[idx]} on message type {message_type}\")"
      ],
      "execution_count": 88,
      "outputs": [
        {
          "output_type": "stream",
          "name": "stdout",
          "text": [
            "Layer 1 has attention 0.054649654775857925 on message type ('paper', 'author', 'paper')\n",
            "Layer 1 has attention 0.9453503489494324 on message type ('paper', 'subject', 'paper')\n",
            "Layer 2 has attention 0.7003520131111145 on message type ('paper', 'author', 'paper')\n",
            "Layer 2 has attention 0.2996479570865631 on message type ('paper', 'subject', 'paper')\n"
          ]
        }
      ]
    },
    {
      "cell_type": "markdown",
      "metadata": {
        "id": "e7JXsMTBgeOI"
      },
      "source": [
        "# Submission\n",
        "\n",
        "In order to get credit, you must go submit your answers on Gradescope.\n",
        "\n",
        "Also, you need to submit the `ipynb` file of Colab 4, by clicking `File` and `Download .ipynb`. Please make sure that your output of each cell is available in your `ipynb` file."
      ]
    }
  ]
}