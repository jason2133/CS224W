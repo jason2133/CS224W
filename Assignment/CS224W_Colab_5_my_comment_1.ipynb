{
  "nbformat": 4,
  "nbformat_minor": 0,
  "metadata": {
    "accelerator": "GPU",
    "colab": {
      "name": "CS224W_Colab_5_my_comment_1.ipynb",
      "provenance": [],
      "collapsed_sections": [],
      "machine_shape": "hm"
    },
    "kernelspec": {
      "display_name": "Python 3",
      "language": "python",
      "name": "python3"
    },
    "language_info": {
      "codemirror_mode": {
        "name": "ipython",
        "version": 3
      },
      "file_extension": ".py",
      "mimetype": "text/x-python",
      "name": "python",
      "nbconvert_exporter": "python",
      "pygments_lexer": "ipython3",
      "version": "3.7.3"
    }
  },
  "cells": [
    {
      "cell_type": "markdown",
      "metadata": {
        "id": "XuXWJLEm2UWS"
      },
      "source": [
        "# **CS224W - Colab 5**"
      ]
    },
    {
      "cell_type": "markdown",
      "metadata": {
        "id": "8gzsP50bF6Gb"
      },
      "source": [
        "In this Colab we will experiment on scaling up GNNs using PyTorch Geometric, DeepSNAP and NetworkX. As we have **canceled** the Colab 5 assignment, this notebook will be a tutorial and you do not need to submit it on Gradescope.\n",
        "\n",
        "At first, we will use PyTorch Geometric `NeighborSampler` to scale up the training and testing on OGB `arxiv` dataset.\n",
        "\n",
        "Then, using the DeepSNAP and NetworkX, we will implement a simplified version of `NeighborSampler` and run experiments with different smapling ratios on the Cora graph.\n",
        "\n",
        "At last, we will partition the Cora graph into clusters by using different partition algorithms and then train the models in the way of vanilla Cluster-GCN.\n",
        "\n",
        "**Note**: Make sure to **sequentially run all the cells in each section**, so that the intermediate variables / packages will carry over to the next cell"
      ]
    },
    {
      "cell_type": "markdown",
      "metadata": {
        "id": "MSaetj53YnT6"
      },
      "source": [
        "# Device\n",
        "You might need to use GPU for this Colab.\n",
        "\n",
        "Please click `Runtime` and then `Change runtime type`. Then set the `hardware accelerator` to **GPU**."
      ]
    },
    {
      "cell_type": "markdown",
      "metadata": {
        "id": "67gOQITlCNQi"
      },
      "source": [
        "# Installation"
      ]
    },
    {
      "cell_type": "code",
      "source": [
        "!nvidia-smi"
      ],
      "metadata": {
        "colab": {
          "base_uri": "https://localhost:8080/"
        },
        "id": "--UPQOxDNfvA",
        "outputId": "73c73c1b-7206-4fa9-b3fb-14cc2e365f90"
      },
      "execution_count": 1,
      "outputs": [
        {
          "output_type": "stream",
          "name": "stdout",
          "text": [
            "Mon Jul 25 11:55:23 2022       \n",
            "+-----------------------------------------------------------------------------+\n",
            "| NVIDIA-SMI 460.32.03    Driver Version: 460.32.03    CUDA Version: 11.2     |\n",
            "|-------------------------------+----------------------+----------------------+\n",
            "| GPU  Name        Persistence-M| Bus-Id        Disp.A | Volatile Uncorr. ECC |\n",
            "| Fan  Temp  Perf  Pwr:Usage/Cap|         Memory-Usage | GPU-Util  Compute M. |\n",
            "|                               |                      |               MIG M. |\n",
            "|===============================+======================+======================|\n",
            "|   0  Tesla T4            Off  | 00000000:00:04.0 Off |                    0 |\n",
            "| N/A   47C    P8    10W /  70W |      0MiB / 15109MiB |      0%      Default |\n",
            "|                               |                      |                  N/A |\n",
            "+-------------------------------+----------------------+----------------------+\n",
            "                                                                               \n",
            "+-----------------------------------------------------------------------------+\n",
            "| Processes:                                                                  |\n",
            "|  GPU   GI   CI        PID   Type   Process name                  GPU Memory |\n",
            "|        ID   ID                                                   Usage      |\n",
            "|=============================================================================|\n",
            "|  No running processes found                                                 |\n",
            "+-----------------------------------------------------------------------------+\n"
          ]
        }
      ]
    },
    {
      "cell_type": "code",
      "metadata": {
        "id": "J_m9l6OYCQZP"
      },
      "source": [
        "# !pip install -q torch-scatter -f https://pytorch-geometric.com/whl/torch-1.8.0+cu101.html\n",
        "# !pip install -q torch-sparse -f https://pytorch-geometric.com/whl/torch-1.8.0+cu101.html\n",
        "# !pip install -q torch-geometric\n",
        "# !pip install -q ogb\n",
        "# !pip install -q git+https://github.com/snap-stanford/deepsnap.git"
      ],
      "execution_count": null,
      "outputs": []
    },
    {
      "cell_type": "code",
      "source": [
        "!pip install -q torch-scatter -f https://pytorch-geometric.com/whl/torch-1.12.0+cu113.html\n",
        "!pip install -q torch-sparse -f https://pytorch-geometric.com/whl/torch-1.12.0+cu113.html\n",
        "!pip install -q torch-geometric"
      ],
      "metadata": {
        "colab": {
          "base_uri": "https://localhost:8080/"
        },
        "id": "hxGL65qONjoa",
        "outputId": "739461a4-6e1d-43ac-caa3-6dfb290d33cc"
      },
      "execution_count": 2,
      "outputs": [
        {
          "output_type": "stream",
          "name": "stdout",
          "text": [
            "\u001b[K     |████████████████████████████████| 7.9 MB 37.3 MB/s \n",
            "\u001b[K     |████████████████████████████████| 3.5 MB 36.8 MB/s \n",
            "\u001b[K     |████████████████████████████████| 407 kB 21.0 MB/s \n",
            "\u001b[?25h  Building wheel for torch-geometric (setup.py) ... \u001b[?25l\u001b[?25hdone\n"
          ]
        }
      ]
    },
    {
      "cell_type": "code",
      "source": [
        "# Stanford DeepSNAP 설치\n",
        "\n",
        "!pip install -q git+https://github.com/snap-stanford/deepsnap.git\n",
        "!pip install -U -q PyDrive"
      ],
      "metadata": {
        "colab": {
          "base_uri": "https://localhost:8080/"
        },
        "id": "iEt-DjjFNjqg",
        "outputId": "628c5d8d-947c-44e8-a72a-2d6ba6c5d816"
      },
      "execution_count": 3,
      "outputs": [
        {
          "output_type": "stream",
          "name": "stdout",
          "text": [
            "  Building wheel for deepsnap (setup.py) ... \u001b[?25l\u001b[?25hdone\n"
          ]
        }
      ]
    },
    {
      "cell_type": "code",
      "source": [
        "!pip install -q ogb"
      ],
      "metadata": {
        "colab": {
          "base_uri": "https://localhost:8080/"
        },
        "id": "SwVnlnZpN31t",
        "outputId": "130aa74c-691c-433e-f613-1a66435fc9d7"
      },
      "execution_count": 4,
      "outputs": [
        {
          "output_type": "stream",
          "name": "stdout",
          "text": [
            "\u001b[?25l\r\u001b[K     |████▏                           | 10 kB 29.7 MB/s eta 0:00:01\r\u001b[K     |████████▍                       | 20 kB 36.7 MB/s eta 0:00:01\r\u001b[K     |████████████▋                   | 30 kB 41.5 MB/s eta 0:00:01\r\u001b[K     |████████████████▊               | 40 kB 28.7 MB/s eta 0:00:01\r\u001b[K     |█████████████████████           | 51 kB 22.2 MB/s eta 0:00:01\r\u001b[K     |█████████████████████████▏      | 61 kB 25.1 MB/s eta 0:00:01\r\u001b[K     |█████████████████████████████▎  | 71 kB 26.5 MB/s eta 0:00:01\r\u001b[K     |████████████████████████████████| 78 kB 7.2 MB/s \n",
            "\u001b[?25h  Building wheel for littleutils (setup.py) ... \u001b[?25l\u001b[?25hdone\n"
          ]
        }
      ]
    },
    {
      "cell_type": "code",
      "metadata": {
        "id": "PRfgbfTjCRD_",
        "colab": {
          "base_uri": "https://localhost:8080/",
          "height": 35
        },
        "outputId": "b729166c-ef62-4cd1-a17a-5c83515edeb1"
      },
      "source": [
        "import torch_geometric\n",
        "torch_geometric.__version__"
      ],
      "execution_count": 5,
      "outputs": [
        {
          "output_type": "execute_result",
          "data": {
            "text/plain": [
              "'2.0.4'"
            ],
            "application/vnd.google.colaboratory.intrinsic+json": {
              "type": "string"
            }
          },
          "metadata": {},
          "execution_count": 5
        }
      ]
    },
    {
      "cell_type": "markdown",
      "metadata": {
        "id": "SxkYLgxAOxz7"
      },
      "source": [
        "# 1 PyTorch Geometric Neighbor Sampling\n",
        "\n",
        "Neighbor Sampling, originally proposed in **GraphSAGE** ([Hamilton et al. (2017)](https://arxiv.org/abs/1706.02216)), is a representative method to scale up GNNs. As what we have learned in lecture, only a K-hop neighborhood nodes will be loaded into GPU for each time training. To further reduce the cost, we can sample a subset of neighborhood nodes for GNNs to aggregate."
      ]
    },
    {
      "cell_type": "markdown",
      "source": [
        "- https://kangbk0120.github.io/articles/2020-03/graphsage\n",
        "- SAGE는 SAmple과 aggreGatE가 결합된 단어입니다. 말 그대로 Neighbor를 Sampling하고 Aggregating한다고 생각할 수 있습니다.\n",
        "- 기본적인 아이디어는 필요한 모든 노드들을 미리 저장해두는 것입니다. 필요한 노드들만을 모아 미리 가지고 있는 것이죠.\n",
        "- 논문에서는 일반적으로 K = 2를 사용했다고 합니다.\n",
        "- 결국 이웃하는 노드들은 서로 비슷한 값을 가지게 만들고, 그렇지 않은 노드들은 다른 값을 가지도록 하는 것이 목표가 됩니다.\n",
        "- Aggregator 함수의 구조 : 이웃하는 노드들을 입력으로 받는 Aggregator는 이러한 순서에 영향을 받지 않는 함수여야 합니다.  \n",
        "1) Mean을 사용하는 경우에는 Concat 연산을 따로 적용하지 않는다는 점에 주의  \n",
        "2) LSTM을 제안합니다. Mean과는 달리 파라미터를 사용하니 더 높은 표현력을 가지겠지만, 순서가 존재한다는 점이 차이입니다. 따라서 임의의 순서로 섞은 이웃 노드들을 입력으로 주게 됩니다.  \n",
        "3) Pooling Aggregator가 있습니다. 순서와 상관없으며, 학습이 가능하다는 장점이 있습니다. 이웃의 feature들이 각각 fully-connected layer에 입력으로 주어지게 됩니다."
      ],
      "metadata": {
        "id": "IKXqIFKXPAJP"
      }
    },
    {
      "cell_type": "markdown",
      "source": [
        "### 본 논문에서 GraphSAGE의 성능은 총 3가지의 벤치마크 task에서 평가되었다.\n",
        "\n",
        "(1) Web of Science citation 데이터셋을 활용하여 학술 논문을 여러 다른 분류하는 것\n",
        "\n",
        "(2) Reddit에 있는 게시물들이 속한 커뮤니티를 구분하는 것\n",
        "\n",
        "(3) 다양한 생물학적 Protein-protein interaction 그래프 속에서 protein 함수를 구별하는 것"
      ],
      "metadata": {
        "id": "mxTzcj4PPvuf"
      }
    },
    {
      "cell_type": "markdown",
      "metadata": {
        "id": "Kho6SHUVO1ny"
      },
      "source": [
        "## Setup"
      ]
    },
    {
      "cell_type": "code",
      "source": [
        "import copy\n",
        "import torch\n",
        "\n",
        "import torch.nn.functional as F\n",
        "\n",
        "import torch_geometric.transforms as T\n",
        "\n",
        "from torch_geometric.nn import SAGEConv\n",
        "\n",
        "# Neighbor Sampling에 활용됨. 주변 이웃들을 샘플링한다.\n",
        "from torch_geometric.data import NeighborSampler\n",
        "\n",
        "from ogb.nodeproppred import PygNodePropPredDataset, Evaluator"
      ],
      "metadata": {
        "id": "e-sU4DUSP3JH"
      },
      "execution_count": 7,
      "outputs": []
    },
    {
      "cell_type": "markdown",
      "metadata": {
        "id": "UKqZWqRbO7km"
      },
      "source": [
        "## Neighbor Sampler\n",
        "\n",
        "PyTorch Geometric has implemented the Neighbor Sampling method as the [NeighborSampler](https://pytorch-geometric.readthedocs.io/en/latest/modules/data.html#torch_geometric.data.NeighborSampler) in `torch_geometric.data`. Following is an example that uses the Neighbor Sampling method on training the OGB `arxiv` dataset.\n",
        "\n",
        "If you are interested in memory-efficient aggregations, please refer to PyG's [Memory-Efficient Aggregations](https://pytorch-geometric.readthedocs.io/en/latest/notes/sparse_tensor.html)."
      ]
    },
    {
      "cell_type": "markdown",
      "source": [
        "### PyTorch Geometric에서의 Neighbor Sampling\n",
        "- PyTorch Geometric에서 torch_geometric.data의 NeighborSampler를 활용하면 된다.\n"
      ],
      "metadata": {
        "id": "ogDzWD_UQNI0"
      }
    },
    {
      "cell_type": "code",
      "source": [
        "# (1) Web of Science citation 데이터셋을 활용하여 학술 논문을 여러 다른 분류하는 것\n",
        "# ogbn-arxiv\n",
        "# Each node : is an arXiv paper \n",
        "# Each directed edge : indicates that one paper cites another one.\n",
        "# Each paper : comes with a 128-dimensional feature vector obtained by averaging the embeddings of words in its title and abstract. \n",
        "\n",
        "# 논문이 어떤 분야에 속해 있는지에 대하여, Node를 분류하는 것이 바로 이 데이터의 목표다. (40 Subject Areas)\n",
        "# The task is to predict the 40 subject areas of arXiv CS papers, e.g., cs.AI, cs.LG, and cs.OS, which are manually determined (i.e., labeled) by the paper’s authors and arXiv moderators. \n",
        "\n",
        "dataset_name = 'ogbn-arxiv'\n",
        "\n",
        "# 데이터셋 : Sparse한 Tensor로 변환시켜준다.\n",
        "dataset = PygNodePropPredDataset(name = dataset_name,\n",
        "                                 transform = T.ToSparseTensor())\n",
        "\n",
        "# 데이터 부르고.\n",
        "data = dataset[0]\n",
        "\n",
        "# 데이터의 인접 행렬 Adjacency Matrix를 구한다.\n",
        "# symmetric : 대칭적인\n",
        "data.adj_t = data.adj_t.to_symmetric()\n",
        "\n",
        "device = 'cuda' if torch.cuda.is_available() else 'cpu'\n",
        "print(device)"
      ],
      "metadata": {
        "colab": {
          "base_uri": "https://localhost:8080/"
        },
        "id": "9_Eyu2eoQVwo",
        "outputId": "2ade4c4b-7df6-451d-be40-6190e5868197"
      },
      "execution_count": 9,
      "outputs": [
        {
          "output_type": "stream",
          "name": "stdout",
          "text": [
            "Downloading http://snap.stanford.edu/ogb/data/nodeproppred/arxiv.zip\n"
          ]
        },
        {
          "output_type": "stream",
          "name": "stderr",
          "text": [
            "Downloaded 0.08 GB: 100%|██████████| 81/81 [00:03<00:00, 23.29it/s]\n"
          ]
        },
        {
          "output_type": "stream",
          "name": "stdout",
          "text": [
            "Extracting dataset/arxiv.zip\n"
          ]
        },
        {
          "output_type": "stream",
          "name": "stderr",
          "text": [
            "Processing...\n"
          ]
        },
        {
          "output_type": "stream",
          "name": "stdout",
          "text": [
            "Loading necessary files...\n",
            "This might take a while.\n",
            "Processing graphs...\n"
          ]
        },
        {
          "output_type": "stream",
          "name": "stderr",
          "text": [
            "100%|██████████| 1/1 [00:00<00:00, 9754.20it/s]\n"
          ]
        },
        {
          "output_type": "stream",
          "name": "stdout",
          "text": [
            "Converting graphs into PyG objects...\n"
          ]
        },
        {
          "output_type": "stream",
          "name": "stderr",
          "text": [
            "100%|██████████| 1/1 [00:00<00:00, 3184.74it/s]"
          ]
        },
        {
          "output_type": "stream",
          "name": "stdout",
          "text": [
            "Saving...\n"
          ]
        },
        {
          "output_type": "stream",
          "name": "stderr",
          "text": [
            "\n",
            "Done!\n"
          ]
        },
        {
          "output_type": "stream",
          "name": "stdout",
          "text": [
            "cuda\n"
          ]
        }
      ]
    },
    {
      "cell_type": "code",
      "source": [
        "print(device)"
      ],
      "metadata": {
        "colab": {
          "base_uri": "https://localhost:8080/"
        },
        "id": "jCD4M3tbRuVu",
        "outputId": "b30580a0-b8af-498d-b0ed-319c042d2ca6"
      },
      "execution_count": 10,
      "outputs": [
        {
          "output_type": "stream",
          "name": "stdout",
          "text": [
            "cuda\n"
          ]
        }
      ]
    },
    {
      "cell_type": "code",
      "source": [
        "print(data)\n",
        "\n",
        "# x는 하나당 128차원 : Node Attribute : 그 논문의 특성을 나타낸다.\n",
        "# node_year는 하나당 1개 : 그 논문이 출판된 연도를 나타낸다.\n",
        "# y는 하나당 1개 : 그 논문의 라벨을 나타낸다. (여기서는 라벨이 숫자로 나타나고 있음.)\n",
        "# adj_t는 인접행렬 : 인접한 행렬을 나타낸다."
      ],
      "metadata": {
        "colab": {
          "base_uri": "https://localhost:8080/"
        },
        "id": "Vcs2Q-3MRuXw",
        "outputId": "4fff6f34-e925-4c59-dd22-990c63485035"
      },
      "execution_count": 22,
      "outputs": [
        {
          "output_type": "stream",
          "name": "stdout",
          "text": [
            "Data(num_nodes=169343, x=[169343, 128], node_year=[169343, 1], y=[169343, 1], adj_t=[169343, 169343, nnz=2315598])\n"
          ]
        }
      ]
    },
    {
      "cell_type": "code",
      "source": [
        "print(data.adj_t)"
      ],
      "metadata": {
        "colab": {
          "base_uri": "https://localhost:8080/"
        },
        "id": "SqpJlQTiRv5g",
        "outputId": "442cb12f-a8dc-4633-f830-203f353b1f6a"
      },
      "execution_count": 23,
      "outputs": [
        {
          "output_type": "stream",
          "name": "stdout",
          "text": [
            "SparseTensor(row=tensor([     0,      0,      0,  ..., 169341, 169342, 169342]),\n",
            "             col=tensor([   411,    640,   1162,  ..., 163274,  27824, 158981]),\n",
            "             size=(169343, 169343), nnz=2315598, density=0.01%)\n"
          ]
        }
      ]
    },
    {
      "cell_type": "code",
      "source": [
        "print(data.num_nodes)"
      ],
      "metadata": {
        "colab": {
          "base_uri": "https://localhost:8080/"
        },
        "id": "TUkyXtgzRv7u",
        "outputId": "33037070-0b1e-4f17-ebe4-a6ff59a5851a"
      },
      "execution_count": 24,
      "outputs": [
        {
          "output_type": "stream",
          "name": "stdout",
          "text": [
            "169343\n"
          ]
        }
      ]
    },
    {
      "cell_type": "code",
      "source": [
        "print(data.x.shape)"
      ],
      "metadata": {
        "colab": {
          "base_uri": "https://localhost:8080/"
        },
        "id": "PtmS3L1tShSb",
        "outputId": "f6b89319-a721-4868-8b0a-a3028c923d19"
      },
      "execution_count": 25,
      "outputs": [
        {
          "output_type": "stream",
          "name": "stdout",
          "text": [
            "torch.Size([169343, 128])\n"
          ]
        }
      ]
    },
    {
      "cell_type": "code",
      "source": [
        "print(data.y.shape)"
      ],
      "metadata": {
        "colab": {
          "base_uri": "https://localhost:8080/"
        },
        "id": "Th8DlF4Mg-DS",
        "outputId": "9c803314-7113-4dda-bc2d-8051726b5147"
      },
      "execution_count": 41,
      "outputs": [
        {
          "output_type": "stream",
          "name": "stdout",
          "text": [
            "torch.Size([169343, 1])\n"
          ]
        }
      ]
    },
    {
      "cell_type": "code",
      "source": [
        "print(data.x[0])\n",
        "print(len(data.x[0]))"
      ],
      "metadata": {
        "colab": {
          "base_uri": "https://localhost:8080/"
        },
        "id": "kEYTrOHAShUr",
        "outputId": "efc8b3fd-d427-46f8-b97e-2e9ff908eb30"
      },
      "execution_count": 26,
      "outputs": [
        {
          "output_type": "stream",
          "name": "stdout",
          "text": [
            "tensor([-0.0579, -0.0525, -0.0726, -0.0266,  0.1304, -0.2414, -0.4492, -0.0184,\n",
            "        -0.0872,  0.1123, -0.0921, -0.2896, -0.0810,  0.0745, -0.1562, -0.0974,\n",
            "         0.1194,  0.6458,  0.0774, -0.0939, -0.4004,  0.3114, -0.5418,  0.0805,\n",
            "        -0.0069,  0.5423, -0.0122, -0.1808,  0.0165,  0.0508, -0.2083, -0.0870,\n",
            "         0.0124,  0.2817,  0.1004, -0.1643,  0.0269,  0.0782,  0.0795, -0.0134,\n",
            "         0.2915,  0.0416, -0.1414, -0.1345,  0.0162,  0.2810, -0.0919, -0.2403,\n",
            "         0.4618,  0.1873,  0.1533,  0.0331,  0.0108,  0.0124, -0.1589,  0.0980,\n",
            "         0.0305,  0.0162, -0.0957,  0.0521,  0.3218, -0.1057,  0.2229, -0.1206,\n",
            "        -0.1723,  0.3954,  0.0883, -0.2219,  0.2310, -0.2096, -0.1125, -0.0644,\n",
            "         0.0697, -0.1574,  0.0223, -0.4190,  0.1344,  0.2605,  0.0417, -0.0935,\n",
            "        -0.0516, -0.0255,  0.7744,  0.0581,  0.0452,  0.0571, -0.5482, -0.0464,\n",
            "         0.8728,  0.0119,  0.3891, -0.0859,  0.1116,  0.0618,  0.0015,  0.0476,\n",
            "         0.0363,  0.2586,  0.2359, -0.0290, -0.1415,  0.7106, -0.0571, -0.1174,\n",
            "         0.3059,  0.1670, -0.1990,  0.1276,  0.0270,  0.5458, -0.1917, -0.0696,\n",
            "        -0.1111,  0.1142,  0.1162, -0.0159,  0.1159, -0.0624,  0.2115, -0.2261,\n",
            "        -0.1856,  0.0532,  0.3329,  0.1042,  0.0074,  0.1734, -0.1728, -0.1401])\n",
            "128\n"
          ]
        }
      ]
    },
    {
      "cell_type": "code",
      "source": [
        "print(data.x[1])"
      ],
      "metadata": {
        "colab": {
          "base_uri": "https://localhost:8080/"
        },
        "id": "F0S_o2tcbNkn",
        "outputId": "9d68a21f-9de8-4941-ab5a-6cc5b27b3f05"
      },
      "execution_count": 38,
      "outputs": [
        {
          "output_type": "stream",
          "name": "stdout",
          "text": [
            "tensor([-1.2450e-01, -7.0665e-02, -3.2520e-01,  7.7790e-03, -1.5590e-03,\n",
            "         7.4189e-02, -1.9101e-01,  4.9689e-02,  2.6369e-02,  9.9364e-02,\n",
            "        -3.5970e-03, -5.2660e-01, -4.5813e-02, -1.7512e-01, -2.9007e-01,\n",
            "        -1.2409e-02,  1.7435e-02,  5.1422e-01,  1.4821e-02, -1.9398e-01,\n",
            "        -2.0862e-01,  3.4747e-02, -5.4368e-01,  5.0833e-02, -1.4897e-01,\n",
            "         4.4073e-01,  5.3844e-02, -3.1074e-01,  9.4481e-02,  7.8219e-02,\n",
            "        -2.2789e-01,  2.0672e-01, -7.4356e-02,  2.0892e-01, -6.8128e-02,\n",
            "        -5.7627e-02, -2.3200e-01,  1.7822e-01, -2.7893e-02, -2.4930e-03,\n",
            "         4.0870e-01, -7.5110e-02,  8.6370e-03, -8.1860e-02,  7.6382e-02,\n",
            "         1.6942e-01,  3.4538e-02,  2.0843e-02,  3.8521e-01,  6.8341e-02,\n",
            "         3.3461e-01,  7.6234e-02,  2.2051e-02, -1.2894e-01, -1.7517e-01,\n",
            "         2.1626e-01,  6.0595e-02, -1.9696e-01,  4.2066e-02,  2.1499e-02,\n",
            "         3.8824e-01, -7.7374e-02,  2.2853e-01, -6.9878e-02,  6.0008e-02,\n",
            "         2.6213e-01, -3.1601e-01,  7.6490e-02,  2.5346e-01, -2.4908e-01,\n",
            "        -7.8412e-02, -8.3386e-02,  1.8844e-01, -4.0456e-01, -3.9888e-02,\n",
            "        -1.2716e-01,  1.2250e-01,  2.2644e-01,  2.6721e-02, -1.2409e-01,\n",
            "        -4.5510e-03, -1.9864e-01,  6.4184e-01, -3.6300e-01, -3.2508e-02,\n",
            "         2.2240e-03, -4.4036e-01,  2.9379e-01,  9.4054e-01,  2.5516e-01,\n",
            "         3.1977e-01, -1.1157e-01,  2.2862e-01,  5.2611e-02, -1.4831e-01,\n",
            "        -2.6798e-02, -1.1277e-01,  1.2508e-01,  2.7000e-04, -1.9901e-01,\n",
            "         1.6395e-01,  7.7228e-01, -2.4933e-01, -1.5895e-01,  2.3625e-01,\n",
            "         3.3099e-01, -2.5516e-01,  7.1961e-02,  3.5650e-02,  2.6008e-01,\n",
            "        -2.9646e-01, -9.1558e-02,  1.8073e-01, -1.8210e-03,  2.0808e-01,\n",
            "         1.9069e-01,  1.8812e-01, -1.2736e-01,  1.0632e-01,  5.2926e-02,\n",
            "        -2.5838e-01,  2.1567e-02,  2.8150e-01, -1.7342e-01,  2.0208e-01,\n",
            "         6.8524e-02, -3.7211e-01, -3.0104e-01], device='cuda:0')\n"
          ]
        }
      ]
    },
    {
      "cell_type": "code",
      "source": [
        "print(data.node_year[0])\n",
        "print(data.y[0])\n",
        "# print(data.adj_t[0])"
      ],
      "metadata": {
        "colab": {
          "base_uri": "https://localhost:8080/"
        },
        "id": "oX8uOqBRSnJh",
        "outputId": "b4974f0a-d056-4e22-c2a4-1848e5f6bb75"
      },
      "execution_count": 27,
      "outputs": [
        {
          "output_type": "stream",
          "name": "stdout",
          "text": [
            "tensor([2013])\n",
            "tensor([4])\n"
          ]
        }
      ]
    },
    {
      "cell_type": "markdown",
      "source": [
        "#### Neighbor Sampler는 여기부터 다시"
      ],
      "metadata": {
        "id": "SY6z2BqJTiia"
      }
    },
    {
      "cell_type": "code",
      "source": [
        "data = data.to(device)\n",
        "\n",
        "# dataset = PygNodePropPredDataset(name = dataset_name,\n",
        "#                                  transform = T.ToSparseTensor())\n",
        "\n",
        "split_idx = dataset.get_idx_split()\n",
        "print(split_idx)\n",
        "\n",
        "train_idx = split_idx['train'].to(device)\n",
        "print(train_idx)"
      ],
      "metadata": {
        "colab": {
          "base_uri": "https://localhost:8080/"
        },
        "id": "RW3vUNxyTlF7",
        "outputId": "df71290b-a14a-474d-df5c-991b5da100a1"
      },
      "execution_count": 29,
      "outputs": [
        {
          "output_type": "stream",
          "name": "stdout",
          "text": [
            "{'train': tensor([     0,      1,      2,  ..., 169145, 169148, 169251]), 'valid': tensor([   349,    357,    366,  ..., 169185, 169261, 169296]), 'test': tensor([   346,    398,    451,  ..., 169340, 169341, 169342])}\n",
            "tensor([     0,      1,      2,  ..., 169145, 169148, 169251], device='cuda:0')\n"
          ]
        }
      ]
    },
    {
      "cell_type": "code",
      "source": [
        "import warnings\n",
        "warnings.filterwarnings(action='ignore')"
      ],
      "metadata": {
        "id": "rMuAHZNqSha7"
      },
      "execution_count": 31,
      "outputs": []
    },
    {
      "cell_type": "code",
      "source": [
        "# Train Loader : Training DataLoader\n",
        "\n",
        "# 1번째 Layer에서 각 Node마다 10개의 Neighbors를 Sample\n",
        "# 2번째 Layer에서 각 Node마다 5개의 Neighbors를 Sample\n",
        "\n",
        "train_loader = NeighborSampler(data.adj_t,\n",
        "                               node_idx = train_idx,\n",
        "                               sizes = [10, 5],\n",
        "                               batch_size = 4096,\n",
        "                               shuffle=True,\n",
        "                               num_workers=2)"
      ],
      "metadata": {
        "id": "OUMuSCMiTlIH"
      },
      "execution_count": 32,
      "outputs": []
    },
    {
      "cell_type": "code",
      "source": [
        "# 모든 Neighbors를 다루기 위해서는 size를 -1로 지정하면 된다.\n",
        "\n",
        "all_loader = NeighborSampler(data.adj_t,\n",
        "                             node_idx = None,\n",
        "                             sizes = [-1],\n",
        "                             batch_size=4096,\n",
        "                             shuffle=False,\n",
        "                             num_workers=2)"
      ],
      "metadata": {
        "id": "DKXjF5w5U5CX"
      },
      "execution_count": 33,
      "outputs": []
    },
    {
      "cell_type": "code",
      "source": [
        "# 평가 딱 하기!\n",
        "# ogb에서 불러온 Evaluator 모듈임.\n",
        "evaluator = Evaluator(name='ogbn-arxiv')"
      ],
      "metadata": {
        "id": "UTvkFfDhU5Em"
      },
      "execution_count": 34,
      "outputs": []
    },
    {
      "cell_type": "code",
      "source": [
        "print(train_loader)"
      ],
      "metadata": {
        "colab": {
          "base_uri": "https://localhost:8080/"
        },
        "id": "CzFw4FwKVPQv",
        "outputId": "91c17784-13db-459d-d150-70d1e9eab2dd"
      },
      "execution_count": 35,
      "outputs": [
        {
          "output_type": "stream",
          "name": "stdout",
          "text": [
            "NeighborSampler(sizes=[10, 5])\n"
          ]
        }
      ]
    },
    {
      "cell_type": "code",
      "source": [
        "print(all_loader)"
      ],
      "metadata": {
        "colab": {
          "base_uri": "https://localhost:8080/"
        },
        "id": "26aBLy8eVPVG",
        "outputId": "78b3b828-0cc0-4e44-e31f-e413b6d10e50"
      },
      "execution_count": 36,
      "outputs": [
        {
          "output_type": "stream",
          "name": "stdout",
          "text": [
            "NeighborSampler(sizes=[-1])\n"
          ]
        }
      ]
    },
    {
      "cell_type": "code",
      "source": [
        "print(evaluator)"
      ],
      "metadata": {
        "colab": {
          "base_uri": "https://localhost:8080/"
        },
        "id": "hkeP-wQfVPXp",
        "outputId": "35c273fa-db7a-404c-e6b1-7bade322a8b5"
      },
      "execution_count": 37,
      "outputs": [
        {
          "output_type": "stream",
          "name": "stdout",
          "text": [
            "<ogb.nodeproppred.evaluate.Evaluator object at 0x7f02a60fcad0>\n"
          ]
        }
      ]
    },
    {
      "cell_type": "markdown",
      "metadata": {
        "id": "VjdkIcFpRYyl"
      },
      "source": [
        "## GNN Model\n",
        "\n",
        "After creating the `NeighborSampler`, we also need to modify the model to let it support the mini-batch training.\n",
        "\n",
        "The `forward` function will take the node feature `x` and a list of three-element tuples `adjs`. Each element in `adjs` contains following elements:\n",
        "* `edge_index`: The edge index tensor between source and destination nodes, which forms a bipartite grpah.\n",
        "* `e_id`: The indices of the edges in the original graph.\n",
        "* `size`: The shape of the bipartite graph, in (*number of source nodes*, *number of destination nodes*) format."
      ]
    },
    {
      "cell_type": "code",
      "metadata": {
        "id": "gRBJS_5qRWbu"
      },
      "source": [
        "# NeighborSampler를 만들었기 때문에, 우리는 Training에 있어 Mini-batch Training이 가능하도록 모델을 수정해야 한다.\n",
        "# Forward 함수 : Noe feature x를 가져감 -> 3개의 Element를 가지고 있는 Adjs로 해야 함.\n",
        "\n",
        "# Adjs 3개 구성 요소\n",
        "# edge_index : Source Node와 Destination Node 사이의 Edge Index Tensor를 말함. Bipartite Graph를 구성함. Bipartite : 양자간의. 2부로 구성된.\n",
        "# e_id : Original Graph에서의 Edge들의 Indices를 말함.\n",
        "# size : Bipartite Graph 양자간의, 2부로 구성된 그래프의 Shape(모양)를 말함. : (Source Node들의 숫자, Desitnaion Node들의 숫자) 형식으로 -> 이게 쌓였다고 보면 됨.\n",
        "\n",
        "class SAGE(torch.nn.Module):\n",
        "  def __init__(self, input_dim, hidden_dim, output_dim, num_layers, dropout):\n",
        "    super(SAGE, self).__init__()\n",
        "\n",
        "    self.convs = torch.nn.ModuleList()\n",
        "    self.bns = torch.nn.ModuleList()\n",
        "\n",
        "    self.convs.append(SAGEConv(input_dim, hidden_dim))\n",
        "    self.bns.append(torch.nn.BatchNorm1d(hidden_dim))\n",
        "\n",
        "    # 여기서 -2를 해주는 이유는 처음 1개 Layer (Input Layer)와 마지막 1개 Layer (Output Layer)를 넣기 때문.\n",
        "    for i in range(num_layers - 2):\n",
        "      self.convs.append(\n",
        "          SAGEConv(hidden_dim, hidden_dim)\n",
        "      )\n",
        "      self.bns.append(torch.nn.BatchNorm1d(hidden_dim))\n",
        "\n",
        "    self.convs.append(SAGEConv(hidden_dim, output_dim))\n",
        "    self.softmax = torch.nn.LogSoftmax(dim=1)\n",
        "    self.dropout = dropout\n",
        "    self.num_layers = num_layers\n",
        "\n",
        "  def reset_parameters(self):\n",
        "    for conv in self.convs:\n",
        "      conv.reset_parameters()\n",
        "    for bn in self.bns:\n",
        "      bn.reset_parameters()\n",
        "\n",
        "  def forward(self, x, adjs, mode='batch'):\n",
        "    # The forward function will take the node feature x\n",
        "    \n",
        "    # a list of three-element tuples adjs\n",
        "    # edge_index, e_id, size\n",
        "\n",
        "    # 만약 mode가 Batch mode라면 Batch 단위로 쪼개서 진행한다.\n",
        "    if mode == 'batch':\n",
        "      for i, (edge_index, _, size) in enumerate(adjs):\n",
        "        # i는 순서 그 Index를 나타낸다.\n",
        "        # (edge_index, _, size) : adjs에 포함되는 3개의 요소를 말한다. -> edge_index, e_id, size\n",
        "\n",
        "        # Extract target node features\n",
        "        # size[1] : Desitnaion Node들의 숫자\n",
        "\n",
        "        # 왜 x_target를 이렇게 선정하지? Target Node Features를 추출한다는게 무슨 뜻이지?\n",
        "        # x=[169343, 128]\n",
        "\n",
        "        # Mini batch만큼 진행을 한다는거니까 이렇게 잘게 쪼갠다는거 아닐까?\n",
        "        x_target = x[:size[1]]\n",
        "\n",
        "        # Update x for next layer reuse\n",
        "        x = self.convs[i]((x, x_target), edge_index)\n",
        "        if i != self.num_layers - 1:\n",
        "          x = self.bns[i](x)\n",
        "          x = F.relu(x)\n",
        "          x = F.dropout(x,\n",
        "                        p = self.dropout,\n",
        "                        training = self.training)\n",
        "\n",
        "    # 만약 그게 아니라면 All 그냥 다 때려박는다.\n",
        "    else:\n",
        "      for i, conv in enumerate(self.convs):\n",
        "        x = conv(x, adjs)\n",
        "        if i != self.num_layers - 1:\n",
        "          x = self.bns[i](x)\n",
        "          x = F.relu(x)\n",
        "          x = F.dropout(x,\n",
        "                        p = self.dropout,\n",
        "                        training = self.training)\n",
        "    \n",
        "    # 그래서 마지막으로는 Softmax 함수를 써서 Node를 분류하는 일을 한다. (Node Classification)\n",
        "    return self.softmax(x)\n",
        "\n",
        "  def inference(self, x_all, all_loader):\n",
        "    # This function will be called in test\n",
        "    for i in range(self.num_layers):\n",
        "      xs = []\n",
        "      \n",
        "      for batch_size, n_id, adj in all_loader:\n",
        "        edge_index, _, size = adj.to(device)\n",
        "        x = x_all[n_id].to(device)\n",
        "        x_target = x[:size[1]]\n",
        "        x = self.convs[i]((x, x_target), edge_index)\n",
        "        \n",
        "        if i != self.num_layers - 1:\n",
        "          x = self.bns[i](x)\n",
        "          x = F.relu(x)\n",
        "          x = F.dropout(x,\n",
        "                        p = self.dropout,\n",
        "                        training = self.training)\n",
        "          \n",
        "        # Append the node embeddings to xs\n",
        "        xs.append(x.cpu())\n",
        "\n",
        "      # Concat all embeddings into one tensor\n",
        "      x_all = torch.cat(xs, dim=0)\n",
        "    \n",
        "    return x_all"
      ],
      "execution_count": 39,
      "outputs": []
    },
    {
      "cell_type": "code",
      "source": [
        ""
      ],
      "metadata": {
        "id": "AAN2PdmWVZzI"
      },
      "execution_count": null,
      "outputs": []
    },
    {
      "cell_type": "markdown",
      "metadata": {
        "id": "7cfm7K3wRqqY"
      },
      "source": [
        "## Training and Testing\n",
        "\n",
        "Now lets implement the training and testing functions.\n",
        "\n",
        "In both training and testing, we need to sample batch from the dataloader.\n",
        "\n",
        "Each batch in the `NeighborSampler` dataloader holds three elements:\n",
        "* `batch_size`: The batch size specified in the dataloader.\n",
        "* `n_id`: All nodes (in index format) used in the adjacency matrices.\n",
        "* `adjs`: The three-element tuples."
      ]
    },
    {
      "cell_type": "code",
      "source": [
        "print(data.y.shape)"
      ],
      "metadata": {
        "colab": {
          "base_uri": "https://localhost:8080/"
        },
        "id": "olzhoSNehAmF",
        "outputId": "5ee0e28b-1fbf-4a73-b6ad-b11436f62db4"
      },
      "execution_count": 42,
      "outputs": [
        {
          "output_type": "stream",
          "name": "stdout",
          "text": [
            "torch.Size([169343, 1])\n"
          ]
        }
      ]
    },
    {
      "cell_type": "code",
      "source": [
        "# Training 및 Testing\n",
        "# NeighborSampler : 주변 요소들을 Sampling 한다.\n",
        "\n",
        "# Training 및 Testing 모두 : Dataloader로부터 Batch를 Sample해야 한다.\n",
        "\n",
        "# Each batch in the NeighborSampler dataloader holds three elements\n",
        "# 1) batch_size : DataLoader에 있는 배치 사이즈\n",
        "# 2) n_id : Adjacency Matrices에 사용되는 모든 Node들 (in index format)\n",
        "# 3) adjs : 3개 element tuple들 -> (edge_index, e_id, size)\n",
        "\n",
        "def train(model, data, train_loader, train_idx, optimizer, loss_fn, mode='batch'):\n",
        "  # 모델 훈련\n",
        "  model.train()\n",
        "\n",
        "  total_loss = 0\n",
        "\n",
        "  # Batch 모드로 쪼개서 Train\n",
        "  if mode == 'batch':\n",
        "    for batch_size, n_id, adjs in train_loader:\n",
        "      # 모든 Adj sparse tensor들을 GPU로 옮긴다.\n",
        "      adjs = [adj.to(device) for adj in adjs]\n",
        "\n",
        "      optimizer.zero_grad()\n",
        "\n",
        "      # Index on the node features\n",
        "      # Node Features에서의 Index\n",
        "      out = model(data.x[n_id], adjs)\n",
        "\n",
        "      # squeeze 짜낸다. 없앤다. 1을.\n",
        "      # squeeze(-1)을 통해 맨 뒤에 있는 1에 대해서만 없앤다.\n",
        "      train_label = data.y[n_id[:batch_size]].squeeze(-1)\n",
        "      loss = loss_fn(out, train_label)\n",
        "      loss.backward()\n",
        "      optimizer.step()\n",
        "      total_loss += loss.item()\n",
        "\n",
        "  # 모두 다 때려 박기\n",
        "  else:\n",
        "    optimizer.zero_grad()\n",
        "    out = model(data.x, data.adj_t, mode=mode)[train_idx]\n",
        "\n",
        "    # squeeze(1)을 통해 1인 위치에 있는 1에 대해서만 없앤다.\n",
        "    train_label = data.y.squeeze(1)[train_idx]\n",
        "    loss = loss_fn(out, train_label)\n",
        "    loss.backward()\n",
        "    optimizer.step()\n",
        "    total_loss = loss.item()\n",
        "  \n",
        "  return total_loss"
      ],
      "metadata": {
        "id": "QoSFJSv5fD-V"
      },
      "execution_count": 54,
      "outputs": []
    },
    {
      "cell_type": "code",
      "source": [
        "# Test\n",
        "\n",
        "@torch.no_grad()\n",
        "def test(model, data, all_loader, split_idx, evaluator, mode='batch'):\n",
        "  # 모델 평가\n",
        "  model.eval()\n",
        "\n",
        "  if mode == 'batch':\n",
        "    out = model.inference(data.x, all_loader)\n",
        "  else:\n",
        "    out = model(data.x, data.adj_t, mode='all')\n",
        "  \n",
        "  y_true = data.y.cpu()\n",
        "  y_pred = out.argmax(dim=-1, keepdim=True)\n",
        "\n",
        "  train_acc = evaluator.eval({\n",
        "      'y_true' : y_true[split_idx['train']],\n",
        "      'y_pred' : y_pred[split_idx['train']],\n",
        "  })['acc']\n",
        "\n",
        "  valid_acc = evaluator.eval({\n",
        "      'y_true' : y_true[split_idx['valid']],\n",
        "      'y_pred' : y_pred[split_idx['valid']],\n",
        "  })['acc']\n",
        "\n",
        "  test_acc = evaluator.eval({\n",
        "      'y_true' : y_true[split_idx['test']],\n",
        "      'y_pred' : y_pred[split_idx['test']],\n",
        "  })['acc']\n",
        "\n",
        "  return train_acc, valid_acc, test_acc"
      ],
      "metadata": {
        "id": "9ijBBbRmg5WI"
      },
      "execution_count": 55,
      "outputs": []
    },
    {
      "cell_type": "code",
      "source": [
        ""
      ],
      "metadata": {
        "id": "ZnutVV0OfEH8"
      },
      "execution_count": null,
      "outputs": []
    },
    {
      "cell_type": "markdown",
      "metadata": {
        "id": "AiehZ8OiR2q9"
      },
      "source": [
        "## Mini-batch Training\n",
        "- Mini-batch Training과 All-batch Training은 Mode에서 선언을 달리 해주는구나! \n",
        "- mode = 'all'로 선언하면 All-batch Training이 된다."
      ]
    },
    {
      "cell_type": "code",
      "source": [
        "# Mini-batch로 Training하는 방법임.\n",
        "\n",
        "args = {\n",
        "    'device' : device,\n",
        "    'num_layers' : 2,\n",
        "    'hidden_dim' : 128,\n",
        "    'dropout' : 0.5,\n",
        "    'lr' : 0.01,\n",
        "    'epochs' : 100,\n",
        "}"
      ],
      "metadata": {
        "id": "cAt3OTVIi36h"
      },
      "execution_count": 56,
      "outputs": []
    },
    {
      "cell_type": "code",
      "source": [
        "batch_model = SAGE(data.num_features,\n",
        "                   args['hidden_dim'],\n",
        "                   dataset.num_classes,\n",
        "                   args['num_layers'],\n",
        "                   args['dropout']).to(device)\n",
        "\n",
        "batch_model.reset_parameters()"
      ],
      "metadata": {
        "id": "j25MTrVjjDhB"
      },
      "execution_count": 57,
      "outputs": []
    },
    {
      "cell_type": "code",
      "source": [
        "optimizer = torch.optim.Adam(batch_model.parameters(), lr=args['lr'])\n",
        "loss_fn = F.nll_loss\n",
        "\n",
        "best_batch_model = None\n",
        "best_valid_acc = 0\n",
        "\n",
        "batch_results = []"
      ],
      "metadata": {
        "id": "4v-xc3rwjDjv"
      },
      "execution_count": 58,
      "outputs": []
    },
    {
      "cell_type": "code",
      "source": [
        "for epoch in range(1, 1 + args['epochs']):\n",
        "  loss = train(batch_model, data, train_loader, train_idx, optimizer, loss_fn, mode='batch')\n",
        "  result = test(batch_model, data, all_loader, split_idx, evaluator, mode = 'batch')\n",
        "  batch_results.append(result)\n",
        "  train_acc, valid_acc, test_acc = result\n",
        "\n",
        "  # 이거 좀 꿀팁이네. Train - Valid - Test로 나눌시 import copy / copy.deepcopy()를 이용해서 최고의 모델을 복사해서 써먹을 수 있음.\n",
        "  if valid_acc > best_valid_acc:\n",
        "    best_valid_acc = valid_acc\n",
        "    best_batch_model = copy.deepcopy(batch_model)\n",
        "  \n",
        "  print(f'Epoch : {epoch:02d}, '\n",
        "        f'Loss : {loss:.4f}, '\n",
        "        f'Train : {100 * train_acc:.2f}%, '\n",
        "        f'Valid : {100 * valid_acc:.2f}%, '\n",
        "        f'Test : {100 * test_acc:.2f}%')"
      ],
      "metadata": {
        "colab": {
          "base_uri": "https://localhost:8080/"
        },
        "id": "66GDn990i38y",
        "outputId": "cd10819b-8934-4b30-c6af-970e4e735f50"
      },
      "execution_count": 59,
      "outputs": [
        {
          "output_type": "stream",
          "name": "stdout",
          "text": [
            "Epoch : 01, Loss : 39.5809, Train : 62.93%, Valid : 64.36%, Test : 63.96%\n",
            "Epoch : 02, Loss : 28.4167, Train : 67.32%, Valid : 66.97%, Test : 66.10%\n",
            "Epoch : 03, Loss : 26.4786, Train : 69.19%, Valid : 69.06%, Test : 68.31%\n",
            "Epoch : 04, Loss : 25.6221, Train : 69.95%, Valid : 69.25%, Test : 68.11%\n",
            "Epoch : 05, Loss : 25.0508, Train : 70.52%, Valid : 68.92%, Test : 67.21%\n",
            "Epoch : 06, Loss : 24.7148, Train : 70.84%, Valid : 69.59%, Test : 68.96%\n",
            "Epoch : 07, Loss : 24.2762, Train : 71.21%, Valid : 69.60%, Test : 69.07%\n",
            "Epoch : 08, Loss : 23.9691, Train : 71.28%, Valid : 68.90%, Test : 67.43%\n",
            "Epoch : 09, Loss : 23.6919, Train : 72.21%, Valid : 69.75%, Test : 68.56%\n",
            "Epoch : 10, Loss : 23.4069, Train : 72.15%, Valid : 69.27%, Test : 67.57%\n",
            "Epoch : 11, Loss : 23.3459, Train : 72.46%, Valid : 70.02%, Test : 69.24%\n",
            "Epoch : 12, Loss : 23.1176, Train : 72.81%, Valid : 70.51%, Test : 69.64%\n",
            "Epoch : 13, Loss : 23.0401, Train : 72.85%, Valid : 69.42%, Test : 67.80%\n",
            "Epoch : 14, Loss : 22.9060, Train : 73.18%, Valid : 70.35%, Test : 69.64%\n",
            "Epoch : 15, Loss : 22.7883, Train : 73.28%, Valid : 69.87%, Test : 68.65%\n",
            "Epoch : 16, Loss : 22.6013, Train : 73.23%, Valid : 70.42%, Test : 69.99%\n",
            "Epoch : 17, Loss : 22.5513, Train : 73.77%, Valid : 70.56%, Test : 69.36%\n",
            "Epoch : 18, Loss : 22.4354, Train : 73.57%, Valid : 70.70%, Test : 69.78%\n",
            "Epoch : 19, Loss : 22.3424, Train : 73.85%, Valid : 70.81%, Test : 70.00%\n",
            "Epoch : 20, Loss : 22.2508, Train : 73.60%, Valid : 70.46%, Test : 69.61%\n",
            "Epoch : 21, Loss : 22.0452, Train : 74.33%, Valid : 70.43%, Test : 69.17%\n",
            "Epoch : 22, Loss : 22.1080, Train : 74.16%, Valid : 69.93%, Test : 68.09%\n",
            "Epoch : 23, Loss : 22.0807, Train : 74.56%, Valid : 70.64%, Test : 69.49%\n",
            "Epoch : 24, Loss : 21.9817, Train : 74.32%, Valid : 70.19%, Test : 69.06%\n",
            "Epoch : 25, Loss : 21.9472, Train : 74.35%, Valid : 70.70%, Test : 70.12%\n",
            "Epoch : 26, Loss : 21.8736, Train : 74.82%, Valid : 70.76%, Test : 70.05%\n",
            "Epoch : 27, Loss : 21.7668, Train : 74.68%, Valid : 69.76%, Test : 68.42%\n",
            "Epoch : 28, Loss : 21.7358, Train : 75.01%, Valid : 70.44%, Test : 69.10%\n",
            "Epoch : 29, Loss : 21.7456, Train : 74.68%, Valid : 70.29%, Test : 69.17%\n",
            "Epoch : 30, Loss : 21.6473, Train : 74.83%, Valid : 70.47%, Test : 69.76%\n",
            "Epoch : 31, Loss : 21.5368, Train : 74.97%, Valid : 70.54%, Test : 69.31%\n",
            "Epoch : 32, Loss : 21.6587, Train : 75.36%, Valid : 70.69%, Test : 69.72%\n",
            "Epoch : 33, Loss : 21.4538, Train : 75.19%, Valid : 71.02%, Test : 70.52%\n",
            "Epoch : 34, Loss : 21.4028, Train : 75.22%, Valid : 70.84%, Test : 70.16%\n",
            "Epoch : 35, Loss : 21.2934, Train : 75.16%, Valid : 71.05%, Test : 70.47%\n",
            "Epoch : 36, Loss : 21.3078, Train : 75.42%, Valid : 70.37%, Test : 69.15%\n",
            "Epoch : 37, Loss : 21.2432, Train : 75.43%, Valid : 70.68%, Test : 69.83%\n",
            "Epoch : 38, Loss : 21.2555, Train : 75.46%, Valid : 70.25%, Test : 68.74%\n",
            "Epoch : 39, Loss : 21.1529, Train : 75.57%, Valid : 70.61%, Test : 69.85%\n",
            "Epoch : 40, Loss : 21.1698, Train : 75.57%, Valid : 70.70%, Test : 69.28%\n",
            "Epoch : 41, Loss : 21.1230, Train : 75.36%, Valid : 70.94%, Test : 70.80%\n",
            "Epoch : 42, Loss : 21.1037, Train : 75.64%, Valid : 70.99%, Test : 69.91%\n",
            "Epoch : 43, Loss : 21.1326, Train : 75.88%, Valid : 70.48%, Test : 69.21%\n",
            "Epoch : 44, Loss : 21.0570, Train : 75.73%, Valid : 69.77%, Test : 67.91%\n",
            "Epoch : 45, Loss : 21.0038, Train : 76.00%, Valid : 70.76%, Test : 70.00%\n",
            "Epoch : 46, Loss : 21.0070, Train : 75.67%, Valid : 70.79%, Test : 69.63%\n",
            "Epoch : 47, Loss : 20.9938, Train : 75.73%, Valid : 70.08%, Test : 68.53%\n",
            "Epoch : 48, Loss : 20.9307, Train : 75.94%, Valid : 70.12%, Test : 68.03%\n",
            "Epoch : 49, Loss : 20.8976, Train : 76.18%, Valid : 70.31%, Test : 68.88%\n",
            "Epoch : 50, Loss : 20.9381, Train : 76.29%, Valid : 70.86%, Test : 69.63%\n",
            "Epoch : 51, Loss : 20.8736, Train : 76.14%, Valid : 70.29%, Test : 68.70%\n",
            "Epoch : 52, Loss : 20.9140, Train : 75.96%, Valid : 71.10%, Test : 69.87%\n",
            "Epoch : 53, Loss : 20.9593, Train : 76.17%, Valid : 70.94%, Test : 70.27%\n",
            "Epoch : 54, Loss : 20.7295, Train : 76.07%, Valid : 69.74%, Test : 67.96%\n",
            "Epoch : 55, Loss : 20.8943, Train : 76.22%, Valid : 70.50%, Test : 69.15%\n",
            "Epoch : 56, Loss : 20.7279, Train : 76.28%, Valid : 70.15%, Test : 68.74%\n",
            "Epoch : 57, Loss : 20.7743, Train : 76.47%, Valid : 70.54%, Test : 69.22%\n",
            "Epoch : 58, Loss : 20.8320, Train : 76.21%, Valid : 70.74%, Test : 69.74%\n",
            "Epoch : 59, Loss : 20.7162, Train : 76.34%, Valid : 71.14%, Test : 70.18%\n",
            "Epoch : 60, Loss : 20.6688, Train : 76.52%, Valid : 70.73%, Test : 69.60%\n",
            "Epoch : 61, Loss : 20.6297, Train : 76.42%, Valid : 70.50%, Test : 68.96%\n",
            "Epoch : 62, Loss : 20.7698, Train : 76.36%, Valid : 70.48%, Test : 68.87%\n",
            "Epoch : 63, Loss : 20.7387, Train : 76.28%, Valid : 69.89%, Test : 68.16%\n",
            "Epoch : 64, Loss : 20.6390, Train : 76.60%, Valid : 70.20%, Test : 68.57%\n",
            "Epoch : 65, Loss : 20.6611, Train : 76.59%, Valid : 71.12%, Test : 70.60%\n",
            "Epoch : 66, Loss : 20.5785, Train : 76.82%, Valid : 70.45%, Test : 69.05%\n",
            "Epoch : 67, Loss : 20.4809, Train : 76.68%, Valid : 70.71%, Test : 69.38%\n",
            "Epoch : 68, Loss : 20.7028, Train : 76.68%, Valid : 70.78%, Test : 69.96%\n",
            "Epoch : 69, Loss : 20.5446, Train : 76.77%, Valid : 70.36%, Test : 69.32%\n",
            "Epoch : 70, Loss : 20.5119, Train : 76.67%, Valid : 70.69%, Test : 69.79%\n",
            "Epoch : 71, Loss : 20.5184, Train : 76.79%, Valid : 70.36%, Test : 68.87%\n",
            "Epoch : 72, Loss : 20.4152, Train : 77.00%, Valid : 70.69%, Test : 69.52%\n",
            "Epoch : 73, Loss : 20.4991, Train : 76.72%, Valid : 70.92%, Test : 70.14%\n",
            "Epoch : 74, Loss : 20.4298, Train : 76.85%, Valid : 70.94%, Test : 69.96%\n",
            "Epoch : 75, Loss : 20.4350, Train : 76.97%, Valid : 70.50%, Test : 69.09%\n",
            "Epoch : 76, Loss : 20.4786, Train : 76.96%, Valid : 70.75%, Test : 69.44%\n",
            "Epoch : 77, Loss : 20.5211, Train : 76.80%, Valid : 70.77%, Test : 69.72%\n",
            "Epoch : 78, Loss : 20.3232, Train : 76.84%, Valid : 70.56%, Test : 69.33%\n",
            "Epoch : 79, Loss : 20.4157, Train : 76.81%, Valid : 70.43%, Test : 69.09%\n",
            "Epoch : 80, Loss : 20.5418, Train : 77.06%, Valid : 70.45%, Test : 69.09%\n",
            "Epoch : 81, Loss : 20.3698, Train : 76.79%, Valid : 70.93%, Test : 70.18%\n",
            "Epoch : 82, Loss : 20.3275, Train : 76.98%, Valid : 70.90%, Test : 70.22%\n",
            "Epoch : 83, Loss : 20.2944, Train : 77.20%, Valid : 70.47%, Test : 69.21%\n",
            "Epoch : 84, Loss : 20.4407, Train : 77.18%, Valid : 71.11%, Test : 70.41%\n",
            "Epoch : 85, Loss : 20.3451, Train : 77.17%, Valid : 70.88%, Test : 69.85%\n",
            "Epoch : 86, Loss : 20.3327, Train : 76.88%, Valid : 70.98%, Test : 69.68%\n",
            "Epoch : 87, Loss : 20.4192, Train : 77.15%, Valid : 70.57%, Test : 69.16%\n",
            "Epoch : 88, Loss : 20.3414, Train : 77.15%, Valid : 70.72%, Test : 69.71%\n",
            "Epoch : 89, Loss : 20.3450, Train : 77.31%, Valid : 71.06%, Test : 70.20%\n",
            "Epoch : 90, Loss : 20.3726, Train : 77.24%, Valid : 70.86%, Test : 69.70%\n",
            "Epoch : 91, Loss : 20.4180, Train : 77.09%, Valid : 71.18%, Test : 70.30%\n",
            "Epoch : 92, Loss : 20.3310, Train : 77.37%, Valid : 70.96%, Test : 69.96%\n",
            "Epoch : 93, Loss : 20.3133, Train : 77.13%, Valid : 70.62%, Test : 69.24%\n",
            "Epoch : 94, Loss : 20.2761, Train : 77.19%, Valid : 71.04%, Test : 69.97%\n",
            "Epoch : 95, Loss : 20.2602, Train : 77.43%, Valid : 70.52%, Test : 69.14%\n",
            "Epoch : 96, Loss : 20.1884, Train : 77.12%, Valid : 70.93%, Test : 69.90%\n",
            "Epoch : 97, Loss : 20.2296, Train : 77.37%, Valid : 71.37%, Test : 70.46%\n",
            "Epoch : 98, Loss : 20.2565, Train : 77.59%, Valid : 71.03%, Test : 70.14%\n",
            "Epoch : 99, Loss : 20.1468, Train : 77.17%, Valid : 70.36%, Test : 68.65%\n",
            "Epoch : 100, Loss : 20.2913, Train : 77.38%, Valid : 70.85%, Test : 69.65%\n"
          ]
        }
      ]
    },
    {
      "cell_type": "code",
      "source": [
        "# 최고 모델로 테스트를 해봅시다.\n",
        "best_result = test(best_batch_model, data, all_loader, split_idx, evaluator, mode='batch')\n",
        "train_acc, valid_acc, test_acc = best_result\n",
        "\n",
        "print(f'Best model : '\n",
        "      f'Train : {100 * train_acc:.2f}%, '\n",
        "      f'Valid : {100 * valid_acc:.2f}%, '\n",
        "      f'Test : {100 * test_acc:.2f}%')"
      ],
      "metadata": {
        "colab": {
          "base_uri": "https://localhost:8080/"
        },
        "id": "ibmBM1gri3-X",
        "outputId": "e6457b97-0cdd-448f-8832-93bbca6134eb"
      },
      "execution_count": 60,
      "outputs": [
        {
          "output_type": "stream",
          "name": "stdout",
          "text": [
            "Best model : Train : 77.37%, Valid : 71.37%, Test : 70.46%\n"
          ]
        }
      ]
    },
    {
      "cell_type": "code",
      "source": [
        ""
      ],
      "metadata": {
        "id": "T4qTmFwhlWsB"
      },
      "execution_count": null,
      "outputs": []
    },
    {
      "cell_type": "markdown",
      "metadata": {
        "id": "-OyqW-1pSMLW"
      },
      "source": [
        "## Full-batch Training"
      ]
    },
    {
      "cell_type": "code",
      "source": [
        "# Full batch Training에 해당하는 Parameter들을 정의한다.\n",
        "\n",
        "args = {\n",
        "    'device' : device,\n",
        "    'num_layers' : 2,\n",
        "    'hidden_dim' : 128,\n",
        "    'dropout' : 0.5,\n",
        "    'lr' : 0.01,\n",
        "    'epochs' : 100,\n",
        "}"
      ],
      "metadata": {
        "id": "y96FYjAZoKTK"
      },
      "execution_count": 61,
      "outputs": []
    },
    {
      "cell_type": "code",
      "source": [
        "all_model = SAGE(data.num_features,\n",
        "                 args['hidden_dim'],\n",
        "                 dataset.num_classes,\n",
        "                 args['num_layers'],\n",
        "                 args['dropout']).to(device)\n",
        "\n",
        "all_model.reset_parameters()"
      ],
      "metadata": {
        "id": "P-UptLJMoifv"
      },
      "execution_count": 62,
      "outputs": []
    },
    {
      "cell_type": "code",
      "source": [
        "optimizer = torch.optim.Adam(all_model.parameters(), lr=args['lr'])\n",
        "loss_fn = F.nll_loss\n",
        "\n",
        "best_all_model = None\n",
        "best_valid_acc = 0\n",
        "\n",
        "all_results = []"
      ],
      "metadata": {
        "id": "fJ-66hJzoih4"
      },
      "execution_count": 63,
      "outputs": []
    },
    {
      "cell_type": "code",
      "source": [
        "for epoch in range(1, 1 + args['epochs']):\n",
        "  loss = train(all_model, data, train_loader, train_idx, optimizer, loss_fn, mode='all')\n",
        "  result = test(all_model, data, all_loader, split_idx, evaluator, mode='all')\n",
        "  all_results.append(result)\n",
        "  \n",
        "  train_acc, valid_acc, test_acc = result\n",
        "\n",
        "  if valid_acc > best_valid_acc:\n",
        "    best_valid_acc = valid_acc\n",
        "    best_all_model = copy.deepcopy(all_model)\n",
        "  \n",
        "  print(f'Epoch : {epoch:02d}, '\n",
        "        f'Loss : {loss:.4f}, '\n",
        "        f'Train : {100 * train_acc:.2f}%, '\n",
        "        f'Valid : {100 * valid_acc:.2f}%, '\n",
        "        f'Test : {100 * test_acc:.2f}%')"
      ],
      "metadata": {
        "colab": {
          "base_uri": "https://localhost:8080/"
        },
        "id": "CI6-GvsPoLqM",
        "outputId": "6de1ca4a-81e1-4b6b-b96f-168854439dc8"
      },
      "execution_count": 64,
      "outputs": [
        {
          "output_type": "stream",
          "name": "stdout",
          "text": [
            "Epoch : 01, Loss : 3.9064, Train : 24.23%, Valid : 22.66%, Test : 27.76%\n",
            "Epoch : 02, Loss : 2.5645, Train : 34.08%, Valid : 40.60%, Test : 43.02%\n",
            "Epoch : 03, Loss : 2.1892, Train : 36.43%, Valid : 41.85%, Test : 42.98%\n",
            "Epoch : 04, Loss : 2.0087, Train : 39.90%, Valid : 46.71%, Test : 49.11%\n",
            "Epoch : 05, Loss : 1.8755, Train : 42.20%, Valid : 48.15%, Test : 51.31%\n",
            "Epoch : 06, Loss : 1.7676, Train : 43.34%, Valid : 46.97%, Test : 50.30%\n",
            "Epoch : 07, Loss : 1.6882, Train : 46.30%, Valid : 48.99%, Test : 52.01%\n",
            "Epoch : 08, Loss : 1.6220, Train : 50.26%, Valid : 53.27%, Test : 55.20%\n",
            "Epoch : 09, Loss : 1.5677, Train : 53.23%, Valid : 56.71%, Test : 57.43%\n",
            "Epoch : 10, Loss : 1.5177, Train : 55.27%, Valid : 58.67%, Test : 58.67%\n",
            "Epoch : 11, Loss : 1.4797, Train : 56.81%, Valid : 59.90%, Test : 59.91%\n",
            "Epoch : 12, Loss : 1.4498, Train : 57.87%, Valid : 60.72%, Test : 60.98%\n",
            "Epoch : 13, Loss : 1.4193, Train : 58.69%, Valid : 61.27%, Test : 61.82%\n",
            "Epoch : 14, Loss : 1.3954, Train : 59.47%, Valid : 61.61%, Test : 62.27%\n",
            "Epoch : 15, Loss : 1.3728, Train : 60.32%, Valid : 62.03%, Test : 62.54%\n",
            "Epoch : 16, Loss : 1.3528, Train : 61.12%, Valid : 62.53%, Test : 62.82%\n",
            "Epoch : 17, Loss : 1.3358, Train : 61.85%, Valid : 62.91%, Test : 63.03%\n",
            "Epoch : 18, Loss : 1.3225, Train : 62.44%, Valid : 63.39%, Test : 63.24%\n",
            "Epoch : 19, Loss : 1.3092, Train : 62.86%, Valid : 63.71%, Test : 63.65%\n",
            "Epoch : 20, Loss : 1.2996, Train : 63.30%, Valid : 64.17%, Test : 64.11%\n",
            "Epoch : 21, Loss : 1.2858, Train : 63.68%, Valid : 64.54%, Test : 64.66%\n",
            "Epoch : 22, Loss : 1.2752, Train : 64.03%, Valid : 64.97%, Test : 65.14%\n",
            "Epoch : 23, Loss : 1.2608, Train : 64.40%, Valid : 65.45%, Test : 65.44%\n",
            "Epoch : 24, Loss : 1.2507, Train : 64.78%, Valid : 65.70%, Test : 65.65%\n",
            "Epoch : 25, Loss : 1.2362, Train : 65.17%, Valid : 65.79%, Test : 65.72%\n",
            "Epoch : 26, Loss : 1.2270, Train : 65.47%, Valid : 65.98%, Test : 65.81%\n",
            "Epoch : 27, Loss : 1.2206, Train : 65.78%, Valid : 66.09%, Test : 65.90%\n",
            "Epoch : 28, Loss : 1.2110, Train : 65.96%, Valid : 66.20%, Test : 66.08%\n",
            "Epoch : 29, Loss : 1.2033, Train : 66.15%, Valid : 66.28%, Test : 66.26%\n",
            "Epoch : 30, Loss : 1.1943, Train : 66.25%, Valid : 66.38%, Test : 66.27%\n",
            "Epoch : 31, Loss : 1.1877, Train : 66.39%, Valid : 66.50%, Test : 66.39%\n",
            "Epoch : 32, Loss : 1.1817, Train : 66.56%, Valid : 66.67%, Test : 66.39%\n",
            "Epoch : 33, Loss : 1.1748, Train : 66.79%, Valid : 66.85%, Test : 66.43%\n",
            "Epoch : 34, Loss : 1.1671, Train : 67.00%, Valid : 66.96%, Test : 66.47%\n",
            "Epoch : 35, Loss : 1.1637, Train : 67.22%, Valid : 67.09%, Test : 66.65%\n",
            "Epoch : 36, Loss : 1.1556, Train : 67.39%, Valid : 67.30%, Test : 66.82%\n",
            "Epoch : 37, Loss : 1.1520, Train : 67.54%, Valid : 67.45%, Test : 67.06%\n",
            "Epoch : 38, Loss : 1.1469, Train : 67.68%, Valid : 67.47%, Test : 67.27%\n",
            "Epoch : 39, Loss : 1.1384, Train : 67.82%, Valid : 67.62%, Test : 67.43%\n",
            "Epoch : 40, Loss : 1.1372, Train : 68.00%, Valid : 67.84%, Test : 67.53%\n",
            "Epoch : 41, Loss : 1.1308, Train : 68.15%, Valid : 67.97%, Test : 67.61%\n",
            "Epoch : 42, Loss : 1.1259, Train : 68.33%, Valid : 68.13%, Test : 67.59%\n",
            "Epoch : 43, Loss : 1.1241, Train : 68.41%, Valid : 68.08%, Test : 67.56%\n",
            "Epoch : 44, Loss : 1.1160, Train : 68.46%, Valid : 67.99%, Test : 67.51%\n",
            "Epoch : 45, Loss : 1.1149, Train : 68.58%, Valid : 68.03%, Test : 67.59%\n",
            "Epoch : 46, Loss : 1.1114, Train : 68.72%, Valid : 68.12%, Test : 67.64%\n",
            "Epoch : 47, Loss : 1.1069, Train : 68.82%, Valid : 68.15%, Test : 67.49%\n",
            "Epoch : 48, Loss : 1.1044, Train : 68.91%, Valid : 68.15%, Test : 67.39%\n",
            "Epoch : 49, Loss : 1.1018, Train : 69.00%, Valid : 68.12%, Test : 67.33%\n",
            "Epoch : 50, Loss : 1.0972, Train : 69.09%, Valid : 68.22%, Test : 67.29%\n",
            "Epoch : 51, Loss : 1.0936, Train : 69.21%, Valid : 68.24%, Test : 67.52%\n",
            "Epoch : 52, Loss : 1.0865, Train : 69.35%, Valid : 68.38%, Test : 67.75%\n",
            "Epoch : 53, Loss : 1.0908, Train : 69.48%, Valid : 68.48%, Test : 68.01%\n",
            "Epoch : 54, Loss : 1.0810, Train : 69.58%, Valid : 68.65%, Test : 68.19%\n",
            "Epoch : 55, Loss : 1.0790, Train : 69.68%, Valid : 68.80%, Test : 68.29%\n",
            "Epoch : 56, Loss : 1.0795, Train : 69.71%, Valid : 68.83%, Test : 68.35%\n",
            "Epoch : 57, Loss : 1.0756, Train : 69.77%, Valid : 68.90%, Test : 68.42%\n",
            "Epoch : 58, Loss : 1.0688, Train : 69.83%, Valid : 68.99%, Test : 68.52%\n",
            "Epoch : 59, Loss : 1.0691, Train : 69.93%, Valid : 69.12%, Test : 68.60%\n",
            "Epoch : 60, Loss : 1.0628, Train : 70.01%, Valid : 69.18%, Test : 68.75%\n",
            "Epoch : 61, Loss : 1.0608, Train : 70.05%, Valid : 69.23%, Test : 68.79%\n",
            "Epoch : 62, Loss : 1.0602, Train : 70.14%, Valid : 69.28%, Test : 68.70%\n",
            "Epoch : 63, Loss : 1.0598, Train : 70.18%, Valid : 69.31%, Test : 68.70%\n",
            "Epoch : 64, Loss : 1.0550, Train : 70.30%, Valid : 69.31%, Test : 68.80%\n",
            "Epoch : 65, Loss : 1.0510, Train : 70.39%, Valid : 69.33%, Test : 68.81%\n",
            "Epoch : 66, Loss : 1.0510, Train : 70.51%, Valid : 69.34%, Test : 68.74%\n",
            "Epoch : 67, Loss : 1.0495, Train : 70.62%, Valid : 69.40%, Test : 68.60%\n",
            "Epoch : 68, Loss : 1.0485, Train : 70.70%, Valid : 69.44%, Test : 68.60%\n",
            "Epoch : 69, Loss : 1.0448, Train : 70.73%, Valid : 69.49%, Test : 68.71%\n",
            "Epoch : 70, Loss : 1.0464, Train : 70.77%, Valid : 69.49%, Test : 68.76%\n",
            "Epoch : 71, Loss : 1.0420, Train : 70.81%, Valid : 69.51%, Test : 68.74%\n",
            "Epoch : 72, Loss : 1.0366, Train : 70.83%, Valid : 69.49%, Test : 68.69%\n",
            "Epoch : 73, Loss : 1.0354, Train : 70.85%, Valid : 69.47%, Test : 68.69%\n",
            "Epoch : 74, Loss : 1.0345, Train : 70.89%, Valid : 69.55%, Test : 68.80%\n",
            "Epoch : 75, Loss : 1.0321, Train : 71.00%, Valid : 69.58%, Test : 68.82%\n",
            "Epoch : 76, Loss : 1.0292, Train : 71.06%, Valid : 69.62%, Test : 68.76%\n",
            "Epoch : 77, Loss : 1.0282, Train : 71.11%, Valid : 69.59%, Test : 68.75%\n",
            "Epoch : 78, Loss : 1.0252, Train : 71.11%, Valid : 69.55%, Test : 68.64%\n",
            "Epoch : 79, Loss : 1.0242, Train : 71.15%, Valid : 69.55%, Test : 68.58%\n",
            "Epoch : 80, Loss : 1.0200, Train : 71.21%, Valid : 69.55%, Test : 68.56%\n",
            "Epoch : 81, Loss : 1.0194, Train : 71.24%, Valid : 69.54%, Test : 68.63%\n",
            "Epoch : 82, Loss : 1.0169, Train : 71.33%, Valid : 69.61%, Test : 68.71%\n",
            "Epoch : 83, Loss : 1.0147, Train : 71.37%, Valid : 69.69%, Test : 68.73%\n",
            "Epoch : 84, Loss : 1.0132, Train : 71.42%, Valid : 69.69%, Test : 68.70%\n",
            "Epoch : 85, Loss : 1.0115, Train : 71.43%, Valid : 69.77%, Test : 68.74%\n",
            "Epoch : 86, Loss : 1.0122, Train : 71.55%, Valid : 69.88%, Test : 68.82%\n",
            "Epoch : 87, Loss : 1.0058, Train : 71.58%, Valid : 69.92%, Test : 68.90%\n",
            "Epoch : 88, Loss : 1.0085, Train : 71.62%, Valid : 69.94%, Test : 68.93%\n",
            "Epoch : 89, Loss : 1.0089, Train : 71.62%, Valid : 69.90%, Test : 68.84%\n",
            "Epoch : 90, Loss : 1.0063, Train : 71.65%, Valid : 69.86%, Test : 68.70%\n",
            "Epoch : 91, Loss : 1.0021, Train : 71.74%, Valid : 69.91%, Test : 68.68%\n",
            "Epoch : 92, Loss : 1.0004, Train : 71.81%, Valid : 69.96%, Test : 68.67%\n",
            "Epoch : 93, Loss : 0.9989, Train : 71.86%, Valid : 69.92%, Test : 68.66%\n",
            "Epoch : 94, Loss : 0.9972, Train : 71.77%, Valid : 69.98%, Test : 68.62%\n",
            "Epoch : 95, Loss : 0.9974, Train : 71.76%, Valid : 69.94%, Test : 68.70%\n",
            "Epoch : 96, Loss : 0.9943, Train : 71.78%, Valid : 69.99%, Test : 68.72%\n",
            "Epoch : 97, Loss : 0.9933, Train : 71.89%, Valid : 70.10%, Test : 68.90%\n",
            "Epoch : 98, Loss : 0.9922, Train : 71.95%, Valid : 70.18%, Test : 69.07%\n",
            "Epoch : 99, Loss : 0.9884, Train : 72.01%, Valid : 70.22%, Test : 69.26%\n",
            "Epoch : 100, Loss : 0.9904, Train : 72.07%, Valid : 70.27%, Test : 69.31%\n"
          ]
        }
      ]
    },
    {
      "cell_type": "code",
      "source": [
        "best_result = test(best_all_model, data, all_loader, split_idx, evaluator, mode='all')\n",
        "train_acc, valid_acc, test_acc = best_result\n",
        "\n",
        "print(f'Best model : '\n",
        "      f'Train : {100 * train_acc:.2f}%, '\n",
        "      f'Valid : {100 * valid_acc:.2f}%, '\n",
        "      f'Test : {100 * test_acc:.2f}%')"
      ],
      "metadata": {
        "colab": {
          "base_uri": "https://localhost:8080/"
        },
        "id": "a6nP0upioLsI",
        "outputId": "bc29b5ed-949d-4260-fb37-0811b743adaa"
      },
      "execution_count": 65,
      "outputs": [
        {
          "output_type": "stream",
          "name": "stdout",
          "text": [
            "Best model : Train : 72.07%, Valid : 70.27%, Test : 69.31%\n"
          ]
        }
      ]
    },
    {
      "cell_type": "code",
      "source": [
        ""
      ],
      "metadata": {
        "id": "fGkfyEZMoKVX"
      },
      "execution_count": null,
      "outputs": []
    },
    {
      "cell_type": "code",
      "source": [
        ""
      ],
      "metadata": {
        "id": "Pl7DHN-NoKXO"
      },
      "execution_count": null,
      "outputs": []
    },
    {
      "cell_type": "markdown",
      "metadata": {
        "id": "NrECcOQQSZo1"
      },
      "source": [
        "## Visualization"
      ]
    },
    {
      "cell_type": "code",
      "source": [
        "print(batch_results)"
      ],
      "metadata": {
        "colab": {
          "base_uri": "https://localhost:8080/"
        },
        "id": "Ne2p9Zc6qd7z",
        "outputId": "acec97c8-4dd0-4818-f310-06481001ce3b"
      },
      "execution_count": 66,
      "outputs": [
        {
          "output_type": "stream",
          "name": "stdout",
          "text": [
            "[(0.6293311047822214, 0.6436457599248296, 0.6396312984795177), (0.6732276970783255, 0.6696869022450418, 0.6609674299940332), (0.6918991434006664, 0.6905600859089231, 0.683126555973911), (0.6994534918243697, 0.6925400181214135, 0.6810690698105055), (0.7051934770895416, 0.6892177589852009, 0.6720778552764233), (0.7084043500731243, 0.6958622772576261, 0.6896076373886386), (0.712077060951606, 0.6960300681230914, 0.6907392547785116), (0.7127698177939543, 0.6889828517735495, 0.6743205151945353), (0.7221275332358342, 0.6974730695660928, 0.6856161142316318), (0.7214677648145501, 0.6927413671599718, 0.675678456062383), (0.7246236570963592, 0.7002248397597235, 0.6924469682941382), (0.7280874413081009, 0.7050907748582167, 0.6963973417278769), (0.7285162907819356, 0.6942179267760663, 0.6780034154270312), (0.7317601521865825, 0.70347998254975, 0.696438491451145), (0.7327608009588634, 0.698714721970536, 0.6865214081435302), (0.732320955344674, 0.7042182623577973, 0.6999156430673004), (0.7376980679781396, 0.7055941474546126, 0.6936197354072794), (0.735729758854642, 0.7070035907245209, 0.6978375820422608), (0.7385227785047448, 0.7081445686096849, 0.6999979425138366), (0.7360156585038652, 0.704620960434914, 0.6961092936650001), (0.7432951034187001, 0.7042853787039833, 0.6917062732753122), (0.741590701663716, 0.6992516527400249, 0.6809456206407012), (0.7455603083317756, 0.7063995436088459, 0.6949365265518589), (0.7431631497344432, 0.7019363065874694, 0.6906363804703414), (0.7435370185065042, 0.7070035907245209, 0.7011912844886118), (0.748243366578331, 0.707574079667103, 0.700512314054688), (0.7468138683322154, 0.6976408604315582, 0.6841552990556139), (0.7501017142982813, 0.7043860532232625, 0.6910478777030225), (0.7467918760515059, 0.702909493607168, 0.6917474229985804), (0.7482763549993953, 0.704654518608007, 0.6975906837026521), (0.7496838609648013, 0.7054263565891473, 0.693105363866428), (0.7536204792117966, 0.7069029162052418, 0.6971586116083369), (0.7518501006146843, 0.7101580589952683, 0.7051828076456186), (0.7522129732463905, 0.7083794758213363, 0.701602781721293), (0.7515532048251063, 0.7104936407261989, 0.7047095858280353), (0.7541812823698881, 0.7037484479344944, 0.6915005246589717), (0.7542912437734355, 0.7067686835128696, 0.6983313787214781), (0.7545771434226587, 0.7025403537031444, 0.6874061271937946), (0.7557207420195511, 0.7060975200510085, 0.6985371273378187), (0.7556987497388417, 0.707037148897614, 0.6927761660802831), (0.7536094830714419, 0.7094197791872211, 0.7080015636894842), (0.7564025027215447, 0.7099231517836169, 0.6990926486019382), (0.7588436458802961, 0.7048223094734722, 0.6921177705079933), (0.757348170792052, 0.6977079767777442, 0.6791350328169043), (0.760009236757898, 0.707641196013289, 0.7000185173754706), (0.7567323869321868, 0.7078761032249404, 0.6963356171429748), (0.7572602016692142, 0.7008288868753985, 0.6852869164454869), (0.759382456757678, 0.7011644686063291, 0.6803283747916795), (0.761834596056784, 0.7031444008188195, 0.6888463675081785), (0.7628902255308386, 0.7085808248598946, 0.6963150422813407), (0.7614497311443683, 0.702909493607168, 0.6870357796843817), (0.7596243718454823, 0.7110305714956878, 0.698681151369257), (0.761713638512882, 0.7093526628410349, 0.7026932493878979), (0.7607019936002463, 0.6974395113929998, 0.6795876797728535), (0.7621974686884904, 0.7049565421658445, 0.6915005246589717), (0.7628462409694198, 0.7015000503372596, 0.6874061271937946), (0.7647375771104342, 0.7054263565891473, 0.6921794950928954), (0.7620545188638788, 0.7074398469747307, 0.6973849350863115), (0.7633630595660923, 0.7113997113997114, 0.7018085303376335), (0.7652214072860426, 0.7072720561092654, 0.6960475690800979), (0.764165777811988, 0.7049565421658445, 0.6896076373886386), (0.7635609900924776, 0.7047551931272862, 0.6887229183383742), (0.7627802641272913, 0.6988825128360012, 0.6816040162129909), (0.766035121672293, 0.7019698647605624, 0.6857395634014362), (0.7658591834266173, 0.71116480418806, 0.7060058021109809), (0.7682453458835948, 0.7045202859156348, 0.6904512067156349), (0.7667718630760603, 0.7070707070707071, 0.6937843343003518), (0.7668048514971245, 0.7078425450518474, 0.6996481698660576), (0.767739523427277, 0.7036477734152152, 0.6931876633129642), (0.7666838939532225, 0.7068693580321487, 0.697919881488797), (0.7678714771115338, 0.7036477734152152, 0.6887023434767401), (0.7699607437789336, 0.7069364743783348, 0.6952451494763697), (0.7672227048306045, 0.7091848719755697, 0.7013558833816843), (0.7685422416731728, 0.7093526628410349, 0.6996275950044236), (0.7696748441297104, 0.7049901003389375, 0.6909244285332181), (0.7696198634279368, 0.7074734051478238, 0.6944221550110076), (0.7680034307957907, 0.7077083123594752, 0.697179186469971), (0.7683772995678517, 0.7055605892815195, 0.6933111124827686), (0.7681353844800475, 0.7042518205308903, 0.69088327880995), (0.7706205122002178, 0.7044867277425417, 0.6909450033948522), (0.7679044655325981, 0.7092519883217557, 0.7017879554759994), (0.7698397862350315, 0.7090170811101044, 0.7021583029854124), (0.7719620413234954, 0.7046880767811, 0.6921177705079933), (0.7718410837795934, 0.7110641296687809, 0.7041334897022817), (0.7717421185164007, 0.708815732071546, 0.6984959776145505), (0.7687511683399126, 0.7097889190912446, 0.6967882640989239), (0.7715111995689513, 0.7056948219738918, 0.691603398967142), (0.7715002034285966, 0.7071713815899863, 0.6971174618850688), (0.7731386283414522, 0.710594315245478, 0.7019731292307059), (0.7723579023762659, 0.7086479412060808, 0.6970351624385326), (0.7709174079897956, 0.711802409476828, 0.7030018723124087), (0.7737434160609626, 0.7095540118795933, 0.6995658704195215), (0.7712582883407924, 0.7061981945702875, 0.6924058185708701), (0.7719290529024313, 0.7103594080338267, 0.6997304693125939), (0.7743372076401183, 0.7051578912044029, 0.6913565006275333), (0.7711813153583092, 0.7093191046679419, 0.6989897742937679), (0.7737104276398984, 0.7137152253431324, 0.7046272863814991), (0.7758546750090718, 0.7103258498607335, 0.7014176079665865), (0.7716541493935628, 0.7035806570690292, 0.6864802584202622), (0.773809392903091, 0.7085472666868016, 0.6964796411744131)]\n"
          ]
        }
      ]
    },
    {
      "cell_type": "code",
      "source": [
        "print(all_results)"
      ],
      "metadata": {
        "colab": {
          "base_uri": "https://localhost:8080/"
        },
        "id": "SuwnOP4tqd99",
        "outputId": "f0153189-963d-438d-dd36-81ce907a68b5"
      },
      "execution_count": 67,
      "outputs": [
        {
          "output_type": "stream",
          "name": "stdout",
          "text": [
            "[(0.24228895657624175, 0.22655122655122656, 0.27759603316667697), (0.3407813857336075, 0.4060203362528944, 0.4301997819064667), (0.3642801376716772, 0.4184704184704185, 0.42978828467378555), (0.3990499334733508, 0.4670962112822578, 0.4910602226200029), (0.42196588997261963, 0.4814926675391792, 0.5131164742917104), (0.43343486436260875, 0.46968019061042315, 0.502973067506121), (0.4629704973554282, 0.4899157689855364, 0.5201325021089234), (0.5025895910535402, 0.5327024396791838, 0.5519823879184412), (0.5322681738709713, 0.5671331252726601, 0.5742855379297575), (0.5526770103693603, 0.5867310983590054, 0.586712754356727), (0.5680606107256353, 0.5990133897110641, 0.5990782461987944), (0.5786718861679551, 0.6071680257726769, 0.6098183239717713), (0.5868860030129425, 0.6127386825061244, 0.6181717177951979), (0.5946932626648046, 0.6161280579885231, 0.622677612493056), (0.603160290737951, 0.6203228296251552, 0.6254346439520194), (0.6112094654776173, 0.6252558810698345, 0.6281916754109829), (0.6184889103924522, 0.6291150709755361, 0.6303314610209246), (0.6243828416225905, 0.6339138897278432, 0.6323683723226962), (0.6286053595188089, 0.6371354743447767, 0.6364627697878732), (0.6329598310992841, 0.6416658277123394, 0.6411126885171697), (0.6367534995216679, 0.6453907849256686, 0.6465856017118284), (0.6403162489966022, 0.649719789254673, 0.6514001193341975), (0.6439779637347292, 0.654485049833887, 0.6544040491327696), (0.6478266128588865, 0.6569683546427733, 0.6565026850194432), (0.6516752619830439, 0.6578744253162858, 0.657181655453367), (0.6546992005805962, 0.659753683009497, 0.6581486739501677), (0.6577671237395674, 0.6609282190677539, 0.6590333930004321), (0.6596254714595177, 0.6620356387798249, 0.6607822562393267), (0.661483819179468, 0.6628074767609652, 0.6625928440631237), (0.6625394486535227, 0.6637806637806638, 0.6626545686480259), (0.663935958478574, 0.6650223161851069, 0.6638684854844351), (0.6656293640932033, 0.6666666666666666, 0.6639302100693373), (0.6679385535676977, 0.6685459243598778, 0.6643005575787503), (0.670005827954388, 0.6695526695526696, 0.6647120548114314), (0.6722380444463993, 0.6709285546494849, 0.6664814929119601), (0.6739314500610286, 0.6730427195543475, 0.6682303561508549), (0.6754379212896273, 0.6744521628242558, 0.6705553155155032), (0.6768454272550335, 0.6747206282090003, 0.6727156759870789), (0.678153967957247, 0.6762307459981879, 0.6742793654712672), (0.6800453040982615, 0.6783784690761435, 0.6753286834146041), (0.6815297830461508, 0.6796536796536796, 0.6761105281566981), (0.6832891655029085, 0.6812980301352395, 0.6758636298170895), (0.6841468644505778, 0.6807610993657506, 0.6756167314774808), (0.6845537216437031, 0.6799221450384241, 0.6751229347982635), (0.6858402700652071, 0.6802912849424477, 0.6759253544019916), (0.6871927953288396, 0.6811973556159603, 0.676419151081209), (0.68821543638183, 0.6814658210007047, 0.6748760364586548), (0.6890951276102089, 0.6815329373468908, 0.6738678682385861), (0.6900188034000067, 0.6811973556159603, 0.6733123469744666), (0.6908874984880307, 0.6822376589818451, 0.6728597000185174), (0.6920530893656327, 0.6824054498473103, 0.6752052342447997), (0.6935045798924577, 0.6837813349441256, 0.677530193609448), (0.6947581398928976, 0.6848216383100104, 0.6801020513137049), (0.6958467577880164, 0.6864659887915702, 0.6819126391375018), (0.6967704335778142, 0.6880432229269439, 0.6829002324959365), (0.6971003177884563, 0.6883452464847813, 0.683455753760056), (0.6977270977886761, 0.6890164099466425, 0.68423759850215), (0.6982769048064129, 0.6898553642739689, 0.6852046169989506), (0.6993105419997581, 0.6911641330245981, 0.6859658868794107), (0.7001242563860085, 0.6917681801402732, 0.6875295763635989), (0.700520117438779, 0.692271552736669, 0.6878587741497438), (0.7013888125268031, 0.692808483506158, 0.6869946299611135), (0.7018286581409925, 0.6930769488909024, 0.6869534802378454), (0.703016241299304, 0.6931105070639955, 0.6879822233195482), (0.7038519479662638, 0.6933118561025537, 0.6881056724893525), (0.7051275002474131, 0.693446088794926, 0.6873855523321606), (0.7062161181425319, 0.694016577737508, 0.686048186325947), (0.7070188363884277, 0.6943857176415316, 0.686048186325947), (0.7073047360376508, 0.6949226484110205, 0.6870769294076498), (0.7077445816518402, 0.6948890902379274, 0.687550151225233), (0.708085462002837, 0.6951239974495789, 0.6873649774705265), (0.7083053848099317, 0.6948555320648344, 0.6869329053762113), (0.7085033153363169, 0.694654183026276, 0.6869329053762113), (0.7089321648101516, 0.6955266955266955, 0.6879822233195482), (0.7099548058631421, 0.695828719084533, 0.6881673970742547), (0.7105705897230072, 0.6961978589885567, 0.6876324506717693), (0.711120396740744, 0.6958958354307192, 0.6874884266403308), (0.7111423890214534, 0.6955266955266955, 0.68641853383536), (0.711494265512805, 0.6954931373536025, 0.6858012879863383), (0.7120660648112512, 0.6955266955266955, 0.6855543896467297), (0.7123739567411839, 0.6953589046612303, 0.6862539349422875), (0.7132756402502721, 0.6960636262961845, 0.6870769294076498), (0.7137264820048164, 0.6969361387966039, 0.6872621031623563), (0.7141993160400699, 0.6968690224504178, 0.6869740550994795), (0.7143312697243268, 0.6977415349508372, 0.6874267020554287), (0.715485864461574, 0.6988489546629082, 0.6881879719358888), (0.7157717641107971, 0.6991509782207457, 0.689031541262885), (0.716233602005696, 0.6993858854323971, 0.6892784396024937), (0.716189617444277, 0.6989831873552804, 0.6883731456905953), (0.7164865132338549, 0.6986476056243498, 0.6869740550994795), (0.7174431774447169, 0.6991174200476526, 0.6867683064831389), (0.7180919497256463, 0.6995536762978624, 0.6867477316215048), (0.7185977721819641, 0.6992180945669317, 0.6866448573133346), (0.7176960886728758, 0.6998221416826068, 0.6862333600806535), (0.7175971234096832, 0.699352327259304, 0.6869534802378454), (0.7178390384974874, 0.6998892580287929, 0.6872003785774541), (0.718894667971542, 0.7009631195677707, 0.6890109664012509), (0.7194884595506977, 0.7018020738950972, 0.6907392547785116), (0.7201372318316271, 0.7021712137991207, 0.6925704174639425), (0.7206760427090091, 0.7027081445686096, 0.693105363866428)]\n"
          ]
        }
      ]
    },
    {
      "cell_type": "code",
      "source": [
        "import numpy as np\n",
        "from matplotlib import pyplot as plt"
      ],
      "metadata": {
        "id": "784FU_6WqnIW"
      },
      "execution_count": 69,
      "outputs": []
    },
    {
      "cell_type": "code",
      "source": [
        "batch_results = np.array(batch_results)\n",
        "all_results = np.array(all_results)"
      ],
      "metadata": {
        "id": "cRiVh_mGqlBu"
      },
      "execution_count": 70,
      "outputs": []
    },
    {
      "cell_type": "code",
      "source": [
        "print(batch_results)"
      ],
      "metadata": {
        "colab": {
          "base_uri": "https://localhost:8080/"
        },
        "id": "EHJkBm74qlER",
        "outputId": "93df096c-c3f2-449d-cdcd-af89c7e7a3d3"
      },
      "execution_count": 71,
      "outputs": [
        {
          "output_type": "stream",
          "name": "stdout",
          "text": [
            "[[0.6293311  0.64364576 0.6396313 ]\n",
            " [0.6732277  0.6696869  0.66096743]\n",
            " [0.69189914 0.69056009 0.68312656]\n",
            " [0.69945349 0.69254002 0.68106907]\n",
            " [0.70519348 0.68921776 0.67207786]\n",
            " [0.70840435 0.69586228 0.68960764]\n",
            " [0.71207706 0.69603007 0.69073925]\n",
            " [0.71276982 0.68898285 0.67432052]\n",
            " [0.72212753 0.69747307 0.68561611]\n",
            " [0.72146776 0.69274137 0.67567846]\n",
            " [0.72462366 0.70022484 0.69244697]\n",
            " [0.72808744 0.70509077 0.69639734]\n",
            " [0.72851629 0.69421793 0.67800342]\n",
            " [0.73176015 0.70347998 0.69643849]\n",
            " [0.7327608  0.69871472 0.68652141]\n",
            " [0.73232096 0.70421826 0.69991564]\n",
            " [0.73769807 0.70559415 0.69361974]\n",
            " [0.73572976 0.70700359 0.69783758]\n",
            " [0.73852278 0.70814457 0.69999794]\n",
            " [0.73601566 0.70462096 0.69610929]\n",
            " [0.7432951  0.70428538 0.69170627]\n",
            " [0.7415907  0.69925165 0.68094562]\n",
            " [0.74556031 0.70639954 0.69493653]\n",
            " [0.74316315 0.70193631 0.69063638]\n",
            " [0.74353702 0.70700359 0.70119128]\n",
            " [0.74824337 0.70757408 0.70051231]\n",
            " [0.74681387 0.69764086 0.6841553 ]\n",
            " [0.75010171 0.70438605 0.69104788]\n",
            " [0.74679188 0.70290949 0.69174742]\n",
            " [0.74827635 0.70465452 0.69759068]\n",
            " [0.74968386 0.70542636 0.69310536]\n",
            " [0.75362048 0.70690292 0.69715861]\n",
            " [0.7518501  0.71015806 0.70518281]\n",
            " [0.75221297 0.70837948 0.70160278]\n",
            " [0.7515532  0.71049364 0.70470959]\n",
            " [0.75418128 0.70374845 0.69150052]\n",
            " [0.75429124 0.70676868 0.69833138]\n",
            " [0.75457714 0.70254035 0.68740613]\n",
            " [0.75572074 0.70609752 0.69853713]\n",
            " [0.75569875 0.70703715 0.69277617]\n",
            " [0.75360948 0.70941978 0.70800156]\n",
            " [0.7564025  0.70992315 0.69909265]\n",
            " [0.75884365 0.70482231 0.69211777]\n",
            " [0.75734817 0.69770798 0.67913503]\n",
            " [0.76000924 0.7076412  0.70001852]\n",
            " [0.75673239 0.7078761  0.69633562]\n",
            " [0.7572602  0.70082889 0.68528692]\n",
            " [0.75938246 0.70116447 0.68032837]\n",
            " [0.7618346  0.7031444  0.68884637]\n",
            " [0.76289023 0.70858082 0.69631504]\n",
            " [0.76144973 0.70290949 0.68703578]\n",
            " [0.75962437 0.71103057 0.69868115]\n",
            " [0.76171364 0.70935266 0.70269325]\n",
            " [0.76070199 0.69743951 0.67958768]\n",
            " [0.76219747 0.70495654 0.69150052]\n",
            " [0.76284624 0.70150005 0.68740613]\n",
            " [0.76473758 0.70542636 0.6921795 ]\n",
            " [0.76205452 0.70743985 0.69738494]\n",
            " [0.76336306 0.71139971 0.70180853]\n",
            " [0.76522141 0.70727206 0.69604757]\n",
            " [0.76416578 0.70495654 0.68960764]\n",
            " [0.76356099 0.70475519 0.68872292]\n",
            " [0.76278026 0.69888251 0.68160402]\n",
            " [0.76603512 0.70196986 0.68573956]\n",
            " [0.76585918 0.7111648  0.7060058 ]\n",
            " [0.76824535 0.70452029 0.69045121]\n",
            " [0.76677186 0.70707071 0.69378433]\n",
            " [0.76680485 0.70784255 0.69964817]\n",
            " [0.76773952 0.70364777 0.69318766]\n",
            " [0.76668389 0.70686936 0.69791988]\n",
            " [0.76787148 0.70364777 0.68870234]\n",
            " [0.76996074 0.70693647 0.69524515]\n",
            " [0.7672227  0.70918487 0.70135588]\n",
            " [0.76854224 0.70935266 0.6996276 ]\n",
            " [0.76967484 0.7049901  0.69092443]\n",
            " [0.76961986 0.70747341 0.69442216]\n",
            " [0.76800343 0.70770831 0.69717919]\n",
            " [0.7683773  0.70556059 0.69331111]\n",
            " [0.76813538 0.70425182 0.69088328]\n",
            " [0.77062051 0.70448673 0.690945  ]\n",
            " [0.76790447 0.70925199 0.70178796]\n",
            " [0.76983979 0.70901708 0.7021583 ]\n",
            " [0.77196204 0.70468808 0.69211777]\n",
            " [0.77184108 0.71106413 0.70413349]\n",
            " [0.77174212 0.70881573 0.69849598]\n",
            " [0.76875117 0.70978892 0.69678826]\n",
            " [0.7715112  0.70569482 0.6916034 ]\n",
            " [0.7715002  0.70717138 0.69711746]\n",
            " [0.77313863 0.71059432 0.70197313]\n",
            " [0.7723579  0.70864794 0.69703516]\n",
            " [0.77091741 0.71180241 0.70300187]\n",
            " [0.77374342 0.70955401 0.69956587]\n",
            " [0.77125829 0.70619819 0.69240582]\n",
            " [0.77192905 0.71035941 0.69973047]\n",
            " [0.77433721 0.70515789 0.6913565 ]\n",
            " [0.77118132 0.7093191  0.69898977]\n",
            " [0.77371043 0.71371523 0.70462729]\n",
            " [0.77585468 0.71032585 0.70141761]\n",
            " [0.77165415 0.70358066 0.68648026]\n",
            " [0.77380939 0.70854727 0.69647964]]\n"
          ]
        }
      ]
    },
    {
      "cell_type": "code",
      "source": [
        "print(batch_results.shape)"
      ],
      "metadata": {
        "colab": {
          "base_uri": "https://localhost:8080/"
        },
        "id": "fW4vy515qxIy",
        "outputId": "5513e6e0-022f-498e-81f9-fedc5d1406c9"
      },
      "execution_count": 72,
      "outputs": [
        {
          "output_type": "stream",
          "name": "stdout",
          "text": [
            "(100, 3)\n"
          ]
        }
      ]
    },
    {
      "cell_type": "code",
      "source": [
        "print(all_results)"
      ],
      "metadata": {
        "colab": {
          "base_uri": "https://localhost:8080/"
        },
        "id": "ssmsuJynqxK7",
        "outputId": "25d9629b-db03-4135-94e6-1dddfebcdc35"
      },
      "execution_count": 73,
      "outputs": [
        {
          "output_type": "stream",
          "name": "stdout",
          "text": [
            "[[0.24228896 0.22655123 0.27759603]\n",
            " [0.34078139 0.40602034 0.43019978]\n",
            " [0.36428014 0.41847042 0.42978828]\n",
            " [0.39904993 0.46709621 0.49106022]\n",
            " [0.42196589 0.48149267 0.51311647]\n",
            " [0.43343486 0.46968019 0.50297307]\n",
            " [0.4629705  0.48991577 0.5201325 ]\n",
            " [0.50258959 0.53270244 0.55198239]\n",
            " [0.53226817 0.56713313 0.57428554]\n",
            " [0.55267701 0.5867311  0.58671275]\n",
            " [0.56806061 0.59901339 0.59907825]\n",
            " [0.57867189 0.60716803 0.60981832]\n",
            " [0.586886   0.61273868 0.61817172]\n",
            " [0.59469326 0.61612806 0.62267761]\n",
            " [0.60316029 0.62032283 0.62543464]\n",
            " [0.61120947 0.62525588 0.62819168]\n",
            " [0.61848891 0.62911507 0.63033146]\n",
            " [0.62438284 0.63391389 0.63236837]\n",
            " [0.62860536 0.63713547 0.63646277]\n",
            " [0.63295983 0.64166583 0.64111269]\n",
            " [0.6367535  0.64539078 0.6465856 ]\n",
            " [0.64031625 0.64971979 0.65140012]\n",
            " [0.64397796 0.65448505 0.65440405]\n",
            " [0.64782661 0.65696835 0.65650269]\n",
            " [0.65167526 0.65787443 0.65718166]\n",
            " [0.6546992  0.65975368 0.65814867]\n",
            " [0.65776712 0.66092822 0.65903339]\n",
            " [0.65962547 0.66203564 0.66078226]\n",
            " [0.66148382 0.66280748 0.66259284]\n",
            " [0.66253945 0.66378066 0.66265457]\n",
            " [0.66393596 0.66502232 0.66386849]\n",
            " [0.66562936 0.66666667 0.66393021]\n",
            " [0.66793855 0.66854592 0.66430056]\n",
            " [0.67000583 0.66955267 0.66471205]\n",
            " [0.67223804 0.67092855 0.66648149]\n",
            " [0.67393145 0.67304272 0.66823036]\n",
            " [0.67543792 0.67445216 0.67055532]\n",
            " [0.67684543 0.67472063 0.67271568]\n",
            " [0.67815397 0.67623075 0.67427937]\n",
            " [0.6800453  0.67837847 0.67532868]\n",
            " [0.68152978 0.67965368 0.67611053]\n",
            " [0.68328917 0.68129803 0.67586363]\n",
            " [0.68414686 0.6807611  0.67561673]\n",
            " [0.68455372 0.67992215 0.67512293]\n",
            " [0.68584027 0.68029128 0.67592535]\n",
            " [0.6871928  0.68119736 0.67641915]\n",
            " [0.68821544 0.68146582 0.67487604]\n",
            " [0.68909513 0.68153294 0.67386787]\n",
            " [0.6900188  0.68119736 0.67331235]\n",
            " [0.6908875  0.68223766 0.6728597 ]\n",
            " [0.69205309 0.68240545 0.67520523]\n",
            " [0.69350458 0.68378133 0.67753019]\n",
            " [0.69475814 0.68482164 0.68010205]\n",
            " [0.69584676 0.68646599 0.68191264]\n",
            " [0.69677043 0.68804322 0.68290023]\n",
            " [0.69710032 0.68834525 0.68345575]\n",
            " [0.6977271  0.68901641 0.6842376 ]\n",
            " [0.6982769  0.68985536 0.68520462]\n",
            " [0.69931054 0.69116413 0.68596589]\n",
            " [0.70012426 0.69176818 0.68752958]\n",
            " [0.70052012 0.69227155 0.68785877]\n",
            " [0.70138881 0.69280848 0.68699463]\n",
            " [0.70182866 0.69307695 0.68695348]\n",
            " [0.70301624 0.69311051 0.68798222]\n",
            " [0.70385195 0.69331186 0.68810567]\n",
            " [0.7051275  0.69344609 0.68738555]\n",
            " [0.70621612 0.69401658 0.68604819]\n",
            " [0.70701884 0.69438572 0.68604819]\n",
            " [0.70730474 0.69492265 0.68707693]\n",
            " [0.70774458 0.69488909 0.68755015]\n",
            " [0.70808546 0.695124   0.68736498]\n",
            " [0.70830538 0.69485553 0.68693291]\n",
            " [0.70850332 0.69465418 0.68693291]\n",
            " [0.70893216 0.6955267  0.68798222]\n",
            " [0.70995481 0.69582872 0.6881674 ]\n",
            " [0.71057059 0.69619786 0.68763245]\n",
            " [0.7111204  0.69589584 0.68748843]\n",
            " [0.71114239 0.6955267  0.68641853]\n",
            " [0.71149427 0.69549314 0.68580129]\n",
            " [0.71206606 0.6955267  0.68555439]\n",
            " [0.71237396 0.6953589  0.68625393]\n",
            " [0.71327564 0.69606363 0.68707693]\n",
            " [0.71372648 0.69693614 0.6872621 ]\n",
            " [0.71419932 0.69686902 0.68697406]\n",
            " [0.71433127 0.69774153 0.6874267 ]\n",
            " [0.71548586 0.69884895 0.68818797]\n",
            " [0.71577176 0.69915098 0.68903154]\n",
            " [0.7162336  0.69938589 0.68927844]\n",
            " [0.71618962 0.69898319 0.68837315]\n",
            " [0.71648651 0.69864761 0.68697406]\n",
            " [0.71744318 0.69911742 0.68676831]\n",
            " [0.71809195 0.69955368 0.68674773]\n",
            " [0.71859777 0.69921809 0.68664486]\n",
            " [0.71769609 0.69982214 0.68623336]\n",
            " [0.71759712 0.69935233 0.68695348]\n",
            " [0.71783904 0.69988926 0.68720038]\n",
            " [0.71889467 0.70096312 0.68901097]\n",
            " [0.71948846 0.70180207 0.69073925]\n",
            " [0.72013723 0.70217121 0.69257042]\n",
            " [0.72067604 0.70270814 0.69310536]]\n"
          ]
        }
      ]
    },
    {
      "cell_type": "code",
      "source": [
        "print(all_results.shape)"
      ],
      "metadata": {
        "colab": {
          "base_uri": "https://localhost:8080/"
        },
        "id": "Ht1QGwo7q0AE",
        "outputId": "26a1b12b-c3d6-4c35-a4f3-8e13795fb72d"
      },
      "execution_count": 75,
      "outputs": [
        {
          "output_type": "stream",
          "name": "stdout",
          "text": [
            "(100, 3)\n"
          ]
        }
      ]
    },
    {
      "cell_type": "code",
      "source": [
        "x = np.arange(1, 101)\n",
        "print(x)"
      ],
      "metadata": {
        "colab": {
          "base_uri": "https://localhost:8080/"
        },
        "id": "l41FbDIDqd_t",
        "outputId": "e4c91881-00b8-47f4-d506-064a847f1899"
      },
      "execution_count": 77,
      "outputs": [
        {
          "output_type": "stream",
          "name": "stdout",
          "text": [
            "[  1   2   3   4   5   6   7   8   9  10  11  12  13  14  15  16  17  18\n",
            "  19  20  21  22  23  24  25  26  27  28  29  30  31  32  33  34  35  36\n",
            "  37  38  39  40  41  42  43  44  45  46  47  48  49  50  51  52  53  54\n",
            "  55  56  57  58  59  60  61  62  63  64  65  66  67  68  69  70  71  72\n",
            "  73  74  75  76  77  78  79  80  81  82  83  84  85  86  87  88  89  90\n",
            "  91  92  93  94  95  96  97  98  99 100]\n"
          ]
        }
      ]
    },
    {
      "cell_type": "code",
      "source": [
        "plt.figure(figsize=(9, 7))\n",
        "\n",
        "plt.plot(x, batch_results[:, 0], label='Batch Train')\n",
        "plt.plot(x, batch_results[:, 1], label='Batch Validation')\n",
        "plt.plot(x, batch_results[:, 2], label='Batch Test')\n",
        "plt.title('Model Accuracy - Batch')\n",
        "plt.ylabel('Accuracy')\n",
        "plt.xlabel('Epoch')\n",
        "plt.legend()\n",
        "plt.show()"
      ],
      "metadata": {
        "colab": {
          "base_uri": "https://localhost:8080/",
          "height": 458
        },
        "id": "AjMgzNtgstxv",
        "outputId": "8ac4fedc-f736-4efc-cb85-e168d4187f24"
      },
      "execution_count": 79,
      "outputs": [
        {
          "output_type": "display_data",
          "data": {
            "text/plain": [
              "<Figure size 648x504 with 1 Axes>"
            ],
            "image/png": "[encoded data removed]"
          },
          "metadata": {
            "needs_background": "light"
          }
        }
      ]
    },
    {
      "cell_type": "code",
      "source": [
        "plt.figure(figsize=(9, 7))\n",
        "\n",
        "plt.plot(x, all_results[:, 0], label='All Train')\n",
        "plt.plot(x, all_results[:, 1], label=\"All Validation\")\n",
        "plt.plot(x, all_results[:, 2], label=\"All Test\")\n",
        "plt.title('Model Accuracy - All')\n",
        "plt.ylabel('Accuracy')\n",
        "plt.xlabel('Epoch')\n",
        "plt.legend()\n",
        "plt.show()"
      ],
      "metadata": {
        "colab": {
          "base_uri": "https://localhost:8080/",
          "height": 458
        },
        "id": "g9_4NMgAtTE4",
        "outputId": "0148bdef-2f6f-4f52-b92a-b8941dc97549"
      },
      "execution_count": 80,
      "outputs": [
        {
          "output_type": "display_data",
          "data": {
            "text/plain": [
              "<Figure size 648x504 with 1 Axes>"
            ],
            "image/png": "[encoded data removed]"
          },
          "metadata": {
            "needs_background": "light"
          }
        }
      ]
    },
    {
      "cell_type": "code",
      "source": [
        "import numpy as np\n",
        "from matplotlib import pyplot as plt\n",
        "\n",
        "batch_results = np.array(batch_results)\n",
        "all_results = np.array(all_results)\n",
        "\n",
        "x = np.arange(1, 101)\n",
        "\n",
        "plt.figure(figsize=(9, 7))\n",
        "\n",
        "plt.plot(x, batch_results[:, 1], label=\"Batch Validation\")\n",
        "plt.plot(x, batch_results[:, 2], label=\"Batch Test\")\n",
        "plt.plot(x, all_results[:, 1], label=\"All Validation\")\n",
        "plt.plot(x, all_results[:, 2], label=\"All Test\")\n",
        "plt.title('Model Accuracy')\n",
        "plt.ylabel('Accuracy')\n",
        "plt.xlabel('Epoch')\n",
        "plt.legend()\n",
        "plt.show()"
      ],
      "metadata": {
        "colab": {
          "base_uri": "https://localhost:8080/",
          "height": 458
        },
        "id": "89iwr1cMtTG-",
        "outputId": "c82525f1-5e25-4611-ed31-7746bb1c5e1d"
      },
      "execution_count": 81,
      "outputs": [
        {
          "output_type": "display_data",
          "data": {
            "text/plain": [
              "<Figure size 648x504 with 1 Axes>"
            ],
            "image/png": "[encoded data removed]"
          },
          "metadata": {
            "needs_background": "light"
          }
        }
      ]
    },
    {
      "cell_type": "code",
      "source": [
        ""
      ],
      "metadata": {
        "id": "-RJTjQshstz-"
      },
      "execution_count": null,
      "outputs": []
    },
    {
      "cell_type": "markdown",
      "metadata": {
        "id": "WFb2OAvOSn_O"
      },
      "source": [
        "# 2 Neighbor Sampling with Different Ratios\n",
        "\n",
        "Now we will implement a simplified version of Neighbor Sampling by using DeepSNAP and NetworkX, and train models with different neighborhood sampling ratios.\n",
        "\n",
        "To make the experiments faster, we will use the Cora graph here."
      ]
    },
    {
      "cell_type": "markdown",
      "metadata": {
        "id": "P9U0F7bnSz9u"
      },
      "source": [
        "## Setup"
      ]
    },
    {
      "cell_type": "code",
      "source": [
        "import copy\n",
        "import torch\n",
        "import random\n",
        "import numpy as np\n",
        "import networkx as nx\n",
        "import torch.nn as nn\n",
        "import torch.nn.functional as F"
      ],
      "metadata": {
        "id": "mN8NUSzttjw2"
      },
      "execution_count": 82,
      "outputs": []
    },
    {
      "cell_type": "code",
      "source": [
        "from torch_geometric.nn import SAGEConv\n",
        "from torch.utils.data import DataLoader\n",
        "from torch_geometric.datasets import Planetoid\n",
        "from torch.nn import Sequential, Linear, ReLU\n",
        "\n",
        "from deepsnap.dataset import GraphDataset\n",
        "from deepsnap.dataset import Graph"
      ],
      "metadata": {
        "id": "AnTDuRNPttqj"
      },
      "execution_count": 84,
      "outputs": []
    },
    {
      "cell_type": "code",
      "source": [
        "pyg_dataset = Planetoid('./tmp', 'Cora')"
      ],
      "metadata": {
        "colab": {
          "base_uri": "https://localhost:8080/"
        },
        "id": "IxJchAdEttst",
        "outputId": "aedc5bdd-682d-41db-a1c1-6f09bc9c419e"
      },
      "execution_count": 85,
      "outputs": [
        {
          "output_type": "stream",
          "name": "stderr",
          "text": [
            "Downloading https://github.com/kimiyoung/planetoid/raw/master/data/ind.cora.x\n",
            "Downloading https://github.com/kimiyoung/planetoid/raw/master/data/ind.cora.tx\n",
            "Downloading https://github.com/kimiyoung/planetoid/raw/master/data/ind.cora.allx\n",
            "Downloading https://github.com/kimiyoung/planetoid/raw/master/data/ind.cora.y\n",
            "Downloading https://github.com/kimiyoung/planetoid/raw/master/data/ind.cora.ty\n",
            "Downloading https://github.com/kimiyoung/planetoid/raw/master/data/ind.cora.ally\n",
            "Downloading https://github.com/kimiyoung/planetoid/raw/master/data/ind.cora.graph\n",
            "Downloading https://github.com/kimiyoung/planetoid/raw/master/data/ind.cora.test.index\n",
            "Processing...\n",
            "Done!\n"
          ]
        }
      ]
    },
    {
      "cell_type": "code",
      "source": [
        "print(pyg_dataset)"
      ],
      "metadata": {
        "colab": {
          "base_uri": "https://localhost:8080/"
        },
        "id": "zIbxM4FbuD6y",
        "outputId": "0fd35191-238f-4206-e9af-b6614da74865"
      },
      "execution_count": 87,
      "outputs": [
        {
          "output_type": "stream",
          "name": "stdout",
          "text": [
            "Cora()\n"
          ]
        }
      ]
    },
    {
      "cell_type": "code",
      "source": [
        ""
      ],
      "metadata": {
        "id": "xm9GaGwWtjzF"
      },
      "execution_count": null,
      "outputs": []
    },
    {
      "cell_type": "markdown",
      "metadata": {
        "id": "qw6k-KdFTEYw"
      },
      "source": [
        "## GNN Model"
      ]
    },
    {
      "cell_type": "code",
      "metadata": {
        "id": "PvUlNi2TS09i"
      },
      "source": [
        "class GNN(torch.nn.Module):\n",
        "  def __init__(self, input_dim, hidden_dim, output_dim, args):\n",
        "    super(GNN, self).__init__()\n",
        "    self.dropout = args['dropout']\n",
        "    self.num_layers = args['num_layers']\n",
        "\n",
        "    self.convs = nn.ModuleList()\n",
        "    self.bns = nn.ModuleList()\n",
        "\n",
        "    self.convs.append(SAGEConv(input_dim, hidden_dim))\n",
        "    self.bns.append(nn.BatchNorm1d(hidden_dim))\n",
        "\n",
        "    for I in range(self.num_layers - 2):\n",
        "      self.convs.append(SAGEConv(hidden_dim, hidden_dim))\n",
        "      self.bns.append(nn.BatchNorm1d(hidden_dim))\n",
        "    \n",
        "    self.convs.append(SAGEConv(hidden_dim, hidden_dim))\n",
        "    self.post_mp = nn.Linear(hidden_dim, output_dim)\n",
        "\n",
        "  def forward(self, data, mode='batch'):\n",
        "    if mode == 'batch':\n",
        "      edge_indices, x = data\n",
        "      for i in range(len(self.convs) - 1):\n",
        "        edge_index = edge_indices[i]\n",
        "        x = self.convs[i](x, edge_index)\n",
        "        x = self.bns[i](x)\n",
        "        x = F.relu(x)\n",
        "        x = F.dropout(x, p=self.dropout, training=self.training)\n",
        "      x = self.convs[-1](x, edge_indices[len(self.convs) - 1])\n",
        "    \n",
        "    else:\n",
        "      x, edge_index = data.node_feature, data.edge_index\n",
        "      \n",
        "      for i in range(len(self.convs) - 1):\n",
        "        x = self.convs[i](x, edge_index)\n",
        "        x = self.bns[i](x)\n",
        "        x = F.relu(x)\n",
        "        x = F.dropout(x, p=self.dropout, training=self.training)\n",
        "      x = self.convs[-1](x, edge_index)\n",
        "    x = self.post_mp(x)\n",
        "    x = F.log_softmax(x, dim=1)\n",
        "    \n",
        "    return x"
      ],
      "execution_count": 89,
      "outputs": []
    },
    {
      "cell_type": "code",
      "source": [
        ""
      ],
      "metadata": {
        "id": "Y8MlzuI9uJ7f"
      },
      "execution_count": null,
      "outputs": []
    },
    {
      "cell_type": "code",
      "source": [
        ""
      ],
      "metadata": {
        "id": "-1DvU_kguJ9k"
      },
      "execution_count": null,
      "outputs": []
    },
    {
      "cell_type": "markdown",
      "metadata": {
        "id": "Ulp1A3evcJ-I"
      },
      "source": [
        "## Neighbor Sampling\n",
        "\n",
        "Here we implement functions that will sample neighbors by using DeepSNAP and NetworkX.\n",
        "\n",
        "Notice that node classification task on Cora is a semi-supervised classification task, here we keep all the labeled training nodes (140 nodes) by setting the last ratio to 1."
      ]
    },
    {
      "cell_type": "code",
      "metadata": {
        "id": "LI4qHkE4cQOh"
      },
      "source": [
        "def sample_neighbors(nodes, G, ratio, all_nodes):\n",
        "    # This fuction takes a set of nodes, a NetworkX graph G and neighbor sampling ratio.\n",
        "    # It will return sampled neighbors (unioned with input nodes) and edges between \n",
        "    neighbors = set()\n",
        "    edges = []\n",
        "    for node in nodes:\n",
        "        neighbors_list = list(nx.neighbors(G, node))\n",
        "\n",
        "        # We only sample the (ratio * number of neighbors) neighbors\n",
        "        num = int(len(neighbors_list) * ratio)\n",
        "        if num > 0:\n",
        "            # Random shuffle the neighbors\n",
        "            random.shuffle(neighbors_list)\n",
        "            neighbors_list = neighbors_list[:num]\n",
        "            for neighbor in neighbors_list:\n",
        "                # Add neighbors\n",
        "                neighbors.add(neighbor)\n",
        "                edges.append((neighbor, node))\n",
        "    return neighbors, neighbors.union(all_nodes), edges\n",
        "\n",
        "def nodes_to_tensor(nodes):\n",
        "    # This function transform a set of nodes to node index tensor\n",
        "    node_label_index = torch.tensor(list(nodes), dtype=torch.long)\n",
        "    return node_label_index\n",
        "\n",
        "def edges_to_tensor(edges):\n",
        "    # This function transform a set of edges to edge index tensor\n",
        "    edge_index = torch.tensor(list(edges), dtype=torch.long)\n",
        "    edge_index = torch.cat([edge_index, torch.flip(edge_index, [1])], dim=0)\n",
        "    edge_index = edge_index.permute(1, 0)\n",
        "    return edge_index\n",
        "\n",
        "def relable(nodes, labeled_nodes, edges_list):\n",
        "    # Relable the nodes, labeled_nodes and edges_list\n",
        "    relabled_edges_list = []\n",
        "    sorted_nodes = sorted(nodes)\n",
        "    node_mapping = {node : i for i, node in enumerate(sorted_nodes)}\n",
        "    for orig_edges in edges_list:\n",
        "        relabeled_edges = []\n",
        "        for edge in orig_edges:\n",
        "            relabeled_edges.append((node_mapping[edge[0]], node_mapping[edge[1]]))\n",
        "        relabled_edges_list.append(relabeled_edges)\n",
        "    relabeled_labeled_nodes = [node_mapping[node] for node in labeled_nodes]\n",
        "    relabeled_nodes = [node_mapping[node] for node in nodes]\n",
        "    return relabled_edges_list, relabeled_nodes, relabeled_labeled_nodes\n",
        "\n",
        "def neighbor_sampling(graph, K=2, ratios=(0.1, 0.1, 0.1)):\n",
        "    # This function takes a DeepSNAP graph, K the number of GNN layers, and neighbor \n",
        "    # sampling ratios for each layer. This function returns relabeled node feature, \n",
        "    # edge indices and node_label_index\n",
        "\n",
        "    assert K + 1 == len(ratios)\n",
        "\n",
        "    labeled_nodes = graph.node_label_index.tolist()\n",
        "    random.shuffle(labeled_nodes)\n",
        "    num = int(len(labeled_nodes) * ratios[-1])\n",
        "    if num > 0:\n",
        "        labeled_nodes = labeled_nodes[:num]\n",
        "    nodes_list = [set(labeled_nodes)]\n",
        "    edges_list = []\n",
        "    all_nodes = labeled_nodes\n",
        "    for k in range(K):\n",
        "        # Get nodes and edges from the previous layer\n",
        "        nodes, all_nodes, edges = \\\n",
        "            sample_neighbors(nodes_list[-1], graph.G, ratios[len(ratios) - k - 2], all_nodes)\n",
        "        nodes_list.append(nodes)\n",
        "        edges_list.append(edges)\n",
        "    \n",
        "    # Reverse the lists\n",
        "    nodes_list.reverse()\n",
        "    edges_list.reverse()\n",
        "\n",
        "    relabled_edges_list, relabeled_all_nodes, relabeled_labeled_nodes = \\\n",
        "        relable(all_nodes, labeled_nodes, edges_list)\n",
        "\n",
        "    node_index = nodes_to_tensor(relabeled_all_nodes)\n",
        "    # All node features that will be used\n",
        "    node_feature = graph.node_feature[node_index]\n",
        "    edge_indices = [edges_to_tensor(edges) for edges in relabled_edges_list]\n",
        "    node_label_index = nodes_to_tensor(relabeled_labeled_nodes)\n",
        "    log = \"Sampled {} nodes, {} edges, {} labeled nodes\"\n",
        "    print(log.format(node_feature.shape[0], edge_indices[0].shape[1] // 2, node_label_index.shape[0]))\n",
        "    return node_feature, edge_indices, node_label_index"
      ],
      "execution_count": null,
      "outputs": []
    },
    {
      "cell_type": "markdown",
      "metadata": {
        "id": "ooy6Hcf7TIhI"
      },
      "source": [
        "## Training and Testing"
      ]
    },
    {
      "cell_type": "code",
      "metadata": {
        "id": "iSmZhpzPTGPY"
      },
      "source": [
        "def train(train_graphs, val_graphs, args, model, optimizer, mode=\"batch\"):\n",
        "    best_val = 0\n",
        "    best_model = None\n",
        "    accs = []\n",
        "    graph_train = train_graphs[0]\n",
        "    graph_train.to(args['device'])\n",
        "    for epoch in range(1, 1 + args['epochs']):\n",
        "        model.train()\n",
        "        optimizer.zero_grad()\n",
        "        if mode == \"batch\":\n",
        "            node_feature, edge_indices, node_label_index = neighbor_sampling(graph_train, args['num_layers'], args['ratios'])\n",
        "            node_feature = node_feature.to(args['device'])\n",
        "            node_label_index = node_label_index.to(args['device'])\n",
        "            for i in range(len(edge_indices)):\n",
        "                edge_indices[i] = edge_indices[i].to(args['device'])\n",
        "            pred = model([edge_indices, node_feature])\n",
        "            pred = pred[node_label_index]\n",
        "            label = graph_train.node_label[node_label_index]\n",
        "        elif mode == \"community\":\n",
        "            graph = random.choice(train_graphs)\n",
        "            graph = graph.to(args['device'])\n",
        "            pred = model(graph, mode=\"all\")\n",
        "            pred = pred[graph.node_label_index]\n",
        "            label = graph.node_label[graph.node_label_index]\n",
        "        else:\n",
        "            pred = model(graph_train, mode=\"all\")\n",
        "            label = graph_train.node_label\n",
        "            pred = pred[graph_train.node_label_index]\n",
        "        loss = F.nll_loss(pred, label)\n",
        "        loss.backward()\n",
        "        optimizer.step()\n",
        "\n",
        "        train_acc, val_acc, test_acc = test(val_graphs, model)\n",
        "        accs.append((train_acc, val_acc, test_acc))\n",
        "        if val_acc > best_val:\n",
        "            best_val = val_acc\n",
        "            best_model = copy.deepcopy(model)\n",
        "        print(f'Epoch: {epoch:02d}, '\n",
        "              f'Loss: {loss:.4f}, '\n",
        "              f'Train: {100 * train_acc:.2f}%, '\n",
        "              f'Valid: {100 * val_acc:.2f}% '\n",
        "              f'Test: {100 * test_acc:.2f}%')\n",
        "    return best_model, accs\n",
        "\n",
        "def test(graphs, model):\n",
        "    model.eval()\n",
        "    accs = []\n",
        "    for graph in graphs:\n",
        "        graph = graph.to(args['device'])\n",
        "        pred = model(graph, mode=\"all\")\n",
        "        label = graph.node_label\n",
        "        pred = pred[graph.node_label_index].max(1)[1]\n",
        "        acc = pred.eq(label).sum().item()\n",
        "        acc /= len(label)\n",
        "        accs.append(acc)\n",
        "    return accs"
      ],
      "execution_count": null,
      "outputs": []
    },
    {
      "cell_type": "code",
      "metadata": {
        "id": "HV7i0v0ETKzf"
      },
      "source": [
        "args = {\n",
        "    'device': torch.device('cuda' if torch.cuda.is_available() else 'cpu'),\n",
        "    'dropout': 0.5,\n",
        "    'num_layers': 2,\n",
        "    'hidden_size': 64,\n",
        "    'lr': 0.005,\n",
        "    'epochs': 50,\n",
        "    'ratios': (0.8, 0.8, 1),\n",
        "}"
      ],
      "execution_count": null,
      "outputs": []
    },
    {
      "cell_type": "markdown",
      "metadata": {
        "id": "rLpRYKbnTQnj"
      },
      "source": [
        "## Full-Batch Training"
      ]
    },
    {
      "cell_type": "code",
      "metadata": {
        "id": "pMGGjbJBTOo1"
      },
      "source": [
        "graphs_train, graphs_val, graphs_test = \\\n",
        "    GraphDataset.pyg_to_graphs(pyg_dataset, verbose=True, fixed_split=True)\n",
        "\n",
        "graph_train = graphs_train[0]\n",
        "graph_val = graphs_val[0]\n",
        "graph_test = graphs_test[0]\n",
        "\n",
        "model = GNN(graph_train.num_node_features, args['hidden_size'], graph_train.num_node_labels, args).to(args['device'])\n",
        "optimizer = torch.optim.Adam(model.parameters(), lr=args['lr'])\n",
        "graphs = [graph_train, graph_val, graph_test]\n",
        "all_best_model, all_accs = train(graphs, graphs, args, model, optimizer, mode=\"all\")\n",
        "train_acc, val_acc, test_acc = test([graph_train, graph_val, graph_test], all_best_model)\n",
        "print('Best model:',\n",
        "      f'Train: {100 * train_acc:.2f}%, '\n",
        "      f'Valid: {100 * val_acc:.2f}% '\n",
        "      f'Test: {100 * test_acc:.2f}%')"
      ],
      "execution_count": null,
      "outputs": []
    },
    {
      "cell_type": "markdown",
      "metadata": {
        "id": "JWkGiwB6Thr4"
      },
      "source": [
        "## Sampling with Ratios 0.8"
      ]
    },
    {
      "cell_type": "code",
      "metadata": {
        "id": "yWusJ9u3Tfhv"
      },
      "source": [
        "args['ratios'] = (0.8, 0.8, 1)\n",
        "\n",
        "graphs_train, graphs_val, graphs_test = \\\n",
        "    GraphDataset.pyg_to_graphs(pyg_dataset, verbose=True, fixed_split=True)\n",
        "\n",
        "graph_train = graphs_train[0]\n",
        "graph_val = graphs_val[0]\n",
        "graph_test = graphs_test[0]\n",
        "\n",
        "model = GNN(graph_train.num_node_features, args['hidden_size'], graph_train.num_node_labels, args).to(args['device'])\n",
        "optimizer = torch.optim.Adam(model.parameters(), lr=args['lr'])\n",
        "graphs = [graph_train, graph_val, graph_test]\n",
        "batch_best_model, batch_accs = train(graphs, graphs, args, model, optimizer)\n",
        "train_acc, val_acc, test_acc = test([graph_train, graph_val, graph_test], batch_best_model)\n",
        "print('Best model:',\n",
        "      f'Train: {100 * train_acc:.2f}%, '\n",
        "      f'Valid: {100 * val_acc:.2f}% '\n",
        "      f'Test: {100 * test_acc:.2f}%')"
      ],
      "execution_count": null,
      "outputs": []
    },
    {
      "cell_type": "markdown",
      "metadata": {
        "id": "w_FjkNHDT4c6"
      },
      "source": [
        "## Sampling with Ratios 0.3"
      ]
    },
    {
      "cell_type": "code",
      "metadata": {
        "id": "booJ6DASTjO4"
      },
      "source": [
        "# Change the ratio to 0.3\n",
        "args['ratios'] = (0.3, 0.3, 1)\n",
        "\n",
        "graphs_train, graphs_val, graphs_test = \\\n",
        "    GraphDataset.pyg_to_graphs(pyg_dataset, verbose=True, fixed_split=True)\n",
        "\n",
        "graph_train = graphs_train[0]\n",
        "graph_val = graphs_val[0]\n",
        "graph_test = graphs_test[0]\n",
        "\n",
        "model = GNN(graph_train.num_node_features, args['hidden_size'], graph_train.num_node_labels, args).to(args['device'])\n",
        "optimizer = torch.optim.Adam(model.parameters(), lr=args['lr'])\n",
        "graphs = [graph_train, graph_val, graph_test]\n",
        "batch_best_model, batch_accs_1 = train(graphs, graphs, args, model, optimizer)\n",
        "train_acc, val_acc, test_acc = test([graph_train, graph_val, graph_test], batch_best_model)\n",
        "print('Best model:',\n",
        "      f'Train: {100 * train_acc:.2f}%, '\n",
        "      f'Valid: {100 * val_acc:.2f}% '\n",
        "      f'Test: {100 * test_acc:.2f}%')"
      ],
      "execution_count": null,
      "outputs": []
    },
    {
      "cell_type": "markdown",
      "metadata": {
        "id": "EePAvNlGUM2K"
      },
      "source": [
        "## Visualization"
      ]
    },
    {
      "cell_type": "code",
      "metadata": {
        "id": "7etNAkXAT55d"
      },
      "source": [
        "import numpy as np\n",
        "from matplotlib import pyplot as plt\n",
        "\n",
        "batch_results = np.array(batch_accs)\n",
        "batch_results_1 = np.array(batch_accs_1)\n",
        "all_results = np.array(all_accs)\n",
        "\n",
        "x = np.arange(1, 51)\n",
        "\n",
        "plt.figure(figsize=(9, 7))\n",
        "\n",
        "plt.plot(x, batch_results[:, 0], label=\"Batch 0.8 Train\")\n",
        "plt.plot(x, batch_results[:, 1], label=\"Batch 0.8 Validation\")\n",
        "plt.plot(x, batch_results[:, 2], label=\"Batch 0.8 Test\")\n",
        "plt.plot(x, batch_results_1[:, 0], label=\"Batch 0.3 Train\")\n",
        "plt.plot(x, batch_results_1[:, 1], label=\"Batch 0.3 Validation\")\n",
        "plt.plot(x, batch_results_1[:, 2], label=\"Batch 0.3 Test\")\n",
        "plt.plot(x, all_results[:, 0], label=\"All Train\")\n",
        "plt.plot(x, all_results[:, 1], label=\"All Validation\")\n",
        "plt.plot(x, all_results[:, 2], label=\"All Test\")\n",
        "plt.title('Model Accuracy')\n",
        "plt.ylabel('Accuracy')\n",
        "plt.xlabel('Epoch')\n",
        "plt.legend()\n",
        "plt.show()"
      ],
      "execution_count": null,
      "outputs": []
    },
    {
      "cell_type": "markdown",
      "metadata": {
        "id": "bkA7-0groq7q"
      },
      "source": [
        "Here all accuracies are evaluated on the full-batch mode."
      ]
    },
    {
      "cell_type": "markdown",
      "metadata": {
        "id": "Iee0U8KGURc8"
      },
      "source": [
        "# 3 Cluster Sampling\n",
        "\n",
        "Instead of the neighbor sampling, we can use another approach, subgraph (cluster) sampling, to scale up GNN. This approach is proposed in Cluster-GCN ([Chiang et al. (2019)](https://arxiv.org/abs/1905.07953)).\n",
        "\n",
        "In this section, we will implement vanilla Cluster-GCN and experiment with 3 different community partition algorithms.\n",
        "\n",
        "Notice that this section requires you have run the `Setup`, `GNN Model` and `Training and Testing` cells of the last section."
      ]
    },
    {
      "cell_type": "markdown",
      "metadata": {
        "id": "_BXjP79gUYir"
      },
      "source": [
        "## Setup"
      ]
    },
    {
      "cell_type": "code",
      "metadata": {
        "id": "UGQ_VKp8UOEm"
      },
      "source": [
        "import copy\n",
        "import torch\n",
        "import random\n",
        "import numpy as np\n",
        "import networkx as nx\n",
        "import torch.nn as nn\n",
        "import torch.nn.functional as F\n",
        "import community as community_louvain\n",
        "\n",
        "from torch_geometric.nn import SAGEConv\n",
        "from torch.utils.data import DataLoader\n",
        "from torch_geometric.datasets import Planetoid\n",
        "from torch.nn import Sequential, Linear, ReLU\n",
        "from deepsnap.dataset import GraphDataset\n",
        "from deepsnap.graph import Graph\n",
        "\n",
        "pyg_dataset = Planetoid('./tmp', \"Cora\")"
      ],
      "execution_count": null,
      "outputs": []
    },
    {
      "cell_type": "code",
      "metadata": {
        "id": "bzMatyCSUaB6"
      },
      "source": [
        "args = {\n",
        "    'device': torch.device('cuda' if torch.cuda.is_available() else 'cpu'),\n",
        "    'dropout': 0.5,\n",
        "    'num_layers': 2,\n",
        "    'hidden_size': 64,\n",
        "    'lr': 0.005,\n",
        "    'epochs': 150,\n",
        "}"
      ],
      "execution_count": null,
      "outputs": []
    },
    {
      "cell_type": "markdown",
      "metadata": {
        "id": "ekV-sokSUeLc"
      },
      "source": [
        "## Partition the Graph into Clusters\n",
        "\n",
        "Here we use following three community detection / partition algorithms to partition the graph into different clusters:\n",
        "* [Kernighan–Lin algorithm (bisection)](https://networkx.org/documentation/stable/reference/algorithms/generated/networkx.algorithms.community.kernighan_lin.kernighan_lin_bisection.html)\n",
        "* [Clauset-Newman-Moore greedy modularity maximization](https://networkx.org/documentation/stable/reference/algorithms/generated/networkx.algorithms.community.modularity_max.greedy_modularity_communities.html#networkx.algorithms.community.modularity_max.greedy_modularity_communities)\n",
        "* [Louvain algorithm](https://python-louvain.readthedocs.io/en/latest/api.html)\n",
        "\n",
        "\n",
        "To make the training more stable, we discard the cluster that has less than 10 nodes.\n",
        "\n",
        "Let's first define these algorithms as DeepSNAP transformation on a graph."
      ]
    },
    {
      "cell_type": "code",
      "metadata": {
        "id": "N8XeT005UcKh"
      },
      "source": [
        "def preprocess(G, node_label_index, method=\"louvain\"):\n",
        "    graphs = []\n",
        "    labeled_nodes = set(node_label_index.tolist())\n",
        "    if method == \"louvain\":\n",
        "        community_mapping = community_louvain.best_partition(G, resolution=10)\n",
        "        communities = {}\n",
        "        for node in community_mapping:\n",
        "            comm = community_mapping[node]\n",
        "            if comm in communities:\n",
        "                communities[comm].add(node)\n",
        "            else:\n",
        "                communities[comm] = set([node])\n",
        "        communities = communities.values()\n",
        "    elif method == \"bisection\":\n",
        "        communities = nx.algorithms.community.kernighan_lin_bisection(G)\n",
        "    elif method == \"greedy\":\n",
        "        communities = nx.algorithms.community.greedy_modularity_communities(G)\n",
        "\n",
        "    for community in communities:\n",
        "        nodes = set(community)\n",
        "        subgraph = G.subgraph(nodes)\n",
        "        # Make sure each subgraph has more than 10 nodes\n",
        "        if subgraph.number_of_nodes() > 10:\n",
        "            node_mapping = {node : i for i, node in enumerate(subgraph.nodes())}\n",
        "            subgraph = nx.relabel_nodes(subgraph, node_mapping)\n",
        "            # Get the id of the training set labeled node in the new graph\n",
        "            train_label_index = []\n",
        "            for node in labeled_nodes:\n",
        "                if node in node_mapping:\n",
        "                    # Append relabeled labeled node index\n",
        "                    train_label_index.append(node_mapping[node])\n",
        "\n",
        "            # Make sure the subgraph contains at least one training set labeled node\n",
        "            if len(train_label_index) > 0:\n",
        "                dg = Graph(subgraph)\n",
        "                # Update node_label_index\n",
        "                dg.node_label_index = torch.tensor(train_label_index, dtype=torch.long)\n",
        "                graphs.append(dg)\n",
        "    return graphs"
      ],
      "execution_count": null,
      "outputs": []
    },
    {
      "cell_type": "markdown",
      "metadata": {
        "id": "7CYEamCAU-TJ"
      },
      "source": [
        "## Louvain Preprocess"
      ]
    },
    {
      "cell_type": "code",
      "metadata": {
        "id": "-TrC6ybWU7eO"
      },
      "source": [
        "graphs_train, graphs_val, graphs_test = \\\n",
        "    GraphDataset.pyg_to_graphs(pyg_dataset, verbose=True, fixed_split=True)\n",
        "\n",
        "graph_train = graphs_train[0]\n",
        "graph_val = graphs_val[0]\n",
        "graph_test = graphs_test[0]\n",
        "graphs = preprocess(graph_train.G, graph_train.node_label_index, method=\"louvain\")\n",
        "print(\"Partition the graph in to {} communities\".format(len(graphs)))\n",
        "avg_num_nodes = 0\n",
        "avg_num_edges = 0\n",
        "for graph in graphs:\n",
        "    avg_num_nodes += graph.num_nodes\n",
        "    avg_num_edges += graph.num_edges\n",
        "avg_num_nodes = int(avg_num_nodes / len(graphs))\n",
        "avg_num_edges = int(avg_num_edges / len(graphs))\n",
        "print(\"Each community has {} nodes in average\".format(avg_num_nodes))\n",
        "print(\"Each community has {} edges in average\".format(avg_num_edges))"
      ],
      "execution_count": null,
      "outputs": []
    },
    {
      "cell_type": "markdown",
      "metadata": {
        "id": "O03uXIuGVIgJ"
      },
      "source": [
        "## Louvain Training"
      ]
    },
    {
      "cell_type": "code",
      "metadata": {
        "id": "iSbGf5ADVFQq"
      },
      "source": [
        "model = GNN(graph_train.num_node_features, args['hidden_size'], graph_train.num_node_labels, args).to(args['device'])\n",
        "optimizer = torch.optim.Adam(model.parameters(), lr=args['lr'])\n",
        "louvain_best_model, louvain_accs = train(graphs, [graph_train, graph_val, graph_test], args, model, optimizer, mode=\"community\")\n",
        "train_acc, val_acc, test_acc = test([graph_train, graph_val, graph_test], louvain_best_model)\n",
        "print('Best model:',\n",
        "      f'Train: {100 * train_acc:.2f}%, '\n",
        "      f'Valid: {100 * val_acc:.2f}% '\n",
        "      f'Test: {100 * test_acc:.2f}%')"
      ],
      "execution_count": null,
      "outputs": []
    },
    {
      "cell_type": "markdown",
      "metadata": {
        "id": "6CvTf0ANVO9U"
      },
      "source": [
        "## Bisection Preprocess"
      ]
    },
    {
      "cell_type": "code",
      "metadata": {
        "id": "HkV0zlhgVJ7u"
      },
      "source": [
        "graphs_train, graphs_val, graphs_test = \\\n",
        "    GraphDataset.pyg_to_graphs(pyg_dataset, verbose=True, fixed_split=True)\n",
        "\n",
        "graph_train = graphs_train[0]\n",
        "graph_val = graphs_val[0]\n",
        "graph_test = graphs_test[0]\n",
        "graphs = preprocess(graph_train.G, graph_train.node_label_index, method=\"bisection\")\n",
        "print(\"Partition the graph in to {} communities\".format(len(graphs)))\n",
        "avg_num_nodes = 0\n",
        "avg_num_edges = 0\n",
        "for graph in graphs:\n",
        "    avg_num_nodes += graph.num_nodes\n",
        "    avg_num_edges += graph.num_edges\n",
        "avg_num_nodes = int(avg_num_nodes / len(graphs))\n",
        "avg_num_edges = int(avg_num_edges / len(graphs))\n",
        "print(\"Each community has {} nodes in average\".format(avg_num_nodes))\n",
        "print(\"Each community has {} edges in average\".format(avg_num_edges))"
      ],
      "execution_count": null,
      "outputs": []
    },
    {
      "cell_type": "markdown",
      "metadata": {
        "id": "IqMCvP8wVVms"
      },
      "source": [
        "## Bisection Training"
      ]
    },
    {
      "cell_type": "code",
      "metadata": {
        "id": "k1wgFg1bVRGY"
      },
      "source": [
        "model = GNN(graph_train.num_node_features, args['hidden_size'], graph_train.num_node_labels, args).to(args['device'])\n",
        "optimizer = torch.optim.Adam(model.parameters(), lr=args['lr'])\n",
        "bisection_best_model, bisection_accs = train(graphs, [graph_train, graph_val, graph_test], args, model, optimizer, mode=\"community\")\n",
        "train_acc, val_acc, test_acc = test([graph_train, graph_val, graph_test], bisection_best_model)\n",
        "print('Best model:',\n",
        "      f'Train: {100 * train_acc:.2f}%, '\n",
        "      f'Valid: {100 * val_acc:.2f}% '\n",
        "      f'Test: {100 * test_acc:.2f}%')"
      ],
      "execution_count": null,
      "outputs": []
    },
    {
      "cell_type": "markdown",
      "metadata": {
        "id": "5PROPwoOVcJy"
      },
      "source": [
        "## Greedy Preprocess"
      ]
    },
    {
      "cell_type": "code",
      "metadata": {
        "id": "h3DVamWqVT92"
      },
      "source": [
        "graphs_train, graphs_val, graphs_test = \\\n",
        "    GraphDataset.pyg_to_graphs(pyg_dataset, verbose=True, fixed_split=True)\n",
        "\n",
        "graph_train = graphs_train[0]\n",
        "graph_val = graphs_val[0]\n",
        "graph_test = graphs_test[0]\n",
        "graphs = preprocess(graph_train.G, graph_train.node_label_index, method=\"greedy\")\n",
        "print(\"Partition the graph in to {} communities\".format(len(graphs)))\n",
        "avg_num_nodes = 0\n",
        "avg_num_edges = 0\n",
        "for graph in graphs:\n",
        "    avg_num_nodes += graph.num_nodes\n",
        "    avg_num_edges += graph.num_edges\n",
        "avg_num_nodes = int(avg_num_nodes / len(graphs))\n",
        "avg_num_edges = int(avg_num_edges / len(graphs))\n",
        "print(\"Each community has {} nodes in average\".format(avg_num_nodes))\n",
        "print(\"Each community has {} edges in average\".format(avg_num_edges))"
      ],
      "execution_count": null,
      "outputs": []
    },
    {
      "cell_type": "markdown",
      "metadata": {
        "id": "93pR_-kxVgma"
      },
      "source": [
        "## Greedy Training"
      ]
    },
    {
      "cell_type": "code",
      "metadata": {
        "id": "lQgQY-jPVd_U"
      },
      "source": [
        "model = GNN(graph_train.num_node_features, args['hidden_size'], graph_train.num_node_labels, args).to(args['device'])\n",
        "optimizer = torch.optim.Adam(model.parameters(), lr=args['lr'])\n",
        "greedy_best_model, greedy_accs = train(graphs, [graph_train, graph_val, graph_test], args, model, optimizer, mode=\"community\")\n",
        "train_acc, val_acc, test_acc = test([graph_train, graph_val, graph_test], greedy_best_model)\n",
        "print('Best model:',\n",
        "      f'Train: {100 * train_acc:.2f}%, '\n",
        "      f'Valid: {100 * val_acc:.2f}% '\n",
        "      f'Test: {100 * test_acc:.2f}%')"
      ],
      "execution_count": null,
      "outputs": []
    },
    {
      "cell_type": "markdown",
      "metadata": {
        "id": "D5edKKT6Vk1C"
      },
      "source": [
        "## Full-Batch Training"
      ]
    },
    {
      "cell_type": "code",
      "metadata": {
        "id": "N5tIXxC8ViFD"
      },
      "source": [
        "graphs_train, graphs_val, graphs_test = \\\n",
        "    GraphDataset.pyg_to_graphs(pyg_dataset, verbose=True, fixed_split=True)\n",
        "\n",
        "graph_train = graphs_train[0]\n",
        "graph_val = graphs_val[0]\n",
        "graph_test = graphs_test[0]\n",
        "\n",
        "model = GNN(graph_train.num_node_features, args['hidden_size'], graph_train.num_node_labels, args).to(args['device'])\n",
        "optimizer = torch.optim.Adam(model.parameters(), lr=args['lr'])\n",
        "graphs = [graph_train, graph_val, graph_test]\n",
        "all_best_model, all_accs = train(graphs, graphs, args, model, optimizer, mode=\"all\")\n",
        "train_acc, val_acc, test_acc = test([graph_train, graph_val, graph_test], all_best_model)\n",
        "print('Best model:',\n",
        "      f'Train: {100 * train_acc:.2f}%, '\n",
        "      f'Valid: {100 * val_acc:.2f}% '\n",
        "      f'Test: {100 * test_acc:.2f}%')"
      ],
      "execution_count": null,
      "outputs": []
    },
    {
      "cell_type": "markdown",
      "metadata": {
        "id": "6RpuETv7Vpx0"
      },
      "source": [
        "## Visualization"
      ]
    },
    {
      "cell_type": "code",
      "metadata": {
        "id": "PMK33kY5VmF5"
      },
      "source": [
        "import numpy as np\n",
        "from matplotlib import pyplot as plt\n",
        "\n",
        "louvain_results = np.array(louvain_accs)\n",
        "bisection_results = np.array(bisection_accs)\n",
        "greedy_results = np.array(greedy_accs)\n",
        "all_results = np.array(all_accs)\n",
        "\n",
        "x = np.arange(1, 151)\n",
        "\n",
        "plt.figure(figsize=(9, 7))\n",
        "\n",
        "plt.plot(x, louvain_results[:, 1], label=\"Louvain Validation\")\n",
        "plt.plot(x, louvain_results[:, 2], label=\"Louvain Test\")\n",
        "plt.plot(x, bisection_results[:, 1], label=\"Bisection Validation\")\n",
        "plt.plot(x, bisection_results[:, 2], label=\"Bisection Test\")\n",
        "plt.plot(x, greedy_results[:, 1], label=\"Greedy Validation\")\n",
        "plt.plot(x, greedy_results[:, 2], label=\"Greedy Test\")\n",
        "plt.plot(x, all_results[:, 1], label=\"All Validation\")\n",
        "plt.plot(x, all_results[:, 2], label=\"All Test\")\n",
        "plt.title('Model Accuracy')\n",
        "plt.ylabel('Accuracy')\n",
        "plt.xlabel('Epoch')\n",
        "plt.legend()\n",
        "plt.show()"
      ],
      "execution_count": null,
      "outputs": []
    }
  ]
}